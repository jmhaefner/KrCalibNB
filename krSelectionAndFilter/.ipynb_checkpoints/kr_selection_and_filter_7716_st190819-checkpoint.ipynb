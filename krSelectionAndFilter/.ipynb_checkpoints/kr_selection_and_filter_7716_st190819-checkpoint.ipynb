{
 "cells": [
  {
   "cell_type": "markdown",
   "metadata": {},
   "source": [
    "# Selection of krypton events in terms of S1 and S2"
   ]
  },
  {
   "cell_type": "markdown",
   "metadata": {},
   "source": [
    "## Authors: JMH, JAH, GML, JJGC"
   ]
  },
  {
   "cell_type": "markdown",
   "metadata": {},
   "source": [
    "### Software: KrCalib : https://github.com/nextic/KrCalib/"
   ]
  },
  {
   "cell_type": "markdown",
   "metadata": {},
   "source": [
    "### Description:\n",
    "\n",
    "- run = 7716\n"
   ]
  },
  {
   "cell_type": "code",
   "execution_count": 1,
   "metadata": {},
   "outputs": [
    {
     "name": "stdout",
     "output_type": "stream",
     "text": [
      "Last updated on  Fri Feb  7 13:47:59 2020\n"
     ]
    }
   ],
   "source": [
    "import time\n",
    "print(\"Last updated on \", time.asctime())"
   ]
  },
  {
   "cell_type": "code",
   "execution_count": 2,
   "metadata": {},
   "outputs": [],
   "source": [
    "run_number  = 7716\n",
    "file_range  = 0, 5802 \n",
    "num_files = 5793\n",
    "tags        = 'v1.2.0_20191122_krbg'\n",
    "analysis_tag = 'st190819'\n",
    "\n",
    "# Just for testing\n",
    "# run_number  = 7376\n",
    "# file_range  = 0, 8798 \n",
    "# num_files = 8798\n",
    "# tags        = 'v0.9.9_20190111_krbg'\n",
    "# analysis_tag = 'st190819'\n",
    "\n",
    "if num_files > 7729:\n",
    "    num_xy_bins = 100\n",
    "else:\n",
    "    num_xy_bins = 50\n",
    "\n",
    "t0 = time.time()\n",
    "last_time = t0\n",
    "\n",
    "input_path  = f\"$IC_DATA/kdst\"\n",
    "output_path = f\"$IC_DATA/\"+analysis_tag+\"/dst\"\n",
    "log_path    = f\"$IC_DATA/\"+analysis_tag+\"/log\"\n",
    "trigger     = 'trigger1'\n",
    "summary_outputs = \"/Users/jmhaefner/Development/KryptonCalibration/KrCalibNB_JMH/KrCalibNB/doc/img/r\"+str(run_number)+analysis_tag+\"/\"\n",
    "\n",
    "bootstrap_correction_filename   = f\"$IC_DATA/maps/kr_corrections_run6165.h5\"\n",
    "write_filtered_dst = True"
   ]
  },
  {
   "cell_type": "code",
   "execution_count": 3,
   "metadata": {},
   "outputs": [],
   "source": [
    "%matplotlib inline\n",
    "%load_ext autoreload\n",
    "%autoreload 2\n",
    "import matplotlib.pyplot as plt\n",
    "plt.rcParams[\"figure.figsize\"] = 10, 8\n",
    "plt.rcParams[\"font.size\"     ] = 14"
   ]
  },
  {
   "cell_type": "code",
   "execution_count": 4,
   "metadata": {},
   "outputs": [],
   "source": [
    "import os\n",
    "import time\n",
    "import datetime \n",
    "import numpy as np\n",
    "import pandas as pd\n",
    "import tables            as tb\n",
    "import random\n",
    "import glob\n",
    "import seaborn as sns\n",
    "sns.set()"
   ]
  },
  {
   "cell_type": "code",
   "execution_count": 5,
   "metadata": {},
   "outputs": [],
   "source": [
    "from  invisible_cities.io.dst_io              import load_dsts\n",
    "from  invisible_cities.core .core_functions   import in_range\n",
    "from  invisible_cities.core.system_of_units_c import units\n"
   ]
  },
  {
   "cell_type": "code",
   "execution_count": 6,
   "metadata": {},
   "outputs": [],
   "source": [
    "from krcal.core.io_functions       import filenames_from_paths\n",
    "from krcal.core.io_functions       import write_monitor_vars\n",
    "from krcal.core.io_functions       import kdst_write\n",
    "from krcal.core.histo_functions    import h1, h1d, h2d, plot_histo"
   ]
  },
  {
   "cell_type": "code",
   "execution_count": 7,
   "metadata": {},
   "outputs": [],
   "source": [
    "from krcal.core.kr_types           import PlotLabels\n",
    "from krcal.core.ranges_and_bins_functions      import kr_ranges_and_bins\n",
    "from krcal.core.analysis_functions import kr_event\n",
    "from krcal.core.analysis_functions import selection_info\n",
    "from krcal.core.analysis_functions import selection_in_band\n",
    "from krcal.core.analysis_functions import plot_selection_in_band\n",
    "from krcal.core.s1s2_functions     import s1d_from_dst\n",
    "from krcal.core.s1s2_functions     import s2d_from_dst\n",
    "from krcal.core.s1s2_functions     import plot_s1histos\n",
    "from krcal.core.s1s2_functions     import plot_s2histos"
   ]
  },
  {
   "cell_type": "code",
   "execution_count": null,
   "metadata": {},
   "outputs": [],
   "source": [
    "from krcal.core.plt_functions      import plot_xy_density\n",
    "from krcal.core.plt_functions      import plot_s1_vs_z\n",
    "from krcal.core.plt_functions      import plot_s2_vs_z\n",
    "from krcal.core.plt_functions      import plot_s2_vs_s1\n",
    "from krcal.core.plt_functions      import plot_q_vs_s2\n",
    "from krcal.core.plt_functions      import plot_energy_distributions\n",
    "from krcal.core.plt_functions      import plot_energy_vs_t\n"
   ]
  },
  {
   "cell_type": "code",
   "execution_count": null,
   "metadata": {},
   "outputs": [],
   "source": [
    "import krcal.dev.corrections       as corrections \n",
    "import krcal.utils.hst_extend_functions as hst"
   ]
  },
  {
   "cell_type": "code",
   "execution_count": null,
   "metadata": {},
   "outputs": [],
   "source": [
    "from krcal.core.core_functions          import time_delta_from_time"
   ]
  },
  {
   "cell_type": "markdown",
   "metadata": {},
   "source": [
    "### Create vals file"
   ]
  },
  {
   "cell_type": "code",
   "execution_count": null,
   "metadata": {},
   "outputs": [],
   "source": [
    "# vals\n",
    "import subprocess"
   ]
  },
  {
   "cell_type": "code",
   "execution_count": null,
   "metadata": {},
   "outputs": [],
   "source": [
    "# vals\n",
    "vals_dir_loc = '/Users/jmhaefner/Development/KryptonCalibration/KrCalibNB_JMH/KrCalibNB/doc/data_'+str(run_number)+analysis_tag+'/'\n",
    "bash_mkdir = \"mkdir \" + vals_dir_loc\n",
    "process = subprocess.Popen(bash_mkdir, stdout=subprocess.PIPE, shell=True).wait()"
   ]
  },
  {
   "cell_type": "code",
   "execution_count": null,
   "metadata": {},
   "outputs": [],
   "source": [
    "# vals\n",
    "vals_loc = vals_dir_loc + 'vals_'+str(run_number)+'.txt'\n",
    "bash_touch = \"touch \" + vals_loc\n",
    "process = subprocess.Popen(bash_touch, stdout=subprocess.PIPE, shell=True).wait()"
   ]
  },
  {
   "cell_type": "code",
   "execution_count": null,
   "metadata": {},
   "outputs": [],
   "source": [
    "# vals\n",
    "summary_vals = open(vals_loc, 'w') # start by erasing the old file, then just append in later use.\n",
    "summary_vals.write('runNumber='+str(run_number)+'\\n')\n",
    "summary_vals.write('lastFile='+str(file_range[1])+'\\n')\n",
    "summary_vals.close()"
   ]
  },
  {
   "cell_type": "markdown",
   "metadata": {},
   "source": [
    "### Input/output "
   ]
  },
  {
   "cell_type": "code",
   "execution_count": null,
   "metadata": {},
   "outputs": [
    {
     "name": "stdout",
     "output_type": "stream",
     "text": [
      "input dsts:\n",
      " first = /Volumes/NEXT_data/IC_Data//kdst/7716/kdst_0000_7716_trigger1_v1.2.0_20191122_krbg.h5\n",
      " last = /Volumes/NEXT_data/IC_Data//kdst/7716/kdst_5801_7716_trigger1_v1.2.0_20191122_krbg.h5\n",
      "output dst = /Volumes/NEXT_data/IC_Data//st190819/dst/dst_7716_trigger1_0000_5801.h5\n",
      "log file   = /Volumes/NEXT_data/IC_Data//st190819/log/log_7716_trigger1_0000_5801.h5\n",
      "time before dst load = 9\n"
     ]
    }
   ],
   "source": [
    "input_dst_filenames, output_dst_filename, log_filename = filenames_from_paths(run_number,\n",
    "                                                                              input_path,\n",
    "                                                                              output_path,\n",
    "                                                                              log_path,\n",
    "                                                                              trigger,\n",
    "                                                                              tags,\n",
    "                                                                              file_range)\n",
    "                                                                              \n",
    "print(f'input dsts:\\n first = {input_dst_filenames[0]}\\n last = {input_dst_filenames[-1]}')\n",
    "print(f\"output dst = {output_dst_filename}\")\n",
    "print(f\"log file   = {log_filename}\")           \n",
    "\n",
    "print('time before dst load =', round(time.time() - last_time))\n",
    "last_time = time.time()"
   ]
  },
  {
   "cell_type": "code",
   "execution_count": null,
   "metadata": {},
   "outputs": [
    {
     "name": "stderr",
     "output_type": "stream",
     "text": [
      "/Users/jmhaefner/Documents/NEXT_code/IC_current/IC/invisible_cities/io/dst_io.py:25: UserWarning:  does not exist: file = /Volumes/NEXT_data/IC_Data//kdst/7716/kdst_0410_7716_trigger1_v1.2.0_20191122_krbg.h5 \n",
      "  warnings.warn(f' does not exist: file = {filename} ', UserWarning)\n",
      "/Users/jmhaefner/Documents/NEXT_code/IC_current/IC/invisible_cities/io/dst_io.py:25: UserWarning:  does not exist: file = /Volumes/NEXT_data/IC_Data//kdst/7716/kdst_1239_7716_trigger1_v1.2.0_20191122_krbg.h5 \n",
      "  warnings.warn(f' does not exist: file = {filename} ', UserWarning)\n",
      "/Users/jmhaefner/Documents/NEXT_code/IC_current/IC/invisible_cities/io/dst_io.py:25: UserWarning:  does not exist: file = /Volumes/NEXT_data/IC_Data//kdst/7716/kdst_1487_7716_trigger1_v1.2.0_20191122_krbg.h5 \n",
      "  warnings.warn(f' does not exist: file = {filename} ', UserWarning)\n",
      "/Users/jmhaefner/Documents/NEXT_code/IC_current/IC/invisible_cities/io/dst_io.py:25: UserWarning:  does not exist: file = /Volumes/NEXT_data/IC_Data//kdst/7716/kdst_1856_7716_trigger1_v1.2.0_20191122_krbg.h5 \n",
      "  warnings.warn(f' does not exist: file = {filename} ', UserWarning)\n"
     ]
    }
   ],
   "source": [
    "dst_full           = load_dsts(input_dst_filenames, \"DST\", \"Events\")\n",
    "print('time to load dst =', round(time.time() - last_time))\n",
    "last_time = time.time()"
   ]
  },
  {
   "cell_type": "code",
   "execution_count": null,
   "metadata": {},
   "outputs": [],
   "source": [
    "unique_events = ~dst_full.event.duplicated()\n",
    "\n",
    "number_of_S2s_full  = np.size         (unique_events)\n",
    "number_of_evts_full = np.count_nonzero(unique_events)\n",
    "\n",
    "print(f\"Total number of S2s   : {number_of_S2s_full} \")\n",
    "print(f\"Total number of events: {number_of_evts_full}\")\n",
    "\n",
    "# vals\n",
    "summary_vals = open(vals_loc, 'a')\n",
    "summary_vals.write(f'totalNumS2={number_of_S2s_full}\\n')\n",
    "summary_vals.write(f'totalNumEvt={number_of_evts_full}\\n')\n",
    "summary_vals.close()"
   ]
  },
  {
   "cell_type": "code",
   "execution_count": null,
   "metadata": {},
   "outputs": [],
   "source": [
    "dst_full.columns"
   ]
  },
  {
   "cell_type": "code",
   "execution_count": null,
   "metadata": {},
   "outputs": [],
   "source": [
    "ntot = len(dst_full)\n",
    "print(f\"length of dst = {ntot}\")"
   ]
  },
  {
   "cell_type": "markdown",
   "metadata": {},
   "source": [
    "### S1/S2"
   ]
  },
  {
   "cell_type": "code",
   "execution_count": null,
   "metadata": {},
   "outputs": [],
   "source": [
    "n, b, _, _ = h1d(dst_full.nS1.values, bins = 10, range = (0,10),\n",
    "           pltLabels=PlotLabels(x='nS1', y='Entries', title='nS1'))"
   ]
  },
  {
   "cell_type": "code",
   "execution_count": null,
   "metadata": {},
   "outputs": [],
   "source": [
    "fnS1 = n[n.argmax()]/np.sum(n)\n",
    "print(f'fraction of S1s = {fnS1}')"
   ]
  },
  {
   "cell_type": "markdown",
   "metadata": {},
   "source": [
    "#### Fraction of events with 1 S1 is 0.5, due to grass and high energy events. For Krypton select events with 1 S1"
   ]
  },
  {
   "cell_type": "markdown",
   "metadata": {},
   "source": [
    "### Select events with 1 S1"
   ]
  },
  {
   "cell_type": "code",
   "execution_count": null,
   "metadata": {},
   "outputs": [],
   "source": [
    "dst1s1 = dst_full[dst_full.nS1==1]"
   ]
  },
  {
   "cell_type": "code",
   "execution_count": null,
   "metadata": {},
   "outputs": [],
   "source": [
    "n, b, _, _ = h1d(dst1s1.nS2.values, bins = 10, range = (0,10),\n",
    "           pltLabels=PlotLabels(x='nS2', y='Entries', title='nS2'))"
   ]
  },
  {
   "cell_type": "markdown",
   "metadata": {},
   "source": [
    "#### For Krypton select events with only 1 S2"
   ]
  },
  {
   "cell_type": "code",
   "execution_count": null,
   "metadata": {},
   "outputs": [],
   "source": [
    "fnS2 = n[n.argmax()]/np.sum(n)\n",
    "print(f'fraction of S2s = {fnS2}')"
   ]
  },
  {
   "cell_type": "markdown",
   "metadata": {},
   "source": [
    "### Select events with 1 S2"
   ]
  },
  {
   "cell_type": "code",
   "execution_count": null,
   "metadata": {},
   "outputs": [],
   "source": [
    "dst    = dst1s1[dst1s1.nS2==1]"
   ]
  },
  {
   "cell_type": "code",
   "execution_count": null,
   "metadata": {},
   "outputs": [],
   "source": [
    "n_full   = len(dst)\n",
    "eff = n_full   / ntot \n",
    "print(f\"Total number of events with 1 s1 and 1 s2 : {n_full}: selection eff = {eff} \")\n",
    "\n",
    "# vals\n",
    "summary_vals = open(vals_loc, 'a')\n",
    "summary_vals.write(f'fracS1={round(fnS1,2)}\\n')\n",
    "summary_vals.write(f'fracS2={round(fnS2,2)}\\n')\n",
    "summary_vals.write(f'fracS1S2={round(eff,2)}\\n')\n",
    "summary_vals.close()"
   ]
  },
  {
   "cell_type": "markdown",
   "metadata": {},
   "source": [
    "### S1 and S2 distributions"
   ]
  },
  {
   "cell_type": "code",
   "execution_count": null,
   "metadata": {},
   "outputs": [],
   "source": [
    "s1d = s1d_from_dst(dst)"
   ]
  },
  {
   "cell_type": "code",
   "execution_count": null,
   "metadata": {},
   "outputs": [],
   "source": [
    "bash_mkdir = \"mkdir \" + summary_outputs\n",
    "process = subprocess.Popen(bash_mkdir, stdout=subprocess.PIPE, shell=True).wait()"
   ]
  },
  {
   "cell_type": "code",
   "execution_count": null,
   "metadata": {},
   "outputs": [],
   "source": [
    "plot_s1histos(dst,  s1d, bins=20, figsize=(10,10))\n",
    "plt.savefig(summary_outputs+'s1.png')"
   ]
  },
  {
   "cell_type": "markdown",
   "metadata": {},
   "source": [
    "### Fiducial selection in S1"
   ]
  },
  {
   "cell_type": "markdown",
   "metadata": {},
   "source": [
    "#### 2 < S1e < 25 pes, which cuts off very low and high energy events"
   ]
  },
  {
   "cell_type": "code",
   "execution_count": null,
   "metadata": {},
   "outputs": [],
   "source": [
    "s1e_range =(3, 25)\n",
    "\n",
    "# vals\n",
    "summary_vals = open(vals_loc, 'a')\n",
    "summary_vals.write(f's1Min={s1e_range[0]}\\n')\n",
    "summary_vals.write(f's1Max={s1e_range[1]}\\n')\n",
    "summary_vals.close()"
   ]
  },
  {
   "cell_type": "code",
   "execution_count": null,
   "metadata": {},
   "outputs": [],
   "source": [
    "dst_s1e    = dst[in_range(dst.S1e, *s1e_range)] "
   ]
  },
  {
   "cell_type": "code",
   "execution_count": null,
   "metadata": {},
   "outputs": [],
   "source": [
    "s1d = s1d_from_dst(dst_s1e, range_s1e = s1e_range)\n",
    "plot_s1histos(dst_s1e,  s1d, bins=20, figsize=(10,10))"
   ]
  },
  {
   "cell_type": "code",
   "execution_count": null,
   "metadata": {},
   "outputs": [],
   "source": [
    "dst = dst_s1e\n",
    "s2d = s2d_from_dst(dst)\n",
    "plot_s2histos(dst, s2d, bins=20, emin=1000, emax=15000, figsize=(10,10))\n",
    "plt.savefig(summary_outputs+'s2.png')"
   ]
  },
  {
   "cell_type": "markdown",
   "metadata": {},
   "source": [
    "### Fiducial selection in S2"
   ]
  },
  {
   "cell_type": "code",
   "execution_count": null,
   "metadata": {},
   "outputs": [],
   "source": [
    "Nsipm_min = 15 \n",
    "s2e_range =(3000, 13000)\n",
    "s2w_range =(5, 15)\n",
    "s2q_range =(200, 800)\n",
    "\n",
    "# vals\n",
    "summary_vals = open(vals_loc, 'a')\n",
    "summary_vals.write(f's2MinPMT={s2e_range[0]}\\n')\n",
    "summary_vals.write(f's2MaxPMT={s2e_range[1]}\\n')\n",
    "summary_vals.write(f's2MinQ={s2q_range[0]}\\n')\n",
    "summary_vals.write(f's2MaxQ={s2q_range[1]}\\n')\n",
    "summary_vals.write(f'widthMin={s2w_range[0]}\\n')\n",
    "summary_vals.write(f'widthMax={s2w_range[1]}\\n')\n",
    "summary_vals.write(f'numSipmMin={Nsipm_min}\\n')\n",
    "summary_vals.close()"
   ]
  },
  {
   "cell_type": "code",
   "execution_count": null,
   "metadata": {},
   "outputs": [],
   "source": [
    "dst_sipm    = dst[dst.Nsipm >Nsipm_min] \n",
    "dst_s2e    = dst_sipm[in_range(dst_sipm.S2e, *s2e_range)] \n",
    "dst_s2w    = dst_s2e[in_range(dst_s2e.S2w, *s2w_range)]\n",
    "dst_s2q    = dst_s2w[in_range(dst_s2w.S2q, *s2q_range)]\n",
    "dst = dst_s2q"
   ]
  },
  {
   "cell_type": "code",
   "execution_count": null,
   "metadata": {},
   "outputs": [],
   "source": [
    "s2d = s2d_from_dst(dst_s2e)\n",
    "plot_s2histos(dst, s2d, bins=20, emin=1000, emax=15000, figsize=(10,10))"
   ]
  },
  {
   "cell_type": "markdown",
   "metadata": {},
   "source": [
    "### Time differences in seconds"
   ]
  },
  {
   "cell_type": "code",
   "execution_count": null,
   "metadata": {},
   "outputs": [],
   "source": [
    "dst_time = dst.sort_values('event')\n",
    "T       = dst_time.time.values\n",
    "DT      = time_delta_from_time(T)"
   ]
  },
  {
   "cell_type": "markdown",
   "metadata": {},
   "source": [
    "### Define ranges and bins"
   ]
  },
  {
   "cell_type": "code",
   "execution_count": null,
   "metadata": {},
   "outputs": [],
   "source": [
    "krTimes, krRanges, krNbins, krBins = kr_ranges_and_bins(dst,\n",
    "                                                        xxrange   = (-220,  220),\n",
    "                                                        yrange    = (-220,  220),\n",
    "                                                        zrange    = (10,  550),\n",
    "                                                        s2erange  = s2e_range,\n",
    "                                                        s1erange  = s1e_range,\n",
    "                                                        s2qrange  = s2q_range,\n",
    "                                                        xnbins    = num_xy_bins,\n",
    "                                                        ynbins    = num_xy_bins,\n",
    "                                                        znbins    = 50,\n",
    "                                                        s2enbins  = 50,\n",
    "                                                        s1enbins  = 50,\n",
    "                                                        s2qnbins  = 50,\n",
    "                                                        tpsamples = 3600) # tsamples in seconds"
   ]
  },
  {
   "cell_type": "markdown",
   "metadata": {},
   "source": [
    "### Time\n",
    "- Extension in hours of data sample considered"
   ]
  },
  {
   "cell_type": "code",
   "execution_count": null,
   "metadata": {},
   "outputs": [],
   "source": [
    "plt.plot(krTimes.timeStamps)\n",
    "plt.savefig(summary_outputs+'runTime.png')"
   ]
  },
  {
   "cell_type": "code",
   "execution_count": null,
   "metadata": {},
   "outputs": [],
   "source": [
    "# vals\n",
    "full_final_datetime = str(krTimes.timeStamps[-1])\n",
    "final_date = full_final_datetime[:full_final_datetime.find(' ')]\n",
    "\n",
    "# Once you have the date, find the temperature on that date.\n",
    "import codecs\n",
    "\n",
    "ctrl = 'SNS'\n",
    "\n",
    "def itemize(line):\n",
    "    items = []\n",
    "    while len(line) > 0:\n",
    "        if not line.find('\\t') == -1:\n",
    "            potential_item = line[:line.find('\\t')]\n",
    "            potential_item = potential_item.strip()\n",
    "            if not potential_item == \"\":\n",
    "                items.append(potential_item)\n",
    "            line = line[line.find('\\t')+1:]\n",
    "        elif line.find('\\n') == -1:\n",
    "            items.append(line)\n",
    "            line = \"\"\n",
    "        else:\n",
    "            line = \"\"\n",
    "    return items\n",
    "\n",
    "vessel_temps = []\n",
    "param_of_interest = \"NEW\"\n",
    "\n",
    "text_path = \"/Users/jmhaefner/Dropbox/Data/\" + ctrl + \"_Data_Report_\" + final_date + \".txt\"\n",
    "\n",
    "if os.path.isfile(text_path):\n",
    "    data_file = codecs.open(text_path, 'r', encoding='ISO-8859-1')\n",
    "    data_lines = data_file.readlines()\n",
    "\n",
    "    parameters = itemize(data_lines[2])\n",
    "    first_data = itemize(data_lines[3])\n",
    "\n",
    "    for i in range(len(parameters)):\n",
    "        try:\n",
    "            print_params = parameters[i]+'='+first_data[i]\n",
    "            #print(print_params)\n",
    "        except:\n",
    "            # print('Failed to find a value for param', [parameters[i]])\n",
    "            parameters.pop(i)\n",
    "            i -= 1\n",
    "\n",
    "    for i in range(len(parameters)):\n",
    "        for j in range(3,len(data_lines)):\n",
    "            if parameters[i] == param_of_interest:\n",
    "                itemized = itemize(data_lines[j])\n",
    "                value = float(itemized[i].replace(',', '.'))\n",
    "                vessel_temps.append(value)\n",
    "\n",
    "    day_temp = sum(vessel_temps)/(1.0 * len(vessel_temps))\n",
    "    print('The day temp on '+final_date+' was '+str(round(day_temp,1)))\n",
    "else:\n",
    "    day_temp = 'nan'\n",
    "    print('UNABLE TO FIND TEMPERATURE FILE '+text_path)\n",
    "\n",
    "summary_vals = open(vals_loc, 'a')\n",
    "summary_vals.write('date='+final_date+'\\n')\n",
    "if day_temp != 'nan':\n",
    "    summary_vals.write('labTempC='+str(round(day_temp,1))+'\\n')\n",
    "else:\n",
    "    summary_vals.write('labTempC='+day_temp)\n",
    "summary_vals.close()"
   ]
  },
  {
   "cell_type": "code",
   "execution_count": null,
   "metadata": {},
   "outputs": [],
   "source": [
    "kge = kr_event(dst, DT, dst.S2e, dst.S2q)"
   ]
  },
  {
   "cell_type": "code",
   "execution_count": null,
   "metadata": {},
   "outputs": [],
   "source": [
    "fig = plt.figure(figsize=(10,6))\n",
    "ax      = fig.add_subplot(1, 1, 1)\n",
    "(_)    = h1(kge.DT, bins=500, range = (kge.DT[0], kge.DT[-1]), color='red', stats=False, lbl='pre-sel')\n",
    "plt.savefig(summary_outputs+'runEvt.png')"
   ]
  },
  {
   "cell_type": "markdown",
   "metadata": {},
   "source": [
    "### Control distributions"
   ]
  },
  {
   "cell_type": "code",
   "execution_count": null,
   "metadata": {},
   "outputs": [],
   "source": [
    "nevt = h2d(dst.X, dst.Y, krNbins.X, krNbins.Y, krRanges.X, krRanges.Y, \n",
    "           pltLabels=PlotLabels(x='X (mm)', y='Y (mm)', title='X vs Y'),\n",
    "           profile=False,\n",
    "           figsize=(10,8))\n",
    "plt.savefig(summary_outputs+'xy.png')"
   ]
  },
  {
   "cell_type": "code",
   "execution_count": null,
   "metadata": {},
   "outputs": [],
   "source": [
    "nevt = h2d(dst.Z, dst.S1e, krNbins.Z, krNbins.S1e, krRanges.Z, (0,20), \n",
    "           pltLabels=PlotLabels(x='Z (mm)', y='S1e (pes)', title='S1 vs Z'),\n",
    "           profile=False,\n",
    "           figsize=(10,8))"
   ]
  },
  {
   "cell_type": "markdown",
   "metadata": {},
   "source": [
    "#### S1 vs Z distribution:\n",
    "\n",
    "- Concentrated at low Z: This is due to the fact that gas flow is higher near the anode, and thus there is more krypton near the anode than near the cathode. \n",
    "- Increases as a function of Z. The closer to the cathode the larger S1\n",
    "- Spread is large: This is due to large variation of solid angle, depending on (X,Y)"
   ]
  },
  {
   "cell_type": "code",
   "execution_count": null,
   "metadata": {},
   "outputs": [],
   "source": [
    "nevt = h2d(dst.Z, dst.S2e, krNbins.Z, krNbins.S1e, krRanges.Z, krRanges.S2e, \n",
    "           pltLabels=PlotLabels(x='Z (mm)', y='S2e (pes)', title='S2 vs Z'),\n",
    "           profile=True,\n",
    "           figsize=(10,8))"
   ]
  },
  {
   "cell_type": "markdown",
   "metadata": {},
   "source": [
    "#### S2 vs Z distribution:\n",
    "\n",
    "- Concentrated at low Z: This is due to the fact that gas flow is higher near the anode, and thus there is more krypton near the anode than near the cathode. \n",
    "- Decreases as a function of Z, due to lifetime\n",
    "- Spread is large: This is due to large variation of solid angle, depending on (X,Y)"
   ]
  },
  {
   "cell_type": "code",
   "execution_count": null,
   "metadata": {},
   "outputs": [],
   "source": [
    "nevt = h2d(dst.S1e, dst.S2e, krNbins.S1e, krNbins.S2e, krRanges.S1e, krRanges.S2e, \n",
    "           pltLabels=PlotLabels(x='S1e (pes)', y='S2e (pes)', title='S2 vs S1'),\n",
    "           profile=False,\n",
    "           figsize=(10,8))"
   ]
  },
  {
   "cell_type": "markdown",
   "metadata": {},
   "source": [
    "#### S2 vs S1 distribution:\n",
    "\n",
    "- Small anti-correlation (more S2 less S1). "
   ]
  },
  {
   "cell_type": "code",
   "execution_count": null,
   "metadata": {},
   "outputs": [],
   "source": [
    "nevt = h2d(dst.S2e, dst.S2q, krNbins.S2e, krNbins.S2q, krRanges.S2e, krRanges.S2q, \n",
    "           pltLabels=PlotLabels(x='S2e (pes)', y='S2q (pes)', title='S2e vs S2q'),\n",
    "           profile=False,\n",
    "           figsize=(10,8))"
   ]
  },
  {
   "cell_type": "markdown",
   "metadata": {},
   "source": [
    "#### S2 vs Q distribution:\n",
    "\n",
    "- Clear correlation between S2 and Q "
   ]
  },
  {
   "cell_type": "markdown",
   "metadata": {},
   "source": [
    "### Select central region in R "
   ]
  },
  {
   "cell_type": "markdown",
   "metadata": {},
   "source": [
    "#### The effect is to reduce the dependence of geometrical corrections"
   ]
  },
  {
   "cell_type": "code",
   "execution_count": null,
   "metadata": {},
   "outputs": [],
   "source": [
    "dst_R     = dst[dst.R < 100]"
   ]
  },
  {
   "cell_type": "code",
   "execution_count": null,
   "metadata": {},
   "outputs": [],
   "source": [
    "plot_energy_distributions(dst_R, krBins.Z, krBins.S1e, krBins.S2e, krBins.S2q, figsize=(14,12))\n",
    "plt.savefig(summary_outputs+'s1s2q.png')"
   ]
  },
  {
   "cell_type": "markdown",
   "metadata": {},
   "source": [
    "### Select central region in Z\n",
    "\n",
    "- The effect is to reduce the dependence of lifetime"
   ]
  },
  {
   "cell_type": "code",
   "execution_count": null,
   "metadata": {},
   "outputs": [],
   "source": [
    "dst_core     = dst_R[dst_R.Z < 200]"
   ]
  },
  {
   "cell_type": "markdown",
   "metadata": {},
   "source": [
    "### Energy in core"
   ]
  },
  {
   "cell_type": "code",
   "execution_count": null,
   "metadata": {},
   "outputs": [],
   "source": [
    "(_) = h1d(dst_core.S2e, bins = 50, range =(3000,14000), legendloc='upper left')"
   ]
  },
  {
   "cell_type": "markdown",
   "metadata": {},
   "source": [
    "### Apply bootstrap corrections.\n",
    "\n",
    "- One can correct S2e and S2q by geometrical corrections using an existing map (a bootstrap map). This has the effect to reduce the geometrical dependence on both distributions, permitting an additional filtering"
   ]
  },
  {
   "cell_type": "code",
   "execution_count": null,
   "metadata": {},
   "outputs": [],
   "source": [
    "kre = kr_event(dst)"
   ]
  },
  {
   "cell_type": "code",
   "execution_count": null,
   "metadata": {},
   "outputs": [],
   "source": [
    "bootstrap_correction_filename = os.path.expandvars(bootstrap_correction_filename)\n",
    "calibrate = corrections.Calibration(bootstrap_correction_filename)\n",
    "E, Q = calibrate(kre.X, kre.Y, None, kre.T, kre.S2e, kre.S2q)"
   ]
  },
  {
   "cell_type": "code",
   "execution_count": null,
   "metadata": {},
   "outputs": [],
   "source": [
    "kge = kr_event(dst, DT, E, Q)"
   ]
  },
  {
   "cell_type": "code",
   "execution_count": null,
   "metadata": {},
   "outputs": [],
   "source": [
    "(_) = h1d(kge.E, bins = 50, range =(3000,12000))"
   ]
  },
  {
   "cell_type": "markdown",
   "metadata": {},
   "source": [
    "#### Plot of E and Q corrected vs Z shows much less spread (XY corrections applied only remaining LT corrections)"
   ]
  },
  {
   "cell_type": "code",
   "execution_count": null,
   "metadata": {},
   "outputs": [],
   "source": [
    "nevt = h2d(dst.Z, E, krNbins.Z, krNbins.S2e, krRanges.Z, krRanges.S2e, \n",
    "           pltLabels=PlotLabels(x='Z', y='E corrected', title='E corrected vs Z'),\n",
    "           profile=True,\n",
    "           figsize=(10,6))"
   ]
  },
  {
   "cell_type": "code",
   "execution_count": null,
   "metadata": {},
   "outputs": [],
   "source": [
    "nevt = h2d(dst.Z, Q, krNbins.Z, krNbins.S2q, krRanges.Z, krRanges.S2q, \n",
    "           pltLabels=PlotLabels(x='Z', y='Q corrected', title='Q corrected vs Z'),\n",
    "           profile=True,\n",
    "           figsize=(10,6))"
   ]
  },
  {
   "cell_type": "markdown",
   "metadata": {},
   "source": [
    "### Filter"
   ]
  },
  {
   "cell_type": "code",
   "execution_count": null,
   "metadata": {},
   "outputs": [],
   "source": [
    "range_krs2 = (7e+3,12e+3)"
   ]
  },
  {
   "cell_type": "code",
   "execution_count": null,
   "metadata": {},
   "outputs": [],
   "source": [
    "num_bins = 50\n",
    "num_in_band = 0\n",
    "while num_in_band == 0 and num_bins >= 5:\n",
    "    sel_krband, fpl, fph, hp, pp = selection_in_band(kre.Z, E,\n",
    "                                                     range_z = krRanges.Z,\n",
    "                                                     range_e = range_krs2,\n",
    "                                                     nbins_z = num_bins,\n",
    "                                                     nbins_e = num_bins,\n",
    "                                                     nsigma  = 3.5)\n",
    "    readout = selection_info(sel_krband, 'Kr band')\n",
    "    readout = readout[readout.find(': ')+2:]\n",
    "    readout = readout[:readout.find(' ')]\n",
    "    num_in_band = int(readout)\n",
    "    num_bins -= 1\n",
    "print('Final number of bins =', num_bins)"
   ]
  },
  {
   "cell_type": "code",
   "execution_count": null,
   "metadata": {},
   "outputs": [],
   "source": [
    "plot_selection_in_band(fpl, fph, hp, pp)"
   ]
  },
  {
   "cell_type": "code",
   "execution_count": null,
   "metadata": {},
   "outputs": [],
   "source": [
    "selection_info(sel_krband, 'Kr band')"
   ]
  },
  {
   "cell_type": "code",
   "execution_count": null,
   "metadata": {},
   "outputs": [],
   "source": [
    "kges = kr_event(dst, DT, E, Q, sel_mask=sel_krband)"
   ]
  },
  {
   "cell_type": "markdown",
   "metadata": {},
   "source": [
    "### Energy before and after filter"
   ]
  },
  {
   "cell_type": "code",
   "execution_count": null,
   "metadata": {},
   "outputs": [],
   "source": [
    "fig = plt.figure(figsize=(12,6))\n",
    "ax      = fig.add_subplot(1, 2, 1)\n",
    "(_)     = h1(kge.E,  bins = 50, range =(3000,12000))\n",
    "plot_histo(PlotLabels('E (pes)','Entries','Pre-filter'), ax, legendloc='upper left')\n",
    "ax      = fig.add_subplot(1, 2, 2)\n",
    "(_)     = h1(kges.E,  bins = 50, range =(3000,12000))\n",
    "plot_histo(PlotLabels('E (pes)','Entries','Post-filter'), ax, legendloc='upper left')\n",
    "plt.tight_layout()"
   ]
  },
  {
   "cell_type": "code",
   "execution_count": null,
   "metadata": {},
   "outputs": [],
   "source": [
    "nevt = h2d(kges.Z, kges.E, krNbins.Z, krNbins.S2e, krRanges.Z, krRanges.S2e, \n",
    "           pltLabels=PlotLabels(x='Z', y='E corrected', title='E corrected vs Z post filter'),\n",
    "           profile=True,\n",
    "           figsize=(10,6))"
   ]
  },
  {
   "cell_type": "code",
   "execution_count": null,
   "metadata": {},
   "outputs": [],
   "source": [
    "nevt = h2d(kges.Z, kges.Q, krNbins.Z, krNbins.S2q, krRanges.Z, krRanges.S2q, \n",
    "           pltLabels=PlotLabels(x='Z', y='Q corrected', title='Q corrected vs Z post-filter'),\n",
    "           profile=True,\n",
    "           figsize=(10,6))"
   ]
  },
  {
   "cell_type": "markdown",
   "metadata": {},
   "source": [
    "#### Notice how the filter cleans up the energy distributions. "
   ]
  },
  {
   "cell_type": "markdown",
   "metadata": {},
   "source": [
    "### Time evolution"
   ]
  },
  {
   "cell_type": "code",
   "execution_count": null,
   "metadata": {},
   "outputs": [],
   "source": [
    "fig = plt.figure(figsize=(10,6))\n",
    "ax      = fig.add_subplot(1, 1, 1)\n",
    "(_)    = h1(kge.T, bins=500, range = (kge.T.min(), kge.T.max()), color='red', stats=False, lbl='pre-sel')\n",
    "plot_histo(PlotLabels('Time','Entries',''), ax)\n",
    "(_)    = h1(kges.T, bins=500, range = (kges.T.min(), kges.T.max()), color='blue',stats=False, lbl='post-sel')\n",
    "plot_histo(PlotLabels('Time','Entries',''), ax)"
   ]
  },
  {
   "cell_type": "markdown",
   "metadata": {},
   "source": [
    "#### event density is constant, indicating a stable run"
   ]
  },
  {
   "cell_type": "markdown",
   "metadata": {},
   "source": [
    "### S1 and Corrected E and Q as a function of T"
   ]
  },
  {
   "cell_type": "code",
   "execution_count": null,
   "metadata": {},
   "outputs": [],
   "source": [
    "nevt = h2d(kges.T, kges.S1e, krNbins.T, krNbins.S1e, krRanges.T, krRanges.S1e, \n",
    "           pltLabels=PlotLabels(x='T', y='S1 corrected', title='S1 vs T post-filter'),\n",
    "           profile=True,\n",
    "           figsize=(10,6))"
   ]
  },
  {
   "cell_type": "code",
   "execution_count": null,
   "metadata": {},
   "outputs": [],
   "source": [
    "nevt = h2d(kges.T, kges.E, krNbins.T, krNbins.S2e, krRanges.T, krRanges.S2e, \n",
    "           pltLabels=PlotLabels(x='T', y='E corrected', title='E corrected vs T post-filter'),\n",
    "           profile=True,\n",
    "           figsize=(10,6))"
   ]
  },
  {
   "cell_type": "code",
   "execution_count": null,
   "metadata": {},
   "outputs": [],
   "source": [
    "nevt = h2d(kges.T, kges.Q, krNbins.T, krNbins.S2q, krRanges.T, krRanges.S2q, \n",
    "           pltLabels=PlotLabels(x='T', y='Q corrected', title='Q corrected vs T post-filter'),\n",
    "           profile=True,\n",
    "           figsize=(10,6))"
   ]
  },
  {
   "cell_type": "markdown",
   "metadata": {},
   "source": [
    "### All amplitudes are constant as a function of time in an stable run"
   ]
  },
  {
   "cell_type": "markdown",
   "metadata": {},
   "source": [
    "### Select dst "
   ]
  },
  {
   "cell_type": "code",
   "execution_count": null,
   "metadata": {},
   "outputs": [],
   "source": [
    "dsts = dst[sel_krband]"
   ]
  },
  {
   "cell_type": "markdown",
   "metadata": {},
   "source": [
    "### X vs Y again"
   ]
  },
  {
   "cell_type": "code",
   "execution_count": null,
   "metadata": {},
   "outputs": [],
   "source": [
    "nevt = h2d(dsts.X, dsts.Y, krNbins.X, krNbins.Y, krRanges.X, krRanges.Y, \n",
    "           pltLabels=PlotLabels(x='X (mm)', y='Y (mm)', title='X vs Y post-filter'),\n",
    "           profile=False,\n",
    "           figsize=(10,8))"
   ]
  },
  {
   "cell_type": "markdown",
   "metadata": {},
   "source": [
    "### Spatial distributions "
   ]
  },
  {
   "cell_type": "markdown",
   "metadata": {},
   "source": [
    "#### In R and Z"
   ]
  },
  {
   "cell_type": "code",
   "execution_count": null,
   "metadata": {},
   "outputs": [],
   "source": [
    "fig = plt.figure(figsize=(14,6))\n",
    "ax      = fig.add_subplot(1, 2, 1)\n",
    "(_)    = h1(kge.R, bins=50, range = (0,200), color='red', stats=False, lbl='pre-sel')\n",
    "plot_histo(PlotLabels('R','Entries',''), ax)\n",
    "(_)   = h1(kges.R, bins=50, range = (0,200), color='blue',stats=False, lbl='post-sel')\n",
    "plot_histo(PlotLabels('R','Entries',''), ax)\n",
    "ax      = fig.add_subplot(1, 2, 2)\n",
    "(_)    = h1(kge.Z, bins=50, range = (0,550), color='red', stats=False, lbl='pre-sel')\n",
    "plot_histo(PlotLabels('Z','Entries',''), ax)\n",
    "(_)    = h1(kges.Z, bins=50, range = (0,550), color='blue',stats=False, lbl='post-sel')\n",
    "plot_histo(PlotLabels('Z','Entries',''), ax)\n",
    "plt.tight_layout()"
   ]
  },
  {
   "cell_type": "markdown",
   "metadata": {},
   "source": [
    "#### In X Y"
   ]
  },
  {
   "cell_type": "code",
   "execution_count": null,
   "metadata": {},
   "outputs": [],
   "source": [
    "fig = plt.figure(figsize=(14,6))\n",
    "ax      = fig.add_subplot(1, 2, 1)\n",
    "(_)    = h1(kge.X, bins=50, range = (-200,200), color='red', stats=False, lbl='pre-sel')\n",
    "plot_histo(PlotLabels('X','Entries',''), ax)\n",
    "(_)    = h1(kges.X, bins=50, range = (-200,200), color='blue',stats=False, lbl='post-sel')\n",
    "plot_histo(PlotLabels('X','Entries',''), ax)\n",
    "ax      = fig.add_subplot(1, 2, 2)\n",
    "(_)    = h1(kge.Y, bins=50, range = (-200,200), color='red', stats=False, lbl='pre-sel')\n",
    "plot_histo(PlotLabels('X','Entries',''), ax)\n",
    "(_)    = h1(kges.Y, bins=50, range = (-200,200), color='blue',stats=False, lbl='post-sel')\n",
    "plot_histo(PlotLabels('Y','Entries',''), ax)\n",
    "plt.tight_layout()"
   ]
  },
  {
   "cell_type": "markdown",
   "metadata": {},
   "source": [
    "### Charge and SiPM distributions"
   ]
  },
  {
   "cell_type": "code",
   "execution_count": null,
   "metadata": {},
   "outputs": [],
   "source": [
    "fig = plt.figure(figsize=(14,6))\n",
    "ax      = fig.add_subplot(1, 2, 1)\n",
    "(_)    = h1(kge.Q, bins=50, range = (0,800), color='red', stats=False, lbl='pre-sel')\n",
    "plot_histo(PlotLabels('Qg','Entries',''), ax)\n",
    "(_)    = h1(kges.Q, bins=50, range = (0,800), color='blue',stats=False, lbl='post-sel')\n",
    "plot_histo(PlotLabels('Qg','Entries',''), ax)\n",
    "ax      = fig.add_subplot(1, 2, 2)\n",
    "(_)    = h1(dst.Nsipm, bins=50, range = (0,50), color='red', stats=False, lbl='pre-sel')\n",
    "plot_histo(PlotLabels('Nsipm','Entries',''), ax)\n",
    "(_)    = h1(dsts.Nsipm, bins=50, range = (0,50), color='blue',stats=False, lbl='post-sel')\n",
    "plot_histo(PlotLabels('Nsipm','Entries',''), ax)\n",
    "plt.tight_layout()"
   ]
  },
  {
   "cell_type": "markdown",
   "metadata": {},
   "source": [
    "### Write DST (merged and fiducial)"
   ]
  },
  {
   "cell_type": "code",
   "execution_count": null,
   "metadata": {},
   "outputs": [],
   "source": [
    "dst.columns"
   ]
  },
  {
   "cell_type": "code",
   "execution_count": null,
   "metadata": {},
   "outputs": [],
   "source": [
    "#del dst['index']\n",
    "print('Time after loading to before writing =', round(time.time() - last_time))\n",
    "last_time = time.time()"
   ]
  },
  {
   "cell_type": "code",
   "execution_count": null,
   "metadata": {},
   "outputs": [],
   "source": [
    "bash_mkdir = \"mkdir \" + os.environ['IC_DATA']+analysis_tag\n",
    "process = subprocess.Popen(bash_mkdir, stdout=subprocess.PIPE, shell=True).wait()\n",
    "bash_mkdir = \"mkdir \" + output_dst_filename[:output_dst_filename.rfind('/')+1]\n",
    "process = subprocess.Popen(bash_mkdir, stdout=subprocess.PIPE, shell=True).wait()"
   ]
  },
  {
   "cell_type": "code",
   "execution_count": null,
   "metadata": {},
   "outputs": [],
   "source": [
    "if (write_filtered_dst):\n",
    "    print('writing filtered dst ', output_dst_filename)\n",
    "    kdst_write(dsts, output_dst_filename);\n",
    "print('Time to write =', round(time.time() - last_time))\n",
    "print('Full notebook time =', round(time.time() - t0))"
   ]
  },
  {
   "cell_type": "markdown",
   "metadata": {},
   "source": [
    "## End of NB"
   ]
  },
  {
   "cell_type": "code",
   "execution_count": null,
   "metadata": {},
   "outputs": [],
   "source": []
  }
 ],
 "metadata": {
  "kernelspec": {
   "display_name": "Python 3",
   "language": "python",
   "name": "python3"
  },
  "language_info": {
   "codemirror_mode": {
    "name": "ipython",
    "version": 3
   },
   "file_extension": ".py",
   "mimetype": "text/x-python",
   "name": "python",
   "nbconvert_exporter": "python",
   "pygments_lexer": "ipython3",
   "version": "3.7.2"
  }
 },
 "nbformat": 4,
 "nbformat_minor": 2
}
