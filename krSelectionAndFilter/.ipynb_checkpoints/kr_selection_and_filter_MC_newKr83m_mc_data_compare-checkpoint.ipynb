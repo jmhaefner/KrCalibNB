{
 "cells": [
  {
   "cell_type": "markdown",
   "metadata": {},
   "source": [
    "# Selection of krypton events in terms of S1 and S2"
   ]
  },
  {
   "cell_type": "markdown",
   "metadata": {},
   "source": [
    "## Authors: JMH, JAH, GML, JJGC"
   ]
  },
  {
   "cell_type": "markdown",
   "metadata": {},
   "source": [
    "### Software: KrCalib : https://github.com/nextic/KrCalib/"
   ]
  },
  {
   "cell_type": "markdown",
   "metadata": {},
   "source": [
    "### Description:\n",
    "\n",
    "- run = 7851\n"
   ]
  },
  {
   "cell_type": "code",
   "execution_count": 1,
   "metadata": {},
   "outputs": [
    {
     "name": "stdout",
     "output_type": "stream",
     "text": [
      "Last updated on  Thu Mar 26 15:25:34 2020\n"
     ]
    }
   ],
   "source": [
    "import time\n",
    "print(\"Last updated on \", time.asctime())"
   ]
  },
  {
   "cell_type": "code",
   "execution_count": 15,
   "metadata": {},
   "outputs": [],
   "source": [
    "file_range  = 0, 50\n",
    "num_files = 50\n",
    "\n",
    "tags        = 'v1.2.0_20191122_krbg'\n",
    "analysis_tag = 'mc_data_compare'\n",
    "\n",
    "# Just for testing\n",
    "# run_number  = 7376\n",
    "# file_range  = 0, 8798 \n",
    "# num_files = 8798\n",
    "# tags        = 'v0.9.9_20190111_krbg'\n",
    "# analysis_tag = 'st190819'\n",
    "\n",
    "if num_files > 7729:\n",
    "    num_xy_bins = 100\n",
    "else:\n",
    "    num_xy_bins = 50\n",
    "\n",
    "t0 = time.time()\n",
    "last_time = t0\n",
    "\n",
    "input_path  = \"/Volumes/NEXT_data/IC_Data/kdst/nexus_newKr/\"\n",
    "\n",
    "bootstrap_correction_filename   = f\"$IC_DATA/maps/kr_corrections_run6165.h5\"\n",
    "write_filtered_dst = True"
   ]
  },
  {
   "cell_type": "code",
   "execution_count": 16,
   "metadata": {},
   "outputs": [
    {
     "name": "stdout",
     "output_type": "stream",
     "text": [
      "The autoreload extension is already loaded. To reload it, use:\n",
      "  %reload_ext autoreload\n"
     ]
    }
   ],
   "source": [
    "%matplotlib inline\n",
    "%load_ext autoreload\n",
    "%autoreload 2\n",
    "import matplotlib.pyplot as plt\n",
    "plt.rcParams[\"figure.figsize\"] = 10, 8\n",
    "plt.rcParams[\"font.size\"     ] = 14"
   ]
  },
  {
   "cell_type": "code",
   "execution_count": 17,
   "metadata": {},
   "outputs": [],
   "source": [
    "import os\n",
    "import time\n",
    "import datetime \n",
    "import numpy as np\n",
    "import pandas as pd\n",
    "import tables            as tb\n",
    "import random\n",
    "import glob\n",
    "import seaborn as sns\n",
    "sns.set()"
   ]
  },
  {
   "cell_type": "code",
   "execution_count": 18,
   "metadata": {},
   "outputs": [],
   "source": [
    "from  invisible_cities.io.dst_io              import load_dsts\n",
    "from  invisible_cities.core .core_functions   import in_range\n",
    "from  invisible_cities.core.system_of_units_c import units\n"
   ]
  },
  {
   "cell_type": "code",
   "execution_count": 19,
   "metadata": {},
   "outputs": [],
   "source": [
    "from krcal.core.io_functions       import filenames_from_paths\n",
    "from krcal.core.io_functions       import write_monitor_vars\n",
    "from krcal.core.io_functions       import kdst_write\n",
    "from krcal.core.histo_functions    import h1, h1d, h2d, plot_histo"
   ]
  },
  {
   "cell_type": "code",
   "execution_count": 20,
   "metadata": {},
   "outputs": [],
   "source": [
    "from krcal.core.kr_types           import PlotLabels\n",
    "from krcal.core.ranges_and_bins_functions      import kr_ranges_and_bins\n",
    "from krcal.core.analysis_functions import kr_event\n",
    "from krcal.core.analysis_functions import selection_info\n",
    "from krcal.core.analysis_functions import selection_in_band\n",
    "from krcal.core.analysis_functions import plot_selection_in_band\n",
    "from krcal.core.s1s2_functions     import s1d_from_dst\n",
    "from krcal.core.s1s2_functions     import s2d_from_dst\n",
    "from krcal.core.s1s2_functions     import plot_s1histos\n",
    "from krcal.core.s1s2_functions     import plot_s2histos"
   ]
  },
  {
   "cell_type": "code",
   "execution_count": 21,
   "metadata": {},
   "outputs": [],
   "source": [
    "from krcal.core.plt_functions      import plot_xy_density\n",
    "from krcal.core.plt_functions      import plot_s1_vs_z\n",
    "from krcal.core.plt_functions      import plot_s2_vs_z\n",
    "from krcal.core.plt_functions      import plot_s2_vs_s1\n",
    "from krcal.core.plt_functions      import plot_q_vs_s2\n",
    "from krcal.core.plt_functions      import plot_energy_distributions\n",
    "from krcal.core.plt_functions      import plot_energy_vs_t\n"
   ]
  },
  {
   "cell_type": "code",
   "execution_count": 22,
   "metadata": {},
   "outputs": [],
   "source": [
    "import krcal.dev.corrections       as corrections \n",
    "import krcal.utils.hst_extend_functions as hst"
   ]
  },
  {
   "cell_type": "code",
   "execution_count": 23,
   "metadata": {},
   "outputs": [],
   "source": [
    "from krcal.core.core_functions          import time_delta_from_time"
   ]
  },
  {
   "cell_type": "markdown",
   "metadata": {},
   "source": [
    "### Create vals file"
   ]
  },
  {
   "cell_type": "code",
   "execution_count": null,
   "metadata": {},
   "outputs": [],
   "source": []
  },
  {
   "cell_type": "code",
   "execution_count": null,
   "metadata": {},
   "outputs": [],
   "source": []
  },
  {
   "cell_type": "code",
   "execution_count": null,
   "metadata": {},
   "outputs": [],
   "source": []
  },
  {
   "cell_type": "code",
   "execution_count": null,
   "metadata": {},
   "outputs": [],
   "source": []
  },
  {
   "cell_type": "markdown",
   "metadata": {},
   "source": [
    "### Input/output "
   ]
  },
  {
   "cell_type": "code",
   "execution_count": 24,
   "metadata": {},
   "outputs": [
    {
     "name": "stdout",
     "output_type": "stream",
     "text": [
      "input dsts:\n",
      " first = /Volumes/NEXT_data/IC_Data/kdst/nexus_newKr/new.kr83m.nexus.0.h5\n",
      " last = /Volumes/NEXT_data/IC_Data/kdst/nexus_newKr/new.kr83m.nexus.50.h5\n",
      "time before dst load = 9\n"
     ]
    }
   ],
   "source": [
    "input_dst_filenames = [input_path + 'new.kr83m.nexus.' + str(x) + '.h5' for x in range(51)]\n",
    "                                                                              \n",
    "print(f'input dsts:\\n first = {input_dst_filenames[0]}\\n last = {input_dst_filenames[-1]}')\n",
    "\n",
    "input_dst_filenames = [input_path + 'new.kr83m.nexus.' + str(x) + '.h5' for x in range(51)]\n",
    "\n",
    "print('time before dst load =', round(time.time() - last_time))\n",
    "last_time = time.time()"
   ]
  },
  {
   "cell_type": "code",
   "execution_count": 25,
   "metadata": {},
   "outputs": [
    {
     "name": "stderr",
     "output_type": "stream",
     "text": [
      "/Users/jmhaefner/Documents/NEXT_code/IC_current/IC/invisible_cities/io/dst_io.py:21: UserWarning:  not of kdst type: file= /Volumes/NEXT_data/IC_Data/kdst/nexus_newKr/new.kr83m.nexus.0.h5 \n",
      "  warnings.warn(f' not of kdst type: file= {filename} ', UserWarning)\n",
      "/Users/jmhaefner/Documents/NEXT_code/IC_current/IC/invisible_cities/io/dst_io.py:21: UserWarning:  not of kdst type: file= /Volumes/NEXT_data/IC_Data/kdst/nexus_newKr/new.kr83m.nexus.1.h5 \n",
      "  warnings.warn(f' not of kdst type: file= {filename} ', UserWarning)\n",
      "/Users/jmhaefner/Documents/NEXT_code/IC_current/IC/invisible_cities/io/dst_io.py:21: UserWarning:  not of kdst type: file= /Volumes/NEXT_data/IC_Data/kdst/nexus_newKr/new.kr83m.nexus.2.h5 \n",
      "  warnings.warn(f' not of kdst type: file= {filename} ', UserWarning)\n",
      "/Users/jmhaefner/Documents/NEXT_code/IC_current/IC/invisible_cities/io/dst_io.py:21: UserWarning:  not of kdst type: file= /Volumes/NEXT_data/IC_Data/kdst/nexus_newKr/new.kr83m.nexus.3.h5 \n",
      "  warnings.warn(f' not of kdst type: file= {filename} ', UserWarning)\n",
      "/Users/jmhaefner/Documents/NEXT_code/IC_current/IC/invisible_cities/io/dst_io.py:21: UserWarning:  not of kdst type: file= /Volumes/NEXT_data/IC_Data/kdst/nexus_newKr/new.kr83m.nexus.4.h5 \n",
      "  warnings.warn(f' not of kdst type: file= {filename} ', UserWarning)\n",
      "/Users/jmhaefner/Documents/NEXT_code/IC_current/IC/invisible_cities/io/dst_io.py:21: UserWarning:  not of kdst type: file= /Volumes/NEXT_data/IC_Data/kdst/nexus_newKr/new.kr83m.nexus.5.h5 \n",
      "  warnings.warn(f' not of kdst type: file= {filename} ', UserWarning)\n",
      "/Users/jmhaefner/Documents/NEXT_code/IC_current/IC/invisible_cities/io/dst_io.py:21: UserWarning:  not of kdst type: file= /Volumes/NEXT_data/IC_Data/kdst/nexus_newKr/new.kr83m.nexus.6.h5 \n",
      "  warnings.warn(f' not of kdst type: file= {filename} ', UserWarning)\n",
      "/Users/jmhaefner/Documents/NEXT_code/IC_current/IC/invisible_cities/io/dst_io.py:21: UserWarning:  not of kdst type: file= /Volumes/NEXT_data/IC_Data/kdst/nexus_newKr/new.kr83m.nexus.7.h5 \n",
      "  warnings.warn(f' not of kdst type: file= {filename} ', UserWarning)\n",
      "/Users/jmhaefner/Documents/NEXT_code/IC_current/IC/invisible_cities/io/dst_io.py:21: UserWarning:  not of kdst type: file= /Volumes/NEXT_data/IC_Data/kdst/nexus_newKr/new.kr83m.nexus.8.h5 \n",
      "  warnings.warn(f' not of kdst type: file= {filename} ', UserWarning)\n",
      "/Users/jmhaefner/Documents/NEXT_code/IC_current/IC/invisible_cities/io/dst_io.py:21: UserWarning:  not of kdst type: file= /Volumes/NEXT_data/IC_Data/kdst/nexus_newKr/new.kr83m.nexus.9.h5 \n",
      "  warnings.warn(f' not of kdst type: file= {filename} ', UserWarning)\n",
      "/Users/jmhaefner/Documents/NEXT_code/IC_current/IC/invisible_cities/io/dst_io.py:21: UserWarning:  not of kdst type: file= /Volumes/NEXT_data/IC_Data/kdst/nexus_newKr/new.kr83m.nexus.10.h5 \n",
      "  warnings.warn(f' not of kdst type: file= {filename} ', UserWarning)\n",
      "/Users/jmhaefner/Documents/NEXT_code/IC_current/IC/invisible_cities/io/dst_io.py:21: UserWarning:  not of kdst type: file= /Volumes/NEXT_data/IC_Data/kdst/nexus_newKr/new.kr83m.nexus.11.h5 \n",
      "  warnings.warn(f' not of kdst type: file= {filename} ', UserWarning)\n",
      "/Users/jmhaefner/Documents/NEXT_code/IC_current/IC/invisible_cities/io/dst_io.py:21: UserWarning:  not of kdst type: file= /Volumes/NEXT_data/IC_Data/kdst/nexus_newKr/new.kr83m.nexus.12.h5 \n",
      "  warnings.warn(f' not of kdst type: file= {filename} ', UserWarning)\n",
      "/Users/jmhaefner/Documents/NEXT_code/IC_current/IC/invisible_cities/io/dst_io.py:21: UserWarning:  not of kdst type: file= /Volumes/NEXT_data/IC_Data/kdst/nexus_newKr/new.kr83m.nexus.13.h5 \n",
      "  warnings.warn(f' not of kdst type: file= {filename} ', UserWarning)\n",
      "/Users/jmhaefner/Documents/NEXT_code/IC_current/IC/invisible_cities/io/dst_io.py:21: UserWarning:  not of kdst type: file= /Volumes/NEXT_data/IC_Data/kdst/nexus_newKr/new.kr83m.nexus.14.h5 \n",
      "  warnings.warn(f' not of kdst type: file= {filename} ', UserWarning)\n",
      "/Users/jmhaefner/Documents/NEXT_code/IC_current/IC/invisible_cities/io/dst_io.py:21: UserWarning:  not of kdst type: file= /Volumes/NEXT_data/IC_Data/kdst/nexus_newKr/new.kr83m.nexus.15.h5 \n",
      "  warnings.warn(f' not of kdst type: file= {filename} ', UserWarning)\n",
      "/Users/jmhaefner/Documents/NEXT_code/IC_current/IC/invisible_cities/io/dst_io.py:21: UserWarning:  not of kdst type: file= /Volumes/NEXT_data/IC_Data/kdst/nexus_newKr/new.kr83m.nexus.16.h5 \n",
      "  warnings.warn(f' not of kdst type: file= {filename} ', UserWarning)\n",
      "/Users/jmhaefner/Documents/NEXT_code/IC_current/IC/invisible_cities/io/dst_io.py:21: UserWarning:  not of kdst type: file= /Volumes/NEXT_data/IC_Data/kdst/nexus_newKr/new.kr83m.nexus.17.h5 \n",
      "  warnings.warn(f' not of kdst type: file= {filename} ', UserWarning)\n",
      "/Users/jmhaefner/Documents/NEXT_code/IC_current/IC/invisible_cities/io/dst_io.py:21: UserWarning:  not of kdst type: file= /Volumes/NEXT_data/IC_Data/kdst/nexus_newKr/new.kr83m.nexus.18.h5 \n",
      "  warnings.warn(f' not of kdst type: file= {filename} ', UserWarning)\n",
      "/Users/jmhaefner/Documents/NEXT_code/IC_current/IC/invisible_cities/io/dst_io.py:21: UserWarning:  not of kdst type: file= /Volumes/NEXT_data/IC_Data/kdst/nexus_newKr/new.kr83m.nexus.19.h5 \n",
      "  warnings.warn(f' not of kdst type: file= {filename} ', UserWarning)\n",
      "/Users/jmhaefner/Documents/NEXT_code/IC_current/IC/invisible_cities/io/dst_io.py:21: UserWarning:  not of kdst type: file= /Volumes/NEXT_data/IC_Data/kdst/nexus_newKr/new.kr83m.nexus.20.h5 \n",
      "  warnings.warn(f' not of kdst type: file= {filename} ', UserWarning)\n",
      "/Users/jmhaefner/Documents/NEXT_code/IC_current/IC/invisible_cities/io/dst_io.py:21: UserWarning:  not of kdst type: file= /Volumes/NEXT_data/IC_Data/kdst/nexus_newKr/new.kr83m.nexus.21.h5 \n",
      "  warnings.warn(f' not of kdst type: file= {filename} ', UserWarning)\n",
      "/Users/jmhaefner/Documents/NEXT_code/IC_current/IC/invisible_cities/io/dst_io.py:21: UserWarning:  not of kdst type: file= /Volumes/NEXT_data/IC_Data/kdst/nexus_newKr/new.kr83m.nexus.22.h5 \n",
      "  warnings.warn(f' not of kdst type: file= {filename} ', UserWarning)\n",
      "/Users/jmhaefner/Documents/NEXT_code/IC_current/IC/invisible_cities/io/dst_io.py:21: UserWarning:  not of kdst type: file= /Volumes/NEXT_data/IC_Data/kdst/nexus_newKr/new.kr83m.nexus.23.h5 \n",
      "  warnings.warn(f' not of kdst type: file= {filename} ', UserWarning)\n",
      "/Users/jmhaefner/Documents/NEXT_code/IC_current/IC/invisible_cities/io/dst_io.py:21: UserWarning:  not of kdst type: file= /Volumes/NEXT_data/IC_Data/kdst/nexus_newKr/new.kr83m.nexus.24.h5 \n",
      "  warnings.warn(f' not of kdst type: file= {filename} ', UserWarning)\n",
      "/Users/jmhaefner/Documents/NEXT_code/IC_current/IC/invisible_cities/io/dst_io.py:21: UserWarning:  not of kdst type: file= /Volumes/NEXT_data/IC_Data/kdst/nexus_newKr/new.kr83m.nexus.25.h5 \n",
      "  warnings.warn(f' not of kdst type: file= {filename} ', UserWarning)\n",
      "/Users/jmhaefner/Documents/NEXT_code/IC_current/IC/invisible_cities/io/dst_io.py:21: UserWarning:  not of kdst type: file= /Volumes/NEXT_data/IC_Data/kdst/nexus_newKr/new.kr83m.nexus.26.h5 \n",
      "  warnings.warn(f' not of kdst type: file= {filename} ', UserWarning)\n",
      "/Users/jmhaefner/Documents/NEXT_code/IC_current/IC/invisible_cities/io/dst_io.py:21: UserWarning:  not of kdst type: file= /Volumes/NEXT_data/IC_Data/kdst/nexus_newKr/new.kr83m.nexus.27.h5 \n",
      "  warnings.warn(f' not of kdst type: file= {filename} ', UserWarning)\n",
      "/Users/jmhaefner/Documents/NEXT_code/IC_current/IC/invisible_cities/io/dst_io.py:21: UserWarning:  not of kdst type: file= /Volumes/NEXT_data/IC_Data/kdst/nexus_newKr/new.kr83m.nexus.28.h5 \n",
      "  warnings.warn(f' not of kdst type: file= {filename} ', UserWarning)\n",
      "/Users/jmhaefner/Documents/NEXT_code/IC_current/IC/invisible_cities/io/dst_io.py:21: UserWarning:  not of kdst type: file= /Volumes/NEXT_data/IC_Data/kdst/nexus_newKr/new.kr83m.nexus.29.h5 \n",
      "  warnings.warn(f' not of kdst type: file= {filename} ', UserWarning)\n",
      "/Users/jmhaefner/Documents/NEXT_code/IC_current/IC/invisible_cities/io/dst_io.py:21: UserWarning:  not of kdst type: file= /Volumes/NEXT_data/IC_Data/kdst/nexus_newKr/new.kr83m.nexus.30.h5 \n",
      "  warnings.warn(f' not of kdst type: file= {filename} ', UserWarning)\n",
      "/Users/jmhaefner/Documents/NEXT_code/IC_current/IC/invisible_cities/io/dst_io.py:21: UserWarning:  not of kdst type: file= /Volumes/NEXT_data/IC_Data/kdst/nexus_newKr/new.kr83m.nexus.31.h5 \n",
      "  warnings.warn(f' not of kdst type: file= {filename} ', UserWarning)\n",
      "/Users/jmhaefner/Documents/NEXT_code/IC_current/IC/invisible_cities/io/dst_io.py:21: UserWarning:  not of kdst type: file= /Volumes/NEXT_data/IC_Data/kdst/nexus_newKr/new.kr83m.nexus.32.h5 \n",
      "  warnings.warn(f' not of kdst type: file= {filename} ', UserWarning)\n",
      "/Users/jmhaefner/Documents/NEXT_code/IC_current/IC/invisible_cities/io/dst_io.py:21: UserWarning:  not of kdst type: file= /Volumes/NEXT_data/IC_Data/kdst/nexus_newKr/new.kr83m.nexus.33.h5 \n",
      "  warnings.warn(f' not of kdst type: file= {filename} ', UserWarning)\n",
      "/Users/jmhaefner/Documents/NEXT_code/IC_current/IC/invisible_cities/io/dst_io.py:21: UserWarning:  not of kdst type: file= /Volumes/NEXT_data/IC_Data/kdst/nexus_newKr/new.kr83m.nexus.34.h5 \n",
      "  warnings.warn(f' not of kdst type: file= {filename} ', UserWarning)\n",
      "/Users/jmhaefner/Documents/NEXT_code/IC_current/IC/invisible_cities/io/dst_io.py:21: UserWarning:  not of kdst type: file= /Volumes/NEXT_data/IC_Data/kdst/nexus_newKr/new.kr83m.nexus.35.h5 \n",
      "  warnings.warn(f' not of kdst type: file= {filename} ', UserWarning)\n",
      "/Users/jmhaefner/Documents/NEXT_code/IC_current/IC/invisible_cities/io/dst_io.py:21: UserWarning:  not of kdst type: file= /Volumes/NEXT_data/IC_Data/kdst/nexus_newKr/new.kr83m.nexus.36.h5 \n",
      "  warnings.warn(f' not of kdst type: file= {filename} ', UserWarning)\n",
      "/Users/jmhaefner/Documents/NEXT_code/IC_current/IC/invisible_cities/io/dst_io.py:21: UserWarning:  not of kdst type: file= /Volumes/NEXT_data/IC_Data/kdst/nexus_newKr/new.kr83m.nexus.37.h5 \n",
      "  warnings.warn(f' not of kdst type: file= {filename} ', UserWarning)\n",
      "/Users/jmhaefner/Documents/NEXT_code/IC_current/IC/invisible_cities/io/dst_io.py:21: UserWarning:  not of kdst type: file= /Volumes/NEXT_data/IC_Data/kdst/nexus_newKr/new.kr83m.nexus.38.h5 \n",
      "  warnings.warn(f' not of kdst type: file= {filename} ', UserWarning)\n",
      "/Users/jmhaefner/Documents/NEXT_code/IC_current/IC/invisible_cities/io/dst_io.py:21: UserWarning:  not of kdst type: file= /Volumes/NEXT_data/IC_Data/kdst/nexus_newKr/new.kr83m.nexus.39.h5 \n",
      "  warnings.warn(f' not of kdst type: file= {filename} ', UserWarning)\n",
      "/Users/jmhaefner/Documents/NEXT_code/IC_current/IC/invisible_cities/io/dst_io.py:21: UserWarning:  not of kdst type: file= /Volumes/NEXT_data/IC_Data/kdst/nexus_newKr/new.kr83m.nexus.40.h5 \n",
      "  warnings.warn(f' not of kdst type: file= {filename} ', UserWarning)\n",
      "/Users/jmhaefner/Documents/NEXT_code/IC_current/IC/invisible_cities/io/dst_io.py:21: UserWarning:  not of kdst type: file= /Volumes/NEXT_data/IC_Data/kdst/nexus_newKr/new.kr83m.nexus.41.h5 \n",
      "  warnings.warn(f' not of kdst type: file= {filename} ', UserWarning)\n",
      "/Users/jmhaefner/Documents/NEXT_code/IC_current/IC/invisible_cities/io/dst_io.py:21: UserWarning:  not of kdst type: file= /Volumes/NEXT_data/IC_Data/kdst/nexus_newKr/new.kr83m.nexus.42.h5 \n",
      "  warnings.warn(f' not of kdst type: file= {filename} ', UserWarning)\n",
      "/Users/jmhaefner/Documents/NEXT_code/IC_current/IC/invisible_cities/io/dst_io.py:21: UserWarning:  not of kdst type: file= /Volumes/NEXT_data/IC_Data/kdst/nexus_newKr/new.kr83m.nexus.43.h5 \n",
      "  warnings.warn(f' not of kdst type: file= {filename} ', UserWarning)\n",
      "/Users/jmhaefner/Documents/NEXT_code/IC_current/IC/invisible_cities/io/dst_io.py:21: UserWarning:  not of kdst type: file= /Volumes/NEXT_data/IC_Data/kdst/nexus_newKr/new.kr83m.nexus.44.h5 \n",
      "  warnings.warn(f' not of kdst type: file= {filename} ', UserWarning)\n",
      "/Users/jmhaefner/Documents/NEXT_code/IC_current/IC/invisible_cities/io/dst_io.py:21: UserWarning:  not of kdst type: file= /Volumes/NEXT_data/IC_Data/kdst/nexus_newKr/new.kr83m.nexus.45.h5 \n",
      "  warnings.warn(f' not of kdst type: file= {filename} ', UserWarning)\n",
      "/Users/jmhaefner/Documents/NEXT_code/IC_current/IC/invisible_cities/io/dst_io.py:21: UserWarning:  not of kdst type: file= /Volumes/NEXT_data/IC_Data/kdst/nexus_newKr/new.kr83m.nexus.46.h5 \n",
      "  warnings.warn(f' not of kdst type: file= {filename} ', UserWarning)\n",
      "/Users/jmhaefner/Documents/NEXT_code/IC_current/IC/invisible_cities/io/dst_io.py:21: UserWarning:  not of kdst type: file= /Volumes/NEXT_data/IC_Data/kdst/nexus_newKr/new.kr83m.nexus.47.h5 \n",
      "  warnings.warn(f' not of kdst type: file= {filename} ', UserWarning)\n",
      "/Users/jmhaefner/Documents/NEXT_code/IC_current/IC/invisible_cities/io/dst_io.py:21: UserWarning:  not of kdst type: file= /Volumes/NEXT_data/IC_Data/kdst/nexus_newKr/new.kr83m.nexus.48.h5 \n",
      "  warnings.warn(f' not of kdst type: file= {filename} ', UserWarning)\n",
      "/Users/jmhaefner/Documents/NEXT_code/IC_current/IC/invisible_cities/io/dst_io.py:21: UserWarning:  not of kdst type: file= /Volumes/NEXT_data/IC_Data/kdst/nexus_newKr/new.kr83m.nexus.49.h5 \n",
      "  warnings.warn(f' not of kdst type: file= {filename} ', UserWarning)\n",
      "/Users/jmhaefner/Documents/NEXT_code/IC_current/IC/invisible_cities/io/dst_io.py:21: UserWarning:  not of kdst type: file= /Volumes/NEXT_data/IC_Data/kdst/nexus_newKr/new.kr83m.nexus.50.h5 \n",
      "  warnings.warn(f' not of kdst type: file= {filename} ', UserWarning)\n"
     ]
    },
    {
     "ename": "ValueError",
     "evalue": "All objects passed were None",
     "output_type": "error",
     "traceback": [
      "\u001b[0;31m---------------------------------------------------------------------------\u001b[0m",
      "\u001b[0;31mValueError\u001b[0m                                Traceback (most recent call last)",
      "\u001b[0;32m<ipython-input-25-16c036eda77c>\u001b[0m in \u001b[0;36m<module>\u001b[0;34m\u001b[0m\n\u001b[0;32m----> 1\u001b[0;31m \u001b[0mdst_full\u001b[0m           \u001b[0;34m=\u001b[0m \u001b[0mload_dsts\u001b[0m\u001b[0;34m(\u001b[0m\u001b[0minput_dst_filenames\u001b[0m\u001b[0;34m,\u001b[0m \u001b[0;34m\"DST\"\u001b[0m\u001b[0;34m,\u001b[0m \u001b[0;34m\"Events\"\u001b[0m\u001b[0;34m)\u001b[0m\u001b[0;34m\u001b[0m\u001b[0;34m\u001b[0m\u001b[0m\n\u001b[0m\u001b[1;32m      2\u001b[0m \u001b[0mprint\u001b[0m\u001b[0;34m(\u001b[0m\u001b[0;34m'time to load dst ='\u001b[0m\u001b[0;34m,\u001b[0m \u001b[0mround\u001b[0m\u001b[0;34m(\u001b[0m\u001b[0mtime\u001b[0m\u001b[0;34m.\u001b[0m\u001b[0mtime\u001b[0m\u001b[0;34m(\u001b[0m\u001b[0;34m)\u001b[0m \u001b[0;34m-\u001b[0m \u001b[0mlast_time\u001b[0m\u001b[0;34m)\u001b[0m\u001b[0;34m)\u001b[0m\u001b[0;34m\u001b[0m\u001b[0;34m\u001b[0m\u001b[0m\n\u001b[1;32m      3\u001b[0m \u001b[0mlast_time\u001b[0m \u001b[0;34m=\u001b[0m \u001b[0mtime\u001b[0m\u001b[0;34m.\u001b[0m\u001b[0mtime\u001b[0m\u001b[0;34m(\u001b[0m\u001b[0;34m)\u001b[0m\u001b[0;34m\u001b[0m\u001b[0;34m\u001b[0m\u001b[0m\n",
      "\u001b[0;32m~/Documents/NEXT_code/IC_current/IC/invisible_cities/io/dst_io.py\u001b[0m in \u001b[0;36mload_dsts\u001b[0;34m(dst_list, group, node)\u001b[0m\n\u001b[1;32m     28\u001b[0m \u001b[0;32mdef\u001b[0m \u001b[0mload_dsts\u001b[0m\u001b[0;34m(\u001b[0m\u001b[0mdst_list\u001b[0m\u001b[0;34m,\u001b[0m \u001b[0mgroup\u001b[0m\u001b[0;34m,\u001b[0m \u001b[0mnode\u001b[0m\u001b[0;34m)\u001b[0m\u001b[0;34m:\u001b[0m\u001b[0;34m\u001b[0m\u001b[0;34m\u001b[0m\u001b[0m\n\u001b[1;32m     29\u001b[0m     \u001b[0mdsts\u001b[0m \u001b[0;34m=\u001b[0m \u001b[0;34m[\u001b[0m\u001b[0mload_dst\u001b[0m\u001b[0;34m(\u001b[0m\u001b[0mfilename\u001b[0m\u001b[0;34m,\u001b[0m \u001b[0mgroup\u001b[0m\u001b[0;34m,\u001b[0m \u001b[0mnode\u001b[0m\u001b[0;34m)\u001b[0m \u001b[0;32mfor\u001b[0m \u001b[0mfilename\u001b[0m \u001b[0;32min\u001b[0m \u001b[0mdst_list\u001b[0m\u001b[0;34m]\u001b[0m\u001b[0;34m\u001b[0m\u001b[0;34m\u001b[0m\u001b[0m\n\u001b[0;32m---> 30\u001b[0;31m     \u001b[0;32mreturn\u001b[0m \u001b[0mpd\u001b[0m\u001b[0;34m.\u001b[0m\u001b[0mconcat\u001b[0m\u001b[0;34m(\u001b[0m\u001b[0mdsts\u001b[0m\u001b[0;34m,\u001b[0m \u001b[0mignore_index\u001b[0m\u001b[0;34m=\u001b[0m\u001b[0;32mTrue\u001b[0m\u001b[0;34m)\u001b[0m\u001b[0;34m\u001b[0m\u001b[0;34m\u001b[0m\u001b[0m\n\u001b[0m\u001b[1;32m     31\u001b[0m \u001b[0;34m\u001b[0m\u001b[0m\n\u001b[1;32m     32\u001b[0m \u001b[0;32mdef\u001b[0m \u001b[0m_make_tabledef\u001b[0m\u001b[0;34m(\u001b[0m\u001b[0mcolumn_types\u001b[0m \u001b[0;34m:\u001b[0m \u001b[0mpd\u001b[0m\u001b[0;34m.\u001b[0m\u001b[0mSeries\u001b[0m\u001b[0;34m,\u001b[0m \u001b[0mstr_col_length\u001b[0m \u001b[0;34m:\u001b[0m \u001b[0mint\u001b[0m\u001b[0;34m=\u001b[0m\u001b[0;36m32\u001b[0m\u001b[0;34m)\u001b[0m \u001b[0;34m->\u001b[0m \u001b[0mdict\u001b[0m\u001b[0;34m:\u001b[0m\u001b[0;34m\u001b[0m\u001b[0;34m\u001b[0m\u001b[0m\n",
      "\u001b[0;32m~/miniconda/envs/IC-3.7-2018-11-14/lib/python3.7/site-packages/pandas/core/reshape/concat.py\u001b[0m in \u001b[0;36mconcat\u001b[0;34m(objs, axis, join, join_axes, ignore_index, keys, levels, names, verify_integrity, sort, copy)\u001b[0m\n\u001b[1;32m    223\u001b[0m                        \u001b[0mkeys\u001b[0m\u001b[0;34m=\u001b[0m\u001b[0mkeys\u001b[0m\u001b[0;34m,\u001b[0m \u001b[0mlevels\u001b[0m\u001b[0;34m=\u001b[0m\u001b[0mlevels\u001b[0m\u001b[0;34m,\u001b[0m \u001b[0mnames\u001b[0m\u001b[0;34m=\u001b[0m\u001b[0mnames\u001b[0m\u001b[0;34m,\u001b[0m\u001b[0;34m\u001b[0m\u001b[0;34m\u001b[0m\u001b[0m\n\u001b[1;32m    224\u001b[0m                        \u001b[0mverify_integrity\u001b[0m\u001b[0;34m=\u001b[0m\u001b[0mverify_integrity\u001b[0m\u001b[0;34m,\u001b[0m\u001b[0;34m\u001b[0m\u001b[0;34m\u001b[0m\u001b[0m\n\u001b[0;32m--> 225\u001b[0;31m                        copy=copy, sort=sort)\n\u001b[0m\u001b[1;32m    226\u001b[0m     \u001b[0;32mreturn\u001b[0m \u001b[0mop\u001b[0m\u001b[0;34m.\u001b[0m\u001b[0mget_result\u001b[0m\u001b[0;34m(\u001b[0m\u001b[0;34m)\u001b[0m\u001b[0;34m\u001b[0m\u001b[0;34m\u001b[0m\u001b[0m\n\u001b[1;32m    227\u001b[0m \u001b[0;34m\u001b[0m\u001b[0m\n",
      "\u001b[0;32m~/miniconda/envs/IC-3.7-2018-11-14/lib/python3.7/site-packages/pandas/core/reshape/concat.py\u001b[0m in \u001b[0;36m__init__\u001b[0;34m(self, objs, axis, join, join_axes, keys, levels, names, ignore_index, verify_integrity, copy, sort)\u001b[0m\n\u001b[1;32m    275\u001b[0m \u001b[0;34m\u001b[0m\u001b[0m\n\u001b[1;32m    276\u001b[0m         \u001b[0;32mif\u001b[0m \u001b[0mlen\u001b[0m\u001b[0;34m(\u001b[0m\u001b[0mobjs\u001b[0m\u001b[0;34m)\u001b[0m \u001b[0;34m==\u001b[0m \u001b[0;36m0\u001b[0m\u001b[0;34m:\u001b[0m\u001b[0;34m\u001b[0m\u001b[0;34m\u001b[0m\u001b[0m\n\u001b[0;32m--> 277\u001b[0;31m             \u001b[0;32mraise\u001b[0m \u001b[0mValueError\u001b[0m\u001b[0;34m(\u001b[0m\u001b[0;34m'All objects passed were None'\u001b[0m\u001b[0;34m)\u001b[0m\u001b[0;34m\u001b[0m\u001b[0;34m\u001b[0m\u001b[0m\n\u001b[0m\u001b[1;32m    278\u001b[0m \u001b[0;34m\u001b[0m\u001b[0m\n\u001b[1;32m    279\u001b[0m         \u001b[0;31m# consolidate data & figure out what our result ndim is going to be\u001b[0m\u001b[0;34m\u001b[0m\u001b[0;34m\u001b[0m\u001b[0;34m\u001b[0m\u001b[0m\n",
      "\u001b[0;31mValueError\u001b[0m: All objects passed were None"
     ]
    }
   ],
   "source": [
    "dst_full           = load_dsts(input_dst_filenames, \"DST\", \"Events\")\n",
    "print('time to load dst =', round(time.time() - last_time))\n",
    "last_time = time.time()"
   ]
  },
  {
   "cell_type": "code",
   "execution_count": null,
   "metadata": {},
   "outputs": [],
   "source": [
    "dst_full.columns"
   ]
  },
  {
   "cell_type": "code",
   "execution_count": null,
   "metadata": {},
   "outputs": [],
   "source": []
  },
  {
   "cell_type": "code",
   "execution_count": null,
   "metadata": {},
   "outputs": [],
   "source": [
    "unique_events = ~dst_full.event.duplicated()\n",
    "\n",
    "number_of_S2s_full  = np.size         (unique_events)\n",
    "number_of_evts_full = np.count_nonzero(unique_events)\n",
    "\n",
    "print(f\"Total number of S2s   : {number_of_S2s_full} \")\n",
    "print(f\"Total number of events: {number_of_evts_full}\")"
   ]
  },
  {
   "cell_type": "code",
   "execution_count": null,
   "metadata": {},
   "outputs": [],
   "source": [
    "dst_full.columns"
   ]
  },
  {
   "cell_type": "code",
   "execution_count": null,
   "metadata": {},
   "outputs": [],
   "source": [
    "ntot = len(dst_full)\n",
    "print(f\"length of dst = {ntot}\")"
   ]
  },
  {
   "cell_type": "markdown",
   "metadata": {},
   "source": [
    "### S1/S2"
   ]
  },
  {
   "cell_type": "code",
   "execution_count": null,
   "metadata": {},
   "outputs": [],
   "source": [
    "n, b, _, _ = h1d(dst_full.nS1.values, bins = 10, range = (0,10),\n",
    "           pltLabels=PlotLabels(x='nS1', y='Entries', title='nS1'))"
   ]
  },
  {
   "cell_type": "code",
   "execution_count": null,
   "metadata": {},
   "outputs": [],
   "source": [
    "fnS1 = n[n.argmax()]/np.sum(n)\n",
    "print(f'fraction of S1s = {fnS1}')"
   ]
  },
  {
   "cell_type": "markdown",
   "metadata": {},
   "source": [
    "#### Fraction of events with 1 S1 is 0.5, due to grass and high energy events. For Krypton select events with 1 S1"
   ]
  },
  {
   "cell_type": "markdown",
   "metadata": {},
   "source": [
    "### Select events with 1 S1"
   ]
  },
  {
   "cell_type": "code",
   "execution_count": null,
   "metadata": {},
   "outputs": [],
   "source": [
    "dst1s1 = dst_full[dst_full.nS1==1]"
   ]
  },
  {
   "cell_type": "code",
   "execution_count": null,
   "metadata": {},
   "outputs": [],
   "source": [
    "n, b, _, _ = h1d(dst1s1.nS2.values, bins = 10, range = (0,10),\n",
    "           pltLabels=PlotLabels(x='nS2', y='Entries', title='nS2'))"
   ]
  },
  {
   "cell_type": "markdown",
   "metadata": {},
   "source": [
    "#### For Krypton select events with only 1 S2"
   ]
  },
  {
   "cell_type": "code",
   "execution_count": null,
   "metadata": {},
   "outputs": [],
   "source": [
    "fnS2 = n[n.argmax()]/np.sum(n)\n",
    "print(f'fraction of S2s = {fnS2}')"
   ]
  },
  {
   "cell_type": "markdown",
   "metadata": {},
   "source": [
    "### Select events with 1 S2"
   ]
  },
  {
   "cell_type": "code",
   "execution_count": null,
   "metadata": {},
   "outputs": [],
   "source": [
    "dst    = dst1s1[dst1s1.nS2==1]"
   ]
  },
  {
   "cell_type": "code",
   "execution_count": null,
   "metadata": {},
   "outputs": [],
   "source": [
    "n_full   = len(dst)\n",
    "eff = n_full   / ntot \n",
    "print(f\"Total number of events with 1 s1 and 1 s2 : {n_full}: selection eff = {eff} \")"
   ]
  },
  {
   "cell_type": "markdown",
   "metadata": {},
   "source": [
    "### S1 and S2 distributions"
   ]
  },
  {
   "cell_type": "code",
   "execution_count": null,
   "metadata": {},
   "outputs": [],
   "source": [
    "s1d = s1d_from_dst(dst)"
   ]
  },
  {
   "cell_type": "code",
   "execution_count": null,
   "metadata": {},
   "outputs": [],
   "source": []
  },
  {
   "cell_type": "code",
   "execution_count": null,
   "metadata": {},
   "outputs": [],
   "source": [
    "plot_s1histos(dst,  s1d, bins=20, figsize=(10,10))"
   ]
  },
  {
   "cell_type": "markdown",
   "metadata": {},
   "source": [
    "### Fiducial selection in S1"
   ]
  },
  {
   "cell_type": "markdown",
   "metadata": {},
   "source": [
    "#### 2 < S1e < 25 pes, which cuts off very low and high energy events"
   ]
  },
  {
   "cell_type": "code",
   "execution_count": null,
   "metadata": {},
   "outputs": [],
   "source": [
    "s1e_range =(3, 25)"
   ]
  },
  {
   "cell_type": "code",
   "execution_count": null,
   "metadata": {},
   "outputs": [],
   "source": [
    "dst_s1e    = dst[in_range(dst.S1e, *s1e_range)] "
   ]
  },
  {
   "cell_type": "code",
   "execution_count": null,
   "metadata": {},
   "outputs": [],
   "source": [
    "s1d = s1d_from_dst(dst_s1e, range_s1e = s1e_range)\n",
    "plot_s1histos(dst_s1e,  s1d, bins=20, figsize=(10,10))"
   ]
  },
  {
   "cell_type": "code",
   "execution_count": null,
   "metadata": {},
   "outputs": [],
   "source": [
    "dst = dst_s1e\n",
    "s2d = s2d_from_dst(dst)\n",
    "plot_s2histos(dst, s2d, bins=20, emin=1000, emax=15000, figsize=(10,10))"
   ]
  },
  {
   "cell_type": "markdown",
   "metadata": {},
   "source": [
    "### Fiducial selection in S2"
   ]
  },
  {
   "cell_type": "code",
   "execution_count": null,
   "metadata": {},
   "outputs": [],
   "source": [
    "Nsipm_min = 15 \n",
    "s2e_range =(3000, 13000)\n",
    "s2w_range =(5, 15)\n",
    "s2q_range =(200, 800)"
   ]
  },
  {
   "cell_type": "code",
   "execution_count": null,
   "metadata": {},
   "outputs": [],
   "source": [
    "dst_sipm    = dst[dst.Nsipm >Nsipm_min] \n",
    "dst_s2e    = dst_sipm[in_range(dst_sipm.S2e, *s2e_range)] \n",
    "dst_s2w    = dst_s2e[in_range(dst_s2e.S2w, *s2w_range)]\n",
    "dst_s2q    = dst_s2w[in_range(dst_s2w.S2q, *s2q_range)]\n",
    "dst = dst_s2q"
   ]
  },
  {
   "cell_type": "code",
   "execution_count": null,
   "metadata": {},
   "outputs": [],
   "source": [
    "dst.columns"
   ]
  },
  {
   "cell_type": "code",
   "execution_count": null,
   "metadata": {},
   "outputs": [],
   "source": [
    "s2d = s2d_from_dst(dst_s2e)\n",
    "plot_s2histos(dst, s2d, bins=20, emin=1000, emax=15000, figsize=(10,10))"
   ]
  },
  {
   "cell_type": "markdown",
   "metadata": {},
   "source": [
    "### Time differences in seconds"
   ]
  },
  {
   "cell_type": "code",
   "execution_count": null,
   "metadata": {},
   "outputs": [],
   "source": [
    "dst_time = dst.sort_values('event')\n",
    "T       = dst_time.time.values\n",
    "DT      = time_delta_from_time(T)"
   ]
  },
  {
   "cell_type": "markdown",
   "metadata": {},
   "source": [
    "### Define ranges and bins"
   ]
  },
  {
   "cell_type": "code",
   "execution_count": null,
   "metadata": {},
   "outputs": [],
   "source": [
    "krTimes, krRanges, krNbins, krBins = kr_ranges_and_bins(dst,\n",
    "                                                        xxrange   = (-220,  220),\n",
    "                                                        yrange    = (-220,  220),\n",
    "                                                        zrange    = (10,  550),\n",
    "                                                        s2erange  = s2e_range,\n",
    "                                                        s1erange  = s1e_range,\n",
    "                                                        s2qrange  = s2q_range,\n",
    "                                                        xnbins    = num_xy_bins,\n",
    "                                                        ynbins    = num_xy_bins,\n",
    "                                                        znbins    = 50,\n",
    "                                                        s2enbins  = 50,\n",
    "                                                        s1enbins  = 50,\n",
    "                                                        s2qnbins  = 50,\n",
    "                                                        tpsamples = 3600) # tsamples in seconds"
   ]
  },
  {
   "cell_type": "markdown",
   "metadata": {},
   "source": [
    "### Time\n",
    "- Extension in hours of data sample considered"
   ]
  },
  {
   "cell_type": "code",
   "execution_count": null,
   "metadata": {},
   "outputs": [],
   "source": [
    "plt.plot(krTimes.timeStamps)"
   ]
  },
  {
   "cell_type": "code",
   "execution_count": null,
   "metadata": {},
   "outputs": [],
   "source": []
  },
  {
   "cell_type": "code",
   "execution_count": null,
   "metadata": {},
   "outputs": [],
   "source": [
    "kge = kr_event(dst, DT, dst.S2e, dst.S2q)"
   ]
  },
  {
   "cell_type": "code",
   "execution_count": null,
   "metadata": {},
   "outputs": [],
   "source": [
    "fig = plt.figure(figsize=(10,6))\n",
    "ax      = fig.add_subplot(1, 1, 1)\n",
    "(_)    = h1(kge.DT, bins=500, range = (kge.DT[0], kge.DT[-1]), color='red', stats=False, lbl='pre-sel')"
   ]
  },
  {
   "cell_type": "markdown",
   "metadata": {},
   "source": [
    "### Control distributions"
   ]
  },
  {
   "cell_type": "code",
   "execution_count": null,
   "metadata": {},
   "outputs": [],
   "source": [
    "nevt = h2d(dst.X, dst.Y, krNbins.X, krNbins.Y, krRanges.X, krRanges.Y, \n",
    "           pltLabels=PlotLabels(x='X (mm)', y='Y (mm)', title='X vs Y'),\n",
    "           profile=False,\n",
    "           figsize=(10,8))"
   ]
  },
  {
   "cell_type": "code",
   "execution_count": null,
   "metadata": {},
   "outputs": [],
   "source": [
    "nevt = h2d(dst.Z, dst.S1e, krNbins.Z, krNbins.S1e, krRanges.Z, (0,20), \n",
    "           pltLabels=PlotLabels(x='Z (mm)', y='S1e (pes)', title='S1 vs Z'),\n",
    "           profile=False,\n",
    "           figsize=(10,8))"
   ]
  },
  {
   "cell_type": "markdown",
   "metadata": {},
   "source": [
    "#### S1 vs Z distribution:\n",
    "\n",
    "- Concentrated at low Z: This is due to the fact that gas flow is higher near the anode, and thus there is more krypton near the anode than near the cathode. \n",
    "- Increases as a function of Z. The closer to the cathode the larger S1\n",
    "- Spread is large: This is due to large variation of solid angle, depending on (X,Y)"
   ]
  },
  {
   "cell_type": "code",
   "execution_count": null,
   "metadata": {},
   "outputs": [],
   "source": [
    "nevt = h2d(dst.Z, dst.S2e, krNbins.Z, krNbins.S1e, krRanges.Z, krRanges.S2e, \n",
    "           pltLabels=PlotLabels(x='Z (mm)', y='S2e (pes)', title='S2 vs Z'),\n",
    "           profile=True,\n",
    "           figsize=(10,8))"
   ]
  },
  {
   "cell_type": "markdown",
   "metadata": {},
   "source": [
    "#### S2 vs Z distribution:\n",
    "\n",
    "- Concentrated at low Z: This is due to the fact that gas flow is higher near the anode, and thus there is more krypton near the anode than near the cathode. \n",
    "- Decreases as a function of Z, due to lifetime\n",
    "- Spread is large: This is due to large variation of solid angle, depending on (X,Y)"
   ]
  },
  {
   "cell_type": "code",
   "execution_count": null,
   "metadata": {},
   "outputs": [],
   "source": [
    "nevt = h2d(dst.S1e, dst.S2e, krNbins.S1e, krNbins.S2e, krRanges.S1e, krRanges.S2e, \n",
    "           pltLabels=PlotLabels(x='S1e (pes)', y='S2e (pes)', title='S2 vs S1'),\n",
    "           profile=False,\n",
    "           figsize=(10,8))"
   ]
  },
  {
   "cell_type": "markdown",
   "metadata": {},
   "source": [
    "#### S2 vs S1 distribution:\n",
    "\n",
    "- Small anti-correlation (more S2 less S1). "
   ]
  },
  {
   "cell_type": "code",
   "execution_count": null,
   "metadata": {},
   "outputs": [],
   "source": [
    "nevt = h2d(dst.S2e, dst.S2q, krNbins.S2e, krNbins.S2q, krRanges.S2e, krRanges.S2q, \n",
    "           pltLabels=PlotLabels(x='S2e (pes)', y='S2q (pes)', title='S2e vs S2q'),\n",
    "           profile=False,\n",
    "           figsize=(10,8))"
   ]
  },
  {
   "cell_type": "markdown",
   "metadata": {},
   "source": [
    "#### S2 vs Q distribution:\n",
    "\n",
    "- Clear correlation between S2 and Q "
   ]
  },
  {
   "cell_type": "markdown",
   "metadata": {},
   "source": [
    "### Select central region in R "
   ]
  },
  {
   "cell_type": "markdown",
   "metadata": {},
   "source": [
    "#### The effect is to reduce the dependence of geometrical corrections"
   ]
  },
  {
   "cell_type": "code",
   "execution_count": null,
   "metadata": {},
   "outputs": [],
   "source": [
    "dst_R     = dst[dst.R < 100]"
   ]
  },
  {
   "cell_type": "code",
   "execution_count": null,
   "metadata": {},
   "outputs": [],
   "source": [
    "plot_energy_distributions(dst_R, krBins.Z, krBins.S1e, krBins.S2e, krBins.S2q, figsize=(14,12))"
   ]
  },
  {
   "cell_type": "markdown",
   "metadata": {},
   "source": [
    "### Select central region in Z\n",
    "\n",
    "- The effect is to reduce the dependence of lifetime"
   ]
  },
  {
   "cell_type": "code",
   "execution_count": null,
   "metadata": {},
   "outputs": [],
   "source": [
    "dst_core     = dst_R[dst_R.Z < 200]"
   ]
  },
  {
   "cell_type": "markdown",
   "metadata": {},
   "source": [
    "### Energy in core"
   ]
  },
  {
   "cell_type": "code",
   "execution_count": null,
   "metadata": {},
   "outputs": [],
   "source": [
    "(_) = h1d(dst_core.S2e, bins = 50, range =(3000,14000), legendloc='upper left')"
   ]
  },
  {
   "cell_type": "markdown",
   "metadata": {},
   "source": [
    "### Apply bootstrap corrections.\n",
    "\n",
    "- One can correct S2e and S2q by geometrical corrections using an existing map (a bootstrap map). This has the effect to reduce the geometrical dependence on both distributions, permitting an additional filtering"
   ]
  },
  {
   "cell_type": "code",
   "execution_count": null,
   "metadata": {},
   "outputs": [],
   "source": [
    "kre = kr_event(dst)"
   ]
  },
  {
   "cell_type": "code",
   "execution_count": null,
   "metadata": {},
   "outputs": [],
   "source": [
    "bootstrap_correction_filename = os.path.expandvars(bootstrap_correction_filename)\n",
    "calibrate = corrections.Calibration(bootstrap_correction_filename)\n",
    "E, Q = calibrate(kre.X, kre.Y, None, kre.T, kre.S2e, kre.S2q)"
   ]
  },
  {
   "cell_type": "code",
   "execution_count": null,
   "metadata": {},
   "outputs": [],
   "source": [
    "kge = kr_event(dst, DT, E, Q)"
   ]
  },
  {
   "cell_type": "code",
   "execution_count": null,
   "metadata": {},
   "outputs": [],
   "source": [
    "(_) = h1d(kge.E, bins = 50, range =(3000,12000))"
   ]
  },
  {
   "cell_type": "markdown",
   "metadata": {},
   "source": [
    "#### Plot of E and Q corrected vs Z shows much less spread (XY corrections applied only remaining LT corrections)"
   ]
  },
  {
   "cell_type": "code",
   "execution_count": null,
   "metadata": {},
   "outputs": [],
   "source": [
    "nevt = h2d(dst.Z, E, krNbins.Z, krNbins.S2e, krRanges.Z, krRanges.S2e, \n",
    "           pltLabels=PlotLabels(x='Z', y='E corrected', title='E corrected vs Z'),\n",
    "           profile=True,\n",
    "           figsize=(10,6))"
   ]
  },
  {
   "cell_type": "code",
   "execution_count": null,
   "metadata": {},
   "outputs": [],
   "source": [
    "nevt = h2d(dst.Z, Q, krNbins.Z, krNbins.S2q, krRanges.Z, krRanges.S2q, \n",
    "           pltLabels=PlotLabels(x='Z', y='Q corrected', title='Q corrected vs Z'),\n",
    "           profile=True,\n",
    "           figsize=(10,6))"
   ]
  },
  {
   "cell_type": "markdown",
   "metadata": {},
   "source": [
    "### Filter"
   ]
  },
  {
   "cell_type": "code",
   "execution_count": null,
   "metadata": {},
   "outputs": [],
   "source": [
    "range_krs2 = (7e+3,12e+3)"
   ]
  },
  {
   "cell_type": "code",
   "execution_count": null,
   "metadata": {},
   "outputs": [],
   "source": [
    "num_bins = 50\n",
    "num_in_band = 0\n",
    "while num_in_band == 0 and num_bins >= 5:\n",
    "    sel_krband, fpl, fph, hp, pp = selection_in_band(kre.Z, E,\n",
    "                                                     range_z = krRanges.Z,\n",
    "                                                     range_e = range_krs2,\n",
    "                                                     nbins_z = num_bins,\n",
    "                                                     nbins_e = num_bins,\n",
    "                                                     nsigma  = 3.5)\n",
    "    readout = selection_info(sel_krband, 'Kr band')\n",
    "    readout = readout[readout.find(': ')+2:]\n",
    "    readout = readout[:readout.find(' ')]\n",
    "    num_in_band = int(readout)\n",
    "    num_bins -= 1\n",
    "print('Final number of bins =', num_bins)"
   ]
  },
  {
   "cell_type": "code",
   "execution_count": null,
   "metadata": {},
   "outputs": [],
   "source": [
    "plot_selection_in_band(fpl, fph, hp, pp)"
   ]
  },
  {
   "cell_type": "code",
   "execution_count": null,
   "metadata": {},
   "outputs": [],
   "source": [
    "selection_info(sel_krband, 'Kr band')"
   ]
  },
  {
   "cell_type": "code",
   "execution_count": null,
   "metadata": {},
   "outputs": [],
   "source": [
    "kges = kr_event(dst, DT, E, Q, sel_mask=sel_krband)"
   ]
  },
  {
   "cell_type": "markdown",
   "metadata": {},
   "source": [
    "### Energy before and after filter"
   ]
  },
  {
   "cell_type": "code",
   "execution_count": null,
   "metadata": {},
   "outputs": [],
   "source": [
    "fig = plt.figure(figsize=(12,6))\n",
    "ax      = fig.add_subplot(1, 2, 1)\n",
    "(_)     = h1(kge.E,  bins = 50, range =(3000,12000))\n",
    "plot_histo(PlotLabels('E (pes)','Entries','Pre-filter'), ax, legendloc='upper left')\n",
    "ax      = fig.add_subplot(1, 2, 2)\n",
    "(_)     = h1(kges.E,  bins = 50, range =(3000,12000))\n",
    "plot_histo(PlotLabels('E (pes)','Entries','Post-filter'), ax, legendloc='upper left')\n",
    "plt.tight_layout()"
   ]
  },
  {
   "cell_type": "code",
   "execution_count": null,
   "metadata": {},
   "outputs": [],
   "source": [
    "nevt = h2d(kges.Z, kges.E, krNbins.Z, krNbins.S2e, krRanges.Z, krRanges.S2e, \n",
    "           pltLabels=PlotLabels(x='Z', y='E corrected', title='E corrected vs Z post filter'),\n",
    "           profile=True,\n",
    "           figsize=(10,6))"
   ]
  },
  {
   "cell_type": "code",
   "execution_count": null,
   "metadata": {},
   "outputs": [],
   "source": [
    "nevt = h2d(kges.Z, kges.Q, krNbins.Z, krNbins.S2q, krRanges.Z, krRanges.S2q, \n",
    "           pltLabels=PlotLabels(x='Z', y='Q corrected', title='Q corrected vs Z post-filter'),\n",
    "           profile=True,\n",
    "           figsize=(10,6))"
   ]
  },
  {
   "cell_type": "markdown",
   "metadata": {},
   "source": [
    "#### Notice how the filter cleans up the energy distributions. "
   ]
  },
  {
   "cell_type": "markdown",
   "metadata": {},
   "source": [
    "### Time evolution"
   ]
  },
  {
   "cell_type": "code",
   "execution_count": null,
   "metadata": {},
   "outputs": [],
   "source": [
    "fig = plt.figure(figsize=(10,6))\n",
    "ax      = fig.add_subplot(1, 1, 1)\n",
    "(_)    = h1(kge.T, bins=500, range = (kge.T.min(), kge.T.max()), color='red', stats=False, lbl='pre-sel')\n",
    "plot_histo(PlotLabels('Time','Entries',''), ax)\n",
    "(_)    = h1(kges.T, bins=500, range = (kges.T.min(), kges.T.max()), color='blue',stats=False, lbl='post-sel')\n",
    "plot_histo(PlotLabels('Time','Entries',''), ax)"
   ]
  },
  {
   "cell_type": "markdown",
   "metadata": {},
   "source": [
    "#### event density is constant, indicating a stable run"
   ]
  },
  {
   "cell_type": "markdown",
   "metadata": {},
   "source": [
    "### S1 and Corrected E and Q as a function of T"
   ]
  },
  {
   "cell_type": "code",
   "execution_count": null,
   "metadata": {},
   "outputs": [],
   "source": [
    "nevt = h2d(kges.T, kges.S1e, krNbins.T, krNbins.S1e, krRanges.T, krRanges.S1e, \n",
    "           pltLabels=PlotLabels(x='T', y='S1 corrected', title='S1 vs T post-filter'),\n",
    "           profile=True,\n",
    "           figsize=(10,6))"
   ]
  },
  {
   "cell_type": "code",
   "execution_count": null,
   "metadata": {},
   "outputs": [],
   "source": [
    "nevt = h2d(kges.T, kges.E, krNbins.T, krNbins.S2e, krRanges.T, krRanges.S2e, \n",
    "           pltLabels=PlotLabels(x='T', y='E corrected', title='E corrected vs T post-filter'),\n",
    "           profile=True,\n",
    "           figsize=(10,6))"
   ]
  },
  {
   "cell_type": "code",
   "execution_count": null,
   "metadata": {},
   "outputs": [],
   "source": [
    "nevt = h2d(kges.T, kges.Q, krNbins.T, krNbins.S2q, krRanges.T, krRanges.S2q, \n",
    "           pltLabels=PlotLabels(x='T', y='Q corrected', title='Q corrected vs T post-filter'),\n",
    "           profile=True,\n",
    "           figsize=(10,6))"
   ]
  },
  {
   "cell_type": "markdown",
   "metadata": {},
   "source": [
    "### All amplitudes are constant as a function of time in an stable run"
   ]
  },
  {
   "cell_type": "markdown",
   "metadata": {},
   "source": [
    "### Select dst "
   ]
  },
  {
   "cell_type": "code",
   "execution_count": null,
   "metadata": {},
   "outputs": [],
   "source": [
    "dsts = dst[sel_krband]"
   ]
  },
  {
   "cell_type": "markdown",
   "metadata": {},
   "source": [
    "### X vs Y again"
   ]
  },
  {
   "cell_type": "code",
   "execution_count": null,
   "metadata": {},
   "outputs": [],
   "source": [
    "nevt = h2d(dsts.X, dsts.Y, krNbins.X, krNbins.Y, krRanges.X, krRanges.Y, \n",
    "           pltLabels=PlotLabels(x='X (mm)', y='Y (mm)', title='X vs Y post-filter'),\n",
    "           profile=False,\n",
    "           figsize=(10,8))"
   ]
  },
  {
   "cell_type": "markdown",
   "metadata": {},
   "source": [
    "### Spatial distributions "
   ]
  },
  {
   "cell_type": "markdown",
   "metadata": {},
   "source": [
    "#### In R and Z"
   ]
  },
  {
   "cell_type": "code",
   "execution_count": null,
   "metadata": {},
   "outputs": [],
   "source": [
    "fig = plt.figure(figsize=(14,6))\n",
    "ax      = fig.add_subplot(1, 2, 1)\n",
    "(_)    = h1(kge.R, bins=50, range = (0,200), color='red', stats=False, lbl='pre-sel')\n",
    "plot_histo(PlotLabels('R','Entries',''), ax)\n",
    "(_)   = h1(kges.R, bins=50, range = (0,200), color='blue',stats=False, lbl='post-sel')\n",
    "plot_histo(PlotLabels('R','Entries',''), ax)\n",
    "ax      = fig.add_subplot(1, 2, 2)\n",
    "(_)    = h1(kge.Z, bins=50, range = (0,550), color='red', stats=False, lbl='pre-sel')\n",
    "plot_histo(PlotLabels('Z','Entries',''), ax)\n",
    "(_)    = h1(kges.Z, bins=50, range = (0,550), color='blue',stats=False, lbl='post-sel')\n",
    "plot_histo(PlotLabels('Z','Entries',''), ax)\n",
    "plt.tight_layout()"
   ]
  },
  {
   "cell_type": "markdown",
   "metadata": {},
   "source": [
    "#### In X Y"
   ]
  },
  {
   "cell_type": "code",
   "execution_count": null,
   "metadata": {},
   "outputs": [],
   "source": [
    "fig = plt.figure(figsize=(14,6))\n",
    "ax      = fig.add_subplot(1, 2, 1)\n",
    "(_)    = h1(kge.X, bins=50, range = (-200,200), color='red', stats=False, lbl='pre-sel')\n",
    "plot_histo(PlotLabels('X','Entries',''), ax)\n",
    "(_)    = h1(kges.X, bins=50, range = (-200,200), color='blue',stats=False, lbl='post-sel')\n",
    "plot_histo(PlotLabels('X','Entries',''), ax)\n",
    "ax      = fig.add_subplot(1, 2, 2)\n",
    "(_)    = h1(kge.Y, bins=50, range = (-200,200), color='red', stats=False, lbl='pre-sel')\n",
    "plot_histo(PlotLabels('X','Entries',''), ax)\n",
    "(_)    = h1(kges.Y, bins=50, range = (-200,200), color='blue',stats=False, lbl='post-sel')\n",
    "plot_histo(PlotLabels('Y','Entries',''), ax)\n",
    "plt.tight_layout()"
   ]
  },
  {
   "cell_type": "markdown",
   "metadata": {},
   "source": [
    "### Charge and SiPM distributions"
   ]
  },
  {
   "cell_type": "code",
   "execution_count": null,
   "metadata": {},
   "outputs": [],
   "source": [
    "fig = plt.figure(figsize=(14,6))\n",
    "ax      = fig.add_subplot(1, 2, 1)\n",
    "(_)    = h1(kge.Q, bins=50, range = (0,800), color='red', stats=False, lbl='pre-sel')\n",
    "plot_histo(PlotLabels('Qg','Entries',''), ax)\n",
    "(_)    = h1(kges.Q, bins=50, range = (0,800), color='blue',stats=False, lbl='post-sel')\n",
    "plot_histo(PlotLabels('Qg','Entries',''), ax)\n",
    "ax      = fig.add_subplot(1, 2, 2)\n",
    "(_)    = h1(dst.Nsipm, bins=50, range = (0,50), color='red', stats=False, lbl='pre-sel')\n",
    "plot_histo(PlotLabels('Nsipm','Entries',''), ax)\n",
    "(_)    = h1(dsts.Nsipm, bins=50, range = (0,50), color='blue',stats=False, lbl='post-sel')\n",
    "plot_histo(PlotLabels('Nsipm','Entries',''), ax)\n",
    "plt.tight_layout()"
   ]
  },
  {
   "cell_type": "markdown",
   "metadata": {},
   "source": [
    "### Write DST (merged and fiducial)"
   ]
  },
  {
   "cell_type": "code",
   "execution_count": null,
   "metadata": {},
   "outputs": [],
   "source": [
    "dst.columns"
   ]
  },
  {
   "cell_type": "code",
   "execution_count": null,
   "metadata": {},
   "outputs": [],
   "source": [
    "#del dst['index']\n",
    "print('Time after loading to before writing =', round(time.time() - last_time))\n",
    "last_time = time.time()"
   ]
  },
  {
   "cell_type": "code",
   "execution_count": null,
   "metadata": {},
   "outputs": [],
   "source": []
  },
  {
   "cell_type": "code",
   "execution_count": 80,
   "metadata": {},
   "outputs": [
    {
     "name": "stdout",
     "output_type": "stream",
     "text": [
      "writing filtered dst  /Volumes/NEXT_data/IC_Data//mc_data_compare/dst/dst_7851_trigger1_0000_4260.h5\n",
      "Time to write = 124\n",
      "Full notebook time = 376\n"
     ]
    }
   ],
   "source": [
    "print('Time to write =', round(time.time() - last_time))\n",
    "print('Full notebook time =', round(time.time() - t0))"
   ]
  },
  {
   "cell_type": "markdown",
   "metadata": {},
   "source": [
    "## Begin SiPM strength comparison"
   ]
  },
  {
   "cell_type": "code",
   "execution_count": 379,
   "metadata": {},
   "outputs": [
    {
     "name": "stdout",
     "output_type": "stream",
     "text": [
      "Number of central events = 20938\n"
     ]
    }
   ],
   "source": [
    "dst_center     = dsts[dsts.R < 30]\n",
    "print('Number of central events =', len(dst_center))"
   ]
  },
  {
   "cell_type": "code",
   "execution_count": 380,
   "metadata": {},
   "outputs": [
    {
     "data": {
      "image/png": "[encoded data removed]",
      "text/plain": [
       "<Figure size 720x576 with 2 Axes>"
      ]
     },
     "metadata": {},
     "output_type": "display_data"
    }
   ],
   "source": [
    "nevt = h2d(dst_center.X, dst_center.Y, krNbins.X, krNbins.Y, krRanges.X, krRanges.Y, \n",
    "           pltLabels=PlotLabels(x='X (mm)', y='Y (mm)', title='X vs Y post-filter'),\n",
    "           profile=False,\n",
    "           figsize=(10,8))"
   ]
  },
  {
   "cell_type": "code",
   "execution_count": 381,
   "metadata": {},
   "outputs": [],
   "source": [
    "def pmaps_in_dst(my_pmaps, my_dst):\n",
    "    allowed_events = list(my_dst.event.keys())\n",
    "    allowed_pmaps = {}\n",
    "    for k in my_pmaps.keys():\n",
    "        if k in allowed_events:\n",
    "            allowed_pmaps[k] = my_pmaps[k]\n",
    "    return allowed_pmaps"
   ]
  },
  {
   "cell_type": "code",
   "execution_count": 382,
   "metadata": {},
   "outputs": [],
   "source": [
    "from invisible_cities.io.pmaps_io import load_pmaps"
   ]
  },
  {
   "cell_type": "code",
   "execution_count": 383,
   "metadata": {},
   "outputs": [
    {
     "name": "stdout",
     "output_type": "stream",
     "text": [
      "Time to load 20 pmaps = 77.1316978931427\n"
     ]
    }
   ],
   "source": [
    "def four_digit(i):\n",
    "    j = str(i)\n",
    "    while len(j) < 4:\n",
    "        j = '0'+j\n",
    "    return j\n",
    "\n",
    "# num_files_pmaps = num_files\n",
    "# It will take around 4 hours if you want to read all of them in!!\n",
    "num_files_pmaps = 20\n",
    "\n",
    "all_pmaps = ['/Volumes/NEXT_data/IC_Data/pmaps/'+str(run_number)+'/pmaps_'+four_digit(i)+'_7851_trigger1_v1.2.0_20191122_krbg1600.h5' for i in range(0, num_files_pmaps)]\n",
    "\n",
    "t0 = time.time()\n",
    "my_pmaps = [load_pmaps(pmap_file) for pmap_file in all_pmaps]\n",
    "print('Time to load', len(my_pmaps), 'pmaps =', time.time() - t0)"
   ]
  },
  {
   "cell_type": "code",
   "execution_count": 384,
   "metadata": {},
   "outputs": [],
   "source": [
    "all_pmaps = my_pmaps[0]\n",
    "for pmap in my_pmaps[1:]:\n",
    "    all_pmaps.update(pmap)"
   ]
  },
  {
   "cell_type": "code",
   "execution_count": 385,
   "metadata": {},
   "outputs": [],
   "source": [
    "pmaps_center = pmaps_in_dst(all_pmaps, dst_center)"
   ]
  },
  {
   "cell_type": "code",
   "execution_count": 386,
   "metadata": {},
   "outputs": [],
   "source": [
    "# my_pmaps[0][1].s2s[0].sipms\n",
    "# my_pmaps[0][1].s2s[0].sipms.all_waveforms\n",
    "# len(my_pmaps[0][1].s2s[0].sipms.sum_over_times)\n",
    "# my_pmaps[0][1].s2s[0].sipms.ids # not id, index in list"
   ]
  },
  {
   "cell_type": "code",
   "execution_count": 387,
   "metadata": {},
   "outputs": [
    {
     "name": "stdout",
     "output_type": "stream",
     "text": [
      "Min num SiPMs = 12\n",
      "Number of events = 100\n"
     ]
    }
   ],
   "source": [
    "# Figure out the minimum number of SiPMs (length of SiPM intensity vector)\n",
    "\n",
    "num_sipms_min = -1\n",
    "num_events = len(pmaps_center)\n",
    "for k in pmaps_center.keys():\n",
    "    if num_sipms_min == -1 or len(pmaps_center[k].s2s[0].sipms.sum_over_times) < num_sipms_min:\n",
    "        num_sipms_min = len(pmaps_center[k].s2s[0].sipms.sum_over_times)\n",
    "print('Min num SiPMs =', num_sipms_min)\n",
    "print('Number of events =', num_events)"
   ]
  },
  {
   "cell_type": "code",
   "execution_count": 388,
   "metadata": {},
   "outputs": [
    {
     "name": "stdout",
     "output_type": "stream",
     "text": [
      "[117.19256137847901, 82.92307216644285, 63.53943294525146, 52.094003963470456, 38.89391324996948, 33.40233896255493, 28.268043508529654, 23.184577226638794, 19.807765789031983, 16.81755414009095, 14.71400100231171, 12.9555415725708]\n"
     ]
    }
   ],
   "source": [
    "# Construct the average SiPM vector:\n",
    "# avg_sipms[0] is the average signal in the strongest SiPM\n",
    "# avg_sipms[1] is the average signal in the second strongest SiPM\n",
    "# ... and so on\n",
    "\n",
    "avg_sipms = list(np.zeros(num_sipms_min))\n",
    "for k in pmaps_center.keys():\n",
    "    sorted_energies = sorted(pmaps_center[k].s2s[0].sipms.sum_over_times, reverse = True)\n",
    "    for sipm in range(num_sipms_min):\n",
    "        avg_sipms[sipm] += sorted_energies[sipm] / num_events\n",
    "print(avg_sipms)"
   ]
  },
  {
   "cell_type": "code",
   "execution_count": 389,
   "metadata": {},
   "outputs": [],
   "source": [
    "# Construct the corresponding spread vector\n",
    "\n",
    "avg_spread = list(np.zeros(num_sipms_min))\n",
    "for k in pmaps_center.keys():\n",
    "    for sipm in range(num_sipms_min):\n",
    "        sorted_energies = sorted(pmaps_center[k].s2s[0].sipms.sum_over_times, reverse = True)\n",
    "        avg_spread[sipm] += (avg_sipms[sipm] - sorted_energies[sipm])**2 /num_events\n",
    "for sipm in range(num_sipms_min):\n",
    "    avg_spread[sipm] = avg_spread[sipm]**0.5"
   ]
  },
  {
   "cell_type": "code",
   "execution_count": 390,
   "metadata": {},
   "outputs": [],
   "source": [
    "sipm_nums = [x for x in range(num_sipms_min)]"
   ]
  },
  {
   "cell_type": "code",
   "execution_count": 391,
   "metadata": {},
   "outputs": [
    {
     "data": {
      "image/png": "[encoded data removed]",
      "text/plain": [
       "<Figure size 720x576 with 1 Axes>"
      ]
     },
     "metadata": {},
     "output_type": "display_data"
    }
   ],
   "source": [
    "plt.errorbar(sipm_nums, avg_sipms, yerr = avg_spread, fmt = 'o', capsize = 6)\n",
    "plt.xlabel('SiPM signal order (0 = strongest signal)')\n",
    "plt.ylabel('Average signal')\n",
    "plt.show()"
   ]
  },
  {
   "cell_type": "code",
   "execution_count": null,
   "metadata": {},
   "outputs": [],
   "source": []
  },
  {
   "cell_type": "markdown",
   "metadata": {},
   "source": [
    "## End of NB"
   ]
  },
  {
   "cell_type": "code",
   "execution_count": null,
   "metadata": {},
   "outputs": [],
   "source": []
  }
 ],
 "metadata": {
  "kernelspec": {
   "display_name": "Python 3",
   "language": "python",
   "name": "python3"
  },
  "language_info": {
   "codemirror_mode": {
    "name": "ipython",
    "version": 3
   },
   "file_extension": ".py",
   "mimetype": "text/x-python",
   "name": "python",
   "nbconvert_exporter": "python",
   "pygments_lexer": "ipython3",
   "version": "3.7.2"
  }
 },
 "nbformat": 4,
 "nbformat_minor": 2
}
