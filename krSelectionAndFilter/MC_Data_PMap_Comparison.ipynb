{
 "cells": [
  {
   "cell_type": "markdown",
   "metadata": {},
   "source": [
    "# Selection of krypton events in terms of S1 and S2"
   ]
  },
  {
   "cell_type": "markdown",
   "metadata": {},
   "source": [
    "## Authors: JMH, JAH, GML, JJGC"
   ]
  },
  {
   "cell_type": "markdown",
   "metadata": {},
   "source": [
    "### Software: KrCalib : https://github.com/nextic/KrCalib/"
   ]
  },
  {
   "cell_type": "code",
   "execution_count": 1,
   "metadata": {},
   "outputs": [
    {
     "name": "stdout",
     "output_type": "stream",
     "text": [
      "Last updated on  Tue Apr 28 15:13:53 2020\n"
     ]
    }
   ],
   "source": [
    "import time\n",
    "import numpy as np\n",
    "print(\"Last updated on \", time.asctime())\n",
    "MC = True\n",
    "new_MC = True\n",
    "new_MC_tag = ''\n",
    "num_files_mc = 50\n",
    "MC_offset = 0\n",
    "if MC and new_MC:\n",
    "    new_MC_tag = '_NEW'\n",
    "    num_files_mc = 500\n",
    "    MC_offset = 1\n",
    "run_number = 7851 # pmaps exist for 7849, 7850, 7851\n",
    "min_file = 0 # start offset from the 0th. \"Late\" starts from 1000.\n",
    "num_files_data = 20\n",
    "num_sipms_cap = 10"
   ]
  },
  {
   "cell_type": "code",
   "execution_count": 2,
   "metadata": {},
   "outputs": [],
   "source": [
    "t0 = time.time()\n",
    "last_time = t0"
   ]
  },
  {
   "cell_type": "code",
   "execution_count": 3,
   "metadata": {},
   "outputs": [],
   "source": [
    "%matplotlib inline\n",
    "%load_ext autoreload\n",
    "%autoreload 2\n",
    "import matplotlib.pyplot as plt\n",
    "plt.rcParams[\"figure.figsize\"] = 10, 8\n",
    "plt.rcParams[\"font.size\"     ] = 14"
   ]
  },
  {
   "cell_type": "markdown",
   "metadata": {},
   "source": [
    "## Begin SiPM strength comparison"
   ]
  },
  {
   "cell_type": "code",
   "execution_count": 4,
   "metadata": {},
   "outputs": [],
   "source": [
    "from invisible_cities.io.pmaps_io import load_pmaps"
   ]
  },
  {
   "cell_type": "code",
   "execution_count": 5,
   "metadata": {},
   "outputs": [
    {
     "name": "stdout",
     "output_type": "stream",
     "text": [
      "Time to load 20 pmaps = 108.27076411247253\n"
     ]
    }
   ],
   "source": [
    "def four_digit(i):\n",
    "    j = str(i)\n",
    "    while len(j) < 4:\n",
    "        j = '0'+j\n",
    "    return j\n",
    "\n",
    "# num_files_pmaps = num_files\n",
    "# It will take around 4 hours if you want to read all of them in!!\n",
    "\n",
    "# The normal MC location should be from now on '/Volumes/NEXT_data/IC_Data/simulation'\n",
    "\n",
    "if not MC:\n",
    "    num_files_pmaps = num_files_data # for data\n",
    "    all_pmaps = ['/Volumes/NEXT_data/IC_Data/pmaps/'+str(run_number)+'/pmaps_'+four_digit(min_file + i)+'_'+str(run_number)+'_trigger1_v1.2.0_20191122_krbg1600.h5' for i in range(0, num_files_pmaps)]\n",
    "else:\n",
    "    num_files_pmaps = num_files_mc # for MC\n",
    "    all_pmaps = ['/Volumes/NEXT_data/IC_Data/kdst/nexus_newKr_pmaps'+new_MC_tag+'/new.kr83m.pmaps.'+str(i)+'.h5' for i in range(MC_offset, num_files_pmaps + MC_offset)]\n",
    "\n",
    "t0 = time.time()\n",
    "my_pmaps = [load_pmaps(pmap_file) for pmap_file in all_pmaps]\n",
    "print('Time to load', len(my_pmaps), 'pmaps =', time.time() - t0)"
   ]
  },
  {
   "cell_type": "code",
   "execution_count": 6,
   "metadata": {},
   "outputs": [],
   "source": [
    "# Re index events properly\n",
    "def reindex(pmaps_list):    \n",
    "    event_total = 0\n",
    "    reindexed_pmaps = {}\n",
    "    for i in range(len(pmaps_list)):\n",
    "        keys = list(pmaps_list[i].keys())\n",
    "        for k in keys:\n",
    "            reindexed_pmaps[event_total] = pmaps_list[i][k]\n",
    "            event_total += 1\n",
    "    return reindexed_pmaps.copy()"
   ]
  },
  {
   "cell_type": "code",
   "execution_count": 7,
   "metadata": {},
   "outputs": [],
   "source": [
    "# Select for 1 S1 and 1 S2\n",
    "def s1s2selection(pmaps_list):\n",
    "    print('Num events before selection =', len(pmaps_list))\n",
    "    bad_keys = []\n",
    "\n",
    "    for k in pmaps_list.keys():\n",
    "        if not len(pmaps_list[k].s1s) == 1:\n",
    "            bad_keys.append(k)\n",
    "        elif not len(pmaps_list[k].s2s) == 1:\n",
    "            bad_keys.append(k)\n",
    "        elif len(pmaps_list[k].s2s[0].sipms.ids) == 0:\n",
    "            bad_keys.append(k)\n",
    "            print(k, 'HAS NO SIPM RESPONSE')\n",
    "        \n",
    "    for k in bad_keys:\n",
    "        del pmaps_list[k]\n",
    "\n",
    "    print('Num events after selection =', len(pmaps_list))"
   ]
  },
  {
   "cell_type": "code",
   "execution_count": null,
   "metadata": {},
   "outputs": [],
   "source": []
  },
  {
   "cell_type": "code",
   "execution_count": 8,
   "metadata": {},
   "outputs": [],
   "source": [
    "# Select for central region\n",
    "from invisible_cities.database import load_db\n",
    "sipm_info = load_db.DataSiPM('new', -6400)\n",
    "r_cut_mm = 100 # 10 cm radius cut\n",
    "\n",
    "def sipm_center_cut(pmaps_list, radius):\n",
    "\n",
    "    bad_keys = []\n",
    "\n",
    "    for k in pmaps_list.keys():\n",
    "        i = -1\n",
    "        for j in range(len(pmaps_list[k].s2s[0].sipms.sum_over_times)):\n",
    "            if i == -1:\n",
    "                i = j\n",
    "            elif pmaps_list[k].s2s[0].sipms.sum_over_times[j] > pmaps_list[k].s2s[0].sipms.sum_over_times[i]:\n",
    "                i = j\n",
    "        max_id = pmaps_list[k].s2s[0].sipms.ids[i]\n",
    "        max_loc = sipm_info.iloc[max_id][['X', 'Y']]\n",
    "        max_r = (max_loc['X']**2 + max_loc['Y']**2)**0.5\n",
    "\n",
    "        if max_r > r_cut_mm:\n",
    "            bad_keys.append(k)\n",
    "\n",
    "    for k in bad_keys:\n",
    "        del pmaps_list[k]\n",
    "\n",
    "    print('Num events after position selection =', len(pmaps_list))"
   ]
  },
  {
   "cell_type": "code",
   "execution_count": null,
   "metadata": {},
   "outputs": [],
   "source": []
  },
  {
   "cell_type": "code",
   "execution_count": 9,
   "metadata": {},
   "outputs": [
    {
     "name": "stdout",
     "output_type": "stream",
     "text": [
      "Num events before selection = 6201\n",
      "Num events after selection = 4722\n",
      "Num events after position selection = 1128\n"
     ]
    }
   ],
   "source": [
    "all_pmaps = reindex(my_pmaps)\n",
    "s1s2selection(all_pmaps)\n",
    "sipm_center_cut(all_pmaps, r_cut_mm)"
   ]
  },
  {
   "cell_type": "code",
   "execution_count": 10,
   "metadata": {},
   "outputs": [
    {
     "name": "stdout",
     "output_type": "stream",
     "text": [
      "Min num SiPMs = 12\n",
      "Max num SiPMs = 56\n",
      "Number of events = 1128\n"
     ]
    }
   ],
   "source": [
    "# Figure out the minimum number of SiPMs (length of SiPM intensity vector)\n",
    "\n",
    "num_sipms_min = -1\n",
    "\n",
    "num_events = len(all_pmaps)\n",
    "for k in all_pmaps.keys():\n",
    "    if num_sipms_min == -1 or len(all_pmaps[k].s2s[0].sipms.sum_over_times) < num_sipms_min:\n",
    "        num_sipms_min = len(all_pmaps[k].s2s[0].sipms.sum_over_times)\n",
    "\n",
    "num_sipms_max = -1\n",
    "\n",
    "num_events = len(all_pmaps)\n",
    "for k in all_pmaps.keys():\n",
    "    if num_sipms_max == -1 or len(all_pmaps[k].s2s[0].sipms.sum_over_times) > num_sipms_max:\n",
    "        num_sipms_max = len(all_pmaps[k].s2s[0].sipms.sum_over_times)\n",
    "\n",
    "# num_sipms_max = min(num_sipms_max, max_sipm_cap)\n",
    "        \n",
    "print('Min num SiPMs =', num_sipms_min)\n",
    "print('Max num SiPMs =', num_sipms_max)\n",
    "print('Number of events =', num_events)"
   ]
  },
  {
   "cell_type": "code",
   "execution_count": 11,
   "metadata": {},
   "outputs": [],
   "source": [
    "# Construct the average SiPM vector:\n",
    "# avg_sipms[0] is the average signal in the strongest SiPM\n",
    "# avg_sipms[1] is the average signal in the second strongest SiPM\n",
    "# ... and so on\n",
    "\n",
    "avg_sipms = list(np.zeros(num_sipms_max))\n",
    "for k in all_pmaps.keys():\n",
    "    sorted_energies = sorted(all_pmaps[k].s2s[0].sipms.sum_over_times, reverse = True)\n",
    "        \n",
    "    for sipm in range(len(sorted_energies)):\n",
    "        avg_sipms[sipm] += sorted_energies[sipm] / num_events"
   ]
  },
  {
   "cell_type": "code",
   "execution_count": 12,
   "metadata": {},
   "outputs": [],
   "source": [
    "# Construct the corresponding spread vector\n",
    "\n",
    "avg_spread = list(np.zeros(num_sipms_max))\n",
    "for k in all_pmaps.keys():\n",
    "\n",
    "    sipm = 0\n",
    "    sorted_energies = sorted(all_pmaps[k].s2s[0].sipms.sum_over_times, reverse = True)\n",
    "\n",
    "    while sipm < len(sorted_energies):\n",
    "        avg_spread[sipm] += (avg_sipms[sipm] - sorted_energies[sipm])**2 /num_events\n",
    "        sipm += 1\n",
    "\n",
    "    # Add 0s into standard deviation calculation for sipms that didn't register\n",
    "    while sipm < num_sipms_max:\n",
    "        avg_spread[sipm] += (avg_sipms[sipm])**2 /num_events\n",
    "        sipm += 1\n",
    "        \n",
    "for sipm in range(num_sipms_max):\n",
    "    avg_spread[sipm] = avg_spread[sipm]**0.5"
   ]
  },
  {
   "cell_type": "code",
   "execution_count": 13,
   "metadata": {},
   "outputs": [],
   "source": [
    "sipm_nums = [x for x in range(num_sipms_max)]"
   ]
  },
  {
   "cell_type": "code",
   "execution_count": 14,
   "metadata": {},
   "outputs": [
    {
     "data": {
      "image/png": "[encoded data removed]",
      "text/plain": [
       "<Figure size 432x288 with 1 Axes>"
      ]
     },
     "metadata": {
      "needs_background": "light"
     },
     "output_type": "display_data"
    }
   ],
   "source": [
    "plt.errorbar(sipm_nums, avg_sipms, yerr = avg_spread, fmt = 'o', capsize = 6)\n",
    "plt.xlabel('SiPM signal order (0 = strongest signal)')\n",
    "plt.ylabel('Average signal')\n",
    "if MC:\n",
    "    plt.title('MC')\n",
    "else:\n",
    "    plt.title('Data, run = '+str(run_number))\n",
    "plt.grid()\n",
    "plt.show()"
   ]
  },
  {
   "cell_type": "code",
   "execution_count": 15,
   "metadata": {},
   "outputs": [
    {
     "data": {
      "image/png": "[encoded data removed]",
      "text/plain": [
       "<Figure size 432x288 with 1 Axes>"
      ]
     },
     "metadata": {
      "needs_background": "light"
     },
     "output_type": "display_data"
    },
    {
     "name": "stdout",
     "output_type": "stream",
     "text": [
      "[108.07885381   0.2152964 ]\n"
     ]
    }
   ],
   "source": [
    "# Fit exponential decay to curve\n",
    "\n",
    "from scipy.optimize import curve_fit\n",
    "\n",
    "def exp(x, a, b):\n",
    "    return a * np.exp(-b * x)\n",
    "\n",
    "#def inv(x, a, b, c, d):\n",
    "#    return a / (d + np.power(abs(x - b), c))\n",
    "\n",
    "popt_exp, pcov_exp = curve_fit(exp, sipm_nums, avg_sipms)\n",
    "#popt_inv, pcov_inv = curve_fit(inv, sipm_nums, avg_sipms)\n",
    "\n",
    "sipm_nums = np.array(sipm_nums)\n",
    "\n",
    "plt.errorbar(sipm_nums, avg_sipms, yerr = avg_spread, fmt = 'o', capsize = 6)\n",
    "plt.xlabel('SiPM signal order (0 = strongest signal)')\n",
    "plt.ylabel('Average signal')\n",
    "plt.plot(sipm_nums, exp(sipm_nums, *popt_exp), 'r-')\n",
    "#plt.plot(sipm_nums, inv(sipm_nums, *popt_inv), 'g--')\n",
    "plt.grid()\n",
    "plt.show()\n",
    "\n",
    "print(popt_exp)"
   ]
  },
  {
   "cell_type": "code",
   "execution_count": 16,
   "metadata": {},
   "outputs": [
    {
     "name": "stdout",
     "output_type": "stream",
     "text": [
      "[115.96502914496334, 84.17183793859277, 64.5973366507401, 53.740937271862116, 41.15705492817768, 35.2774866219108, 29.64779301822609, 24.417468131011226, 20.68961080676274, 17.56013127379385, 15.159916164181732, 13.191580064753273, 11.445870589279966, 9.917905684904008, 8.59202603795003, 7.455492920486638, 6.388422667134743, 5.262038451560007, 4.102841882840959, 3.028607967052054, 2.071914827147276, 1.2282423474264483, 0.6230189132352247, 0.27421504850928663, 0.14362533379953804, 0.06271947782935824, 0.04367670649332358, 0.020888105774602147, 0.01539013149045038, 0.015264104444084436, 0.014377289207269113, 0.009743382744755306, 0.009294088850630091, 0.008641966691253878, 0.008477603290097934, 0.00842430828310919, 0.008141847366982318, 0.007948183844275508, 0.0065908854734813066, 0.006574769392081186, 0.005850139239155654, 0.005831924736077058, 0.005805630210443591, 0.005693559105514634, 0.005445058464158511, 0.00539806252675699, 0.005286434440748066, 0.005220020493717058, 0.005139723737189111, 0.004842939529013127, 0.004817752127951764, 0.0047297426994810715, 0.004712327152279252, 0.004640995187962309, 0.004599496827903369, 0.004447616161184108]\n"
     ]
    }
   ],
   "source": [
    "print(avg_sipms)"
   ]
  },
  {
   "cell_type": "code",
   "execution_count": 17,
   "metadata": {},
   "outputs": [],
   "source": [
    "# NEW MC - 500 FILES. Decay constant: 0.2340\n",
    "known_MC_avg = [25.888075926903593, 19.691803696225225, 15.84332095835617, 13.161929432675402, 10.707414788736553, 9.014924326763598, 7.54078958102242, 5.997778806631423, 4.316927895913051, 2.6764674119961147, 1.3373158040877093, 0.527874423722369, 0.16138970709573408, 0.04460790403687253, 0.007576977485195017, 0.0010310374645109085]\n",
    "\n",
    "# OLD MC - 50 FILES. Decay constant: 0.2509\n",
    "# known_MC_avg = [32.446950582576356, 22.642414330014184, 17.94196169419032, 14.564067684158422, 11.821789368009465, 10.080813814584122, 8.26357790016037, 6.769360098639728, 4.963066026183294, 2.8737226480518148, 1.6115713280664516, 0.6865329211559256, 0.24598980423944372, 0.03331484235304724, 0.010266498353324875]\n",
    "\n",
    "# Decay constant: 0.2189\n",
    "known_Data_avg_7851_0to20 = [118.35718705340145, 85.60926762650648, 64.88816617267895, 53.83612638333949, 41.34883529849176, 35.37706507799105, 29.763288532350117, 24.458116282021116, 20.67501141897063, 17.405608642857278, 15.07093955947132, 13.177858004221111, 11.42506666927803, 9.888952463661743, 8.579869079589848, 7.443799052354766, 6.42225849198132, 5.287538613110057, 4.096561057858346, 3.0706209796812476, 2.09772243964963, 1.2847259963431, 0.6667159173546765, 0.32472266080902845, 0.20261161990282014, 0.09678425626056951, 0.05819402555140054, 0.022324702565262956, 0.021821929187309453, 0.011682822064655584, 0.010850825426055163, 0.010722473888862424, 0.010228031437571455, 0.009510378953887195, 0.009329499035346798, 0.009270848530094798, 0.008960003736542493, 0.008746879391553926, 0.007253189086914063, 0.007235453535870808, 0.006438006889529345, 0.006417962051019436, 0.006389025246224752, 0.006265692361971227, 0.0059922204366544395, 0.005940501980665254, 0.005817656633330555, 0.005744568894549114, 0.005656203293218845, 0.005329595891440787, 0.005301877463736185, 0.005205024160989901, 0.005185858563679021, 0.005107358606850228, 0.005061690167682927, 0.004894547346161633]\n",
    "\n",
    "# Decay constant: 0.2218\n",
    "known_Data_avg_7850_0to20 = [119.10549628117171, 85.84162255397364, 65.3237857514644, 54.29688875798675, 40.956309761184215, 34.89218999475122, 29.31595397280504, 24.052565700029476, 20.333593858190703, 17.267844539714535, 14.939490873975112, 13.01464187908934, 11.29700192797231, 9.863897202024416, 8.574326475777944, 7.4142616217829795, 6.30175952702405, 5.251153954471723, 4.16708090770767, 3.0478246625201133, 2.082158042615155, 1.2581304748694728, 0.678165270987735, 0.3272748140699836, 0.1409201873726104, 0.07432022322696519, 0.050967586942877896, 0.022707794766977013, 0.011259928167578708, 0.00955705243752772, 0.009171167692815166, 0.009166570298700218, 0.009136310136650663, 0.008803120647293638, 0.008549703544829472, 0.008520635475675423, 0.00792190658143792, 0.0075928124773549845, 0.007481080127427302, 0.007374557365934212, 0.007338170511314118, 0.0071419643690861555, 0.006576629273919945, 0.006531251854155643, 0.006412083409221999, 0.006394471780237449, 0.006299804406337054, 0.005856409015883487, 0.005763319858991768, 0.005494392250638559, 0.005232476143248053, 0.005133448843936996, 0.005043326621036606]\n",
    "\n",
    "# Decay constant: 0.2203\n",
    "known_Data_avg_7851_1000to1020 = [119.77477146017151, 85.50933711611003, 65.26900343683546, 54.60737305439168, 41.223931183838516, 35.30197904051227, 29.39821760713171, 24.32503930171723, 20.50496926331166, 17.47024637513559, 15.202621119362977, 13.313321891089359, 11.572141796732165, 10.106743976987627, 8.832109536325984, 7.654775360182603, 6.518681066259376, 5.369468209778738, 4.303027772668547, 3.1586712752656987, 2.2227596071553344, 1.4074498857770648, 0.798368910615667, 0.41115097506292936, 0.19909120334193034, 0.11263914296192488, 0.05791487200506802, 0.04032353697151973, 0.009951758737047317, 0.004935211031307728]\n",
    "\n",
    "# Decay constant: 0.2204\n",
    "known_Data_avg_7850_1000to1020 = [118.39726912085668, 85.64230392228319, 65.93262695732398, 54.4342532851803, 41.05310585427641, 34.98616068576709, 29.454869946437082, 24.123084783554052, 20.38641983582014, 17.222139723710157, 14.891911351858695, 13.014920754219148, 11.316485779054137, 9.892522428907567, 8.650424231344209, 7.423025670781061, 6.3472796300453975, 5.217888691532079, 4.119387003468042, 2.936694190573338, 1.8643489609013753, 1.1412801973855318, 0.5763962980526596, 0.2764683881802345, 0.15071199456257603, 0.0681006419124888, 0.03396953086354839, 0.019344159471454906, 0.004786615941061902]\n",
    "\n",
    "\n",
    "# min_data = min(len(known_Data_avg_7850_to20), len(known_Data_avg_7851_0to20))\n",
    "# sipm_nums_min_data =[x for x in range(min_data)]\n",
    "\n",
    "# plt.plot(sipm_nums_min_data, known_Data_avg_7850_0to20[:min_data], 'o')\n",
    "# plt.plot(sipm_nums_min_data, known_Data_avg_7851_0to20[:min_data], 'o')\n",
    "# plt.grid()\n",
    "# plt.show()"
   ]
  },
  {
   "cell_type": "code",
   "execution_count": 18,
   "metadata": {},
   "outputs": [],
   "source": [
    "def curve_compare(curve_1, curve_2, name):\n",
    "    curve_compare_1 = curve_1[:num_sipms_cap]\n",
    "    curve_compare_2 = curve_2[:num_sipms_cap]\n",
    "    ratio = [curve_compare_1[i] / curve_compare_2[i] for i in range(min(len(curve_compare_1), len(curve_compare_2)))]\n",
    "    sipm_nums_min = [x for x in range(len(ratio))]\n",
    "    plt.plot(sipm_nums_min, ratio, 'o')\n",
    "    plt.xlabel('SiPM signal order')\n",
    "    plt.ylabel('Signal ratio')\n",
    "    plt.title(name)\n",
    "    plt.grid()\n",
    "    plt.show()"
   ]
  },
  {
   "cell_type": "code",
   "execution_count": 19,
   "metadata": {},
   "outputs": [
    {
     "data": {
      "image/png": "[encoded data removed]",
      "text/plain": [
       "<Figure size 432x288 with 1 Axes>"
      ]
     },
     "metadata": {
      "needs_background": "light"
     },
     "output_type": "display_data"
    }
   ],
   "source": [
    "curve_compare(known_Data_avg_7851_0to20, known_Data_avg_7850_0to20, '7851 early / 7850 early')"
   ]
  },
  {
   "cell_type": "code",
   "execution_count": 20,
   "metadata": {},
   "outputs": [
    {
     "data": {
      "image/png": "[encoded data removed]",
      "text/plain": [
       "<Figure size 432x288 with 1 Axes>"
      ]
     },
     "metadata": {
      "needs_background": "light"
     },
     "output_type": "display_data"
    }
   ],
   "source": [
    "curve_compare(known_Data_avg_7851_1000to1020, known_Data_avg_7850_1000to1020, '7851 late / 7850 late')"
   ]
  },
  {
   "cell_type": "code",
   "execution_count": 21,
   "metadata": {},
   "outputs": [
    {
     "data": {
      "image/png": "[encoded data removed]",
      "text/plain": [
       "<Figure size 432x288 with 1 Axes>"
      ]
     },
     "metadata": {
      "needs_background": "light"
     },
     "output_type": "display_data"
    }
   ],
   "source": [
    "curve_compare(known_Data_avg_7850_0to20, known_Data_avg_7851_1000to1020, '7851 early /7851 late')"
   ]
  },
  {
   "cell_type": "code",
   "execution_count": 22,
   "metadata": {},
   "outputs": [
    {
     "data": {
      "image/png": "[encoded data removed]",
      "text/plain": [
       "<Figure size 432x288 with 1 Axes>"
      ]
     },
     "metadata": {
      "needs_background": "light"
     },
     "output_type": "display_data"
    }
   ],
   "source": [
    "curve_compare(known_Data_avg_7850_0to20, known_Data_avg_7850_1000to1020, '7850 early / 7850 late')"
   ]
  },
  {
   "cell_type": "code",
   "execution_count": 23,
   "metadata": {},
   "outputs": [
    {
     "data": {
      "image/png": "[encoded data removed]",
      "text/plain": [
       "<Figure size 432x288 with 1 Axes>"
      ]
     },
     "metadata": {
      "needs_background": "light"
     },
     "output_type": "display_data"
    }
   ],
   "source": [
    "curve_compare(known_Data_avg_7850_0to20, known_MC_avg, '7850 early / MC')"
   ]
  },
  {
   "cell_type": "code",
   "execution_count": 24,
   "metadata": {},
   "outputs": [
    {
     "data": {
      "image/png": "[encoded data removed]",
      "text/plain": [
       "<Figure size 432x288 with 1 Axes>"
      ]
     },
     "metadata": {
      "needs_background": "light"
     },
     "output_type": "display_data"
    }
   ],
   "source": [
    "curve_compare(known_Data_avg_7850_1000to1020, known_MC_avg, '7850 late / MC')"
   ]
  },
  {
   "cell_type": "code",
   "execution_count": 25,
   "metadata": {},
   "outputs": [
    {
     "data": {
      "image/png": "[encoded data removed]",
      "text/plain": [
       "<Figure size 432x288 with 1 Axes>"
      ]
     },
     "metadata": {
      "needs_background": "light"
     },
     "output_type": "display_data"
    }
   ],
   "source": [
    "curve_compare(known_Data_avg_7851_0to20, known_MC_avg, '7851 early / MC')"
   ]
  },
  {
   "cell_type": "code",
   "execution_count": 26,
   "metadata": {},
   "outputs": [
    {
     "data": {
      "image/png": "[encoded data removed]",
      "text/plain": [
       "<Figure size 432x288 with 1 Axes>"
      ]
     },
     "metadata": {
      "needs_background": "light"
     },
     "output_type": "display_data"
    }
   ],
   "source": [
    "curve_compare(known_Data_avg_7851_1000to1020, known_MC_avg, '7851 late / MC')"
   ]
  },
  {
   "cell_type": "code",
   "execution_count": 27,
   "metadata": {},
   "outputs": [
    {
     "data": {
      "text/plain": [
       "['__class__',\n",
       " '__delattr__',\n",
       " '__dict__',\n",
       " '__dir__',\n",
       " '__doc__',\n",
       " '__eq__',\n",
       " '__format__',\n",
       " '__ge__',\n",
       " '__getattribute__',\n",
       " '__gt__',\n",
       " '__hash__',\n",
       " '__init__',\n",
       " '__init_subclass__',\n",
       " '__le__',\n",
       " '__lt__',\n",
       " '__module__',\n",
       " '__ne__',\n",
       " '__new__',\n",
       " '__reduce__',\n",
       " '__reduce_ex__',\n",
       " '__repr__',\n",
       " '__setattr__',\n",
       " '__sizeof__',\n",
       " '__str__',\n",
       " '__subclasshook__',\n",
       " '__weakref__',\n",
       " '_check_valid_input',\n",
       " 'bin_widths',\n",
       " 'charge_above_threshold',\n",
       " 'energy_above_threshold',\n",
       " 'height',\n",
       " 'pmts',\n",
       " 'rms',\n",
       " 'rms_above_threshold',\n",
       " 'sipms',\n",
       " 'time_at_max_energy',\n",
       " 'times',\n",
       " 'total_charge',\n",
       " 'total_energy',\n",
       " 'width',\n",
       " 'width_above_threshold']"
      ]
     },
     "execution_count": 27,
     "metadata": {},
     "output_type": "execute_result"
    }
   ],
   "source": [
    "dir(all_pmaps[list(all_pmaps.keys())[0]].s1s[0])"
   ]
  },
  {
   "cell_type": "code",
   "execution_count": 28,
   "metadata": {},
   "outputs": [],
   "source": [
    "all_s1_energies = [all_pmaps[k].s1s[0].total_energy for k in all_pmaps.keys()]\n",
    "all_s1_heights = [all_pmaps[k].s1s[0].height for k in all_pmaps.keys()]\n",
    "all_s1_widths = [all_pmaps[k].s1s[0].width for k in all_pmaps.keys()]\n",
    "all_s1_rms = [all_pmaps[k].s1s[0].rms for k in all_pmaps.keys()]"
   ]
  },
  {
   "cell_type": "code",
   "execution_count": 29,
   "metadata": {},
   "outputs": [
    {
     "data": {
      "image/png": "[encoded data removed]",
      "text/plain": [
       "<Figure size 432x288 with 1 Axes>"
      ]
     },
     "metadata": {
      "needs_background": "light"
     },
     "output_type": "display_data"
    }
   ],
   "source": [
    "plt.hist(all_s1_energies, bins = 20, range = (0, 30))\n",
    "plt.xlabel('S1 energy')\n",
    "plt.show()"
   ]
  },
  {
   "cell_type": "code",
   "execution_count": 30,
   "metadata": {},
   "outputs": [
    {
     "data": {
      "image/png": "[encoded data removed]",
      "text/plain": [
       "<Figure size 432x288 with 1 Axes>"
      ]
     },
     "metadata": {
      "needs_background": "light"
     },
     "output_type": "display_data"
    }
   ],
   "source": [
    "plt.hist(all_s1_heights, bins = 20, range = (0, 5))\n",
    "plt.xlabel('S1 height')\n",
    "plt.show()"
   ]
  },
  {
   "cell_type": "code",
   "execution_count": 31,
   "metadata": {},
   "outputs": [
    {
     "data": {
      "image/png": "[encoded data removed]",
      "text/plain": [
       "<Figure size 432x288 with 1 Axes>"
      ]
     },
     "metadata": {
      "needs_background": "light"
     },
     "output_type": "display_data"
    }
   ],
   "source": [
    "plt.hist(all_s1_widths, bins = 60, range = (100, 600))\n",
    "plt.xlabel('S1 width')\n",
    "plt.show()"
   ]
  },
  {
   "cell_type": "code",
   "execution_count": 32,
   "metadata": {},
   "outputs": [
    {
     "data": {
      "image/png": "[encoded data removed]",
      "text/plain": [
       "<Figure size 432x288 with 1 Axes>"
      ]
     },
     "metadata": {
      "needs_background": "light"
     },
     "output_type": "display_data"
    }
   ],
   "source": [
    "plt.hist(all_s1_rms, bins = 20, range = (20, 160))\n",
    "plt.xlabel('S1 rms')\n",
    "plt.show()"
   ]
  },
  {
   "cell_type": "code",
   "execution_count": 33,
   "metadata": {},
   "outputs": [
    {
     "name": "stdout",
     "output_type": "stream",
     "text": [
      "Time to load 20 pmaps = 97.74226903915405\n"
     ]
    }
   ],
   "source": [
    "num_files_pmaps = num_files_data\n",
    "file_pmaps = ['/Volumes/NEXT_data/IC_Data/pmaps/'+str(run_number)+'/pmaps_'+four_digit(min_file + i)+'_'+str(run_number)+'_trigger1_v1.2.0_20191122_krbg1600.h5' for i in range(0, num_files_pmaps)]\n",
    "\n",
    "t0 = time.time()\n",
    "my_data_pmaps = [load_pmaps(pmap_file) for pmap_file in file_pmaps]\n",
    "print('Time to load', len(my_data_pmaps), 'pmaps =', time.time() - t0)"
   ]
  },
  {
   "cell_type": "code",
   "execution_count": 34,
   "metadata": {},
   "outputs": [
    {
     "name": "stdout",
     "output_type": "stream",
     "text": [
      "Num events before selection = 6201\n",
      "Num events after selection = 4722\n",
      "Num events after position selection = 1128\n"
     ]
    }
   ],
   "source": [
    "data_pmaps = reindex(my_data_pmaps)\n",
    "s1s2selection(data_pmaps)\n",
    "sipm_center_cut(data_pmaps, r_cut_mm)"
   ]
  },
  {
   "cell_type": "code",
   "execution_count": 35,
   "metadata": {},
   "outputs": [],
   "source": [
    "all_s1_energies_data = [data_pmaps[k].s1s[0].total_energy for k in data_pmaps.keys()]\n",
    "all_s1_heights_data = [data_pmaps[k].s1s[0].height for k in data_pmaps.keys()]\n",
    "all_s1_widths_data = [data_pmaps[k].s1s[0].width for k in data_pmaps.keys()]\n",
    "all_s1_rms_data = [data_pmaps[k].s1s[0].rms for k in data_pmaps.keys()]"
   ]
  },
  {
   "cell_type": "code",
   "execution_count": 36,
   "metadata": {},
   "outputs": [
    {
     "data": {
      "image/png": "[encoded data removed]",
      "text/plain": [
       "<Figure size 432x288 with 1 Axes>"
      ]
     },
     "metadata": {
      "needs_background": "light"
     },
     "output_type": "display_data"
    },
    {
     "data": {
      "image/png": "[encoded data removed]",
      "text/plain": [
       "<Figure size 432x288 with 1 Axes>"
      ]
     },
     "metadata": {
      "needs_background": "light"
     },
     "output_type": "display_data"
    },
    {
     "data": {
      "image/png": "[encoded data removed]",
      "text/plain": [
       "<Figure size 432x288 with 1 Axes>"
      ]
     },
     "metadata": {
      "needs_background": "light"
     },
     "output_type": "display_data"
    },
    {
     "data": {
      "image/png": "[encoded data removed]",
      "text/plain": [
       "<Figure size 432x288 with 1 Axes>"
      ]
     },
     "metadata": {
      "needs_background": "light"
     },
     "output_type": "display_data"
    }
   ],
   "source": [
    "def compare_hist(characteristic, set_mc, set_data, xmin, xmax, nbins):\n",
    "    (counts_data, bins_data) = np.histogram(set_data, bins=np.linspace(xmin, xmax, nbins))\n",
    "    (counts_mc, bins_mc) = np.histogram(set_mc, bins=np.linspace(xmin, xmax, nbins))\n",
    "\n",
    "    plt.hist(bins_data[:-1], bins_data, weights=counts_data/sum(counts_data), alpha = 0.5, label='Data')\n",
    "    plt.hist(bins_mc[:-1], bins_mc, weights=counts_mc/sum(counts_mc), alpha = 0.5, label='MC')\n",
    "    plt.xlabel(characteristic)\n",
    "    plt.legend(loc='upper right')\n",
    "    plt.show()\n",
    "    \n",
    "compare_hist('S1 energy', all_s1_energies, all_s1_energies_data, 0, 30, 20)\n",
    "compare_hist('S1 height', all_s1_heights, all_s1_heights_data, 0, 5, 20)\n",
    "compare_hist('S1 width', all_s1_widths, all_s1_widths_data, 100, 600, 60)\n",
    "compare_hist('S1 rms', all_s1_rms, all_s1_rms_data, 20, 160, 20)"
   ]
  },
  {
   "cell_type": "code",
   "execution_count": null,
   "metadata": {},
   "outputs": [],
   "source": []
  },
  {
   "cell_type": "code",
   "execution_count": null,
   "metadata": {},
   "outputs": [],
   "source": []
  },
  {
   "cell_type": "code",
   "execution_count": null,
   "metadata": {},
   "outputs": [],
   "source": []
  },
  {
   "cell_type": "code",
   "execution_count": 46,
   "metadata": {},
   "outputs": [],
   "source": [
    "MC = True\n",
    "new_MC = True\n",
    "new_MC_tag = ''\n",
    "num_files_mc = 50\n",
    "MC_offset = 0\n",
    "if MC and new_MC:\n",
    "    new_MC_tag = '_NEW'\n",
    "    num_files_mc = 500\n",
    "    MC_offset = 1\n",
    "\n",
    "if not MC:\n",
    "    num_files_pmaps = num_files_data # for data\n",
    "    all_pmaps = ['/Volumes/NEXT_data/IC_Data/pmaps/'+str(run_number)+'/pmaps_'+four_digit(min_file + i)+'_'+str(run_number)+'_trigger1_v1.2.0_20191122_krbg1600.h5' for i in range(0, num_files_pmaps)]\n",
    "else:\n",
    "    num_files_pmaps = num_files_mc # for MC\n",
    "    all_pmaps = ['/Volumes/NEXT_data/IC_Data/kdst/nexus_newKr_pmaps'+new_MC_tag+'/new.kr83m.pmaps.'+str(i)+'.h5' for i in range(MC_offset, num_files_pmaps + MC_offset)]"
   ]
  },
  {
   "cell_type": "code",
   "execution_count": 47,
   "metadata": {},
   "outputs": [
    {
     "name": "stdout",
     "output_type": "stream",
     "text": [
      "Time to load 500 pmaps = 485.6538989543915\n"
     ]
    }
   ],
   "source": [
    "# 8 minutes to load new MC\n",
    "# 2 minutes to load old MC\n",
    "\n",
    "t0 = time.time()\n",
    "my_pmaps = [load_pmaps(pmap_file) for pmap_file in all_pmaps]\n",
    "print('Time to load', len(my_pmaps), 'pmaps =', time.time() - t0)"
   ]
  },
  {
   "cell_type": "code",
   "execution_count": 48,
   "metadata": {},
   "outputs": [
    {
     "name": "stdout",
     "output_type": "stream",
     "text": [
      "Num events before selection = 49856\n",
      "6043 HAS NO SIPM RESPONSE\n",
      "Num events after selection = 21073\n",
      "Num events after position selection = 4858\n"
     ]
    }
   ],
   "source": [
    "all_pmaps = reindex(my_pmaps)\n",
    "s1s2selection(all_pmaps)\n",
    "sipm_center_cut(all_pmaps, r_cut_mm)"
   ]
  },
  {
   "cell_type": "code",
   "execution_count": 49,
   "metadata": {},
   "outputs": [],
   "source": [
    "pmt_data = load_db.DataPMT('new', 7851)\n",
    "pmt_radii = np.array([pmt_data['X'][i]**2 + pmt_data['Y'][i]**2 for i in range(0, 12)])\n",
    "all_ids = np.array([ i for i in range(12)])\n",
    "inner_cutoff = 5000\n",
    "inner_indices = all_ids[pmt_radii <= inner_cutoff]\n",
    "outer_indices = all_ids[pmt_radii > inner_cutoff]"
   ]
  },
  {
   "cell_type": "code",
   "execution_count": 59,
   "metadata": {},
   "outputs": [],
   "source": [
    "def partial_average(allpmaps, subindices):\n",
    "    allsum = 0\n",
    "    num = 0\n",
    "    for i in subindices:\n",
    "        for k in allpmaps.keys():\n",
    "            if i in allpmaps[k].s2s[0].pmts.ids:\n",
    "                allsum += allpmaps[k].s2s[0].pmts.sum_over_times[i]\n",
    "                num += 1\n",
    "    return allsum / num\n",
    "    # return np.average([[allpmaps[k].s2s[0].pmts.sum_over_times[i] for i in subindices] for k in data_pmaps.keys()])\n",
    "    \n",
    "inner_average = partial_average(all_pmaps, inner_indices)\n",
    "outer_average = partial_average(all_pmaps, outer_indices)"
   ]
  },
  {
   "cell_type": "code",
   "execution_count": 60,
   "metadata": {},
   "outputs": [
    {
     "name": "stdout",
     "output_type": "stream",
     "text": [
      "New inner average = 218.75660187255474\n",
      "New outer average = 145.59450294753233\n"
     ]
    }
   ],
   "source": [
    "print('New inner average =', inner_average)\n",
    "print('New outer average =', outer_average)"
   ]
  },
  {
   "cell_type": "code",
   "execution_count": 61,
   "metadata": {},
   "outputs": [],
   "source": [
    "r7851_inner = 1160.4229\n",
    "r7851_outer = 885.17426\n",
    "\n",
    "nexus_newKr_pmaps_NEW_inner = 218.75660187255474 # nexus_newKr_pmaps_NEW\n",
    "nexus_newKr_pmaps_NEW_outer = 145.59450294753233 # nexus_newKr_pmaps_NEW"
   ]
  },
  {
   "cell_type": "code",
   "execution_count": null,
   "metadata": {},
   "outputs": [],
   "source": []
  },
  {
   "cell_type": "code",
   "execution_count": null,
   "metadata": {},
   "outputs": [],
   "source": []
  },
  {
   "cell_type": "code",
   "execution_count": null,
   "metadata": {},
   "outputs": [],
   "source": []
  },
  {
   "cell_type": "code",
   "execution_count": null,
   "metadata": {},
   "outputs": [],
   "source": []
  },
  {
   "cell_type": "code",
   "execution_count": null,
   "metadata": {},
   "outputs": [],
   "source": []
  },
  {
   "cell_type": "code",
   "execution_count": null,
   "metadata": {},
   "outputs": [],
   "source": []
  },
  {
   "cell_type": "code",
   "execution_count": null,
   "metadata": {},
   "outputs": [],
   "source": []
  }
 ],
 "metadata": {
  "kernelspec": {
   "display_name": "Python 3",
   "language": "python",
   "name": "python3"
  },
  "language_info": {
   "codemirror_mode": {
    "name": "ipython",
    "version": 3
   },
   "file_extension": ".py",
   "mimetype": "text/x-python",
   "name": "python",
   "nbconvert_exporter": "python",
   "pygments_lexer": "ipython3",
   "version": "3.7.2"
  }
 },
 "nbformat": 4,
 "nbformat_minor": 2
}
