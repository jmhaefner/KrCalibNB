{
 "cells": [
  {
   "cell_type": "code",
   "execution_count": 1,
   "metadata": {},
   "outputs": [],
   "source": [
    "import numpy as np"
   ]
  },
  {
   "cell_type": "code",
   "execution_count": 2,
   "metadata": {},
   "outputs": [],
   "source": [
    "import matplotlib.pyplot as plt"
   ]
  },
  {
   "cell_type": "code",
   "execution_count": 3,
   "metadata": {},
   "outputs": [],
   "source": [
    "from scipy.optimize import curve_fit"
   ]
  },
  {
   "cell_type": "code",
   "execution_count": 4,
   "metadata": {},
   "outputs": [],
   "source": [
    "def line(x, a):\n",
    "    return a*x\n",
    "\n",
    "true_a = 1\n",
    "\n",
    "xs = np.arange(0, 10, 1)\n",
    "yerrs = (xs / 8)**1.2 + 0.5\n",
    "ys = line(xs, true_a) + np.array([np.random.normal(0, yerrs[i]) for i in range(len(yerrs))])\n",
    "yerrs *= 0.5\n",
    "\n",
    "theory_ys = line(xs, true_a)"
   ]
  },
  {
   "cell_type": "code",
   "execution_count": 5,
   "metadata": {},
   "outputs": [
    {
     "data": {
      "image/png": "[encoded data removed]",
      "text/plain": [
       "<Figure size 432x288 with 1 Axes>"
      ]
     },
     "metadata": {
      "needs_background": "light"
     },
     "output_type": "display_data"
    }
   ],
   "source": [
    "plt.errorbar(xs, ys, yerrs, fmt = 'o', label = 'Data')\n",
    "plt.plot(xs, theory_ys, '--', label = 'Theory')\n",
    "plt.legend()\n",
    "plt.show()"
   ]
  },
  {
   "cell_type": "code",
   "execution_count": 6,
   "metadata": {},
   "outputs": [
    {
     "name": "stdout",
     "output_type": "stream",
     "text": [
      "p 0 = 0.9693471803352031 +- 0.037805192373170406\n"
     ]
    }
   ],
   "source": [
    "popt, pcov = curve_fit(line, xs, ys, sigma = yerrs, absolute_sigma = True)\n",
    "fit_errs = np.sqrt(np.diag(pcov))\n",
    "for i in range(len(fit_errs)):\n",
    "    print('p', i, '=', popt[i], '+-', fit_errs[i])"
   ]
  },
  {
   "cell_type": "code",
   "execution_count": 7,
   "metadata": {},
   "outputs": [],
   "source": [
    "fit_ys = line(xs, popt[0])"
   ]
  },
  {
   "cell_type": "code",
   "execution_count": 8,
   "metadata": {},
   "outputs": [
    {
     "data": {
      "image/png": "[encoded data removed]",
      "text/plain": [
       "<Figure size 432x288 with 1 Axes>"
      ]
     },
     "metadata": {
      "needs_background": "light"
     },
     "output_type": "display_data"
    }
   ],
   "source": [
    "plt.errorbar(xs, ys, yerrs, fmt = 'o', label = 'Data')\n",
    "plt.plot(xs, theory_ys, '--', label = 'Theory')\n",
    "plt.plot(xs, fit_ys, '-.', label = 'Fit')\n",
    "plt.legend()\n",
    "plt.show()"
   ]
  },
  {
   "cell_type": "code",
   "execution_count": 9,
   "metadata": {},
   "outputs": [
    {
     "name": "stdout",
     "output_type": "stream",
     "text": [
      "3.8515279949865575\n"
     ]
    }
   ],
   "source": [
    "def chi2(data, fit, errs, dof):\n",
    "    return np.sum(((data-fit)/errs)**2)/dof\n",
    "\n",
    "print(chi2(ys, fit_ys, yerrs, len(ys) - len(popt)))"
   ]
  },
  {
   "cell_type": "markdown",
   "metadata": {},
   "source": [
    "## Fitting without curve_fit"
   ]
  },
  {
   "cell_type": "code",
   "execution_count": 10,
   "metadata": {},
   "outputs": [],
   "source": [
    "test_values = np.arange(0, 2, 0.0001)"
   ]
  },
  {
   "cell_type": "code",
   "execution_count": 11,
   "metadata": {},
   "outputs": [
    {
     "name": "stdout",
     "output_type": "stream",
     "text": [
      "Fitted value = 0.9693\n",
      "Fit argument = 9693\n",
      "Fit X2 = 3.8515281680386675\n"
     ]
    }
   ],
   "source": [
    "x2_vals = []\n",
    "for val in test_values:\n",
    "    test_fit_ys = line(xs, val)\n",
    "    x2_vals.append(chi2(ys, test_fit_ys, yerrs, len(ys) - 1))\n",
    "    \n",
    "fit_val = test_values[np.argmin(x2_vals)]\n",
    "fit_arg = np.argmin(x2_vals)\n",
    "fit_x2 = x2_vals[fit_arg]\n",
    "print('Fitted value =', fit_val)\n",
    "print('Fit argument =', fit_arg)\n",
    "print('Fit X2 =', fit_x2)"
   ]
  },
  {
   "cell_type": "code",
   "execution_count": 12,
   "metadata": {},
   "outputs": [
    {
     "data": {
      "image/png": "[encoded data removed]",
      "text/plain": [
       "<Figure size 432x288 with 1 Axes>"
      ]
     },
     "metadata": {
      "needs_background": "light"
     },
     "output_type": "display_data"
    }
   ],
   "source": [
    "plt.plot(test_values, x2_vals)\n",
    "plt.ylim(0, 3)\n",
    "plt.show()"
   ]
  },
  {
   "cell_type": "code",
   "execution_count": 13,
   "metadata": {},
   "outputs": [],
   "source": [
    "def nderiv(y, x):\n",
    "    dy = np.zeros(len(y))\n",
    "    for i in range(len(y) - 1):\n",
    "        dy[i] = (y[i+1] - y[i]) / (x[i+1] - x[i])\n",
    "    dy[-1] = dy[-2]\n",
    "    return dy\n",
    "\n",
    "def value(f, x, x0):\n",
    "    i = np.argmin(np.abs(x - x0))\n",
    "    return f[i]"
   ]
  },
  {
   "cell_type": "code",
   "execution_count": 14,
   "metadata": {},
   "outputs": [],
   "source": [
    "dX2_dv = nderiv(x2_vals, test_values)\n",
    "d2X2_d2v = nderiv(dX2_dv, test_values)"
   ]
  },
  {
   "cell_type": "code",
   "execution_count": 15,
   "metadata": {},
   "outputs": [
    {
     "name": "stdout",
     "output_type": "stream",
     "text": [
      "Right error bar = 0.11349999999999993\n",
      "Left error bar = -0.11340000000000006\n"
     ]
    }
   ],
   "source": [
    "# Right error bar\n",
    "diff = 0\n",
    "r_arg = fit_arg\n",
    "while diff < 1:\n",
    "    r_arg += 1\n",
    "    diff = x2_vals[r_arg] - fit_x2\n",
    "print('Right error bar =', test_values[r_arg] - fit_val)\n",
    "    \n",
    "# Left error bar\n",
    "diff = 0\n",
    "l_arg = fit_arg\n",
    "while diff < 1:\n",
    "    l_arg -= 1\n",
    "    diff = x2_vals[l_arg] - fit_x2\n",
    "print('Left error bar =', test_values[l_arg] - fit_val)"
   ]
  },
  {
   "cell_type": "code",
   "execution_count": 16,
   "metadata": {},
   "outputs": [
    {
     "data": {
      "text/plain": [
       "0.11341557716735151"
      ]
     },
     "execution_count": 16,
     "metadata": {},
     "output_type": "execute_result"
    }
   ],
   "source": [
    "(0.5*d2X2_d2v[np.argmin(x2_vals)])**(-0.5)"
   ]
  },
  {
   "cell_type": "code",
   "execution_count": null,
   "metadata": {},
   "outputs": [],
   "source": []
  },
  {
   "cell_type": "code",
   "execution_count": null,
   "metadata": {},
   "outputs": [],
   "source": []
  },
  {
   "cell_type": "code",
   "execution_count": null,
   "metadata": {},
   "outputs": [],
   "source": []
  }
 ],
 "metadata": {
  "kernelspec": {
   "display_name": "Python 3",
   "language": "python",
   "name": "python3"
  },
  "language_info": {
   "codemirror_mode": {
    "name": "ipython",
    "version": 3
   },
   "file_extension": ".py",
   "mimetype": "text/x-python",
   "name": "python",
   "nbconvert_exporter": "python",
   "pygments_lexer": "ipython3",
   "version": "3.7.2"
  }
 },
 "nbformat": 4,
 "nbformat_minor": 2
}
