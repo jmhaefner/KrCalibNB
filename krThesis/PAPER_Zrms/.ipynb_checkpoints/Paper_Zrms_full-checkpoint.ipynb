{
 "cells": [
  {
   "cell_type": "code",
   "execution_count": 1,
   "metadata": {},
   "outputs": [],
   "source": [
    "# Imports\n",
    "\n",
    "import pandas as pd\n",
    "import numpy as np\n",
    "import matplotlib.pyplot as plt\n",
    "from scipy.optimize import curve_fit\n",
    "import os\n",
    "from time import time\n",
    "from glob import glob"
   ]
  },
  {
   "cell_type": "code",
   "execution_count": 2,
   "metadata": {},
   "outputs": [],
   "source": [
    "# Initialization\n",
    "\n",
    "t0 = time()\n",
    "runno = '7472'\n",
    "filemax = 1000"
   ]
  },
  {
   "cell_type": "code",
   "execution_count": 3,
   "metadata": {},
   "outputs": [],
   "source": [
    "# Basic and fit functions\n",
    "\n",
    "param_old = [-10.00667732,  52.1855012,   12.68195726,  58.66322846, -20.11819297]\n",
    "def exp_dt(sig):\n",
    "    \"\"\"\n",
    "    expected drift distance  as a function of sigma of the S2 signal (Zrms from kdst 2018 version)\n",
    "    parameters from the ad-hoc fit\n",
    "    \"\"\"\n",
    "    p = param_old\n",
    "    dt = p[0] * sig**4 + p[1] * sig**3 + p[2]*sig**2 + p[3]*sig + p[4]\n",
    "    return dt\n",
    "\n",
    "def gauss(x, A, m, s):\n",
    "    if s < 0:\n",
    "        return 10000000000000000\n",
    "    return A*np.exp(-(x-m)**2 / (2*s**2))\n",
    "\n",
    "def poly(x, a, b, c, d, e):\n",
    "    return a*x**4 + b*x**3 + c*x**2 + d*x + e\n",
    "\n",
    "def ndigit(j, n):\n",
    "    j = str(j)\n",
    "    while len(j) < n:\n",
    "        j = '0' + j\n",
    "    return j"
   ]
  },
  {
   "cell_type": "code",
   "execution_count": 4,
   "metadata": {},
   "outputs": [],
   "source": [
    "# My own map application functions - not needed right now\n",
    "\n",
    "# import h5py\n",
    "# import itertools as it\n",
    "\n",
    "# zlims = [100, 200, 300, 400, 510]\n",
    "# rlims = [50, 100, 150, 180]\n",
    "\n",
    "# def gauss(x, A, m, s):\n",
    "#     if s < 0:\n",
    "#         return 10000000000000000\n",
    "#     return A*np.exp(-(x-m)**2 / (2*s**2))\n",
    "\n",
    "# def load_maps_from_file(filename, show = True):\n",
    "#     f = h5py.File(filename, 'r')\n",
    "#     e0map = np.array(f['e0']['block0_values'])\n",
    "#     ltmap = np.array(f['lt']['block0_values'])\n",
    "#     # f['mapinfo']['index'][i] tells you what is stored is stored in f['mapinfo']['values'][i]\n",
    "#     bounds = ((f['mapinfo']['values'][0], f['mapinfo']['values'][1]), (f['mapinfo']['values'][2], f['mapinfo']['values'][3]))\n",
    "#     f.close()\n",
    "\n",
    "#     if show:\n",
    "#         plt.imshow(e0map, extent=[bounds[0][0], bounds[0][1], bounds[1][0], bounds[1][1]], origin = 'lower')\n",
    "#         plt.colorbar()\n",
    "#         plt.title('E0')\n",
    "#         plt.show()\n",
    "\n",
    "#         plt.imshow(ltmap, extent=[bounds[0][0], bounds[0][1], bounds[1][0], bounds[1][1]], origin = 'lower')\n",
    "#         plt.colorbar()\n",
    "#         plt.title('LT')\n",
    "#         plt.clim(5000, 10000)\n",
    "#         plt.show()\n",
    "    \n",
    "#     return e0map, ltmap, bounds\n",
    "\n",
    "# def get_bin_from_xy(x, y, emap, bounds):\n",
    "#     lowerx, lowery = bounds[0][0], bounds[1][0]\n",
    "#     upperx, uppery = bounds[0][1], bounds[1][1]\n",
    "#     nbinsx = len(emap)\n",
    "#     nbinsy = len(emap[0])\n",
    "#     dbinx = (bounds[0][1] - bounds[0][0]) / nbinsx\n",
    "#     dbiny = (bounds[1][1] - bounds[1][0]) / nbinsy\n",
    "#     ix = min(floor((x - lowerx) / dbinx), nbinsx-1)\n",
    "#     iy = min(floor((y - lowery) / dbiny), nbinsy-1)\n",
    "#     return ix, iy\n",
    "\n",
    "# def correct_energies(emap, bounds, umask, xvals, yvals, zvals, energies, ltmap = None, show = True, vocal = False):\n",
    "#     if vocal:\n",
    "#         print('Correcting energies...')\n",
    "#     ecorrs = []\n",
    "#     xymask = (xvals > bounds[0][0]) & (xvals < bounds[0][1]) & (yvals > bounds[1][0]) & (yvals < bounds[1][1])\n",
    "#     tcorstart = time()\n",
    "#     masked_xvals, masked_yvals = xvals[umask & xymask], yvals[umask & xymask]\n",
    "#     masked_energies = energies[umask & xymask]\n",
    "#     ncorevents = len(masked_xvals)\n",
    "#     factor_default = emap[int(len(emap)/2)][int(len(emap)/2)]\n",
    "#     for e in range(ncorevents):\n",
    "#         if vocal and e % 10000 == 0:\n",
    "#             print(e, '/', len(xvals[umask & xymask]))\n",
    "#             if e > 0:\n",
    "#                 print('Est remaining =', round((ncorevents - e)*(time() - tcorstart) / e, 1))\n",
    "#         x, y = masked_xvals[e], masked_yvals[e]\n",
    "#         ix, iy = get_bin_from_xy(x, y, emap, bounds)\n",
    "#         factor = emap[ix][iy]\n",
    "#         if factor == 0 or np.isnan(factor):\n",
    "#             factor = factor_default\n",
    "#         if ltmap is not None:\n",
    "#             ixlt, iylt = get_bin_from_xy(x, y, ltmap, bounds)\n",
    "#             lt = ltmap[ixlt][iylt]\n",
    "#             z = zvals[umask & xymask][e]\n",
    "#             ltcorr = np.exp(z / lt)\n",
    "#             factor /= ltcorr\n",
    "#         ecorr = masked_energies[e] / factor\n",
    "#         ecorrs.append(ecorr)\n",
    "#     if show:\n",
    "#         plt.hist(ecorrs)\n",
    "#         plt.show()\n",
    "#     return np.array(ecorrs)\n",
    "\n",
    "# def plot_res_vs_zr(res_vs_zr):\n",
    "#     for rlim in rlims:\n",
    "#         res_vs_z = [ res_vs_zr[1000*zlim + rlim] for zlim in zlims ]\n",
    "#         plt.plot(zlims, res_vs_z, 'o', label = 'rlim = '+str(rlim)+' mm')\n",
    "#     plt.legend()\n",
    "#     plt.xlabel('Z upper limit (mm)')\n",
    "#     plt.ylabel('Resolution (%)')\n",
    "#     plt.show()\n",
    "#     print('Innermost resolution = ', round(res_vs_zr[1000*zlims[0] + rlims[0]], 2), '%')\n",
    "#     print('Outermost resolution = ', round(res_vs_zr[1000*zlims[-1] + rlims[-1]], 2), '%')\n",
    "\n",
    "# def fit_res_vs_xy(energies, emap, bounds, umask, xvals, yvals, zvals, show = True, zcut = 510):\n",
    "#     res_vs_xy = np.zeros((len(xbins),len(ybins)))\n",
    "#     xymask = (xvals > bounds[0][0]) & (xvals < bounds[0][1]) & (yvals > bounds[1][0]) & (yvals < bounds[1][1])\n",
    "#     masked_xvals, masked_yvals, masked_zvals = xvals[umask & xymask], yvals[umask & xymask], zvals[umask & xymask]\n",
    "#     min_nevents = 20\n",
    "    \n",
    "#     for i, j in it.product(range(len(xbins)), range(len(ybins))):\n",
    "#         xbin = xbins[i]\n",
    "#         ybin = ybins[j]\n",
    "    \n",
    "#         fidmask = (masked_zvals < zcut) & (masked_xvals > xbin[0]) & (masked_xvals < xbin[1]) & (masked_yvals > ybin[0]) & (masked_yvals < ybin[1]) #((masked_xvals**2 + masked_yvals**2) < rlim**2) & (masked_zvals < zlim)\n",
    "#         nevents = len(energies[fidmask])\n",
    "\n",
    "#         if nevents < min_nevents:\n",
    "#             resolution = np.nan\n",
    "#         else:\n",
    "                        \n",
    "#             h = plt.hist(energies[fidmask], range=(0.85, 1.15), bins = 30)\n",
    "\n",
    "#             xdata = (h[1][:-1] + h[1][1:]) / 2\n",
    "#             ydata = h[0]\n",
    "\n",
    "#             (A0, m0, s0) = (np.max(ydata), 1, np.std(energies[fidmask]))\n",
    "\n",
    "#             try:\n",
    "#                 popt, pcov = curve_fit(gauss, xdata, ydata, p0 = (A0, m0, s0))\n",
    "#                 fitgauss = gauss(xdata, *popt)\n",
    "\n",
    "#                 FWHM = 2.355 * popt[2]\n",
    "#                 mean = popt[1]\n",
    "#                 resolution = 100 * FWHM / mean\n",
    "#             except:\n",
    "#                 resolution = np.nan\n",
    "                    \n",
    "#         res_vs_xy[i][j] = resolution\n",
    "\n",
    "#         if (xbin == xbins[int(len(xbins)/2)]).all() and (ybin == ybins[int(len(ybins)/2)]).all() and show:\n",
    "#             print('Fit a Gaussian with guess (A0, m0, s0) =', (A0, m0, s0))\n",
    "#             plt.plot(xdata, fitgauss)\n",
    "#             plt.title('Xbin = '+str(xbin)+'; Ybin = '+str(ybin)+'. Resolution = '+str(round(resolution, 1))+'%')\n",
    "#             plt.show()\n",
    "#         else:\n",
    "#             plt.close()\n",
    "    \n",
    "#     return res_vs_xy\n",
    "\n",
    "# def fit_res_vs_zr(energies, emap, bounds, umask, xvals, yvals, zvals, show = True):\n",
    "#     res_vs_zr = {}\n",
    "#     xymask = (xvals > bounds[0][0]) & (xvals < bounds[0][1]) & (yvals > bounds[1][0]) & (yvals < bounds[1][1])\n",
    "#     masked_xvals, masked_yvals, masked_zvals = xvals[umask & xymask], yvals[umask & xymask], zvals[umask & xymask]\n",
    "\n",
    "#     for zlim, rlim in it.product(zlims, rlims):\n",
    "    \n",
    "#         fidmask = ((masked_xvals**2 + masked_yvals**2) < rlim**2) & (masked_zvals < zlim)\n",
    "#         h = plt.hist(energies[fidmask], range=(0.85, 1.15), bins = 30)\n",
    "\n",
    "#         xdata = (h[1][:-1] + h[1][1:]) / 2\n",
    "#         ydata = h[0]\n",
    "\n",
    "#         (A0, m0, s0) = (np.max(ydata), 1, np.std(energies[fidmask]))\n",
    "        \n",
    "#         popt, pcov = curve_fit(gauss, xdata, ydata, p0 = (A0, m0, s0))\n",
    "#         fitgauss = gauss(xdata, *popt)\n",
    "\n",
    "#         FWHM = 2.355 * popt[2]\n",
    "#         mean = popt[1]\n",
    "#         resolution = 100 * FWHM / mean\n",
    "\n",
    "#         res_vs_zr[zlim*1000+rlim] = resolution\n",
    "\n",
    "#         if zlim == zlims[0] and rlim == rlims[0] and show:\n",
    "#             print('Fit a Gaussian with guess (A0, m0, s0) =', (A0, m0, s0))\n",
    "#             plt.plot(xdata, fitgauss)\n",
    "#             plt.title('Z < '+str(zlim)+'; R < '+str(rlim)+'. Resolution = '+str(round(resolution, 1))+'%')\n",
    "#             plt.show()\n",
    "#         else:\n",
    "#             plt.close()\n",
    "    \n",
    "#     return res_vs_zr"
   ]
  },
  {
   "cell_type": "code",
   "execution_count": 17,
   "metadata": {},
   "outputs": [],
   "source": [
    "filedir = '/Volumes/NEXT_data/IC_Data/kdst/'+runno+'/'\n",
    "kdstfiles = glob(filedir)\n",
    "if len(kdstfiles) > filemax:\n",
    "    kdstfiles = kdstfiles[:filemax]"
   ]
  },
  {
   "cell_type": "code",
   "execution_count": null,
   "metadata": {},
   "outputs": [],
   "source": [
    "folder_dst       = '/Volumes/NEXT_data/IC_Data/kdst/'+str(runno)+'/'\n",
    "dst_file       = '*.h5'\n",
    "# config_file    = '$ICARO/krcal/map_builder/config_NoChecks.conf'\n",
    "ref_histo_file = '$ICARO/krcal/map_builder/reference_files/z_dst_LB_mean_ref.h5'\n",
    "\n",
    "ref_Z_histogram = dict(\n",
    "                    ref_histo_file = ref_histo_file,\n",
    "                    key_Z_histo    = 'histo_Z_dst') \n",
    "\n",
    "inputs = load_data(input_path         = folder_dst                       ,\n",
    "                   input_dsts         = dst_file                         ,\n",
    "                   file_bootstrap_map = file_bootstrap                   ,\n",
    "                   ref_histo_file     = ref_Z_histogram['ref_histo_file'],\n",
    "                   key_Z_histo        = ref_Z_histogram['key_Z_histo']   ,\n",
    "                   quality_ranges     = quality_ranges                   )"
   ]
  },
  {
   "cell_type": "code",
   "execution_count": null,
   "metadata": {},
   "outputs": [],
   "source": [
    "# We're going to take the standard notebook, but we need to:\n",
    "# --> Remove bootstrap map x\n",
    "# --> Replace band selection with Z agreement selection x\n",
    "# --> Split the dataset into two pieces (one for generating map, one for checking resolution) x\n",
    "# --> Make two determination methods:\n",
    "# ----> Resolution from S1\n",
    "# ----> Resolution from RMS"
   ]
  },
  {
   "cell_type": "code",
   "execution_count": null,
   "metadata": {},
   "outputs": [],
   "source": []
  },
  {
   "cell_type": "code",
   "execution_count": null,
   "metadata": {},
   "outputs": [],
   "source": []
  },
  {
   "cell_type": "code",
   "execution_count": null,
   "metadata": {},
   "outputs": [],
   "source": []
  },
  {
   "cell_type": "code",
   "execution_count": null,
   "metadata": {},
   "outputs": [],
   "source": []
  },
  {
   "cell_type": "code",
   "execution_count": 18,
   "metadata": {},
   "outputs": [
    {
     "name": "stdout",
     "output_type": "stream",
     "text": [
      "/Volumes/NEXT_data/IC_Data/kdst/7472/kdst_0067_7472_trigger1_v1.1.0_20190801_krbg.h5\n",
      "/Volumes/NEXT_data/IC_Data/kdst/7472/kdst_0145_7472_trigger1_v1.1.0_20190801_krbg.h5\n",
      "/Volumes/NEXT_data/IC_Data/kdst/7472/kdst_0223_7472_trigger1_v1.1.0_20190801_krbg.h5\n",
      "/Volumes/NEXT_data/IC_Data/kdst/7472/kdst_0301_7472_trigger1_v1.1.0_20190801_krbg.h5\n",
      "/Volumes/NEXT_data/IC_Data/kdst/7472/kdst_0370_7472_trigger1_v1.1.0_20190801_krbg.h5\n",
      "/Volumes/NEXT_data/IC_Data/kdst/7472/kdst_0410_7472_trigger1_v1.1.0_20190801_krbg.h5\n",
      "/Volumes/NEXT_data/IC_Data/kdst/7472/kdst_0455_7472_trigger1_v1.1.0_20190801_krbg.h5\n",
      "/Volumes/NEXT_data/IC_Data/kdst/7472/kdst_0503_7472_trigger1_v1.1.0_20190801_krbg.h5\n",
      "/Volumes/NEXT_data/IC_Data/kdst/7472/kdst_0561_7472_trigger1_v1.1.0_20190801_krbg.h5\n",
      "/Volumes/NEXT_data/IC_Data/kdst/7472/kdst_0620_7472_trigger1_v1.1.0_20190801_krbg.h5\n",
      "/Volumes/NEXT_data/IC_Data/kdst/7472/kdst_0678_7472_trigger1_v1.1.0_20190801_krbg.h5\n",
      "/Volumes/NEXT_data/IC_Data/kdst/7472/kdst_0735_7472_trigger1_v1.1.0_20190801_krbg.h5\n",
      "/Volumes/NEXT_data/IC_Data/kdst/7472/kdst_0796_7472_trigger1_v1.1.0_20190801_krbg.h5\n",
      "/Volumes/NEXT_data/IC_Data/kdst/7472/kdst_0855_7472_trigger1_v1.1.0_20190801_krbg.h5\n",
      "/Volumes/NEXT_data/IC_Data/kdst/7472/kdst_0916_7472_trigger1_v1.1.0_20190801_krbg.h5\n",
      "/Volumes/NEXT_data/IC_Data/kdst/7472/kdst_0971_7472_trigger1_v1.1.0_20190801_krbg.h5\n",
      "Time = 323.77192282676697\n"
     ]
    }
   ],
   "source": [
    "X = np.array([])\n",
    "Y = np.array([])\n",
    "ZS1 = np.array([])\n",
    "Zrms = np.array([])\n",
    "S2e = np.array([])\n",
    "\n",
    "tcurrent = time()\n",
    "for kdstfile in kdstfiles:\n",
    "    if (time() - tcurrent) > 15:\n",
    "        print(kdstfile)\n",
    "        tcurrent = time()\n",
    "    kdst = pd.HDFStore(kdstfile, 'r')\n",
    "    newX = np.array(kdst['/DST/Events']['X'])\n",
    "    newY = np.array(kdst['/DST/Events']['Y'])\n",
    "    newZS1 = np.array(kdst['/DST/Events']['Z'])\n",
    "    newZrms = np.array(kdst['/DST/Events']['Zrms'])\n",
    "    newS2e = np.array(kdst['/DST/Events']['S2e'])\n",
    "    ZS1 = np.append(ZS1, newZS1)\n",
    "    Zrms = np.append(Zrms, newZrms)\n",
    "    S2e = np.append(S2e, newS2e)\n",
    "    X = np.append(X, newX)\n",
    "    Y = np.append(Y, newY)\n",
    "    kdst.close()\n",
    "    \n",
    "print('Time =', time() - t0)"
   ]
  },
  {
   "cell_type": "code",
   "execution_count": 20,
   "metadata": {},
   "outputs": [
    {
     "data": {
      "image/png": "[encoded data removed]",
      "text/plain": [
       "<Figure size 432x288 with 1 Axes>"
      ]
     },
     "metadata": {
      "needs_background": "light"
     },
     "output_type": "display_data"
    }
   ],
   "source": [
    "plt.hist2d(Zrms, ZS1, range=((0, 6),(0, 1200)), bins = 20)\n",
    "plt.show()"
   ]
  },
  {
   "cell_type": "code",
   "execution_count": 21,
   "metadata": {},
   "outputs": [
    {
     "data": {
      "image/png": "[encoded data removed]",
      "text/plain": [
       "<Figure size 432x288 with 2 Axes>"
      ]
     },
     "metadata": {
      "needs_background": "light"
     },
     "output_type": "display_data"
    },
    {
     "data": {
      "image/png": "[encoded data removed]",
      "text/plain": [
       "<Figure size 432x288 with 2 Axes>"
      ]
     },
     "metadata": {
      "needs_background": "light"
     },
     "output_type": "display_data"
    }
   ],
   "source": [
    "file_7472   = '/Volumes/NEXT_Data/IC_Data/st190819/maps/kr_emap_xy_50_50_r_7472_st190819.h5'\n",
    "\n",
    "nomask = np.ones(len(S2e), dtype='bool')\n",
    "\n",
    "# def correct_energies(emap, bounds, umask, xvals, yvals, zvals, energies, ltmap = None, show = True, vocal = False):\n",
    "\n",
    "e0_7472, lt_7472, bounds_7472 = load_maps_from_file(file_7472)"
   ]
  },
  {
   "cell_type": "code",
   "execution_count": 24,
   "metadata": {},
   "outputs": [
    {
     "data": {
      "image/png": "[encoded data removed]",
      "text/plain": [
       "<Figure size 432x288 with 1 Axes>"
      ]
     },
     "metadata": {
      "needs_background": "light"
     },
     "output_type": "display_data"
    }
   ],
   "source": [
    "plt.hist(S2e, range = (0, 16000), bins = 20)\n",
    "plt.show()\n",
    "\n",
    "Ecut = (S2e > 2000) & (S2e < 14000)"
   ]
  },
  {
   "cell_type": "code",
   "execution_count": 25,
   "metadata": {},
   "outputs": [
    {
     "name": "stdout",
     "output_type": "stream",
     "text": [
      "Correcting energies using 7472\n",
      "Correcting energies...\n",
      "0 / 941199\n",
      "10000 / 941199\n",
      "Est remaining = 5651.9\n",
      "20000 / 941199\n",
      "Est remaining = 5564.7\n",
      "30000 / 941199\n",
      "Est remaining = 5725.2\n",
      "40000 / 941199\n",
      "Est remaining = 5766.6\n",
      "50000 / 941199\n",
      "Est remaining = 5811.5\n",
      "60000 / 941199\n",
      "Est remaining = 5956.2\n",
      "70000 / 941199\n",
      "Est remaining = 5941.3\n",
      "80000 / 941199\n",
      "Est remaining = 5946.4\n",
      "90000 / 941199\n",
      "Est remaining = 6029.2\n",
      "100000 / 941199\n",
      "Est remaining = 6070.0\n",
      "110000 / 941199\n",
      "Est remaining = 6045.1\n",
      "120000 / 941199\n",
      "Est remaining = 5999.1\n",
      "130000 / 941199\n",
      "Est remaining = 5957.3\n",
      "140000 / 941199\n",
      "Est remaining = 5904.6\n",
      "150000 / 941199\n",
      "Est remaining = 5853.2\n",
      "160000 / 941199\n",
      "Est remaining = 5804.2\n",
      "170000 / 941199\n",
      "Est remaining = 5750.9\n",
      "180000 / 941199\n",
      "Est remaining = 5705.2\n",
      "190000 / 941199\n",
      "Est remaining = 5648.3\n",
      "200000 / 941199\n",
      "Est remaining = 5592.4\n",
      "210000 / 941199\n",
      "Est remaining = 5521.2\n",
      "220000 / 941199\n",
      "Est remaining = 5451.2\n",
      "230000 / 941199\n",
      "Est remaining = 5380.1\n",
      "240000 / 941199\n",
      "Est remaining = 5316.5\n",
      "250000 / 941199\n",
      "Est remaining = 5231.7\n",
      "260000 / 941199\n",
      "Est remaining = 5159.8\n",
      "270000 / 941199\n",
      "Est remaining = 5085.2\n",
      "280000 / 941199\n",
      "Est remaining = 4993.3\n",
      "290000 / 941199\n",
      "Est remaining = 4897.8\n",
      "300000 / 941199\n",
      "Est remaining = 4810.0\n",
      "310000 / 941199\n",
      "Est remaining = 4730.1\n",
      "320000 / 941199\n",
      "Est remaining = 4651.6\n",
      "330000 / 941199\n",
      "Est remaining = 4561.1\n",
      "340000 / 941199\n",
      "Est remaining = 4479.7\n",
      "350000 / 941199\n",
      "Est remaining = 4392.5\n",
      "360000 / 941199\n",
      "Est remaining = 4306.0\n",
      "370000 / 941199\n",
      "Est remaining = 4217.6\n",
      "380000 / 941199\n",
      "Est remaining = 4155.8\n",
      "390000 / 941199\n",
      "Est remaining = 4085.1\n",
      "400000 / 941199\n",
      "Est remaining = 4017.2\n",
      "410000 / 941199\n",
      "Est remaining = 3942.0\n",
      "420000 / 941199\n",
      "Est remaining = 3868.3\n",
      "430000 / 941199\n",
      "Est remaining = 3797.5\n",
      "440000 / 941199\n",
      "Est remaining = 3724.8\n",
      "450000 / 941199\n",
      "Est remaining = 3645.1\n",
      "460000 / 941199\n",
      "Est remaining = 3561.3\n",
      "470000 / 941199\n",
      "Est remaining = 3502.2\n",
      "480000 / 941199\n",
      "Est remaining = 3428.5\n",
      "490000 / 941199\n",
      "Est remaining = 3353.8\n",
      "500000 / 941199\n",
      "Est remaining = 3283.0\n",
      "510000 / 941199\n",
      "Est remaining = 3201.1\n",
      "520000 / 941199\n",
      "Est remaining = 3123.2\n",
      "530000 / 941199\n",
      "Est remaining = 3055.8\n",
      "540000 / 941199\n",
      "Est remaining = 2984.3\n",
      "550000 / 941199\n",
      "Est remaining = 2909.3\n",
      "560000 / 941199\n",
      "Est remaining = 2839.1\n",
      "570000 / 941199\n",
      "Est remaining = 2761.4\n",
      "580000 / 941199\n",
      "Est remaining = 2691.1\n",
      "590000 / 941199\n",
      "Est remaining = 2618.3\n",
      "600000 / 941199\n",
      "Est remaining = 2546.6\n",
      "610000 / 941199\n",
      "Est remaining = 2478.8\n",
      "620000 / 941199\n",
      "Est remaining = 2409.4\n",
      "630000 / 941199\n",
      "Est remaining = 2338.2\n",
      "640000 / 941199\n",
      "Est remaining = 2264.2\n",
      "650000 / 941199\n",
      "Est remaining = 2188.8\n",
      "660000 / 941199\n",
      "Est remaining = 2110.9\n",
      "670000 / 941199\n",
      "Est remaining = 2034.3\n",
      "680000 / 941199\n",
      "Est remaining = 1970.5\n",
      "690000 / 941199\n",
      "Est remaining = 1896.5\n",
      "700000 / 941199\n",
      "Est remaining = 1819.3\n",
      "710000 / 941199\n",
      "Est remaining = 1743.6\n",
      "720000 / 941199\n",
      "Est remaining = 1666.8\n",
      "730000 / 941199\n",
      "Est remaining = 1587.4\n",
      "740000 / 941199\n",
      "Est remaining = 1509.7\n",
      "750000 / 941199\n",
      "Est remaining = 1431.8\n",
      "760000 / 941199\n",
      "Est remaining = 1354.2\n",
      "770000 / 941199\n",
      "Est remaining = 1277.1\n",
      "780000 / 941199\n",
      "Est remaining = 1200.6\n",
      "790000 / 941199\n",
      "Est remaining = 1127.3\n",
      "800000 / 941199\n",
      "Est remaining = 1051.1\n",
      "810000 / 941199\n",
      "Est remaining = 975.3\n",
      "820000 / 941199\n",
      "Est remaining = 899.7\n",
      "830000 / 941199\n",
      "Est remaining = 824.3\n",
      "840000 / 941199\n",
      "Est remaining = 749.2\n",
      "850000 / 941199\n",
      "Est remaining = 674.2\n",
      "860000 / 941199\n",
      "Est remaining = 599.7\n",
      "870000 / 941199\n",
      "Est remaining = 525.1\n",
      "880000 / 941199\n",
      "Est remaining = 450.5\n",
      "890000 / 941199\n",
      "Est remaining = 376.6\n",
      "900000 / 941199\n",
      "Est remaining = 302.7\n",
      "910000 / 941199\n",
      "Est remaining = 228.8\n",
      "920000 / 941199\n",
      "Est remaining = 155.2\n",
      "930000 / 941199\n",
      "Est remaining = 81.9\n",
      "940000 / 941199\n",
      "Est remaining = 8.8\n"
     ]
    },
    {
     "data": {
      "image/png": "[encoded data removed]",
      "text/plain": [
       "<Figure size 432x288 with 1 Axes>"
      ]
     },
     "metadata": {
      "needs_background": "light"
     },
     "output_type": "display_data"
    }
   ],
   "source": [
    "# Replace with \"traditional\" correction method\n",
    "print('Correcting energies using 7472')\n",
    "S2e_scaled = correct_energies(e0_7472, bounds_7472, Ecut, X, Y, ZS1, S2e, ltmap = lt_7472, vocal = True)"
   ]
  },
  {
   "cell_type": "code",
   "execution_count": null,
   "metadata": {},
   "outputs": [],
   "source": []
  },
  {
   "cell_type": "markdown",
   "metadata": {},
   "source": [
    "## (Uncertainty in Zrms) vs ZS1"
   ]
  },
  {
   "cell_type": "code",
   "execution_count": null,
   "metadata": {},
   "outputs": [],
   "source": [
    "# Totally done, in Paper_Zrms_kdst"
   ]
  },
  {
   "cell_type": "code",
   "execution_count": null,
   "metadata": {},
   "outputs": [],
   "source": []
  },
  {
   "cell_type": "markdown",
   "metadata": {},
   "source": [
    "## Produce map with Zrms, not ZS1"
   ]
  },
  {
   "cell_type": "code",
   "execution_count": null,
   "metadata": {},
   "outputs": [],
   "source": [
    "# Done"
   ]
  },
  {
   "cell_type": "code",
   "execution_count": null,
   "metadata": {},
   "outputs": [],
   "source": []
  },
  {
   "cell_type": "markdown",
   "metadata": {},
   "source": [
    "## Split resolution calculation (50% to correct, 50% to check)"
   ]
  },
  {
   "cell_type": "code",
   "execution_count": null,
   "metadata": {},
   "outputs": [],
   "source": [
    "# Done"
   ]
  },
  {
   "cell_type": "code",
   "execution_count": null,
   "metadata": {},
   "outputs": [],
   "source": []
  },
  {
   "cell_type": "markdown",
   "metadata": {},
   "source": [
    "## Repeat with N100 simulation data"
   ]
  },
  {
   "cell_type": "code",
   "execution_count": null,
   "metadata": {},
   "outputs": [],
   "source": [
    "# Not done"
   ]
  },
  {
   "cell_type": "code",
   "execution_count": null,
   "metadata": {},
   "outputs": [],
   "source": []
  }
 ],
 "metadata": {
  "kernelspec": {
   "display_name": "VPython",
   "language": "python",
   "name": "vpython"
  },
  "language_info": {
   "codemirror_mode": {
    "name": "ipython",
    "version": 3
   },
   "file_extension": ".py",
   "mimetype": "text/x-python",
   "name": "python",
   "nbconvert_exporter": "python",
   "pygments_lexer": "ipython3",
   "version": "3.7.7"
  }
 },
 "nbformat": 4,
 "nbformat_minor": 4
}
