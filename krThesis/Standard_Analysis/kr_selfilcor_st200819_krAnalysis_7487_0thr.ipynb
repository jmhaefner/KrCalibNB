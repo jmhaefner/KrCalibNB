{
 "cells": [
  {
   "cell_type": "markdown",
   "metadata": {},
   "source": [
    "# Demostration of ICAROS"
   ]
  },
  {
   "cell_type": "markdown",
   "metadata": {},
   "source": [
    "## The purpose of this NB is: \n",
    "\n",
    "- Selecting events.\n",
    "\n",
    "- Checking run conditions are normal.\n",
    "\n",
    "- Computing XY correction maps.\n"
   ]
  },
  {
   "cell_type": "markdown",
   "metadata": {},
   "source": [
    "## It is divided into three main sections:\n",
    "\n",
    "1. __Section A:__ Map building with the automatic script that will be run by the shifter in Canfranc.\n",
    "\n",
    "2. __Section B:__ Dissection of the script, function by function, to show the performance of each one.\n",
    "\n",
    "2. __Section C:__ In case the map is produced, map checking."
   ]
  },
  {
   "cell_type": "code",
   "execution_count": 1,
   "metadata": {},
   "outputs": [],
   "source": [
    "import os\n",
    "import logging\n",
    "import warnings\n",
    "warnings.filterwarnings(\"ignore\")\n",
    "logging.disable(logging.DEBUG)\n",
    "this_script_logger = logging.getLogger(__name__)\n",
    "this_script_logger.setLevel(logging.INFO)"
   ]
  },
  {
   "cell_type": "code",
   "execution_count": 2,
   "metadata": {},
   "outputs": [],
   "source": [
    "e_max = 900\n",
    "\n",
    "run_number = 7487 # 8070 # for testing\n",
    "# num_files = 2053 # -1 # for testing\n",
    "analysis_tag = 'krThesis_st200819_0thr' # st200819 # for testing\n",
    "processing_tag = 'standard_0thr_20201027'"
   ]
  },
  {
   "cell_type": "code",
   "execution_count": 3,
   "metadata": {},
   "outputs": [],
   "source": [
    "folder_dst       = '/Volumes/NEXT_data/IC_Data/krThesis/'+processing_tag+'/'+str(run_number)+'/'\n",
    "dst_file       = '*.h5'\n",
    "config_file    = '/Users/jmhaefner/Documents/NEXT_code/ICAROS_current/ICAROS//krcal/map_builder/config_NoChecks.conf'\n",
    "ref_histo_file = '/Users/jmhaefner/Documents/NEXT_code/ICAROS_current/ICAROS//krcal/map_builder/reference_files/z_dst_LB_mean_ref.h5'"
   ]
  },
  {
   "cell_type": "code",
   "execution_count": 4,
   "metadata": {},
   "outputs": [],
   "source": [
    "summarize = False\n",
    "summary_outputs = \"/Users/jmhaefner/Development/KryptonCalibration/KrCalibNB_JMH/KrCalibNB/doc/img/r\"+str(run_number)+'_'+analysis_tag+\"/\""
   ]
  },
  {
   "cell_type": "code",
   "execution_count": 5,
   "metadata": {},
   "outputs": [],
   "source": [
    "import subprocess\n",
    "\n",
    "if summarize:\n",
    "    bash_mkdir = \"mkdir \" + summary_outputs\n",
    "    process = subprocess.Popen(bash_mkdir, stdout=subprocess.PIPE, shell=True).wait()\n",
    "    print(bash_mkdir)\n",
    "\n",
    "    bash_mkdir = \"mkdir \" + summary_outputs + '/plots/'\n",
    "    process = subprocess.Popen(bash_mkdir, stdout=subprocess.PIPE, shell=True).wait()\n",
    "    print(bash_mkdir)"
   ]
  },
  {
   "cell_type": "code",
   "execution_count": 6,
   "metadata": {},
   "outputs": [],
   "source": [
    "if summarize:\n",
    "    vals_dir_loc = '/Users/jmhaefner/Development/KryptonCalibration/KrCalibNB_JMH/KrCalibNB/doc/data_'+str(run_number)+analysis_tag+'/'\n",
    "    bash_mkdir = \"mkdir \" + vals_dir_loc\n",
    "    process = subprocess.Popen(bash_mkdir, stdout=subprocess.PIPE, shell=True).wait()"
   ]
  },
  {
   "cell_type": "code",
   "execution_count": 7,
   "metadata": {},
   "outputs": [],
   "source": [
    "if summarize:\n",
    "    vals_loc = vals_dir_loc + 'vals_'+str(run_number)+'.txt'\n",
    "    bash_touch = \"touch \" + vals_loc\n",
    "    process = subprocess.Popen(bash_touch, stdout=subprocess.PIPE, shell=True).wait()\n",
    "    print(bash_touch)"
   ]
  },
  {
   "cell_type": "code",
   "execution_count": 8,
   "metadata": {},
   "outputs": [],
   "source": [
    "if summarize:\n",
    "    summary_vals = open(vals_loc, 'w')\n",
    "    summary_vals.write('runNumber='+str(run_number)+'\\n')\n",
    "    summary_vals.close()"
   ]
  },
  {
   "cell_type": "code",
   "execution_count": null,
   "metadata": {},
   "outputs": [],
   "source": []
  },
  {
   "cell_type": "markdown",
   "metadata": {},
   "source": [
    "*Set input/output variables and configuration file*"
   ]
  },
  {
   "cell_type": "code",
   "execution_count": 9,
   "metadata": {},
   "outputs": [
    {
     "name": "stdout",
     "output_type": "stream",
     "text": [
      "Input dst:  /Volumes/NEXT_data/IC_Data/krThesis/standard_0thr_20201027/7487/*.h5\n",
      "Output map file:  /Users/jmhaefner/Development/KryptonCalibration/KrCalibNB_JMH/KrCalibNB/maps_new/MAP_TESTTEST.h5\n",
      "Output histograms file:  /Users/jmhaefner/Development/KryptonCalibration/KrCalibNB_JMH/KrCalibNB/maps_new/MAP_TESTTEST.h5\n"
     ]
    }
   ],
   "source": [
    "from invisible_cities.core.configure         import configure\n",
    "\n",
    "output_maps_file = '/Users/jmhaefner/Development/KryptonCalibration/KrCalibNB_JMH/KrCalibNB/maps_new/'\n",
    "\n",
    "date = 'TEST'\n",
    "file_bootstrap   = '/Users/jmhaefner/Documents/NEXT_code/IC_current/IC_test/IC/invisible_cities/database/test_data/kr_emap_xy_100_100_r_6573_time.h5'\n",
    "map_file_out     = os.path.join(output_maps_file, 'MAP_TEST'+date+'.h5')\n",
    "histo_file_out   = os.path.join(output_maps_file, 'MAP_TEST'+date+'.h5')\n",
    "\n",
    "print('Input dst: ', folder_dst + dst_file)\n",
    "print('Output map file: ', map_file_out)\n",
    "print('Output histograms file: ', histo_file_out)\n",
    "\n",
    "ref_Z_histogram = dict(\n",
    "                    ref_histo_file = ref_histo_file,\n",
    "                    key_Z_histo    = 'histo_Z_dst') \n",
    "\n",
    "config = configure(f'maps {config_file}'.split())\n",
    "\n",
    "config.update(dict(folder             = folder_dst     ,\n",
    "                   file_in            = dst_file       ,\n",
    "                   file_out_map       = map_file_out   ,\n",
    "                   file_out_hists     = histo_file_out ,\n",
    "                   ref_Z_histogram    = ref_Z_histogram,\n",
    "                   run_number         = run_number     ,\n",
    "                   file_bootstrap_map = file_bootstrap))"
   ]
  },
  {
   "cell_type": "markdown",
   "metadata": {},
   "source": [
    "***"
   ]
  },
  {
   "cell_type": "markdown",
   "metadata": {},
   "source": [
    "#### Imports"
   ]
  },
  {
   "cell_type": "code",
   "execution_count": 10,
   "metadata": {},
   "outputs": [
    {
     "name": "stdout",
     "output_type": "stream",
     "text": [
      "NumExpr defaulting to 4 threads.\n"
     ]
    }
   ],
   "source": [
    "import pandas as pd\n",
    "import numpy  as np\n",
    "import matplotlib.pyplot as plt\n",
    "\n",
    "from krcal.map_builder.map_builder_functions  import load_data\n",
    "from krcal.map_builder.map_builder_functions  import check_rate_and_hist\n",
    "from krcal.map_builder.map_builder_functions  import selection_nS_mask_and_checking\n",
    "from krcal.core.kr_types                      import type_of_signal\n",
    "from krcal.map_builder.map_builder_functions  import check_Z_dst\n",
    "from krcal.map_builder.map_builder_functions  import band_selector_and_check\n",
    "from krcal.map_builder.map_builder_functions  import get_binning_auto\n",
    "from krcal.map_builder.map_builder_functions  import calculate_map\n",
    "from krcal.core.kr_types                      import FitType\n",
    "from krcal.core.selection_functions           import selection_in_band\n",
    "\n",
    "from krcal.map_builder.map_builder_functions  import check_failed_fits\n",
    "from krcal.map_builder.map_builder_functions  import regularize_map\n",
    "from krcal.map_builder.map_builder_functions  import remove_peripheral\n",
    "from krcal.map_builder.map_builder_functions  import add_krevol\n",
    "from invisible_cities.reco.corrections        import read_maps\n",
    "from krcal.map_builder.map_builder_functions  import e0_xy_correction\n",
    "\n",
    "from krcal.core.io_functions                  import write_complete_maps\n",
    "from krcal.core.selection_functions           import get_time_series_df\n",
    "\n",
    "from krcal.NB_utils   .xy_maps_functions     import draw_xy_maps\n",
    "from krcal.core       .map_functions         import relative_errors\n",
    "from krcal.core       .map_functions         import add_mapinfo\n",
    "\n",
    "from invisible_cities.reco.corrections       import apply_all_correction\n",
    "\n",
    "from krcal.NB_utils.plt_functions                import plot_s1histos\n",
    "from krcal.NB_utils.plt_functions                import s1d_from_dst\n",
    "from krcal.NB_utils.plt_functions                import plot_s2histos\n",
    "from krcal.NB_utils.plt_functions                import s2d_from_dst\n",
    "from krcal.NB_utils.plt_functions                import plot_selection_in_band\n",
    "\n",
    "from krcal.core.core_functions                import time_delta_from_time\n",
    "from krcal.core.fitmap_functions              import time_fcs_df\n",
    "from krcal.NB_utils.plt_functions             import plot_time_fcs\n",
    "\n",
    "from invisible_cities.core.configure          import configure"
   ]
  },
  {
   "cell_type": "code",
   "execution_count": null,
   "metadata": {},
   "outputs": [],
   "source": []
  },
  {
   "cell_type": "markdown",
   "metadata": {},
   "source": [
    "#### Loading data (only events inside detector chamber; i.e. R<=492)"
   ]
  },
  {
   "cell_type": "code",
   "execution_count": 11,
   "metadata": {},
   "outputs": [
    {
     "name": "stdout",
     "output_type": "stream",
     "text": [
      " Only events with R smaller than 200\n"
     ]
    }
   ],
   "source": [
    "config_values  = config.as_namespace\n",
    "quality_ranges = config_values.quality_ranges\n",
    "quality_ranges['r_max'] = 200\n",
    "print(' Only events with R smaller than {}'.format(quality_ranges['r_max']))\n",
    "inputs = load_data(input_path         = folder_dst                       ,\n",
    "                   input_dsts         = dst_file                         ,\n",
    "                   file_bootstrap_map = file_bootstrap                   ,\n",
    "                   ref_histo_file     = ref_Z_histogram['ref_histo_file'],\n",
    "                   key_Z_histo        = ref_Z_histogram['key_Z_histo']   ,\n",
    "                   quality_ranges     = quality_ranges                   )\n",
    "\n",
    "dst, bootstrapmap, ref_histos = inputs[0], inputs[1], inputs[2]"
   ]
  },
  {
   "cell_type": "code",
   "execution_count": 12,
   "metadata": {},
   "outputs": [
    {
     "data": {
      "text/plain": [
       "Index(['event', 'time', 's1_peak', 's2_peak', 'nS1', 'nS2', 'S1w', 'S1h',\n",
       "       'S1e', 'S1t', 'S2w', 'S2h', 'S2e', 'S2q', 'S2t', 'Nsipm', 'DT', 'Z',\n",
       "       'Zrms', 'X', 'Y', 'R', 'Phi', 'Xrms', 'Yrms'],\n",
       "      dtype='object')"
      ]
     },
     "execution_count": 12,
     "metadata": {},
     "output_type": "execute_result"
    }
   ],
   "source": [
    "dst.columns"
   ]
  },
  {
   "cell_type": "code",
   "execution_count": 13,
   "metadata": {},
   "outputs": [],
   "source": [
    "def exp_dt(sig):\n",
    "    \"\"\"\n",
    "    expected drift distnce  as a function of sigma of the S2 signal (Zrms from kdst 2018 version)\n",
    "    parameters from the ad-hoc fit\n",
    "    \"\"\"\n",
    "    p = [-10.00667732,  52.1855012,   12.68195726,  58.66322846, -20.11819297]\n",
    "    dt = p[0] * sig**4 + p[1] * sig**3 + p[2]*sig**2 + p[3]*sig + p[4]\n",
    "    return dt"
   ]
  },
  {
   "cell_type": "code",
   "execution_count": 14,
   "metadata": {},
   "outputs": [],
   "source": [
    "dst.Z = exp_dt(dst.Zrms)"
   ]
  },
  {
   "cell_type": "code",
   "execution_count": 15,
   "metadata": {},
   "outputs": [
    {
     "name": "stdout",
     "output_type": "stream",
     "text": [
      "nEvt, nS2 = 694028 , 775104\n"
     ]
    }
   ],
   "source": [
    "totalNumS2  = np.sum(dst[~dst.event.duplicated()].nS2)\n",
    "totalNumEvt = dst.event.nunique()\n",
    "if summarize:\n",
    "    summary_vals = open(vals_loc, 'a')\n",
    "    summary_vals.write(f'totalNumS2={totalNumS2}\\n')\n",
    "    summary_vals.write(f'totalNumEvt={totalNumEvt}\\n')\n",
    "    summary_vals.close()\n",
    "\n",
    "print('nEvt, nS2 =', totalNumEvt, ',', totalNumS2)"
   ]
  },
  {
   "cell_type": "code",
   "execution_count": null,
   "metadata": {},
   "outputs": [],
   "source": []
  },
  {
   "cell_type": "code",
   "execution_count": 16,
   "metadata": {},
   "outputs": [
    {
     "data": {
      "image/png": "[encoded data removed]",
      "text/plain": [
       "<Figure size 576x504 with 2 Axes>"
      ]
     },
     "metadata": {
      "needs_background": "light"
     },
     "output_type": "display_data"
    }
   ],
   "source": [
    "plt.figure(figsize=(8, 7))\n",
    "plt.hist2d(dst.X, dst.Y, 100);\n",
    "plt.colorbar();"
   ]
  },
  {
   "cell_type": "markdown",
   "metadata": {},
   "source": [
    "### 1st check: rate before selection"
   ]
  },
  {
   "cell_type": "markdown",
   "metadata": {},
   "source": [
    "## Event selection"
   ]
  },
  {
   "cell_type": "markdown",
   "metadata": {},
   "source": [
    "### nS1 selection (2nd check)"
   ]
  },
  {
   "cell_type": "code",
   "execution_count": 17,
   "metadata": {},
   "outputs": [],
   "source": [
    "#nS1_eff_interval = (config_values.nS1_eff_min, config_values.nS1_eff_max)\n",
    "#with pd.HDFStore(histo_file_out, \"w\", complib=str(\"zlib\"), complevel=4) as store_hist:\n",
    "#    mask_s1 = selection_nS_mask_and_checking(dst        = dst               ,\n",
    "#                                             column     = type_of_signal.nS1,\n",
    "#                                             interval   = nS1_eff_interval  ,\n",
    "#                                             output_f   = store_hist        ,\n",
    "#                                             input_mask = None              ,\n",
    "#                                             nbins_hist = 10                ,\n",
    "#                                             range_hist = (0,10)            ,\n",
    "#                                             norm       = True              )"
   ]
  },
  {
   "cell_type": "code",
   "execution_count": 18,
   "metadata": {},
   "outputs": [
    {
     "data": {
      "image/png": "[encoded data removed]",
      "text/plain": [
       "<Figure size 504x360 with 1 Axes>"
      ]
     },
     "metadata": {
      "needs_background": "light"
     },
     "output_type": "display_data"
    }
   ],
   "source": [
    "plt.figure(figsize=(7,5));\n",
    "plt.hist(dst.drop_duplicates(subset='event').nS1, 10, (0, 10))\n",
    "plt.yscale('log');\n",
    "plt.xlabel('nS1');\n",
    "plt.ylabel('Entries');\n",
    "plt.title('Number of S1 signals');"
   ]
  },
  {
   "cell_type": "code",
   "execution_count": 19,
   "metadata": {},
   "outputs": [],
   "source": [
    "mask_s1 = dst.nS1!=-1"
   ]
  },
  {
   "cell_type": "code",
   "execution_count": 20,
   "metadata": {},
   "outputs": [
    {
     "name": "stdout",
     "output_type": "stream",
     "text": [
      "S1 selection efficiency:  100.0 %\n"
     ]
    }
   ],
   "source": [
    "eff = dst[mask_s1].event.nunique()/dst.event.nunique()\n",
    "print('S1 selection efficiency: ', eff*100, '%')\n",
    "if summarize:\n",
    "    summary_vals = open(vals_loc, 'a')\n",
    "    summary_vals.write(f'fracS1={round(eff,2)}\\n')\n",
    "    summary_vals.close()"
   ]
  },
  {
   "cell_type": "markdown",
   "metadata": {},
   "source": [
    "*Some other S1 plots:*"
   ]
  },
  {
   "cell_type": "code",
   "execution_count": 21,
   "metadata": {},
   "outputs": [
    {
     "data": {
      "image/png": "[encoded data removed]",
      "text/plain": [
       "<Figure size 720x720 with 7 Axes>"
      ]
     },
     "metadata": {
      "needs_background": "light"
     },
     "output_type": "display_data"
    }
   ],
   "source": [
    "s1d = s1d_from_dst(dst)\n",
    "plot_s1histos(dst,  s1d, bins=20, figsize=(10,10))\n",
    "\n",
    "if summarize:\n",
    "    plt.savefig(summary_outputs+'s1.png')\n",
    "    print('Plot saved to', summary_outputs+'s1.png')"
   ]
  },
  {
   "cell_type": "markdown",
   "metadata": {},
   "source": [
    "### nS2 selection (3rd chech)"
   ]
  },
  {
   "cell_type": "code",
   "execution_count": 22,
   "metadata": {},
   "outputs": [],
   "source": [
    "nS2_eff_interval = (config_values.nS2_eff_min, config_values.nS2_eff_max+0.01)\n",
    "with pd.HDFStore(histo_file_out, \"w\", complib=str(\"zlib\"), complevel=4) as store_hist:\n",
    "    mask_s2 = selection_nS_mask_and_checking(dst        = dst               ,\n",
    "                                             column     = type_of_signal.nS2,\n",
    "                                             interval   = nS2_eff_interval  ,\n",
    "                                             output_f   = store_hist        ,\n",
    "                                             input_mask = mask_s1           ,\n",
    "                                             nbins_hist = 10                ,\n",
    "                                             range_hist = (0,10)            ,\n",
    "                                             norm       = True              )"
   ]
  },
  {
   "cell_type": "code",
   "execution_count": 23,
   "metadata": {},
   "outputs": [
    {
     "data": {
      "image/png": "[encoded data removed]",
      "text/plain": [
       "<Figure size 504x360 with 1 Axes>"
      ]
     },
     "metadata": {
      "needs_background": "light"
     },
     "output_type": "display_data"
    }
   ],
   "source": [
    "s2_hist = pd.read_hdf(histo_file_out, key='nS2')\n",
    "plt.figure(figsize=(7,5));\n",
    "plt.step(s2_hist.magnitude, s2_hist.entries, where='pre');\n",
    "plt.xlabel('nS2');\n",
    "plt.ylabel('Entries');\n",
    "plt.title('Number of S2 signals');"
   ]
  },
  {
   "cell_type": "code",
   "execution_count": 24,
   "metadata": {},
   "outputs": [
    {
     "name": "stdout",
     "output_type": "stream",
     "text": [
      "S2 selection efficiency:  89.02565890713343 %\n"
     ]
    }
   ],
   "source": [
    "eff = dst[mask_s2].event.nunique()/dst[mask_s1].event.nunique()\n",
    "print('S2 selection efficiency: ', eff*100, '%')\n",
    "if summarize:\n",
    "    summary_vals = open(vals_loc, 'a')\n",
    "    summary_vals.write(f'fracS2={round(eff,2)}\\n')\n",
    "    summary_vals.close()"
   ]
  },
  {
   "cell_type": "code",
   "execution_count": null,
   "metadata": {},
   "outputs": [],
   "source": []
  },
  {
   "cell_type": "code",
   "execution_count": 25,
   "metadata": {},
   "outputs": [
    {
     "name": "stdout",
     "output_type": "stream",
     "text": [
      "Overall selection efficiency:  89.02565890713343 %\n"
     ]
    }
   ],
   "source": [
    "eff = dst[mask_s2].event.nunique()/dst.event.nunique()\n",
    "print('Overall selection efficiency: ', eff*100, '%')\n",
    "if summarize:\n",
    "    summary_vals = open(vals_loc, 'a')\n",
    "    summary_vals.write(f'fracS1S2={round(eff,2)}\\n')\n",
    "    summary_vals.close()"
   ]
  },
  {
   "cell_type": "markdown",
   "metadata": {},
   "source": [
    "*Some other S2 plots:*"
   ]
  },
  {
   "cell_type": "code",
   "execution_count": 26,
   "metadata": {},
   "outputs": [
    {
     "data": {
      "image/png": "[encoded data removed]",
      "text/plain": [
       "<Figure size 720x720 with 6 Axes>"
      ]
     },
     "metadata": {
      "needs_background": "light"
     },
     "output_type": "display_data"
    }
   ],
   "source": [
    "s2d = s2d_from_dst(dst)\n",
    "plot_s2histos(dst, s2d, bins=20, emin=1000, emax=15000, figsize=(10,10))\n",
    "\n",
    "if summarize:\n",
    "    plt.savefig(summary_outputs+'s2.png')\n",
    "    print('Figure saved to', summary_outputs+'s2.png')"
   ]
  },
  {
   "cell_type": "markdown",
   "metadata": {},
   "source": [
    "### 4th check: Z distribution of events is correct"
   ]
  },
  {
   "cell_type": "code",
   "execution_count": 27,
   "metadata": {},
   "outputs": [
    {
     "ename": "AbortingMapCreation",
     "evalue": "Z distribution very different to reference one. At least 1 point out of 1000000.0 sigmas region. ",
     "output_type": "error",
     "traceback": [
      "\u001b[0;31m---------------------------------------------------------------------------\u001b[0m",
      "\u001b[0;31mAbortingMapCreation\u001b[0m                       Traceback (most recent call last)",
      "\u001b[0;32m<ipython-input-27-3fbf2fd0e799>\u001b[0m in \u001b[0;36m<module>\u001b[0;34m\u001b[0m\n\u001b[1;32m      1\u001b[0m check_Z_dst(Z_vect   = dst[mask_s2].Z            ,\n\u001b[1;32m      2\u001b[0m             \u001b[0mref_hist\u001b[0m \u001b[0;34m=\u001b[0m \u001b[0mref_histos\u001b[0m\u001b[0;34m.\u001b[0m\u001b[0mZ_dist_hist\u001b[0m    \u001b[0;34m,\u001b[0m\u001b[0;34m\u001b[0m\u001b[0;34m\u001b[0m\u001b[0m\n\u001b[0;32m----> 3\u001b[0;31m             n_sigmas = config_values.nsigmas_Zdst)\n\u001b[0m",
      "\u001b[0;32m~/Documents/NEXT_code/ICAROS_current/ICAROS/krcal/map_builder/map_builder_functions.py\u001b[0m in \u001b[0;36mcheck_Z_dst\u001b[0;34m(Z_vect, ref_hist, n_sigmas)\u001b[0m\n\u001b[1;32m    215\u001b[0m                                 \u001b[0mlow_lim\u001b[0m         \u001b[0;34m=\u001b[0m \u001b[0;34m-\u001b[0m\u001b[0mn_sigmas\u001b[0m\u001b[0;34m,\u001b[0m\u001b[0;34m\u001b[0m\u001b[0;34m\u001b[0m\u001b[0m\n\u001b[1;32m    216\u001b[0m                                 \u001b[0mup_lim\u001b[0m          \u001b[0;34m=\u001b[0m \u001b[0mn_sigmas\u001b[0m \u001b[0;34m,\u001b[0m\u001b[0;34m\u001b[0m\u001b[0;34m\u001b[0m\u001b[0m\n\u001b[0;32m--> 217\u001b[0;31m                                 raising_message = message  )\n\u001b[0m\u001b[1;32m    218\u001b[0m     \u001b[0;32mreturn\u001b[0m\u001b[0;34m;\u001b[0m\u001b[0;34m\u001b[0m\u001b[0;34m\u001b[0m\u001b[0m\n\u001b[1;32m    219\u001b[0m \u001b[0;34m\u001b[0m\u001b[0m\n",
      "\u001b[0;32m~/Documents/NEXT_code/ICAROS_current/ICAROS/krcal/map_builder/checking_functions.py\u001b[0m in \u001b[0;36mcheck_if_values_in_interval\u001b[0;34m(values, low_lim, up_lim, raising_message)\u001b[0m\n\u001b[1;32m     34\u001b[0m         \u001b[0;32mreturn\u001b[0m\u001b[0;34m;\u001b[0m\u001b[0;34m\u001b[0m\u001b[0;34m\u001b[0m\u001b[0m\n\u001b[1;32m     35\u001b[0m     \u001b[0;32melse\u001b[0m\u001b[0;34m:\u001b[0m\u001b[0;34m\u001b[0m\u001b[0;34m\u001b[0m\u001b[0m\n\u001b[0;32m---> 36\u001b[0;31m         \u001b[0;32mraise\u001b[0m \u001b[0mAbortingMapCreation\u001b[0m\u001b[0;34m(\u001b[0m\u001b[0mraising_message\u001b[0m\u001b[0;34m)\u001b[0m\u001b[0;34m\u001b[0m\u001b[0;34m\u001b[0m\u001b[0m\n\u001b[0m\u001b[1;32m     37\u001b[0m \u001b[0;34m\u001b[0m\u001b[0m\n\u001b[1;32m     38\u001b[0m \u001b[0;32mdef\u001b[0m \u001b[0mget_core\u001b[0m\u001b[0;34m(\u001b[0m\u001b[0mnbins\u001b[0m\u001b[0;34m,\u001b[0m\u001b[0mrmax\u001b[0m\u001b[0;34m,\u001b[0m \u001b[0mrfid\u001b[0m\u001b[0;34m)\u001b[0m\u001b[0;34m:\u001b[0m\u001b[0;34m\u001b[0m\u001b[0;34m\u001b[0m\u001b[0m\n",
      "\u001b[0;31mAbortingMapCreation\u001b[0m: Z distribution very different to reference one. At least 1 point out of 1000000.0 sigmas region. "
     ]
    }
   ],
   "source": [
    "check_Z_dst(Z_vect   = dst[mask_s2].Z            ,\n",
    "            ref_hist = ref_histos.Z_dist_hist    ,\n",
    "            n_sigmas = config_values.nsigmas_Zdst)"
   ]
  },
  {
   "cell_type": "code",
   "execution_count": null,
   "metadata": {},
   "outputs": [],
   "source": []
  },
  {
   "cell_type": "code",
   "execution_count": null,
   "metadata": {},
   "outputs": [],
   "source": [
    "plt.figure(figsize=(8,7));\n",
    "plt.title('Z distribution');\n",
    "plt.hist(dst[mask_s2].Z, 10, (0, 550), density=1, histtype='step', alpha=0.7, linewidth=2, label=[run_number]);\n",
    "plt.errorbar(ref_histos.Z_dist_hist.bin_centres, ref_histos.Z_dist_hist.bin_entries, yerr=ref_histos.Z_dist_hist.err_bin_entries, fmt='.k', label='reference');\n",
    "plt.legend();\n",
    "plt.ylabel('Entries');\n",
    "plt.xlabel('Z (mm)');"
   ]
  },
  {
   "cell_type": "markdown",
   "metadata": {},
   "source": [
    "*And XY distribution:*"
   ]
  },
  {
   "cell_type": "code",
   "execution_count": null,
   "metadata": {},
   "outputs": [],
   "source": []
  },
  {
   "cell_type": "code",
   "execution_count": null,
   "metadata": {},
   "outputs": [],
   "source": [
    "plt.figure(figsize=(10,8))\n",
    "plt.hist2d(dst[mask_s2].X, dst[mask_s2].Y, 50, [(-200,200),(-200,200)])\n",
    "plt.xlabel('X (mm)');\n",
    "plt.xlabel('X (mm)');\n",
    "plt.title('X vs Y');\n",
    "plt.colorbar();"
   ]
  },
  {
   "cell_type": "markdown",
   "metadata": {},
   "source": [
    "### Time stamps"
   ]
  },
  {
   "cell_type": "markdown",
   "metadata": {},
   "source": [
    "### Band selection (5th check)"
   ]
  },
  {
   "cell_type": "markdown",
   "metadata": {},
   "source": [
    "*Geom. correction with bootstrap map is applied before*:"
   ]
  },
  {
   "cell_type": "code",
   "execution_count": null,
   "metadata": {},
   "outputs": [],
   "source": [
    "draw_xy_maps(bootstrapmap)"
   ]
  },
  {
   "cell_type": "markdown",
   "metadata": {},
   "source": [
    "*Applying geometrical correction:*"
   ]
  },
  {
   "cell_type": "code",
   "execution_count": null,
   "metadata": {},
   "outputs": [],
   "source": [
    "geom_corr = e0_xy_correction(bootstrapmap)\n",
    "corr = geom_corr(dst[mask_s2].X, dst[mask_s2].Y)"
   ]
  },
  {
   "cell_type": "code",
   "execution_count": null,
   "metadata": {},
   "outputs": [],
   "source": [
    "fig = plt.figure(figsize=(14,8))\n",
    "plt.subplot(3, 1, 1)\n",
    "plt.hist2d(dst[mask_s2].Z, dst[mask_s2].S2e, 50, range=[[0,510],[0, e_max]]);\n",
    "\n",
    "plt.title('S2e uncorrected')\n",
    "plt.subplot(3, 1, 2)\n",
    "plt.hist2d(dst[mask_s2].Z, dst[mask_s2].S2e*corr, 50, range=[[0,510],[0, e_max]])\n",
    "plt.title('S2e corrected boot map')\n",
    "\n",
    "plt.subplot(3, 1, 3)\n",
    "plt.hist2d(dst[mask_s2].Z, dst[mask_s2].S2e*corr, 50, range=[[0,510],[0, e_max]])\n",
    "plt.title('S2e corrected boot map zoom')\n",
    "plt.tight_layout()"
   ]
  },
  {
   "cell_type": "markdown",
   "metadata": {},
   "source": [
    "*Selection:*"
   ]
  },
  {
   "cell_type": "code",
   "execution_count": null,
   "metadata": {},
   "outputs": [],
   "source": [
    "config['band_sel_params']"
   ]
  },
  {
   "cell_type": "code",
   "execution_count": null,
   "metadata": {},
   "outputs": [],
   "source": []
  },
  {
   "cell_type": "code",
   "execution_count": null,
   "metadata": {},
   "outputs": [],
   "source": []
  },
  {
   "cell_type": "code",
   "execution_count": null,
   "metadata": {},
   "outputs": [],
   "source": [
    "band_sel_params_new = config['band_sel_params']\n",
    "band_sel_params_new['range_Z'] = (30, 180)\n",
    "band_sel_params_new['nbins_z'] = 10\n",
    "band_sel_params_new['range_E'] = (0, e_max)\n",
    "#band_sel_params_new['range_Z'] = (10, 510)\n",
    "band_sel_params_new['nsigma_sel'] = 2.5\n",
    "#config.update(dict(map_params = map_params_new))\n",
    "\n",
    "print(band_sel_params_new)\n",
    "\n",
    "from invisible_cities.reco.corrections     import norm_strategy\n",
    "from invisible_cities.reco.corrections     import ASectorMap\n",
    "from typing      import Tuple\n",
    "from krcal.map_builder.checking_functions                  import check_if_values_in_interval\n",
    "from krcal.core.kr_types         import Range, FitPar, HistoPar2, ProfilePar\n",
    "from  invisible_cities.core.core_functions  import shift_to_bin_centers\n",
    "from  invisible_cities.core.core_functions  import in_range\n",
    "from krcal.core.fit_functions    import fit_slices_1d_gauss\n",
    "from krcal.core.fit_lt_functions import fit_lifetime_unbined\n",
    "\n",
    "def selection_in_band_mod(z         : np.array,\n",
    "                      e         : np.array,\n",
    "                      range_z   : Range,\n",
    "                      range_e   : Range,\n",
    "                      nbins_z   : int     = 50,\n",
    "                      nbins_e   : int     = 100,\n",
    "                      nsigma    : float   = 3.5) ->Tuple[np.array, FitPar, FitPar,\n",
    "                                                         HistoPar2, ProfilePar]:\n",
    "    \"\"\" This returns a selection of the events that are inside the Kr E vz Z\n",
    "    returns: np.array(bool)\n",
    "    \"\"\"\n",
    "\n",
    "    zbins  = np.linspace(*range_z, nbins_z + 1)\n",
    "    zerror = np.diff(zbins) * 0.5\n",
    "    ebins  = np.linspace(*range_e, nbins_e + 1)\n",
    "    zc = shift_to_bin_centers(zbins)\n",
    "\n",
    "    sel_e = in_range(e, *range_e)\n",
    "    mean, sigma, chi2, ok = fit_slices_1d_gauss(z[sel_e], e[sel_e], zbins, ebins, min_entries=5e2)\n",
    "    print('MEAN VALUES FOR SLICE')\n",
    "    print(mean)\n",
    "    print('STDEV FOR SLICE')\n",
    "    print(sigma)\n",
    "    e_mean  = mean.value\n",
    "    e_sigma = sigma.value\n",
    "    # 1. Profile of mean values of e in bins of z\n",
    "    #zc, e_mean, e_sigma = fitf.profileX(z, e, nbins_z, range_z, range_e)\n",
    "    #2. Fit two exponentials to e_mmean +- ns_igma * e_sigma defining a band\n",
    "    y         = e_mean +  nsigma * e_sigma\n",
    "    #for i in range(len(y)):\n",
    "    #    if y[i] == 0: y[i] = np.mean(y)\n",
    "    print('High y =', y)\n",
    "    print('zc =', zc)\n",
    "    fph, _, _    = fit_lifetime_unbined(zc, y, nbins_z, range_z)\n",
    "    print('fph =', fph)\n",
    "    y         = e_mean - nsigma * e_sigma\n",
    "    #for i in range(len(y)):\n",
    "    #    if y[i] == 0: y[i] = np.mean(y)\n",
    "    print('Low y =', y)\n",
    "    fpl, _, _ = fit_lifetime_unbined(zc, y, nbins_z, range_z)\n",
    "    print('fpl =', fpl)\n",
    "    print('fpl.f(z) =', fpl.f(zc))\n",
    "    # 3. Select events in the range defined by the band\n",
    "    sel_inband = in_range(e, fpl.f(z), fph.f(z))\n",
    "\n",
    "    hp = HistoPar2(var = z,\n",
    "                   nbins = nbins_z,\n",
    "                   range = range_z,\n",
    "                   var2 = e,\n",
    "                   nbins2 = nbins_e,\n",
    "                   range2 = range_e)\n",
    "\n",
    "    pp = ProfilePar(x = zc, xu = zerror, y = e_mean, yu = e_sigma)\n",
    "\n",
    "    return sel_inband, fpl, fph, hp, pp\n",
    "\n",
    "def band_selector_and_check_mod(dst       : pd.DataFrame,\n",
    "                           boot_map   : ASectorMap,\n",
    "                           norm_strat : norm_strategy             = norm_strategy.max,\n",
    "                           input_mask : np.array                  = None,\n",
    "                           range_Z    : Tuple[np.array, np.array] = (10, 550),\n",
    "                           range_E    : Tuple[np.array, np.array] = (10.0e+3,14e+3),\n",
    "                           nbins_z    : int                       = 50,\n",
    "                           nbins_e    : int                       = 50,\n",
    "                           nsigma_sel : float                     = 3.5,\n",
    "                           eff_min   : float                      = 0.4,\n",
    "                           eff_max   : float                      = 0.6\n",
    "                           )->np.array:\n",
    "    \"\"\"\n",
    "    This function returns a selection of the events that\n",
    "    are inside the Kr E vz Z band, and checks\n",
    "    if the selection efficiency is correct.\n",
    "    Parameters\n",
    "    ----------\n",
    "    dst : pd.DataFrame\n",
    "        Krypton dataframe.\n",
    "    boot_map: str\n",
    "        Name of bootstrap map file.\n",
    "    norm_strt: norm_strategy\n",
    "        Provides the desired normalization to be used.\n",
    "    mask_input: np.array\n",
    "        Mask of the previous selection cut.\n",
    "    range_Z: Tuple[np.array, np.array]\n",
    "        Range in Z-axis\n",
    "    range_E: Tuple[np.array, np.array]\n",
    "        Range in Energy-axis\n",
    "    nbins_z: int\n",
    "        Number of bins in Z-axis\n",
    "    nbins_e: int\n",
    "        Number of bins in energy-axis\n",
    "    nsigma_sel: float\n",
    "        Number of sigmas to set the band width\n",
    "    eff_min: float\n",
    "        Lower limit of the range where selection efficiency\n",
    "        is considered correct.\n",
    "    eff_max: float\n",
    "        Upper limit of the range where selection efficiency\n",
    "        is considered correct.\n",
    "    Returns\n",
    "    ----------\n",
    "        A  mask corresponding to the selection made.\n",
    "    \"\"\"\n",
    "    if input_mask is None:\n",
    "        input_mask = [True] * len(dst)\n",
    "    else: pass;\n",
    "\n",
    "    emaps = e0_xy_correction(boot_map, norm_strat  = norm_strat)\n",
    "    E0    = dst[input_mask].S2e.values * emaps(dst[input_mask].X.values,\n",
    "                                               dst[input_mask].Y.values)\n",
    "\n",
    "    print(E0)\n",
    "    print(np.array(dst[input_mask].Z))\n",
    "    print(input_mask)\n",
    "    sel_krband = np.zeros_like(input_mask)\n",
    "    \n",
    "    print(range_E)\n",
    "    sel_krband[input_mask], _, _, _, _ = selection_in_band_mod(dst[input_mask].Z,\n",
    "                                                           E0,\n",
    "                                                           range_z = range_Z,\n",
    "                                                           range_e = range_E,\n",
    "                                                           nbins_z = nbins_z,\n",
    "                                                           nbins_e = nbins_e,\n",
    "                                                           nsigma  = nsigma_sel)\n",
    "\n",
    "    effsel   = dst[sel_krband].event.nunique()/dst[input_mask].event.nunique()\n",
    "    message  = \"Band selection efficiency {0} \".format(np.round(effsel, 3))\n",
    "    message += \"out of range: ({0} - {1}).\".format(eff_min, eff_max)\n",
    "    check_if_values_in_interval(values          = np.array(effsel),\n",
    "                                low_lim         = eff_min         ,\n",
    "                                up_lim          = eff_max         ,\n",
    "                                raising_message = message         )\n",
    "\n",
    "    print(sum(sel_krband))\n",
    "    return sel_krband\n",
    "\n",
    "band_sel_params = config_values.band_sel_params\n",
    "mask_band = band_selector_and_check(dst        = dst         ,\n",
    "                                    boot_map   = bootstrapmap,\n",
    "                                    input_mask = mask_s2     ,\n",
    "                                    **band_sel_params_new    )\n",
    "\n",
    "print('Total num =', sum(mask_band))"
   ]
  },
  {
   "cell_type": "code",
   "execution_count": null,
   "metadata": {},
   "outputs": [],
   "source": []
  },
  {
   "cell_type": "code",
   "execution_count": null,
   "metadata": {},
   "outputs": [],
   "source": []
  },
  {
   "cell_type": "code",
   "execution_count": null,
   "metadata": {},
   "outputs": [],
   "source": [
    "mask_band"
   ]
  },
  {
   "cell_type": "code",
   "execution_count": null,
   "metadata": {},
   "outputs": [],
   "source": [
    "eff = dst[mask_band].event.nunique()/dst[mask_s2].event.nunique()\n",
    "print('Band selection efficiency: ', eff*100, '%')"
   ]
  },
  {
   "cell_type": "code",
   "execution_count": null,
   "metadata": {},
   "outputs": [],
   "source": []
  },
  {
   "cell_type": "code",
   "execution_count": null,
   "metadata": {},
   "outputs": [],
   "source": [
    "emaps = e0_xy_correction(bootstrapmap)\n",
    "E0 = dst[mask_s2].S2e.values * emaps(dst[mask_s2].X.values, dst[mask_s2].Y.values)\n",
    "\n",
    "sel_krband = np.zeros_like(mask_s2)\n",
    "sel_krband[mask_s2], fpl, fph, hp, pp = selection_in_band(dst[mask_s2].Z,\n",
    "                                                          E0,\n",
    "                                                          range_z = band_sel_params_new['range_Z'],\n",
    "                                                          range_e = band_sel_params_new['range_E'],\n",
    "                                                          nbins_z = band_sel_params_new['nbins_z'],\n",
    "                                                          nbins_e = band_sel_params_new['nbins_e'],\n",
    "                                                          nsigma  = band_sel_params_new['nsigma_sel'])"
   ]
  },
  {
   "cell_type": "code",
   "execution_count": null,
   "metadata": {},
   "outputs": [],
   "source": [
    "plot_selection_in_band(fpl, fph, hp, pp, nsigma = band_sel_params_new['nsigma_sel'])"
   ]
  },
  {
   "cell_type": "markdown",
   "metadata": {},
   "source": [
    "*Krypton peak after geometrical correction:*"
   ]
  },
  {
   "cell_type": "code",
   "execution_count": null,
   "metadata": {},
   "outputs": [],
   "source": [
    "corr_band = geom_corr(dst[mask_band].X, dst[mask_band].Y)\n",
    "fig = plt.figure(figsize=(13,6))\n",
    "plt.subplot(1, 2, 1)\n",
    "plt.hist(dst[mask_s2].S2e*corr,  bins = 50, range =(0, e_max))\n",
    "plt.title('Pre-filter');\n",
    "plt.xlabel('E (pes)');\n",
    "plt.ylabel('Entries');\n",
    "plt.subplot(1, 2, 2)\n",
    "plt.hist(dst[mask_band].S2e*corr_band,  bins = 50, range =(0, e_max))\n",
    "plt.title('Post-filter');\n",
    "plt.xlabel('E (pes)');\n",
    "plt.ylabel('Entries');"
   ]
  },
  {
   "cell_type": "code",
   "execution_count": null,
   "metadata": {},
   "outputs": [],
   "source": [
    "sel_dst = dst[mask_band]"
   ]
  },
  {
   "cell_type": "code",
   "execution_count": null,
   "metadata": {},
   "outputs": [],
   "source": [
    "plt.figure(figsize=(16,6));\n",
    "plt.subplot(1,2,1);\n",
    "plt.hist(sel_dst.Z, bins = 50, range =(0,510))\n",
    "plt.title('Z')\n",
    "plt.xlabel('Z (mm)');\n",
    "plt.subplot(1,2,2);\n",
    "plt.hist2d(sel_dst.X, sel_dst.Y, 100, [(-200,200),(-200,200)])\n",
    "plt.xlabel('X (mm)');\n",
    "plt.xlabel('X (mm)');\n",
    "plt.title('X vs Y');\n",
    "plt.colorbar();\n",
    "\n",
    "if summarize:\n",
    "    plt.savefig(summary_outputs+'EventDist_'+str(run_number)+'.png')\n",
    "    print('Figure saved to', summary_outputs+'EventDist_'+str(run_number)+'.png')"
   ]
  },
  {
   "cell_type": "markdown",
   "metadata": {},
   "source": [
    "If all selection cuts and checks are passed successfully, it is time to create the correction map."
   ]
  },
  {
   "cell_type": "markdown",
   "metadata": {},
   "source": [
    "## Map production"
   ]
  },
  {
   "cell_type": "markdown",
   "metadata": {},
   "source": [
    "#### Selection of number of XY bins"
   ]
  },
  {
   "cell_type": "code",
   "execution_count": null,
   "metadata": {},
   "outputs": [],
   "source": [
    "thr_evts_for_sel_map_bins = config_values.thr_evts_for_sel_map_bins\n",
    "default_n_bins            = config_values.default_n_bins"
   ]
  },
  {
   "cell_type": "markdown",
   "metadata": {},
   "source": [
    "- If the number of evts is greater than 1e6 -> 100x100 map\n",
    "- If the number of evts is lower than 1e6 -> 50x50 map"
   ]
  },
  {
   "cell_type": "code",
   "execution_count": null,
   "metadata": {},
   "outputs": [],
   "source": [
    "number_of_bins = get_binning_auto(nevt_sel                = sel_dst.event.nunique()  ,\n",
    "                                  thr_events_for_map_bins = thr_evts_for_sel_map_bins,\n",
    "                                  n_bins                  = default_n_bins           )\n",
    "print('Number of XY bins: ', number_of_bins, '(', sel_dst.event.nunique(), 'events)')"
   ]
  },
  {
   "cell_type": "markdown",
   "metadata": {},
   "source": [
    "### Map computation"
   ]
  },
  {
   "cell_type": "code",
   "execution_count": null,
   "metadata": {},
   "outputs": [],
   "source": [
    "map_params = config_values.map_params"
   ]
  },
  {
   "cell_type": "code",
   "execution_count": null,
   "metadata": {},
   "outputs": [],
   "source": [
    "map_params"
   ]
  },
  {
   "cell_type": "code",
   "execution_count": null,
   "metadata": {},
   "outputs": [],
   "source": [
    "map_params_new = config['map_params']\n",
    "map_params_new['nmin']   = (10)\n",
    "map_params_new['nbins_z']   = (15)\n",
    "map_params_new['z_range']   = (10, 510)\n",
    "map_params_new['e_range']    = (10000, 16000)\n",
    "map_params_new['lt_range']   = (5000, 20000)\n",
    "map_params_new['chi2_range'] = (0, 5)\n",
    "map_params_new['r_max'] = 200\n",
    "map_params_new['x_range'] = (-200, 200)\n",
    "map_params_new['y_range'] = (-200, 200)\n",
    "map_params_new['maxFailed'] = 2500"
   ]
  },
  {
   "cell_type": "code",
   "execution_count": null,
   "metadata": {},
   "outputs": [],
   "source": [
    "warnings.filterwarnings(\"ignore\")\n",
    "logging.disable(logging.DEBUG)\n",
    "this_script_logger = logging.getLogger(__name__)\n",
    "this_script_logger.setLevel(logging.INFO)"
   ]
  },
  {
   "cell_type": "code",
   "execution_count": null,
   "metadata": {},
   "outputs": [],
   "source": [
    "maps = calculate_map(dst        = sel_dst                 ,\n",
    "                     XYbins     = (number_of_bins         ,\n",
    "                                   number_of_bins)        ,\n",
    "                     nbins_z    = map_params_new['nbins_z']   ,\n",
    "                     nbins_e    = map_params_new['nbins_e']   ,\n",
    "                     z_range    = map_params_new['z_range']   ,\n",
    "                     e_range    = map_params_new['e_range']   ,\n",
    "                     chi2_range = map_params_new['chi2_range'],\n",
    "                     lt_range   = map_params_new['lt_range']  ,\n",
    "                     fit_type   = FitType.unbined         ,\n",
    "                     nmin       = map_params_new['nmin']      ,\n",
    "                     x_range    = map_params_new['x_range']   ,\n",
    "                     y_range    = map_params_new['y_range']   )"
   ]
  },
  {
   "cell_type": "markdown",
   "metadata": {},
   "source": [
    "### Last check: number of failed fits"
   ]
  },
  {
   "cell_type": "code",
   "execution_count": null,
   "metadata": {},
   "outputs": [],
   "source": [
    "maxFailed = map_params['maxFailed']\n",
    "r_max     = map_params['r_max']\n",
    "\n",
    "check_failed_fits(maps      = maps          ,\n",
    "                  maxFailed = maxFailed     ,\n",
    "                  nbins     = number_of_bins,\n",
    "                  rmax      = r_max         ,\n",
    "                  rfid      = r_max         )"
   ]
  },
  {
   "cell_type": "markdown",
   "metadata": {},
   "source": [
    "#### chi2 regularization and compute relative error maps, instead of absolute error."
   ]
  },
  {
   "cell_type": "code",
   "execution_count": null,
   "metadata": {},
   "outputs": [],
   "source": [
    "regularized_maps = regularize_map(maps    = maps                    ,\n",
    "                                  x2range = map_params['chi2_range'])\n",
    "\n",
    "regularized_maps = relative_errors(am = regularized_maps)"
   ]
  },
  {
   "cell_type": "markdown",
   "metadata": {},
   "source": [
    "Now, the outer bins are replaced by nans:"
   ]
  },
  {
   "cell_type": "code",
   "execution_count": null,
   "metadata": {},
   "outputs": [],
   "source": [
    "regularized_maps = remove_peripheral(map   = regularized_maps,\n",
    "                                     nbins = number_of_bins  ,\n",
    "                                     rmax  = r_max           ,\n",
    "                                     rfid  = r_max           )"
   ]
  },
  {
   "cell_type": "code",
   "execution_count": null,
   "metadata": {},
   "outputs": [],
   "source": [
    "draw_xy_maps(regularized_maps,\n",
    "             figsize=(14,10))"
   ]
  },
  {
   "cell_type": "code",
   "execution_count": null,
   "metadata": {},
   "outputs": [],
   "source": [
    "plt.figure(figsize=(15, 5))\n",
    "plt.subplot(121)\n",
    "plt.hist(regularized_maps.lt.values.flatten(), 100, (0, 15000));\n",
    "plt.title('lt')\n",
    "plt.xlabel('lt (mus)');\n",
    "plt.subplot(122)\n",
    "plt.hist(regularized_maps.e0.values.flatten(), 100, (0, e_max));\n",
    "plt.title('e0')\n",
    "plt.xlabel('e0 (pes)');"
   ]
  },
  {
   "cell_type": "markdown",
   "metadata": {},
   "source": [
    "#### Mapinfo table is added"
   ]
  },
  {
   "cell_type": "code",
   "execution_count": null,
   "metadata": {},
   "outputs": [],
   "source": [
    "maps = add_mapinfo(asm        = regularized_maps     ,\n",
    "                   xr         = map_params['x_range'],\n",
    "                   yr         = map_params['y_range'],\n",
    "                   nx         = number_of_bins       ,\n",
    "                   ny         = number_of_bins       ,\n",
    "                   run_number = run_number           )\n",
    "print(maps.mapinfo)"
   ]
  },
  {
   "cell_type": "markdown",
   "metadata": {},
   "source": [
    "#### Temporal evolution table is added"
   ]
  },
  {
   "cell_type": "code",
   "execution_count": null,
   "metadata": {
    "scrolled": false
   },
   "outputs": [],
   "source": [
    "#r_fid         = map_params['r_fid']\n",
    "#nStimeprofile = map_params['nStimeprofile']\n",
    "#add_krevol(maps          = maps                 ,\n",
    "#           dst           = sel_dst              ,\n",
    "#           r_fid         = r_fid                ,\n",
    "#           nStimeprofile = nStimeprofile        ,\n",
    "#           x_range       = map_params['x_range'],\n",
    "#           y_range       = map_params['y_range'],\n",
    "#           XYbins        = (number_of_bins      ,\n",
    "#                            number_of_bins     ))\n",
    "#temp = maps.t_evol"
   ]
  },
  {
   "cell_type": "code",
   "execution_count": null,
   "metadata": {},
   "outputs": [],
   "source": [
    "#plt.figure(figsize=(16, 20));\n",
    "#plt.subplot(3,2,1);\n",
    "#plt.title('e0');\n",
    "#plt.errorbar(temp.ts, temp.e0, temp.e0u, fmt='.', linestyle='-');\n",
    "#plt.subplot(3,2,2);\n",
    "#plt.title('lt');\n",
    "#plt.errorbar(temp.ts, temp['lt'], temp['ltu'], fmt='.', linestyle='-');\n",
    "#plt.subplot(3,2,3);\n",
    "#plt.title('dv');\n",
    "#plt.ylim(0.907, 0.920);\n",
    "#plt.errorbar(temp.ts, temp.dv, temp.dvu, fmt='.', linestyle='-');\n",
    "#plt.subplot(3,2,4);\n",
    "#plt.title('s1e');\n",
    "#plt.errorbar(temp.ts, temp.s1e, temp.s1eu, fmt='.', linestyle='-');\n",
    "#plt.subplot(3,2,5);\n",
    "#plt.title('s2e');\n",
    "#plt.errorbar(temp.ts, temp.s2e, temp.s2eu, fmt='.', linestyle='-');\n",
    "#plt.subplot(3,2,6);\n",
    "#plt.title('Nsipm');\n",
    "#plt.errorbar(temp.ts, temp.Nsipm, temp.Nsipmu, fmt='.', linestyle='-');"
   ]
  },
  {
   "cell_type": "markdown",
   "metadata": {},
   "source": [
    "### Writing final map"
   ]
  },
  {
   "cell_type": "code",
   "execution_count": null,
   "metadata": {},
   "outputs": [],
   "source": [
    "write_complete_maps(asm      = maps        ,\n",
    "                    filename = map_file_out)"
   ]
  },
  {
   "cell_type": "markdown",
   "metadata": {},
   "source": [
    "*****"
   ]
  },
  {
   "cell_type": "markdown",
   "metadata": {},
   "source": [
    "# Section C: Checking map <a id='SectionC'></a>\n"
   ]
  },
  {
   "cell_type": "code",
   "execution_count": null,
   "metadata": {},
   "outputs": [],
   "source": [
    "import matplotlib.pyplot as plt\n",
    "import pandas as pd\n",
    "from invisible_cities.reco.corrections       import read_maps\n",
    "from invisible_cities.reco.corrections       import apply_all_correction\n",
    "from krcal.NB_utils  .xy_maps_functions      import draw_xy_maps\n",
    "\n",
    "from krcal.NB_utils.plt_functions             import h1, h2\n",
    "from krcal.NB_utils.fit_energy_functions      import fit_energy\n",
    "from krcal.NB_utils.plt_energy_functions      import plot_fit_energy, print_fit_energy\n",
    "from krcal.NB_utils.plt_energy_functions      import resolution_r_z, plot_resolution_r_z\n",
    "\n",
    "from krcal.map_builder.map_builder_functions  import e0_xy_correction\n",
    "from krcal.map_builder.map_builder_functions  import load_data\n",
    "from krcal.map_builder.map_builder_functions  import apply_cuts\n",
    "from krcal.map_builder.map_builder_functions  import type_of_signal"
   ]
  },
  {
   "cell_type": "markdown",
   "metadata": {},
   "source": [
    "### Opening map"
   ]
  },
  {
   "cell_type": "code",
   "execution_count": null,
   "metadata": {},
   "outputs": [],
   "source": [
    "try:\n",
    "    final_map = read_maps(map_file_out)\n",
    "except FileNotFoundError:\n",
    "    print('Please run Section A or B. If you have already done it, the dst is not good enough to produce a map :(')"
   ]
  },
  {
   "cell_type": "code",
   "execution_count": null,
   "metadata": {},
   "outputs": [],
   "source": [
    "from krcal.core. kr_types        import ASectorMap\n",
    "from typing            import Optional\n",
    "from matplotlib.colors import Colormap\n",
    "import seaborn as sns\n",
    "from typing                 import Tuple\n",
    "\n",
    "def draw_xy_maps_mod(aMap    : ASectorMap,\n",
    "                 e0lims   : Optional[Tuple[float, float]] = None,\n",
    "                 ltlims   : Optional[Tuple[float, float]] = None,\n",
    "                 eulims   : Optional[Tuple[float, float]] = None,\n",
    "                 lulims   : Optional[Tuple[float, float]] = None,\n",
    "                 cmap    :  Optional[Colormap]            = None,\n",
    "                 figsize : Tuple[float, float]            = (14,10)):\n",
    "    \"\"\"\n",
    "    draws correction maps (e0, lt, e0u, ltu) in bins of xy.\n",
    "    Parameters\n",
    "    ----------\n",
    "    aMap\n",
    "        A container of maps.\n",
    "        class ASectorMap:\n",
    "            chi2  : DataFrame\n",
    "            e0    : DataFrame\n",
    "            lt    : DataFrame\n",
    "            e0u   : DataFrame\n",
    "            ltu   : DataFrame\n",
    "    e0lims\n",
    "        Defines the range of e0 in pes (e.g, (8000,14000)).\n",
    "    ltlims\n",
    "        Defines the range of lt in mus (e.g, (3000,5000)).\n",
    "    eulims\n",
    "        Defines the range of e0u in pes (or relative).\n",
    "    lulims\n",
    "        Defines the range of ltu in mus (or relative).\n",
    "    cmap\n",
    "        color map. For example: cmap = matplotlib.cm.viridis (defaults to seaborn)\n",
    "    figsize\n",
    "        Range definint the figure size.\n",
    "    Returns\n",
    "    -------\n",
    "    Nothing\n",
    "        Function produces a plot.\n",
    "    \"\"\"\n",
    "    def vmin_max(lims):\n",
    "        if lims == None:\n",
    "            vmin = None\n",
    "            vmax = None\n",
    "        else:\n",
    "            vmin=lims[0]\n",
    "            vmax=lims[1]\n",
    "        return vmin, vmax\n",
    "\n",
    "    fig = plt.figure(figsize=figsize)\n",
    "\n",
    "    ax = fig.add_subplot(2,2,1)\n",
    "    vmin, vmax = vmin_max(e0lims)\n",
    "    sns.heatmap(aMap.e0.fillna(0), vmin=vmin, vmax=vmax, cmap=cmap, square=True)\n",
    "\n",
    "    ax = fig.add_subplot(2,2,2)\n",
    "    vmin, vmax = vmin_max(eulims)\n",
    "    sns.heatmap(aMap.e0u.fillna(0), vmin=vmin, vmax=vmax, cmap=cmap, square=True)\n",
    "\n",
    "    ax = fig.add_subplot(2,2,3)\n",
    "    vmin, vmax = vmin_max(ltlims)\n",
    "    sns.heatmap(aMap.lt.fillna(0), vmin=vmin, vmax=vmax, cmap=cmap, square=True)\n",
    "\n",
    "    ax = fig.add_subplot(2,2,4)\n",
    "    vmin, vmax = vmin_max(lulims)\n",
    "    sns.heatmap(aMap.ltu.fillna(0), vmin=vmin, vmax=vmax, cmap=cmap, square=True)\n",
    "    plt.tight_layout()"
   ]
  },
  {
   "cell_type": "code",
   "execution_count": null,
   "metadata": {},
   "outputs": [],
   "source": [
    "draw_xy_maps_mod(final_map,\n",
    "             figsize=(14,10))\n",
    "if summarize:\n",
    "    plt.savefig(summary_outputs+'lt_e0_xy_'+str(run_number)+'.png')\n",
    "    print('Saved plot to', summary_outputs+'lt_e0_xy_'+str(run_number)+'.png')"
   ]
  },
  {
   "cell_type": "code",
   "execution_count": null,
   "metadata": {},
   "outputs": [],
   "source": [
    "final_map.mapinfo"
   ]
  },
  {
   "cell_type": "markdown",
   "metadata": {},
   "source": [
    "### Opening and selecting dst (only if section B is not run)"
   ]
  },
  {
   "cell_type": "code",
   "execution_count": null,
   "metadata": {},
   "outputs": [],
   "source": [
    "try :\n",
    "    sel_dst;\n",
    "except NameError:\n",
    "    config_values = config.as_namespace\n",
    "    \n",
    "    inputs = load_data(input_path         = folder_dst                  ,\n",
    "                       input_dsts         = dst_file                    ,\n",
    "                       file_bootstrap_map = file_bootstrap              ,\n",
    "                       quality_ranges     = config_values.quality_ranges,\n",
    "                       **config_values.ref_Z_histogram                  )\n",
    "\n",
    "    dst, bootstrapmap, ref_histos = inputs[0], inputs[1], inputs[2]\n",
    "    \n",
    "    with pd.HDFStore(histo_file_out, \"r+\", complib=str(\"zlib\"), complevel=4) as store_hist:\n",
    "        sel_dst = apply_cuts(dst              = dst                           ,\n",
    "                             S1_signal        = type_of_signal.nS1            ,\n",
    "                             nS1_eff_interval = (config_values.nS1_eff_min    ,\n",
    "                                                 config_values.nS1_eff_max)   ,\n",
    "                             store_hist_s1    = store_hist                    ,\n",
    "                             ns1_histo_params = config_values.ns1_histo_params,\n",
    "                             S2_signal        = type_of_signal.nS2            ,\n",
    "                             nS2_eff_interval = (config_values.nS2_eff_min    ,\n",
    "                                                 config_values.nS2_eff_max)   ,\n",
    "                             store_hist_s2    = store_hist                    ,\n",
    "                             ns2_histo_params = config_values.ns2_histo_params,\n",
    "                             nsigmas_Zdst     = config_values.nsigmas_Zdst    ,\n",
    "                             ref_Z_histo      = ref_histos.\n",
    "                                                    Z_dist_hist               ,\n",
    "                             bootstrapmap     = bootstrapmap                  ,\n",
    "                             band_sel_params  = config_values.band_sel_params )"
   ]
  },
  {
   "cell_type": "markdown",
   "metadata": {},
   "source": [
    "### Applying corrections to the selected dst"
   ]
  },
  {
   "cell_type": "code",
   "execution_count": null,
   "metadata": {},
   "outputs": [],
   "source": [
    "sel_dst = sel_dst[sel_dst.R<200]"
   ]
  },
  {
   "cell_type": "code",
   "execution_count": null,
   "metadata": {},
   "outputs": [],
   "source": [
    "geom_corr = e0_xy_correction(final_map)\n",
    "total_correction = apply_all_correction(final_map, apply_temp=False)\n",
    "\n",
    "# Correct using map created by this run\n",
    "corr_geo = geom_corr(sel_dst.X, sel_dst.Y)\n",
    "corr_tot = total_correction(sel_dst.X, sel_dst.Y, sel_dst.Z, sel_dst.time)\n",
    "\n",
    "# Correct using initial bootstrap map\n",
    "geom_corr_bootstrap = e0_xy_correction(bootstrapmap)\n",
    "corr_bootstrap = geom_corr_bootstrap(sel_dst.X, sel_dst.Y)"
   ]
  },
  {
   "cell_type": "code",
   "execution_count": null,
   "metadata": {},
   "outputs": [],
   "source": [
    "fig = plt.figure(figsize=(10,10))\n",
    "plt.subplot(3, 1, 1)\n",
    "plt.hist2d(sel_dst.Z, sel_dst.S2e, 50, [(0,510),(0,e_max)])\n",
    "plt.title('Raw energy');\n",
    "plt.subplot(3, 1, 2)\n",
    "plt.hist2d(sel_dst.Z, sel_dst.S2e*corr_geo, 50, [(0,510),(0,e_max)])\n",
    "plt.title('Geom. corrected energy');\n",
    "plt.subplot(3, 1, 3)\n",
    "plt.hist2d(sel_dst.Z, sel_dst.S2e*corr_tot, 50, [(0,510),(0,e_max)])\n",
    "plt.title('Total corrected energy');\n",
    "if summarize:\n",
    "    plt.savefig(summary_outputs+'CorrectionLT.png')\n",
    "    print('Plot saved to', summary_outputs+'CorrectionLT.png')"
   ]
  },
  {
   "cell_type": "code",
   "execution_count": null,
   "metadata": {},
   "outputs": [],
   "source": [
    "e_range = (0,e_max)\n",
    "zrange = (0,510)\n",
    "fig = plt.figure(figsize=(14,8))\n",
    "plt.subplot(1, 2, 1)\n",
    "\n",
    "nevt = h2(sel_dst.Z, sel_dst.S2e*corr_bootstrap, 30, 30, zrange, e_range, profile=True)\n",
    "plt.xlabel('Z (mm)');\n",
    "plt.ylabel('E (pes)');\n",
    "plt.title('E vs Z');\n",
    "\n",
    "ax      = fig.add_subplot(1, 2, 2)\n",
    "(_)     = h1(sel_dst.S2e*corr_bootstrap,  bins = 100, range =e_range, stats=True, lbl = 'E')\n",
    "plt.xlabel('E (pes)');\n",
    "plt.ylabel('Entries');\n",
    "plt.title('E corr');"
   ]
  },
  {
   "cell_type": "code",
   "execution_count": null,
   "metadata": {},
   "outputs": [],
   "source": [
    "fc = fit_energy(sel_dst.S2e*corr_bootstrap, nbins=100, range=(0, e_max))\n",
    "plot_fit_energy(fc)\n",
    "print_fit_energy(fc)"
   ]
  },
  {
   "cell_type": "code",
   "execution_count": null,
   "metadata": {},
   "outputs": [],
   "source": [
    "Ri = (50,100,150, 200)\n",
    "Zi = (100, 200, 300, 400, 510)\n",
    "\n",
    "FC, FCE = resolution_r_z(Ri, Zi, sel_dst.R, sel_dst.Z, sel_dst.S2e*corr_bootstrap,\n",
    "                    enbins = 50,\n",
    "                    erange = (0,e_max),\n",
    "                    ixy = (5,5),\n",
    "                    fdraw  = True,\n",
    "                    fprint = False,\n",
    "                    figsize = (18,10))\n",
    "\n",
    "if summarize:\n",
    "    plt.savefig(summary_outputs+'ResoFit.png')\n",
    "    print('Plot saved to', summary_outputs+'ResoFit.png')"
   ]
  },
  {
   "cell_type": "code",
   "execution_count": null,
   "metadata": {},
   "outputs": [],
   "source": [
    "from typing      import Iterable\n",
    "from pandas      import DataFrame\n",
    "\n",
    "def plot_resolution_r_z_mod(Ri : Iterable[float],\n",
    "                        Zi : Iterable[float],\n",
    "                        FC : DataFrame,\n",
    "                        FCE : DataFrame,\n",
    "                        r_range: Tuple[float,float] = (3.5, 4.5),\n",
    "                        figsize = (14,10)):\n",
    "\n",
    "    def extrapolate_to_qbb(es : float)->float:\n",
    "        return np.sqrt(41 / 2458) * es\n",
    "\n",
    "    def np_extrapolate_to_qbb(es : np.array)->np.array:\n",
    "        return np.sqrt(41 / 2458) * es\n",
    "\n",
    "    TEXTSIZE = 20\n",
    "    plt.rc('font', size=TEXTSIZE)\n",
    "    plt.rc('axes', titlesize=TEXTSIZE)\n",
    "    plt.rc('axes', labelsize=TEXTSIZE)\n",
    "    plt.rc('xtick', labelsize=TEXTSIZE)\n",
    "    plt.rc('ytick', labelsize=TEXTSIZE)\n",
    "    plt.rc('legend', fontsize=TEXTSIZE)\n",
    "    plt.rc('figure', titlesize=TEXTSIZE)\n",
    "\n",
    "\n",
    "    fig       = plt.figure(figsize=figsize)\n",
    "    ax  = fig.add_subplot(1, 1, 1)\n",
    "    ax2 = ax.twinx()\n",
    "    Zcenters =np.array(list(Zi))\n",
    "    for i in FC.columns:\n",
    "        label = f'0 < R < {Ri[i]:2.0f}'\n",
    "\n",
    "        es = FC[i].values\n",
    "        eus = FCE[i].values\n",
    "        qes = extrapolate_to_qbb(es)\n",
    "        qeus = extrapolate_to_qbb(eus)\n",
    "        ax.errorbar(Zcenters, es, eus,\n",
    "                    label = label,\n",
    "                    fmt='o', markersize=10., elinewidth=10.)\n",
    "        ax2.errorbar(Zcenters, qes, qeus,\n",
    "                    label = label,\n",
    "                    fmt='o', markersize=10., elinewidth=10.)\n",
    "    plt.grid(True)\n",
    "    ax.set_ylim(r_range)\n",
    "    ax2.set_ylim(np_extrapolate_to_qbb(np.array(r_range)))\n",
    "\n",
    "    ax.set_xlabel(' z (mm)')\n",
    "    ax.set_ylabel('resolution FWHM (%)')\n",
    "    ax2.set_ylabel('resolution Qbb FWHM (%)')\n",
    "\n",
    "    plt.legend()\n",
    "\n"
   ]
  },
  {
   "cell_type": "code",
   "execution_count": null,
   "metadata": {},
   "outputs": [],
   "source": [
    "print(np.array(FC))"
   ]
  },
  {
   "cell_type": "code",
   "execution_count": null,
   "metadata": {},
   "outputs": [],
   "source": [
    "print(np.array(FCE))"
   ]
  },
  {
   "cell_type": "code",
   "execution_count": null,
   "metadata": {},
   "outputs": [],
   "source": []
  },
  {
   "cell_type": "code",
   "execution_count": null,
   "metadata": {},
   "outputs": [],
   "source": []
  },
  {
   "cell_type": "code",
   "execution_count": null,
   "metadata": {},
   "outputs": [],
   "source": []
  },
  {
   "cell_type": "code",
   "execution_count": null,
   "metadata": {},
   "outputs": [],
   "source": []
  },
  {
   "cell_type": "code",
   "execution_count": null,
   "metadata": {},
   "outputs": [],
   "source": [
    "plot_resolution_r_z_mod(Ri, Zi, FC, FCE, r_range=(3.5,1.10*max( [max(np.array(FC)[i]) for i in range(len(np.array(FC)))] )))\n",
    "\n",
    "if summarize:\n",
    "    plt.savefig(summary_outputs+'ResoVsZR.png')\n",
    "    print('Plot saved to', summary_outputs+'ResoVsZR.png')"
   ]
  },
  {
   "cell_type": "markdown",
   "metadata": {},
   "source": [
    "## Time dependence of detector parameters"
   ]
  },
  {
   "cell_type": "code",
   "execution_count": null,
   "metadata": {},
   "outputs": [],
   "source": [
    "dst_time = sel_dst.sort_values('time')\n",
    "T       = dst_time.time.values\n",
    "DT      = time_delta_from_time(T)\n",
    "time_bins = 25\n",
    "\n",
    "ts, masks = get_time_series_df(time_bins, (T[0],T[-1]), sel_dst)\n",
    "\n",
    "TEXTSIZE = 12\n",
    "plt.rc('font', size=TEXTSIZE)\n",
    "plt.rc('axes', titlesize=TEXTSIZE)\n",
    "plt.rc('axes', labelsize=TEXTSIZE)\n",
    "plt.rc('xtick', labelsize=TEXTSIZE)\n",
    "plt.rc('ytick', labelsize=TEXTSIZE)\n",
    "plt.rc('legend', fontsize=TEXTSIZE)\n",
    "plt.rc('figure', titlesize=TEXTSIZE)\n",
    "\n",
    "fps = time_fcs_df(ts, masks, sel_dst, \n",
    "                 nbins_z = 15,\n",
    "                 nbins_e = 25,\n",
    "                 range_z = (10, 550),\n",
    "                 range_e = (7000, 14000),\n",
    "                 energy  = 'S2e',\n",
    "                 fit     = FitType.profile)  # fps: fit-profile series (implicit is a time series, using profile)\n",
    "\n",
    "plot_time_fcs(fps,\n",
    "              range_chi2  = (0,8),\n",
    "              range_e0    = (min(fps.e0)-max(fps.e0u), max(fps.e0)+max(fps.e0u)),\n",
    "              range_lt    = (min(fps.lt)-max(fps.ltu), max(fps.lt)+max(fps.ltu)),\n",
    "              figsize     = (12,6))\n",
    "\n",
    "if summarize:\n",
    "    plt.savefig(summary_outputs+'AverageLT.png')\n",
    "    print('Plot saved to', summary_outputs+'AverageLT.png')"
   ]
  },
  {
   "cell_type": "code",
   "execution_count": null,
   "metadata": {},
   "outputs": [],
   "source": [
    "print('Kr event rate =', totalNumEvt / max(DT), 'Hz')"
   ]
  },
  {
   "cell_type": "code",
   "execution_count": null,
   "metadata": {},
   "outputs": [],
   "source": [
    "plt.plot(T)\n",
    "\n",
    "if summarize:\n",
    "    plt.savefig(summary_outputs+'runTime.png')"
   ]
  },
  {
   "cell_type": "code",
   "execution_count": null,
   "metadata": {},
   "outputs": [],
   "source": [
    "fig = plt.figure(figsize=(10,6))\n",
    "ax      = fig.add_subplot(1, 1, 1)\n",
    "(_)    = h1(DT, bins=500, range = (DT[0], DT[-1]), color='red', stats=False, lbl='post-sel')\n",
    "\n",
    "if summarize:\n",
    "    plt.savefig(summary_outputs+'runEvt.png')"
   ]
  },
  {
   "cell_type": "code",
   "execution_count": null,
   "metadata": {},
   "outputs": [],
   "source": [
    "import invisible_cities.core.fit_functions as fitf\n",
    "\n",
    "def energy_X_profile(X      : np.array,\n",
    "                     E      : np.array,\n",
    "                     xnbins : int,\n",
    "                     xrange : Tuple[float, float],\n",
    "                     xlabel : str = 'R',\n",
    "                     erange : Tuple[float, float] = (9e+3, 14e+3),\n",
    "                     figsize : Tuple[float, float] = (10,8)):\n",
    "\n",
    "    TEXTSIZE = 20\n",
    "    plt.rc('font', size=TEXTSIZE)\n",
    "    plt.rc('axes', titlesize=TEXTSIZE)\n",
    "    plt.rc('axes', labelsize=TEXTSIZE)\n",
    "    plt.rc('xtick', labelsize=TEXTSIZE)\n",
    "    plt.rc('ytick', labelsize=TEXTSIZE)\n",
    "    plt.rc('legend', fontsize=TEXTSIZE)\n",
    "    plt.rc('figure', titlesize=TEXTSIZE)\n",
    "\n",
    "    fig = plt.figure(figsize=figsize)\n",
    "\n",
    "    x, y, yu = fitf.profileX(X, E, xnbins, xrange)\n",
    "    ax = fig.add_subplot(1, 1, 1)\n",
    "\n",
    "    plt.errorbar(x, y, yu, fmt=\"kp\", ms=7, lw=3)\n",
    "    plt.xlabel(xlabel)\n",
    "    plt.ylabel('E (pes)')\n",
    "    plt.ylim(erange)\n",
    "\n",
    "\n",
    "    \n",
    "num_xy_bins = 50\n",
    "energy_X_profile(sel_dst.R, sel_dst.S2e*corr_bootstrap, xnbins = number_of_bins, xrange=(0,200), xlabel = 'R',\n",
    "                 erange=(0, e_max),  \n",
    "                 figsize=(12,6))\n",
    "\n",
    "if summarize:\n",
    "    plt.savefig(summary_outputs+'RProfile.png')\n",
    "    print('Plot saved to', summary_outputs+'RProfile.png')"
   ]
  },
  {
   "cell_type": "code",
   "execution_count": null,
   "metadata": {},
   "outputs": [],
   "source": [
    "energy_X_profile(DT, sel_dst.S2e*corr_bootstrap, xnbins = number_of_bins, xrange=(DT[0], DT[-1]), xlabel = 'DT',\n",
    "                 erange=e_range,   \n",
    "                 figsize=(12,6))\n",
    "\n",
    "if summarize: plt.savefig(summary_outputs+'TProfile.png')"
   ]
  },
  {
   "cell_type": "code",
   "execution_count": null,
   "metadata": {},
   "outputs": [],
   "source": [
    "energy_X_profile(sel_dst.Z, sel_dst.S2e*corr_bootstrap, xnbins = number_of_bins, xrange=(0, 550), xlabel = 'Z',\n",
    "                 erange=e_range,   \n",
    "                 figsize=(12,6))\n",
    "\n",
    "if summarize:\n",
    "    plt.savefig(summary_outputs+'ZProfile.png')\n",
    "    print('Plot saved to', summary_outputs+'ZProfile.png')"
   ]
  },
  {
   "cell_type": "code",
   "execution_count": null,
   "metadata": {},
   "outputs": [],
   "source": [
    "if summarize:\n",
    "    plot_output_dir = '/Users/jmhaefner/Development/KryptonCalibration/KrCalibNB_JMH/KrCalibNB/ltMaps/plot_parameters/'\n",
    "    plot_outputs = open(plot_output_dir+'plot_outputs_'+str(run_number)+analysis_tag+'.txt','w+')\n",
    "\n",
    "    def to_output(mylist, name):\n",
    "        return name+':'+str(list(mylist))+'\\n'\n",
    "\n",
    "    plot_outputs.write(to_output(Ri, 'Ri'))\n",
    "    plot_outputs.write(to_output(Zi, 'Zi'))\n",
    "    plot_outputs.write(to_output(FC.values.T.tolist(), 'FC'))\n",
    "    plot_outputs.write(to_output(FCE.values.T.tolist(), 'FCE'))\n",
    "\n",
    "    plot_outputs.write(to_output(fps.ts, 'fps.ts'))\n",
    "    plot_outputs.write(to_output(fps.e0, 'fps.e0'))\n",
    "    plot_outputs.write(to_output(fps.e0u, 'fps.e0u'))\n",
    "    plot_outputs.write(to_output(fps.lt, 'fps.lt'))\n",
    "    plot_outputs.write(to_output(fps.ltu, 'fps.ltu'))\n",
    "    plot_outputs.write(to_output(fps.c2, 'fps.c2'))\n",
    "\n",
    "    plot_outputs.close()"
   ]
  },
  {
   "cell_type": "code",
   "execution_count": null,
   "metadata": {},
   "outputs": [],
   "source": [
    "all_fracs = []\n",
    "all_runs = []\n",
    "\n",
    "run_min = run_number - 100\n",
    "run_max = run_number + 1\n",
    "\n",
    "old_tag = 'st190819'\n",
    "\n",
    "for run in range(run_min, run_max):\n",
    "\n",
    "    outer_path = '/Users/jmhaefner/Development/KryptonCalibration/KrCalibNB_JMH/KrCalibNB/doc/data_'+str(run)+analysis_tag+'/'\n",
    "    full_path = outer_path +'vals_'+str(run)+'.txt'\n",
    "    old_path = '/Users/jmhaefner/Development/KryptonCalibration/KrCalibNB_JMH/KrCalibNB/doc/data_'+str(run)+old_tag+'/'+'vals_'+str(run)+'.txt'\n",
    "\n",
    "    if not os.path.exists(full_path):\n",
    "        full_path = old_path\n",
    "    \n",
    "    try:\n",
    "\n",
    "        test_file = open(full_path, \"r\")\n",
    "        # print(full_path)\n",
    "        for line in test_file:\n",
    "            if not line.find('fracS1S2') == -1:\n",
    "                fracS1S2 = 100 * float(line[9:])\n",
    "                # print('Frac S1 + S2 = ' + str(fracS1S2))\n",
    "                all_runs.append(run)\n",
    "                all_fracs.append(fracS1S2)\n",
    "\n",
    "    except:\n",
    "        pass\n",
    "\n",
    "plt.rc('axes', titlesize = 10)\n",
    "plt.rc('axes', labelsize = 10)\n",
    "plt.rc('font', size=10)          # controls default text sizes\n",
    "plt.rc('xtick', labelsize=10)    # fontsize of the tick labels\n",
    "plt.rc('ytick', labelsize=10)    # fontsize of the tick labels\n",
    "plt.rc('legend', fontsize=8)    # legend fontsize\n",
    "plt.rc('figure', titlesize=8)  # fontsize of the figure title\n",
    "\n",
    "plt.grid(True)\n",
    "plt.grid(linestyle='--')\n",
    "plt.plot(all_runs, all_fracs, 'o')\n",
    "plt.ylabel('1S1 + 1S2 efficiency % (inclusive)')\n",
    "plt.xlabel('Run number')\n",
    "\n",
    "if summarize:\n",
    "    plt.savefig(summary_outputs+'EffVsTime.png')\n",
    "    print('Plot saved to '+summary_outputs+'EffVsTime.png')"
   ]
  },
  {
   "cell_type": "code",
   "execution_count": null,
   "metadata": {},
   "outputs": [],
   "source": [
    "all_runs = []\n",
    "all_e0s = []\n",
    "all_lts = []\n",
    "all_res = []\n",
    "all_e0us = []\n",
    "all_ltus = []\n",
    "all_resus = []\n",
    "\n",
    "# error = sqrt(1/sum(1/sigma_i^2))\n",
    "\n",
    "old_tag = 'st190819'\n",
    "\n",
    "for run in range(run_min, run_max):\n",
    "\n",
    "    outer_path = '/Users/jmhaefner/Development/KryptonCalibration/KrCalibNB_JMH/KrCalibNB/ltMaps/plot_parameters/'\n",
    "    full_path = outer_path + 'plot_outputs_'+str(run)+analysis_tag+'.txt'\n",
    "    old_path = outer_path + 'plot_outputs_'+str(run)+old_tag+'.txt'\n",
    "    \n",
    "    if not os.path.exists(full_path):\n",
    "        full_path = old_path\n",
    "    \n",
    "    try:\n",
    "        test_file = open(full_path, \"r\")\n",
    "        all_runs.append(run)\n",
    "        for line in test_file:\n",
    "            \n",
    "            # Get the values\n",
    "            if line.find('fps.e0:') != -1:\n",
    "                run_e0s = np.array(eval(line[7:]))\n",
    "            if line.find('fps.lt:') != -1:\n",
    "                run_lts = np.array(eval(line[7:]))\n",
    "            if line.find('FC:') != -1:\n",
    "                all_res.append(eval(line[3:])[0][0])\n",
    "            if line.find('FCE:') != -1:\n",
    "                all_resus.append(eval(line[4:])[0][0])\n",
    "\n",
    "            # Get the errors\n",
    "            if line.find('fps.e0u:') != -1:\n",
    "                run_e0us = np.array(eval(line[8:]))\n",
    "            if line.find('fps.ltu:') != -1:\n",
    "                run_ltus = np.array(eval(line[8:]))\n",
    "        \n",
    "        # Combine values over time into single value\n",
    "        ltu_full = np.sqrt(1/np.sum(1/run_ltus**2))\n",
    "        e0u_full = np.sqrt(1/np.sum(1/run_e0us**2))\n",
    "        lt_weights = (ltu_full / run_ltus)**2\n",
    "        e0_weights = (e0u_full / run_e0us)**2\n",
    "        \n",
    "        all_e0s.append(np.average(run_e0s, weights = e0_weights))\n",
    "        all_e0us.append(e0u_full)\n",
    "        all_lts.append(np.average(run_lts, weights = lt_weights))\n",
    "        all_ltus.append(ltu_full)\n",
    "            \n",
    "        # fracS1S2 = 100 * float(line[9:])\n",
    "        # print('Frac S1 + S2 = ' + str(fracS1S2))\n",
    "        # all_runs_s1s2.append(run)\n",
    "        # all_fracs.append(fracS1S2)\n",
    "\n",
    "    except:\n",
    "        pass\n",
    "\n",
    "plt.rc('axes', titlesize = 10)\n",
    "plt.rc('axes', labelsize = 10)\n",
    "plt.rc('font', size=10)          # controls default text sizes\n",
    "plt.rc('xtick', labelsize=10)    # fontsize of the tick labels\n",
    "plt.rc('ytick', labelsize=10)    # fontsize of the tick labels\n",
    "plt.rc('legend', fontsize=8)    # legend fontsize\n",
    "plt.rc('figure', titlesize=8)  # fontsize of the figure title\n",
    "\n",
    "plt.grid(True)\n",
    "plt.grid(linestyle='--')\n",
    "\n",
    "def get_ylim(myData):\n",
    "    data = np.array(myData)\n",
    "    mean = np.mean(data)\n",
    "    stdev = np.std(data)\n",
    "    \n",
    "    # Cut out everything that isn't within 3 stdevs, except the most recent point\n",
    "    upper = max(mean + 2.5 * stdev, data[-1])\n",
    "    lower = min(mean - 2.5 * stdev, data[-1])\n",
    "    good_data = data[data <= upper]\n",
    "    good_data = good_data[good_data >= lower]\n",
    "    \n",
    "    # Reset the bounds to include the good data only\n",
    "    lower = np.min(good_data) - np.std(good_data)/3\n",
    "    upper = np.max(good_data) + np.std(good_data)/3\n",
    "    \n",
    "    return (lower, upper)\n",
    "\n",
    "plt.errorbar(all_runs, all_e0s, yerr = all_e0us, fmt='o')\n",
    "plt.ylabel('Avg E0')\n",
    "plt.xlabel('Run number')\n",
    "plt.ylim(get_ylim(all_e0s))\n",
    "if summarize:\n",
    "    plt.savefig(summary_outputs+'E0VsTime.png')\n",
    "    print('Plot saved to '+summary_outputs+'E0VsTime.png')\n",
    "plt.show()\n",
    "\n",
    "plt.errorbar(all_runs, all_lts, yerr = all_ltus, fmt='o')\n",
    "plt.ylabel('Avg LT')\n",
    "plt.xlabel('Run number')\n",
    "plt.ylim(get_ylim(all_lts))\n",
    "if summarize:\n",
    "    plt.savefig(summary_outputs+'LTVsTime.png')\n",
    "    print('Plot saved to '+summary_outputs+'LTVsTime.png')\n",
    "plt.show()\n",
    "\n",
    "plt.errorbar(all_runs, all_res, yerr = all_resus, fmt='o')\n",
    "plt.ylabel('Best res')\n",
    "plt.xlabel('Run number')\n",
    "plt.ylim(get_ylim(all_res))\n",
    "if summarize:\n",
    "    plt.savefig(summary_outputs+'ResVsTime.png')\n",
    "    print('Plot saved to '+summary_outputs+'ResVsTime.png')\n",
    "plt.show()"
   ]
  },
  {
   "cell_type": "code",
   "execution_count": null,
   "metadata": {},
   "outputs": [],
   "source": [
    "def ndigit(a, n):\n",
    "    a = str(a)\n",
    "    if len(a) >= n:\n",
    "        return a\n",
    "    else:\n",
    "        return '0'*(n - len(a))+a"
   ]
  },
  {
   "cell_type": "code",
   "execution_count": null,
   "metadata": {},
   "outputs": [],
   "source": [
    "from datetime import datetime\n",
    "\n",
    "mydate = datetime.fromtimestamp(T[-1])\n",
    "final_date = str(mydate.year)+'-'+ndigit(mydate.month,2)+'-'+ndigit(mydate.day,2)\n",
    "\n",
    "import codecs\n",
    "\n",
    "ctrl = 'SNS'\n",
    "\n",
    "def itemize(line):\n",
    "    items = []\n",
    "    while len(line) > 0:\n",
    "        if not line.find('\\t') == -1:\n",
    "            potential_item = line[:line.find('\\t')]\n",
    "            potential_item = potential_item.strip()\n",
    "            if not potential_item == \"\":\n",
    "                items.append(potential_item)\n",
    "            line = line[line.find('\\t')+1:]\n",
    "        elif line.find('\\n') == -1:\n",
    "            items.append(line)\n",
    "            line = \"\"\n",
    "        else:\n",
    "            line = \"\"\n",
    "    return items\n",
    "\n",
    "vessel_temps = []\n",
    "param_of_interest = \"NEW\"\n",
    "\n",
    "text_path = \"/Users/jmhaefner/Dropbox/Data/\" + ctrl + \"_Data_Report_\" + final_date + \".txt\"\n",
    "\n",
    "if os.path.isfile(text_path):\n",
    "    data_file = codecs.open(text_path, 'r', encoding='ISO-8859-1')\n",
    "    data_lines = data_file.readlines()\n",
    "\n",
    "    parameters = itemize(data_lines[2])\n",
    "    first_data = itemize(data_lines[3])\n",
    "\n",
    "    for i in range(len(parameters)):\n",
    "        try:\n",
    "            print_params = parameters[i]+'='+first_data[i]\n",
    "            #print(print_params)\n",
    "        except:\n",
    "            # print('Failed to find a value for param', [parameters[i]])\n",
    "            parameters.pop(i)\n",
    "            i -= 1\n",
    "\n",
    "    for i in range(len(parameters)):\n",
    "        for j in range(3,len(data_lines)):\n",
    "            if parameters[i] == param_of_interest:\n",
    "                itemized = itemize(data_lines[j])\n",
    "                value = float(itemized[i].replace(',', '.'))\n",
    "                vessel_temps.append(value)\n",
    "\n",
    "    day_temp = sum(vessel_temps)/(1.0 * len(vessel_temps))\n",
    "    print('The day temp on '+final_date+' was '+str(round(day_temp,1)))\n",
    "else:\n",
    "    day_temp = 'nan'\n",
    "    print('UNABLE TO FIND TEMPERATURE FILE '+text_path)\n",
    "\n",
    "if summarize:\n",
    "    summary_vals = open(vals_loc, 'a')\n",
    "    summary_vals.write('date='+final_date+'\\n')\n",
    "    if day_temp != 'nan':\n",
    "        summary_vals.write('labTempC='+str(round(day_temp,1))+'\\n')\n",
    "    else:\n",
    "        summary_vals.write('labTempC='+day_temp)\n",
    "    summary_vals.close()"
   ]
  },
  {
   "cell_type": "code",
   "execution_count": null,
   "metadata": {},
   "outputs": [],
   "source": []
  },
  {
   "cell_type": "code",
   "execution_count": null,
   "metadata": {},
   "outputs": [],
   "source": []
  },
  {
   "cell_type": "code",
   "execution_count": null,
   "metadata": {},
   "outputs": [],
   "source": []
  }
 ],
 "metadata": {
  "kernelspec": {
   "display_name": "Python 3",
   "language": "python",
   "name": "python3"
  },
  "language_info": {
   "codemirror_mode": {
    "name": "ipython",
    "version": 3
   },
   "file_extension": ".py",
   "mimetype": "text/x-python",
   "name": "python",
   "nbconvert_exporter": "python",
   "pygments_lexer": "ipython3",
   "version": "3.7.7"
  }
 },
 "nbformat": 4,
 "nbformat_minor": 2
}
