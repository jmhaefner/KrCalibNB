{
 "cells": [
  {
   "cell_type": "code",
   "execution_count": 26,
   "metadata": {},
   "outputs": [],
   "source": [
    "import json as js\n",
    "import os\n",
    "import glob\n",
    "import matplotlib.pyplot as plt\n",
    "import numpy as np"
   ]
  },
  {
   "cell_type": "code",
   "execution_count": 2,
   "metadata": {},
   "outputs": [],
   "source": [
    "new_json_dir = '/Volumes/NEXT_data/IC_Data/krThesis/sliding_window_events/variable_window_json_updated_20210218_r7479/*.json'\n",
    "old_json_dir = '/Volumes/NEXT_data/IC_Data/krThesis/sliding_window_events/variable_window_json_updated_20201222_r7479/*.json'"
   ]
  },
  {
   "cell_type": "code",
   "execution_count": 3,
   "metadata": {},
   "outputs": [],
   "source": [
    "oldfiles = glob.glob(old_json_dir)#[ old_json_dir + myfile for myfile in os.listdir(old_json_dir) ]\n",
    "newfiles = glob.glob(new_json_dir)#[ new_json_dir + myfile for myfile in os.listdir(new_json_dir) ]"
   ]
  },
  {
   "cell_type": "code",
   "execution_count": 4,
   "metadata": {},
   "outputs": [
    {
     "data": {
      "text/plain": [
       "'/Volumes/NEXT_data/IC_Data/krThesis/sliding_window_events/variable_window_json_updated_20201222_r7479/irene_test_out_0000.json'"
      ]
     },
     "execution_count": 4,
     "metadata": {},
     "output_type": "execute_result"
    }
   ],
   "source": [
    "oldfiles[0]"
   ]
  },
  {
   "cell_type": "code",
   "execution_count": 5,
   "metadata": {},
   "outputs": [
    {
     "name": "stdout",
     "output_type": "stream",
     "text": [
      "Working on file 0 ...\n",
      "Working on file 1 ...\n",
      "Working on file 2 ...\n",
      "Working on file 3 ...\n",
      "Working on file 4 ...\n",
      "Working on file 5 ...\n",
      "Working on file 6 ...\n",
      "Working on file 7 ...\n",
      "Working on file 8 ...\n",
      "Working on file 9 ...\n"
     ]
    }
   ],
   "source": [
    "ojs, njs = [], []\n",
    "for i in range(10):\n",
    "    print('Working on file', i, '...')\n",
    "    \n",
    "    # Load in the old json...\n",
    "    of = open(oldfiles[i])\n",
    "    oj = js.load(of)\n",
    "    of.close()\n",
    "    ojs.append(oj)\n",
    "    \n",
    "    # ... and the corresponding new one\n",
    "    nf = open(newfiles[i])\n",
    "    nj = js.load(nf)\n",
    "    nf.close()\n",
    "    njs.append(nj)\n",
    "    "
   ]
  },
  {
   "cell_type": "code",
   "execution_count": 6,
   "metadata": {},
   "outputs": [
    {
     "data": {
      "text/plain": [
       "dict_keys(['events_window_maxX', 'events_window_maxY', 'events_window_rms', 'events_window_width', 'events_window_energy', 'events_window_charge', 'events_window_Zrms', 'events_window_Zgauss', 'events_window_Wrms', 'events_window_Wgauss', 'events_window_r2', 'events_window_GaussOffset', 'events_sumwf', 'events_times', 'event_numbers', 'events_prewindow_sums', 'events_postwindow_sums', 'events_X_sipm_subtracted', 'events_Y_sipm_subtracted', 'events_sum_sipms', 'events_sum_sipms_postsubtracted', 'events_postwindow_sum_sipms', 'events_maxsipm_postsubtracted', 'events_sum_sipms_subtracted', 'events_prewindow_sum_sipms', 'events_maxsipm_subtracted', 'events_window_sres', 'events_window_ssres'])"
      ]
     },
     "execution_count": 6,
     "metadata": {},
     "output_type": "execute_result"
    }
   ],
   "source": [
    "ojs[0].keys()"
   ]
  },
  {
   "cell_type": "code",
   "execution_count": 28,
   "metadata": {},
   "outputs": [
    {
     "data": {
      "image/png": "[encoded data removed]",
      "text/plain": [
       "<Figure size 432x288 with 1 Axes>"
      ]
     },
     "metadata": {
      "needs_background": "light"
     },
     "output_type": "display_data"
    }
   ],
   "source": [
    "oldes = np.array([ojs[0]['events_window_energy'][i][-1] for i in range(len(ojs[0]['events_window_energy']))])\n",
    "h = plt.hist(max_energy, range = (4000, 16000), bins = 20)\n",
    "plt.show()"
   ]
  },
  {
   "cell_type": "code",
   "execution_count": 29,
   "metadata": {},
   "outputs": [
    {
     "data": {
      "image/png": "[encoded data removed]",
      "text/plain": [
       "<Figure size 432x288 with 1 Axes>"
      ]
     },
     "metadata": {
      "needs_background": "light"
     },
     "output_type": "display_data"
    }
   ],
   "source": [
    "newes = np.array([njs[0]['events_window_energy'][i][-1] for i in range(len(njs[0]['events_window_energy']))])\n",
    "h = plt.hist(max_energy, range = (4000, 16000), bins = 20)\n",
    "plt.show()"
   ]
  },
  {
   "cell_type": "code",
   "execution_count": 30,
   "metadata": {},
   "outputs": [],
   "source": [
    "newxs = np.array([njs[0]['events_window_maxX'][i][-1] for i in range(len(njs[0]['events_window_maxX']))])\n",
    "newys = np.array([njs[0]['events_window_maxY'][i][-1] for i in range(len(njs[0]['events_window_maxY']))])\n",
    "oldxs = np.array([ojs[0]['events_window_maxX'][i][-1] for i in range(len(ojs[0]['events_window_maxX']))])\n",
    "oldys = np.array([ojs[0]['events_window_maxY'][i][-1] for i in range(len(ojs[0]['events_window_maxY']))])"
   ]
  },
  {
   "cell_type": "code",
   "execution_count": 33,
   "metadata": {},
   "outputs": [
    {
     "data": {
      "image/png": "[encoded data removed]",
      "text/plain": [
       "<Figure size 432x288 with 1 Axes>"
      ]
     },
     "metadata": {
      "needs_background": "light"
     },
     "output_type": "display_data"
    }
   ],
   "source": [
    "plt.hist(oldxs[oldes > 1000])\n",
    "plt.show()"
   ]
  },
  {
   "cell_type": "code",
   "execution_count": 34,
   "metadata": {},
   "outputs": [
    {
     "data": {
      "image/png": "[encoded data removed]",
      "text/plain": [
       "<Figure size 432x288 with 1 Axes>"
      ]
     },
     "metadata": {
      "needs_background": "light"
     },
     "output_type": "display_data"
    }
   ],
   "source": [
    "plt.hist(newxs[newes > 1000])\n",
    "plt.show()"
   ]
  },
  {
   "cell_type": "code",
   "execution_count": 39,
   "metadata": {},
   "outputs": [],
   "source": [
    "t = np.array(njs[0]['events_times'][0])\n",
    "s = np.array(njs[0]['events_sumwf'][0])"
   ]
  },
  {
   "cell_type": "code",
   "execution_count": 40,
   "metadata": {},
   "outputs": [
    {
     "data": {
      "image/png": "[encoded data removed]",
      "text/plain": [
       "<Figure size 432x288 with 1 Axes>"
      ]
     },
     "metadata": {
      "needs_background": "light"
     },
     "output_type": "display_data"
    }
   ],
   "source": [
    "plt.plot(t, s)\n",
    "plt.show()"
   ]
  },
  {
   "cell_type": "code",
   "execution_count": 42,
   "metadata": {},
   "outputs": [
    {
     "data": {
      "text/plain": [
       "array([ 796.,  980.,  914.,  996., 1085., 1097.,  855., 1131., 1005.,\n",
       "        948.,  960.,  969.,  979.,  983.,  930.,  974., 1070.,  829.,\n",
       "       1230., 1028., 1169., 1089.,  701.,  897.,  810.])"
      ]
     },
     "execution_count": 42,
     "metadata": {},
     "output_type": "execute_result"
    }
   ],
   "source": [
    "np.round(t[1:] - t[:-1])"
   ]
  },
  {
   "cell_type": "code",
   "execution_count": null,
   "metadata": {},
   "outputs": [],
   "source": []
  }
 ],
 "metadata": {
  "kernelspec": {
   "display_name": "VPython",
   "language": "python",
   "name": "vpython"
  },
  "language_info": {
   "codemirror_mode": {
    "name": "ipython",
    "version": 3
   },
   "file_extension": ".py",
   "mimetype": "text/x-python",
   "name": "python",
   "nbconvert_exporter": "python",
   "pygments_lexer": "ipython3",
   "version": "3.7.7"
  }
 },
 "nbformat": 4,
 "nbformat_minor": 4
}
