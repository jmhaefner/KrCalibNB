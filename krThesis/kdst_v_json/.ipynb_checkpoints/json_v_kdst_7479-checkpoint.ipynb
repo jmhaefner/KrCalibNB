{
 "cells": [
  {
   "cell_type": "markdown",
   "metadata": {},
   "source": [
    "## Load in a single file of json, kdst and compare event by event"
   ]
  },
  {
   "cell_type": "code",
   "execution_count": 1,
   "metadata": {},
   "outputs": [],
   "source": [
    "from time import time\n",
    "t0 = time()\n",
    "import pandas as pd\n",
    "import matplotlib.pyplot as plt\n",
    "import pandas as pd\n",
    "import numpy as np"
   ]
  },
  {
   "cell_type": "code",
   "execution_count": 2,
   "metadata": {},
   "outputs": [],
   "source": [
    "runno = '7479'"
   ]
  },
  {
   "cell_type": "code",
   "execution_count": 3,
   "metadata": {},
   "outputs": [],
   "source": [
    "def ndigit(j, n):\n",
    "    j = str(j)\n",
    "    while len(j) < n:\n",
    "        j = '0' + j\n",
    "    return j"
   ]
  },
  {
   "cell_type": "code",
   "execution_count": 4,
   "metadata": {},
   "outputs": [],
   "source": [
    "def printtime(message = ''):\n",
    "    print(message, 'Current time =', round(time() - t0, 1))"
   ]
  },
  {
   "cell_type": "code",
   "execution_count": 5,
   "metadata": {},
   "outputs": [],
   "source": [
    "nfiles = 100\n",
    "all_kdst_filenames = [ '/Volumes/NEXT_data/IC_Data/kdst/7479/kdst_'+ndigit(i, 4)+'_7479_trigger1_v1.1.0_20190801_autotrigger.h5' for i in range(nfiles) ]\n",
    "all_json_filenames = [ '/Volumes/NEXT_data/IC_Data/krThesis/sliding_window_events/variable_window_json_updated_20201222_r7479/irene_test_out_'+ndigit(i, 4)+'.json' for i in range(nfiles) ]"
   ]
  },
  {
   "cell_type": "code",
   "execution_count": 6,
   "metadata": {},
   "outputs": [],
   "source": [
    "import json as js"
   ]
  },
  {
   "cell_type": "code",
   "execution_count": 7,
   "metadata": {},
   "outputs": [
    {
     "name": "stdout",
     "output_type": "stream",
     "text": [
      "File 0 Current time = 2.4\n",
      "File 5 Current time = 9.8\n",
      "File 10 Current time = 16.1\n",
      "File 15 Current time = 22.1\n",
      "File 20 Current time = 28.4\n",
      "File 25 Current time = 34.0\n",
      "File 30 Current time = 40.1\n",
      "File 35 Current time = 48.2\n",
      "File 40 Current time = 54.2\n",
      "File 45 Current time = 65.4\n",
      "File 50 Current time = 71.4\n",
      "File 55 Current time = 77.7\n",
      "File 60 Current time = 105.0\n",
      "File 65 Current time = 111.2\n",
      "File 70 Current time = 117.1\n",
      "File 75 Current time = 123.1\n",
      "File 80 Current time = 159.5\n",
      "File 85 Current time = 165.6\n",
      "File 90 Current time = 171.6\n",
      "File 95 Current time = 177.7\n",
      "End all files. Current time = 183.7\n"
     ]
    }
   ],
   "source": [
    "all_jsons, all_kdsts = [], []\n",
    "for kdst_filename, json_filename, i in zip(all_kdst_filenames, all_json_filenames, range(len(all_json_filenames))):\n",
    "    if i % 5 == 0:\n",
    "        printtime('File '+str(i))\n",
    "    \n",
    "    kdst = pd.HDFStore(kdst_filename, 'r')\n",
    "    f = open(json_filename)\n",
    "    json = js.load(f)\n",
    "    f.close()\n",
    "    \n",
    "    all_jsons.append(json)\n",
    "    all_kdsts.append(kdst)\n",
    "printtime('End all files.')"
   ]
  },
  {
   "cell_type": "code",
   "execution_count": 8,
   "metadata": {},
   "outputs": [],
   "source": [
    "file_evts = []\n",
    "for json in all_jsons:\n",
    "    evts = {}\n",
    "    for i, evt in zip(range(len(json['event_numbers'])), json['event_numbers']):\n",
    "        evts[evt] = {'X': json['events_window_maxX'][i][-1], 'Y' : json['events_window_maxY'][i][-1], 'E': json['events_window_energy'][i][-1]}\n",
    "    file_evts.append(evts)"
   ]
  },
  {
   "cell_type": "code",
   "execution_count": 9,
   "metadata": {},
   "outputs": [
    {
     "name": "stdout",
     "output_type": "stream",
     "text": [
      "Offset determined: 0 with 8 agreements\n",
      "Offset determined: 346 with 9 agreements\n",
      "Offset determined: 692 with 9 agreements\n",
      "Offset determined: 1038 with 7 agreements\n",
      "Offset determined: 1384 with 8 agreements\n",
      "Offset determined: 1730 with 9 agreements\n",
      "Offset determined: 2076 with 10 agreements\n",
      "Offset determined: 2422 with 8 agreements\n",
      "Offset determined: 2768 with 9 agreements\n",
      "Offset determined: 3114 with 8 agreements\n",
      "Offset determined: 3460 with 7 agreements\n",
      "Offset determined: 3806 with 7 agreements\n",
      "Offset determined: 4152 with 9 agreements\n",
      "Offset determined: 4498 with 10 agreements\n",
      "Offset determined: 4844 with 4 agreements\n",
      "Offset determined: 5190 with 8 agreements\n",
      "Offset determined: 5536 with 6 agreements\n",
      "Offset determined: 5882 with 4 agreements\n",
      "Offset determined: 6228 with 8 agreements\n",
      "Offset determined: 6574 with 8 agreements\n",
      "Offset determined: 6920 with 8 agreements\n",
      "Offset determined: 7266 with 7 agreements\n",
      "Offset determined: 7612 with 8 agreements\n",
      "Offset determined: 7958 with 6 agreements\n",
      "Offset determined: 8304 with 8 agreements\n",
      "Offset determined: 8650 with 8 agreements\n",
      "Offset determined: 8996 with 10 agreements\n",
      "Offset determined: 9342 with 9 agreements\n",
      "Offset determined: 9688 with 9 agreements\n",
      "Offset determined: 10034 with 7 agreements\n",
      "Offset determined: 10380 with 9 agreements\n",
      "Offset determined: 10726 with 8 agreements\n",
      "Offset determined: 11072 with 9 agreements\n",
      "Offset determined: 11418 with 7 agreements\n",
      "Offset determined: 11764 with 9 agreements\n",
      "Offset determined: 12110 with 6 agreements\n",
      "Offset determined: 12456 with 9 agreements\n",
      "Offset determined: 12802 with 7 agreements\n",
      "Offset determined: 13148 with 7 agreements\n",
      "Offset determined: 13494 with 9 agreements\n",
      "Offset determined: 13840 with 7 agreements\n",
      "Offset determined: 14186 with 9 agreements\n",
      "Offset determined: 14532 with 9 agreements\n",
      "Offset determined: 14878 with 7 agreements\n",
      "Offset determined: 15224 with 10 agreements\n",
      "Offset determined: 15570 with 9 agreements\n",
      "Offset determined: 15916 with 4 agreements\n",
      "Offset determined: 16262 with 9 agreements\n",
      "Offset determined: 16608 with 7 agreements\n",
      "Offset determined: 16954 with 8 agreements\n",
      "Offset determined: 17300 with 6 agreements\n",
      "Offset determined: 17646 with 7 agreements\n",
      "Offset determined: 17992 with 7 agreements\n",
      "Offset determined: 18338 with 10 agreements\n",
      "Offset determined: 18684 with 10 agreements\n",
      "Offset determined: 19030 with 9 agreements\n",
      "Offset determined: 19376 with 8 agreements\n",
      "Offset determined: 19722 with 8 agreements\n",
      "Offset determined: 20068 with 9 agreements\n",
      "Offset determined: 20414 with 7 agreements\n",
      "Offset determined: 20760 with 8 agreements\n",
      "Offset determined: 21106 with 8 agreements\n",
      "Offset determined: 21452 with 7 agreements\n",
      "Offset determined: 21798 with 9 agreements\n",
      "Offset determined: 22144 with 9 agreements\n",
      "Offset determined: 22490 with 8 agreements\n",
      "Offset determined: 22836 with 8 agreements\n",
      "Offset determined: 23182 with 7 agreements\n",
      "Offset determined: 23528 with 7 agreements\n",
      "Offset determined: 23874 with 10 agreements\n",
      "Offset determined: 24220 with 8 agreements\n",
      "Offset determined: 24566 with 7 agreements\n",
      "Offset determined: 24912 with 9 agreements\n",
      "Offset determined: 25258 with 8 agreements\n",
      "Offset determined: 25604 with 7 agreements\n",
      "Offset determined: 25950 with 7 agreements\n",
      "Offset determined: 26296 with 7 agreements\n",
      "Offset determined: 26642 with 9 agreements\n",
      "Offset determined: 26988 with 8 agreements\n",
      "Offset determined: 27334 with 6 agreements\n",
      "Offset determined: 27680 with 6 agreements\n",
      "Offset determined: 28026 with 8 agreements\n",
      "Offset determined: 28372 with 7 agreements\n",
      "Offset determined: 28718 with 10 agreements\n",
      "Offset determined: 29064 with 9 agreements\n",
      "Offset determined: 29410 with 9 agreements\n",
      "Offset determined: 29756 with 7 agreements\n",
      "Offset determined: 30102 with 10 agreements\n",
      "Offset determined: 30448 with 8 agreements\n",
      "Offset determined: 30794 with 5 agreements\n",
      "Offset determined: 31140 with 9 agreements\n",
      "Offset determined: 31486 with 10 agreements\n",
      "Offset determined: 31832 with 7 agreements\n",
      "Offset determined: 32178 with 9 agreements\n",
      "Offset determined: 32524 with 9 agreements\n",
      "Offset determined: 32870 with 9 agreements\n",
      "Offset determined: 33216 with 6 agreements\n",
      "Offset determined: 33562 with 5 agreements\n",
      "Offset determined: 33908 with 8 agreements\n",
      "Offset determined: 34254 with 7 agreements\n"
     ]
    }
   ],
   "source": [
    "offsets = []\n",
    "for kdst, json, evts in zip(all_kdsts, all_jsons, file_evts):\n",
    "    agree_max = 0\n",
    "    offset = None\n",
    "    for test_offset in range(kdst['DST/Events']['event'][0] - 20, kdst['DST/Events']['event'][0]):\n",
    "        agree = 0\n",
    "        disagree = 0\n",
    "        checked = 0\n",
    "        checkmax = 10\n",
    "        for event, x, y, e in zip(kdst['DST/Events'].event, kdst['DST/Events'].X, kdst['DST/Events'].Y, kdst['DST/Events'].S2e):\n",
    "            if checked >= checkmax:\n",
    "                continue\n",
    "            checked += 1\n",
    "            if (event-1-test_offset) in json['event_numbers']:\n",
    "                dx = x - evts[event-1-test_offset]['X']\n",
    "                dy = y - evts[event-1-test_offset]['Y']\n",
    "                de = e - evts[event-1-test_offset]['E']\n",
    "                if abs(dx) < 20 and abs(dy) < 20 and abs(de) / e < 0.15:\n",
    "                    agree += 1\n",
    "                else:\n",
    "                    disagree += 1\n",
    "        if agree > agree_max:\n",
    "            agree_max = agree\n",
    "            offset = test_offset\n",
    "    print('Offset determined:', offset, 'with', agree_max, 'agreements')\n",
    "    offsets.append(offset)"
   ]
  },
  {
   "cell_type": "code",
   "execution_count": null,
   "metadata": {},
   "outputs": [],
   "source": []
  },
  {
   "cell_type": "code",
   "execution_count": null,
   "metadata": {},
   "outputs": [],
   "source": []
  },
  {
   "cell_type": "code",
   "execution_count": null,
   "metadata": {},
   "outputs": [],
   "source": []
  },
  {
   "cell_type": "code",
   "execution_count": null,
   "metadata": {},
   "outputs": [],
   "source": []
  },
  {
   "cell_type": "code",
   "execution_count": null,
   "metadata": {},
   "outputs": [],
   "source": []
  },
  {
   "cell_type": "code",
   "execution_count": 10,
   "metadata": {},
   "outputs": [
    {
     "name": "stdout",
     "output_type": "stream",
     "text": [
      "Event 1 ; Shown 0 / 150\n",
      "\tKDST vs JSON E = 4731.38818359375 , 4835.684364869376\n",
      "\tabs(de)/e = 0.02\n",
      "\tDX = -4.1\n",
      "\tDY = 4.9\n",
      "\tAGREE\n",
      "Event 5 ; Shown 1 / 150\n",
      "\tKDST vs JSON E = 60826.30859375 , 60354.90525564048\n",
      "\tabs(de)/e = 0.01\n",
      "\tDX = 4.2\n",
      "\tDY = -1.3\n",
      "\tAGREE\n",
      "Event 8 ; Shown 2 / 150\n",
      "\tKDST vs JSON E = 6616.0703125 , 9169.804876118167\n",
      "\tabs(de)/e = 0.39\n",
      "\tDX = 345.7\n",
      "\tDY = -57.0\n",
      "\t!!!!! DISAGREE !!!!!\n",
      "Event 8 ; Shown 3 / 150\n",
      "\tKDST vs JSON E = 9089.0810546875 , 9169.804876118167\n",
      "\tabs(de)/e = 0.01\n",
      "\tDX = -2.9\n",
      "\tDY = 1.3\n",
      "\tAGREE\n",
      "Event 17 ; Shown 4 / 150\n",
      "\tKDST vs JSON E = 8322.09765625 , 8439.294384255873\n",
      "\tabs(de)/e = 0.01\n",
      "\tDX = -0.9\n",
      "\tDY = -0.1\n",
      "\tAGREE\n",
      "Event 23 ; Shown 5 / 150\n",
      "\tKDST vs JSON E = 7323.296875 , 7360.169016025853\n",
      "\tabs(de)/e = 0.01\n",
      "\tDX = 5.2\n",
      "\tDY = -2.6\n",
      "\tAGREE\n",
      "Event 24 ; Shown 6 / 150\n",
      "\tKDST vs JSON E = 10738.4873046875 , 10822.962959900467\n",
      "\tabs(de)/e = 0.01\n",
      "\tDX = -0.1\n",
      "\tDY = 0.6\n",
      "\tAGREE\n",
      "Event 25 ; Shown 7 / 150\n",
      "\tKDST vs JSON E = 11222.7080078125 , 11288.142143809677\n",
      "\tabs(de)/e = 0.01\n",
      "\tDX = 2.6\n",
      "\tDY = -5.0\n",
      "\tAGREE\n",
      "Event 28 ; Shown 8 / 150\n",
      "\tKDST vs JSON E = 11332.0 , 11377.05799986643\n",
      "\tabs(de)/e = 0.0\n",
      "\tDX = 0.9\n",
      "\tDY = -2.5\n",
      "\tAGREE\n",
      "Event 28 ; Shown 9 / 150\n",
      "\tKDST vs JSON E = 2308.136962890625 , 11377.05799986643\n",
      "\tabs(de)/e = 3.93\n",
      "\tDX = -264.3\n",
      "\tDY = 95.8\n",
      "\t!!!!! DISAGREE !!!!!\n",
      "Event 44 ; Shown 10 / 150\n",
      "\tKDST vs JSON E = 8749.0849609375 , 8805.160338642023\n",
      "\tabs(de)/e = 0.01\n",
      "\tDX = 3.7\n",
      "\tDY = -4.9\n",
      "\tAGREE\n",
      "Event 47 ; Shown 11 / 150\n",
      "\tKDST vs JSON E = 7514.8974609375 , 7619.120842821707\n",
      "\tabs(de)/e = 0.01\n",
      "\tDX = -5.2\n",
      "\tDY = -5.3\n",
      "\tAGREE\n",
      "Event 48 ; Shown 12 / 150\n",
      "\tKDST vs JSON E = 10662.0146484375 , 10792.337130439828\n",
      "\tabs(de)/e = 0.01\n",
      "\tDX = -1.1\n",
      "\tDY = -1.6\n",
      "\tAGREE\n",
      "Event 52 ; Shown 13 / 150\n",
      "\tKDST vs JSON E = 36460.8125 , 36556.66566466708\n",
      "\tabs(de)/e = 0.0\n",
      "\tDX = 2.9\n",
      "\tDY = 5.6\n",
      "\tAGREE\n",
      "Event 55 ; Shown 14 / 150\n",
      "\tKDST vs JSON E = 11237.154296875 , 11310.543411849734\n",
      "\tabs(de)/e = 0.01\n",
      "\tDX = -0.2\n",
      "\tDY = 0.9\n",
      "\tAGREE\n",
      "Event 59 ; Shown 15 / 150\n",
      "\tKDST vs JSON E = 11325.0400390625 , 11379.447394712892\n",
      "\tabs(de)/e = 0.0\n",
      "\tDX = 3.8\n",
      "\tDY = -3.1\n",
      "\tAGREE\n",
      "Event 74 ; Shown 16 / 150\n",
      "\tKDST vs JSON E = 10051.55859375 , 10108.86030618341\n",
      "\tabs(de)/e = 0.01\n",
      "\tDX = -0.5\n",
      "\tDY = -1.5\n",
      "\tAGREE\n",
      "Event 76 ; Shown 17 / 150\n",
      "\tKDST vs JSON E = 10941.5751953125 , 10979.1784905629\n",
      "\tabs(de)/e = 0.0\n",
      "\tDX = 2.3\n",
      "\tDY = -1.5\n",
      "\tAGREE\n",
      "Event 79 ; Shown 18 / 150\n",
      "\tKDST vs JSON E = 10874.7333984375 , 10963.265497518918\n",
      "\tabs(de)/e = 0.01\n",
      "\tDX = -5.1\n",
      "\tDY = 1.8\n",
      "\tAGREE\n",
      "Event 80 ; Shown 19 / 150\n",
      "\tKDST vs JSON E = 10811.2236328125 , 10941.66537568599\n",
      "\tabs(de)/e = 0.01\n",
      "\tDX = 4.4\n",
      "\tDY = 4.8\n",
      "\tAGREE\n",
      "Event 81 ; Shown 20 / 150\n",
      "\tKDST vs JSON E = 1197.095703125 , 1324.5355004368564\n",
      "\tabs(de)/e = 0.11\n",
      "\tDX = 4.7\n",
      "\tDY = 6.1\n",
      "\tAGREE\n",
      "Event 91 ; Shown 21 / 150\n",
      "\tKDST vs JSON E = 11344.884765625 , 11367.594900866638\n",
      "\tabs(de)/e = 0.0\n",
      "\tDX = 4.0\n",
      "\tDY = -3.6\n",
      "\tAGREE\n",
      "Event 91 ; Shown 22 / 150\n",
      "\tKDST vs JSON E = 11078.111328125 , 11367.594900866638\n",
      "\tabs(de)/e = 0.03\n",
      "\tDX = 24.1\n",
      "\tDY = 191.3\n",
      "\t!!!!! DISAGREE !!!!!\n",
      "Event 97 ; Shown 23 / 150\n",
      "\tKDST vs JSON E = 51416.67578125 , 51498.22622127619\n",
      "\tabs(de)/e = 0.0\n",
      "\tDX = -2.2\n",
      "\tDY = -7.6\n",
      "\tAGREE\n",
      "Event 99 ; Shown 24 / 150\n",
      "\tKDST vs JSON E = 10960.14453125 , 11041.940577698806\n",
      "\tabs(de)/e = 0.01\n",
      "\tDX = 0.9\n",
      "\tDY = 1.1\n",
      "\tAGREE\n",
      "Event 99 ; Shown 25 / 150\n",
      "\tKDST vs JSON E = 6050.22314453125 , 11041.940577698806\n",
      "\tabs(de)/e = 0.83\n",
      "\tDX = 311.0\n",
      "\tDY = 160.9\n",
      "\t!!!!! DISAGREE !!!!!\n",
      "Event 101 ; Shown 26 / 150\n",
      "\tKDST vs JSON E = 8239.1552734375 , 8303.434056645776\n",
      "\tabs(de)/e = 0.01\n",
      "\tDX = -2.8\n",
      "\tDY = 2.6\n",
      "\tAGREE\n",
      "Event 103 ; Shown 27 / 150\n",
      "\tKDST vs JSON E = 10201.6552734375 , 10304.143207914209\n",
      "\tabs(de)/e = 0.01\n",
      "\tDX = 2.5\n",
      "\tDY = 4.3\n",
      "\tAGREE\n",
      "Event 115 ; Shown 28 / 150\n",
      "\tKDST vs JSON E = 10782.6435546875 , 10851.247695265574\n",
      "\tabs(de)/e = 0.01\n",
      "\tDX = -5.1\n",
      "\tDY = 3.5\n",
      "\tAGREE\n",
      "Event 121 ; Shown 29 / 150\n",
      "\tKDST vs JSON E = 7004.37109375 , 7051.177574129317\n",
      "\tabs(de)/e = 0.01\n",
      "\tDX = -4.3\n",
      "\tDY = -7.3\n",
      "\tAGREE\n",
      "Event 123 ; Shown 30 / 150\n",
      "\tKDST vs JSON E = 3035.58740234375 , 3083.262644456345\n",
      "\tabs(de)/e = 0.02\n",
      "\tDX = 6.5\n",
      "\tDY = -3.0\n",
      "\tAGREE\n",
      "Event 124 ; Shown 31 / 150\n",
      "\tKDST vs JSON E = 33107.25390625 , 33183.98792776838\n",
      "\tabs(de)/e = 0.0\n",
      "\tDX = 2.1\n",
      "\tDY = -4.3\n",
      "\tAGREE\n",
      "Event 129 ; Shown 32 / 150\n",
      "\tKDST vs JSON E = 10344.75 , 8735.682157733107\n",
      "\tabs(de)/e = 0.16\n",
      "\tDX = -30.0\n",
      "\tDY = 134.5\n",
      "\t!!!!! DISAGREE !!!!!\n",
      "Event 129 ; Shown 33 / 150\n",
      "\tKDST vs JSON E = 8695.984375 , 8735.682157733107\n",
      "\tabs(de)/e = 0.0\n",
      "\tDX = 6.6\n",
      "\tDY = 1.9\n",
      "\tAGREE\n",
      "Event 131 ; Shown 34 / 150\n",
      "\tKDST vs JSON E = 58611.1015625 , 58718.22134418277\n",
      "\tabs(de)/e = 0.0\n",
      "\tDX = 1.7\n",
      "\tDY = -3.7\n",
      "\tAGREE\n",
      "Event 139 ; Shown 35 / 150\n",
      "\tKDST vs JSON E = 11395.708984375 , 11523.123006632042\n",
      "\tabs(de)/e = 0.01\n",
      "\tDX = -1.0\n",
      "\tDY = -0.3\n",
      "\tAGREE\n",
      "Event 140 ; Shown 36 / 150\n",
      "\tKDST vs JSON E = 11000.1513671875 , 11062.474328536073\n",
      "\tabs(de)/e = 0.01\n",
      "\tDX = -0.1\n",
      "\tDY = 3.7\n",
      "\tAGREE\n",
      "Event 141 ; Shown 37 / 150\n",
      "\tKDST vs JSON E = 7629.34130859375 , 7663.422650894987\n",
      "\tabs(de)/e = 0.0\n",
      "\tDX = -1.9\n",
      "\tDY = 7.4\n",
      "\tAGREE\n",
      "Event 149 ; Shown 38 / 150\n",
      "\tKDST vs JSON E = 1431.3409423828125 , 1498.58057947461\n",
      "\tabs(de)/e = 0.05\n",
      "\tDX = 4.5\n",
      "\tDY = 2.2\n",
      "\tAGREE\n",
      "Event 153 ; Shown 39 / 150\n",
      "\tKDST vs JSON E = 12024.599609375 , 12099.88831333283\n",
      "\tabs(de)/e = 0.01\n",
      "\tDX = 6.4\n",
      "\tDY = -3.8\n",
      "\tAGREE\n",
      "Event 158 ; Shown 40 / 150\n",
      "\tKDST vs JSON E = 42322.9453125 , 42376.630192249264\n",
      "\tabs(de)/e = 0.0\n",
      "\tDX = 0.6\n",
      "\tDY = -7.5\n",
      "\tAGREE\n",
      "Event 162 ; Shown 41 / 150\n",
      "\tKDST vs JSON E = 5042.3876953125 , 5083.599842374329\n",
      "\tabs(de)/e = 0.01\n",
      "\tDX = -2.9\n",
      "\tDY = -0.1\n",
      "\tAGREE\n",
      "Event 167 ; Shown 42 / 150\n",
      "\tKDST vs JSON E = 74390.25 , 74471.37697282793\n",
      "\tabs(de)/e = 0.0\n",
      "\tDX = 3.2\n",
      "\tDY = 2.6\n",
      "\tAGREE\n",
      "Event 168 ; Shown 43 / 150\n",
      "\tKDST vs JSON E = 6675.14111328125 , 6774.984925284216\n",
      "\tabs(de)/e = 0.01\n",
      "\tDX = 2.1\n",
      "\tDY = 6.9\n",
      "\tAGREE\n",
      "Event 169 ; Shown 44 / 150\n",
      "\tKDST vs JSON E = 10307.5185546875 , 10327.536189638417\n",
      "\tabs(de)/e = 0.0\n",
      "\tDX = -2.5\n",
      "\tDY = -3.0\n",
      "\tAGREE\n",
      "Event 170 ; Shown 45 / 150\n",
      "\tKDST vs JSON E = 8549.7666015625 , 8600.361391021626\n",
      "\tabs(de)/e = 0.01\n",
      "\tDX = -3.6\n",
      "\tDY = 0.8\n",
      "\tAGREE\n",
      "Event 171 ; Shown 46 / 150\n",
      "\tKDST vs JSON E = 4818.0712890625 , 4874.088366154335\n",
      "\tabs(de)/e = 0.01\n",
      "\tDX = -4.4\n",
      "\tDY = 8.9\n",
      "\tAGREE\n",
      "Event 182 ; Shown 47 / 150\n",
      "\tKDST vs JSON E = 70474.9921875 , 64850.32101787339\n",
      "\tabs(de)/e = 0.08\n",
      "\tDX = 17.4\n",
      "\tDY = 0.8\n",
      "\tAGREE\n",
      "Event 182 ; Shown 48 / 150\n",
      "\tKDST vs JSON E = 37962.484375 , 64850.32101787339\n",
      "\tabs(de)/e = 0.71\n",
      "\tDX = -74.1\n",
      "\tDY = 12.7\n",
      "\t!!!!! DISAGREE !!!!!\n",
      "Event 193 ; Shown 49 / 150\n",
      "\tKDST vs JSON E = 5319.6318359375 , 5362.372385652802\n",
      "\tabs(de)/e = 0.01\n",
      "\tDX = -2.2\n",
      "\tDY = 0.9\n",
      "\tAGREE\n",
      "Event 194 ; Shown 50 / 150\n",
      "\tKDST vs JSON E = 11574.04296875 , 11610.507653368535\n",
      "\tabs(de)/e = 0.0\n",
      "\tDX = 1.5\n",
      "\tDY = 3.8\n",
      "\tAGREE\n",
      "Event 198 ; Shown 51 / 150\n",
      "\tKDST vs JSON E = 10770.3369140625 , 10899.874140673539\n",
      "\tabs(de)/e = 0.01\n",
      "\tDX = 2.7\n",
      "\tDY = 0.8\n",
      "\tAGREE\n",
      "Event 198 ; Shown 52 / 150\n",
      "\tKDST vs JSON E = 8322.5458984375 , 10899.874140673539\n",
      "\tabs(de)/e = 0.31\n",
      "\tDX = 127.8\n",
      "\tDY = 163.0\n",
      "\t!!!!! DISAGREE !!!!!\n",
      "Event 200 ; Shown 53 / 150\n",
      "\tKDST vs JSON E = 11397.53515625 , 11431.207147538034\n",
      "\tabs(de)/e = 0.0\n",
      "\tDX = 3.4\n",
      "\tDY = -3.9\n",
      "\tAGREE\n",
      "Event 207 ; Shown 54 / 150\n",
      "\tKDST vs JSON E = 11132.716796875 , 11151.495660028111\n",
      "\tabs(de)/e = 0.0\n",
      "\tDX = -2.6\n",
      "\tDY = -3.5\n",
      "\tAGREE\n",
      "Event 212 ; Shown 55 / 150\n",
      "\tKDST vs JSON E = 9474.828125 , 9589.045999990807\n",
      "\tabs(de)/e = 0.01\n",
      "\tDX = -4.2\n",
      "\tDY = -1.6\n",
      "\tAGREE\n",
      "Event 213 ; Shown 56 / 150\n",
      "\tKDST vs JSON E = 44291.38671875 , 44369.38418591879\n",
      "\tabs(de)/e = 0.0\n",
      "\tDX = 0.7\n",
      "\tDY = -0.7\n",
      "\tAGREE\n",
      "Event 215 ; Shown 57 / 150\n",
      "\tKDST vs JSON E = 4015.907958984375 , 4145.511400698296\n",
      "\tabs(de)/e = 0.03\n",
      "\tDX = 13.0\n",
      "\tDY = -6.8\n",
      "\tAGREE\n",
      "Event 216 ; Shown 58 / 150\n",
      "\tKDST vs JSON E = 10807.3642578125 , 10928.239609378727\n",
      "\tabs(de)/e = 0.01\n",
      "\tDX = -3.1\n",
      "\tDY = -4.6\n",
      "\tAGREE\n",
      "Event 222 ; Shown 59 / 150\n",
      "\tKDST vs JSON E = 10064.794921875 , 10108.553386858373\n",
      "\tabs(de)/e = 0.0\n",
      "\tDX = -8.1\n",
      "\tDY = 5.8\n",
      "\tAGREE\n",
      "Event 222 ; Shown 60 / 150\n",
      "\tKDST vs JSON E = 6688.66259765625 , 10108.553386858373\n",
      "\tabs(de)/e = 0.51\n",
      "\tDX = -121.6\n",
      "\tDY = 250.0\n",
      "\t!!!!! DISAGREE !!!!!\n",
      "Event 228 ; Shown 61 / 150\n",
      "\tKDST vs JSON E = 9424.521484375 , 9517.206806505632\n",
      "\tabs(de)/e = 0.01\n",
      "\tDX = -2.1\n",
      "\tDY = -3.3\n",
      "\tAGREE\n",
      "Event 234 ; Shown 62 / 150\n",
      "\tKDST vs JSON E = 10528.9443359375 , 10596.272029062857\n",
      "\tabs(de)/e = 0.01\n",
      "\tDX = 0.6\n",
      "\tDY = -0.4\n",
      "\tAGREE\n",
      "Event 235 ; Shown 63 / 150\n",
      "\tKDST vs JSON E = 10988.3427734375 , 11043.878899877729\n",
      "\tabs(de)/e = 0.01\n",
      "\tDX = -0.8\n",
      "\tDY = 3.4\n",
      "\tAGREE\n",
      "Event 237 ; Shown 64 / 150\n",
      "\tKDST vs JSON E = 12182.9609375 , 12222.896097049586\n",
      "\tabs(de)/e = 0.0\n",
      "\tDX = -3.3\n",
      "\tDY = -1.6\n",
      "\tAGREE\n",
      "Event 240 ; Shown 65 / 150\n",
      "\tKDST vs JSON E = 3505.28759765625 , 3578.330696264709\n",
      "\tabs(de)/e = 0.02\n",
      "\tDX = 14.0\n",
      "\tDY = -7.2\n",
      "\tAGREE\n",
      "Event 244 ; Shown 66 / 150\n",
      "\tKDST vs JSON E = 10064.4697265625 , 10136.609693204226\n",
      "\tabs(de)/e = 0.01\n",
      "\tDX = 1.3\n",
      "\tDY = -0.6\n",
      "\tAGREE\n",
      "Event 252 ; Shown 67 / 150\n",
      "\tKDST vs JSON E = 8467.078125 , 8493.611313863761\n",
      "\tabs(de)/e = 0.0\n",
      "\tDX = 1.4\n",
      "\tDY = 4.9\n",
      "\tAGREE\n",
      "Event 252 ; Shown 68 / 150\n",
      "\tKDST vs JSON E = 11570.8125 , 8493.611313863761\n",
      "\tabs(de)/e = 0.27\n",
      "\tDX = 38.6\n",
      "\tDY = -122.1\n",
      "\t!!!!! DISAGREE !!!!!\n",
      "Event 257 ; Shown 69 / 150\n",
      "\tKDST vs JSON E = 5766.54150390625 , 10998.506348757783\n",
      "\tabs(de)/e = 0.91\n",
      "\tDX = 106.3\n",
      "\tDY = -37.3\n",
      "\t!!!!! DISAGREE !!!!!\n",
      "Event 257 ; Shown 70 / 150\n",
      "\tKDST vs JSON E = 10980.7685546875 , 10998.506348757783\n",
      "\tabs(de)/e = 0.0\n",
      "\tDX = 1.8\n",
      "\tDY = -3.9\n",
      "\tAGREE\n",
      "Event 263 ; Shown 71 / 150\n",
      "\tKDST vs JSON E = 9224.2470703125 , 9294.034348576708\n",
      "\tabs(de)/e = 0.01\n",
      "\tDX = 0.3\n",
      "\tDY = -1.6\n",
      "\tAGREE\n",
      "Event 269 ; Shown 72 / 150\n",
      "\tKDST vs JSON E = 8243.787109375 , 8353.903401623007\n",
      "\tabs(de)/e = 0.01\n",
      "\tDX = -2.5\n",
      "\tDY = -1.5\n",
      "\tAGREE\n",
      "Event 274 ; Shown 73 / 150\n",
      "\tKDST vs JSON E = 29998.724609375 , 30064.712334418484\n",
      "\tabs(de)/e = 0.0\n",
      "\tDX = 0.9\n",
      "\tDY = 3.7\n",
      "\tAGREE\n",
      "Event 274 ; Shown 74 / 150\n",
      "\tKDST vs JSON E = 9467.1767578125 , 30064.712334418484\n",
      "\tabs(de)/e = 2.18\n",
      "\tDX = 95.4\n",
      "\tDY = -103.3\n",
      "\t!!!!! DISAGREE !!!!!\n",
      "Event 277 ; Shown 75 / 150\n",
      "\tKDST vs JSON E = 8469.5849609375 , 8564.507568035053\n",
      "\tabs(de)/e = 0.01\n",
      "\tDX = -4.9\n",
      "\tDY = 2.9\n",
      "\tAGREE\n",
      "Event 280 ; Shown 76 / 150\n",
      "\tKDST vs JSON E = 9643.6044921875 , 9764.31927358152\n",
      "\tabs(de)/e = 0.01\n",
      "\tDX = 3.1\n",
      "\tDY = -0.7\n",
      "\tAGREE\n"
     ]
    },
    {
     "name": "stdout",
     "output_type": "stream",
     "text": [
      "Event 283 ; Shown 77 / 150\n",
      "\tKDST vs JSON E = 10854.4130859375 , 10913.315485876063\n",
      "\tabs(de)/e = 0.01\n",
      "\tDX = -2.6\n",
      "\tDY = -1.3\n",
      "\tAGREE\n",
      "Event 283 ; Shown 78 / 150\n",
      "\tKDST vs JSON E = 9306.8310546875 , 10913.315485876063\n",
      "\tabs(de)/e = 0.17\n",
      "\tDX = 306.8\n",
      "\tDY = 68.3\n",
      "\t!!!!! DISAGREE !!!!!\n",
      "Event 284 ; Shown 79 / 150\n",
      "\tKDST vs JSON E = 6910.033203125 , 45194.21208067813\n",
      "\tabs(de)/e = 5.54\n",
      "\tDX = 94.2\n",
      "\tDY = 222.2\n",
      "\t!!!!! DISAGREE !!!!!\n",
      "Event 284 ; Shown 80 / 150\n",
      "\tKDST vs JSON E = 45116.1484375 , 45194.21208067813\n",
      "\tabs(de)/e = 0.0\n",
      "\tDX = -1.9\n",
      "\tDY = 5.3\n",
      "\tAGREE\n",
      "Event 287 ; Shown 81 / 150\n",
      "\tKDST vs JSON E = 8878.2529296875 , 8895.763641355945\n",
      "\tabs(de)/e = 0.0\n",
      "\tDX = -3.4\n",
      "\tDY = -2.3\n",
      "\tAGREE\n",
      "Event 292 ; Shown 82 / 150\n",
      "\tKDST vs JSON E = 9541.1845703125 , 9588.246808841972\n",
      "\tabs(de)/e = 0.0\n",
      "\tDX = 0.6\n",
      "\tDY = -2.9\n",
      "\tAGREE\n",
      "Event 300 ; Shown 83 / 150\n",
      "\tKDST vs JSON E = 76446.765625 , 76494.15192784781\n",
      "\tabs(de)/e = 0.0\n",
      "\tDX = 5.1\n",
      "\tDY = 5.7\n",
      "\tAGREE\n",
      "Event 300 ; Shown 84 / 150\n",
      "\tKDST vs JSON E = 6574.58447265625 , 76494.15192784781\n",
      "\tabs(de)/e = 10.63\n",
      "\tDX = -14.6\n",
      "\tDY = -3.2\n",
      "\t!!!!! DISAGREE !!!!!\n",
      "Event 306 ; Shown 85 / 150\n",
      "\tKDST vs JSON E = 10607.796875 , 10687.17540548289\n",
      "\tabs(de)/e = 0.01\n",
      "\tDX = -1.9\n",
      "\tDY = -1.2\n",
      "\tAGREE\n",
      "Event 309 ; Shown 86 / 150\n",
      "\tKDST vs JSON E = 5783.86767578125 , 5889.770073446468\n",
      "\tabs(de)/e = 0.02\n",
      "\tDX = -3.9\n",
      "\tDY = -4.8\n",
      "\tAGREE\n",
      "Event 310 ; Shown 87 / 150\n",
      "\tKDST vs JSON E = 9201.685546875 , 9284.4183713385\n",
      "\tabs(de)/e = 0.01\n",
      "\tDX = 1.1\n",
      "\tDY = 6.1\n",
      "\tAGREE\n",
      "Event 314 ; Shown 88 / 150\n",
      "\tKDST vs JSON E = 8084.736328125 , 8190.696798710319\n",
      "\tabs(de)/e = 0.01\n",
      "\tDX = -0.3\n",
      "\tDY = 5.0\n",
      "\tAGREE\n",
      "Event 320 ; Shown 89 / 150\n",
      "\tKDST vs JSON E = 10025.392578125 , 10098.000383022927\n",
      "\tabs(de)/e = 0.01\n",
      "\tDX = -0.9\n",
      "\tDY = -1.4\n",
      "\tAGREE\n",
      "Event 321 ; Shown 90 / 150\n",
      "\tKDST vs JSON E = 10176.806640625 , 10211.045904835964\n",
      "\tabs(de)/e = 0.0\n",
      "\tDX = 1.7\n",
      "\tDY = 2.8\n",
      "\tAGREE\n",
      "Event 323 ; Shown 91 / 150\n",
      "\tKDST vs JSON E = 9580.9970703125 , 9675.731871642145\n",
      "\tabs(de)/e = 0.01\n",
      "\tDX = 3.0\n",
      "\tDY = -3.2\n",
      "\tAGREE\n",
      "Event 324 ; Shown 92 / 150\n",
      "\tKDST vs JSON E = 11549.1201171875 , 11618.635738488689\n",
      "\tabs(de)/e = 0.01\n",
      "\tDX = -4.7\n",
      "\tDY = -3.8\n",
      "\tAGREE\n",
      "Event 333 ; Shown 93 / 150\n",
      "\tKDST vs JSON E = 9663.2294921875 , 9994.528644315189\n",
      "\tabs(de)/e = 0.03\n",
      "\tDX = -226.9\n",
      "\tDY = -22.3\n",
      "\t!!!!! DISAGREE !!!!!\n",
      "Event 333 ; Shown 94 / 150\n",
      "\tKDST vs JSON E = 9881.5537109375 , 9994.528644315189\n",
      "\tabs(de)/e = 0.01\n",
      "\tDX = -2.2\n",
      "\tDY = -1.2\n",
      "\tAGREE\n",
      "Event 337 ; Shown 95 / 150\n",
      "\tKDST vs JSON E = 8144.865234375 , 8271.014173807867\n",
      "\tabs(de)/e = 0.02\n",
      "\tDX = -3.8\n",
      "\tDY = 5.7\n",
      "\tAGREE\n",
      "Event 352 ; Shown 96 / 150\n",
      "\tKDST vs JSON E = 9979.763671875 , 10084.038552735388\n",
      "\tabs(de)/e = 0.01\n",
      "\tDX = 0.4\n",
      "\tDY = 2.1\n",
      "\tAGREE\n",
      "Event 354 ; Shown 97 / 150\n",
      "\tKDST vs JSON E = 7583.37744140625 , 7634.822056749511\n",
      "\tabs(de)/e = 0.01\n",
      "\tDX = -5.9\n",
      "\tDY = 3.2\n",
      "\tAGREE\n",
      "Event 354 ; Shown 98 / 150\n",
      "\tKDST vs JSON E = 7949.5859375 , 7634.822056749511\n",
      "\tabs(de)/e = 0.04\n",
      "\tDX = 64.7\n",
      "\tDY = 65.0\n",
      "\t!!!!! DISAGREE !!!!!\n",
      "Event 355 ; Shown 99 / 150\n",
      "\tKDST vs JSON E = 12045.1962890625 , 12116.996410121781\n",
      "\tabs(de)/e = 0.01\n",
      "\tDX = -1.7\n",
      "\tDY = -4.6\n",
      "\tAGREE\n",
      "Event 358 ; Shown 100 / 150\n",
      "\tKDST vs JSON E = 11509.03515625 , 11572.406985622967\n",
      "\tabs(de)/e = 0.01\n",
      "\tDX = 5.6\n",
      "\tDY = -5.2\n",
      "\tAGREE\n",
      "Event 360 ; Shown 101 / 150\n",
      "\tKDST vs JSON E = 11491.2177734375 , 11614.18577840147\n",
      "\tabs(de)/e = 0.01\n",
      "\tDX = 1.5\n",
      "\tDY = -7.5\n",
      "\tAGREE\n",
      "Event 361 ; Shown 102 / 150\n",
      "\tKDST vs JSON E = 23650.056640625 , 23729.834285962304\n",
      "\tabs(de)/e = 0.0\n",
      "\tDX = -3.2\n",
      "\tDY = -0.4\n",
      "\tAGREE\n",
      "Event 367 ; Shown 103 / 150\n",
      "\tKDST vs JSON E = 11183.1923828125 , 11267.81136479657\n",
      "\tabs(de)/e = 0.01\n",
      "\tDX = 1.5\n",
      "\tDY = 2.2\n",
      "\tAGREE\n",
      "Event 369 ; Shown 104 / 150\n",
      "\tKDST vs JSON E = 93691.0078125 , 93776.6776847712\n",
      "\tabs(de)/e = 0.0\n",
      "\tDX = -0.6\n",
      "\tDY = -3.7\n",
      "\tAGREE\n",
      "Event 370 ; Shown 105 / 150\n",
      "\tKDST vs JSON E = 3353.758544921875 , 3444.955654820176\n",
      "\tabs(de)/e = 0.03\n",
      "\tDX = -5.5\n",
      "\tDY = 0.8\n",
      "\tAGREE\n",
      "Event 390 ; Shown 106 / 150\n",
      "\tKDST vs JSON E = 10025.8310546875 , 10091.75252297064\n",
      "\tabs(de)/e = 0.01\n",
      "\tDX = -2.2\n",
      "\tDY = 0.6\n",
      "\tAGREE\n",
      "Event 391 ; Shown 107 / 150\n",
      "\tKDST vs JSON E = 10418.580078125 , 10482.845417683953\n",
      "\tabs(de)/e = 0.01\n",
      "\tDX = -5.5\n",
      "\tDY = -3.7\n",
      "\tAGREE\n",
      "Event 393 ; Shown 108 / 150\n",
      "\tKDST vs JSON E = 11618.037109375 , 73899.1778262519\n",
      "\tabs(de)/e = 5.36\n",
      "\tDX = 150.0\n",
      "\tDY = -59.3\n",
      "\t!!!!! DISAGREE !!!!!\n",
      "Event 393 ; Shown 109 / 150\n",
      "\tKDST vs JSON E = 98364.375 , 73899.1778262519\n",
      "\tabs(de)/e = 0.25\n",
      "\tDX = 8.7\n",
      "\tDY = 4.1\n",
      "\t!!!!! DISAGREE !!!!!\n",
      "Event 394 ; Shown 110 / 150\n",
      "\tKDST vs JSON E = 629.3933715820312 , 716.6259643487377\n",
      "\tabs(de)/e = 0.14\n",
      "\tDX = -10.8\n",
      "\tDY = 38.4\n",
      "\t!!!!! DISAGREE !!!!!\n",
      "Event 397 ; Shown 111 / 150\n",
      "\tKDST vs JSON E = 11054.69921875 , 11199.362146279256\n",
      "\tabs(de)/e = 0.01\n",
      "\tDX = -3.1\n",
      "\tDY = -1.0\n",
      "\tAGREE\n",
      "Event 399 ; Shown 112 / 150\n",
      "\tKDST vs JSON E = 11626.6103515625 , 11685.697241508562\n",
      "\tabs(de)/e = 0.01\n",
      "\tDX = 1.8\n",
      "\tDY = -0.8\n",
      "\tAGREE\n",
      "Event 402 ; Shown 113 / 150\n",
      "\tKDST vs JSON E = 7293.580078125 , 7349.90877290478\n",
      "\tabs(de)/e = 0.01\n",
      "\tDX = -2.5\n",
      "\tDY = -3.1\n",
      "\tAGREE\n",
      "Event 402 ; Shown 114 / 150\n",
      "\tKDST vs JSON E = 2878.7822265625 , 7349.90877290478\n",
      "\tabs(de)/e = 1.55\n",
      "\tDX = -218.0\n",
      "\tDY = 295.8\n",
      "\t!!!!! DISAGREE !!!!!\n",
      "Event 403 ; Shown 115 / 150\n",
      "\tKDST vs JSON E = 8817.4892578125 , 8944.421314358675\n",
      "\tabs(de)/e = 0.01\n",
      "\tDX = 6.2\n",
      "\tDY = 3.5\n",
      "\tAGREE\n",
      "Event 404 ; Shown 116 / 150\n",
      "\tKDST vs JSON E = 7450.40625 , 7528.853775223508\n",
      "\tabs(de)/e = 0.01\n",
      "\tDX = -0.7\n",
      "\tDY = 2.0\n",
      "\tAGREE\n",
      "Event 406 ; Shown 117 / 150\n",
      "\tKDST vs JSON E = 11151.8603515625 , 11189.205944360765\n",
      "\tabs(de)/e = 0.0\n",
      "\tDX = 2.7\n",
      "\tDY = 1.4\n",
      "\tAGREE\n",
      "Event 421 ; Shown 118 / 150\n",
      "\tKDST vs JSON E = 26925.60546875 , 27628.115178617554\n",
      "\tabs(de)/e = 0.03\n",
      "\tDX = 3.8\n",
      "\tDY = -2.0\n",
      "\tAGREE\n",
      "Event 421 ; Shown 119 / 150\n",
      "\tKDST vs JSON E = 5605.19873046875 , 27628.115178617554\n",
      "\tabs(de)/e = 3.93\n",
      "\tDX = 24.1\n",
      "\tDY = 33.3\n",
      "\t!!!!! DISAGREE !!!!!\n",
      "Event 430 ; Shown 120 / 150\n",
      "\tKDST vs JSON E = 10411.99609375 , 10456.012557302274\n",
      "\tabs(de)/e = 0.0\n",
      "\tDX = -1.7\n",
      "\tDY = 2.0\n",
      "\tAGREE\n",
      "Event 434 ; Shown 121 / 150\n",
      "\tKDST vs JSON E = 10617.1328125 , 10688.594271214377\n",
      "\tabs(de)/e = 0.01\n",
      "\tDX = 1.0\n",
      "\tDY = 2.6\n",
      "\tAGREE\n",
      "Event 437 ; Shown 122 / 150\n",
      "\tKDST vs JSON E = 11179.4375 , 11215.615040405062\n",
      "\tabs(de)/e = 0.0\n",
      "\tDX = 3.6\n",
      "\tDY = -3.5\n",
      "\tAGREE\n",
      "Event 439 ; Shown 123 / 150\n",
      "\tKDST vs JSON E = 107935.6015625 , 107993.1698164354\n",
      "\tabs(de)/e = 0.0\n",
      "\tDX = 4.4\n",
      "\tDY = -1.0\n",
      "\tAGREE\n",
      "Event 443 ; Shown 124 / 150\n",
      "\tKDST vs JSON E = 10347.3857421875 , 10368.139396973636\n",
      "\tabs(de)/e = 0.0\n",
      "\tDX = -0.3\n",
      "\tDY = -1.9\n",
      "\tAGREE\n",
      "Event 455 ; Shown 125 / 150\n",
      "\tKDST vs JSON E = 9339.224609375 , 9381.410398023874\n",
      "\tabs(de)/e = 0.0\n",
      "\tDX = -3.0\n",
      "\tDY = 4.3\n",
      "\tAGREE\n",
      "Event 456 ; Shown 126 / 150\n",
      "\tKDST vs JSON E = 28930.681640625 , 28968.20193154887\n",
      "\tabs(de)/e = 0.0\n",
      "\tDX = -4.5\n",
      "\tDY = 0.1\n",
      "\tAGREE\n",
      "Event 463 ; Shown 127 / 150\n",
      "\tKDST vs JSON E = 11476.2294921875 , 11558.756450598303\n",
      "\tabs(de)/e = 0.01\n",
      "\tDX = 3.2\n",
      "\tDY = -3.2\n",
      "\tAGREE\n",
      "Event 474 ; Shown 128 / 150\n",
      "\tKDST vs JSON E = 8566.935546875 , 8619.929496636876\n",
      "\tabs(de)/e = 0.01\n",
      "\tDX = 1.9\n",
      "\tDY = -3.1\n",
      "\tAGREE\n",
      "Event 476 ; Shown 129 / 150\n",
      "\tKDST vs JSON E = 9434.9990234375 , 17265.21774371673\n",
      "\tabs(de)/e = 0.83\n",
      "\tDX = -190.4\n",
      "\tDY = 184.5\n",
      "\t!!!!! DISAGREE !!!!!\n",
      "Event 476 ; Shown 130 / 150\n",
      "\tKDST vs JSON E = 10313.4267578125 , 17265.21774371673\n",
      "\tabs(de)/e = 0.67\n",
      "\tDX = -1.3\n",
      "\tDY = -5.2\n",
      "\t!!!!! DISAGREE !!!!!\n",
      "Event 478 ; Shown 131 / 150\n",
      "\tKDST vs JSON E = 10503.8583984375 , 10559.454663344253\n",
      "\tabs(de)/e = 0.01\n",
      "\tDX = 1.5\n",
      "\tDY = -0.5\n",
      "\tAGREE\n",
      "Event 484 ; Shown 132 / 150\n",
      "\tKDST vs JSON E = 20079.939453125 , 20192.825988142635\n",
      "\tabs(de)/e = 0.01\n",
      "\tDX = 4.0\n",
      "\tDY = 0.8\n",
      "\tAGREE\n",
      "Event 484 ; Shown 133 / 150\n",
      "\tKDST vs JSON E = 8777.59765625 , 20192.825988142635\n",
      "\tabs(de)/e = 1.3\n",
      "\tDX = -21.5\n",
      "\tDY = 152.3\n",
      "\t!!!!! DISAGREE !!!!!\n",
      "Event 484 ; Shown 134 / 150\n",
      "\tKDST vs JSON E = 10789.111328125 , 20192.825988142635\n",
      "\tabs(de)/e = 0.87\n",
      "\tDX = -53.8\n",
      "\tDY = 70.1\n",
      "\t!!!!! DISAGREE !!!!!\n",
      "Event 492 ; Shown 135 / 150\n",
      "\tKDST vs JSON E = 6606.68408203125 , 6680.727645158181\n",
      "\tabs(de)/e = 0.01\n",
      "\tDX = 0.7\n",
      "\tDY = 3.3\n",
      "\tAGREE\n",
      "Event 498 ; Shown 136 / 150\n",
      "\tKDST vs JSON E = 11016.01171875 , 0.0\n",
      "\tabs(de)/e = 1.0\n",
      "\tDX = 120.3\n",
      "\tDY = -74.7\n",
      "\t!!!!! DISAGREE !!!!!\n",
      "Event 504 ; Shown 137 / 150\n",
      "\tKDST vs JSON E = 10661.51171875 , 10703.11769390539\n",
      "\tabs(de)/e = 0.0\n",
      "\tDX = -3.6\n",
      "\tDY = -3.6\n",
      "\tAGREE\n",
      "Event 506 ; Shown 138 / 150\n",
      "\tKDST vs JSON E = 8504.236328125 , 8593.655789810979\n",
      "\tabs(de)/e = 0.01\n",
      "\tDX = -5.2\n",
      "\tDY = -2.8\n",
      "\tAGREE\n",
      "Event 510 ; Shown 139 / 150\n",
      "\tKDST vs JSON E = 18625.505859375 , 11232.08402814911\n",
      "\tabs(de)/e = 0.4\n",
      "\tDX = 76.0\n",
      "\tDY = 302.7\n",
      "\t!!!!! DISAGREE !!!!!\n",
      "Event 510 ; Shown 140 / 150\n",
      "\tKDST vs JSON E = 11142.779296875 , 11232.08402814911\n",
      "\tabs(de)/e = 0.01\n",
      "\tDX = 0.3\n",
      "\tDY = 4.4\n",
      "\tAGREE\n",
      "Event 526 ; Shown 141 / 150\n",
      "\tKDST vs JSON E = 39928.38671875 , 40022.391360407826\n",
      "\tabs(de)/e = 0.0\n",
      "\tDX = 4.4\n",
      "\tDY = -1.0\n",
      "\tAGREE\n",
      "Event 529 ; Shown 142 / 150\n",
      "\tKDST vs JSON E = 45552.5 , 45647.86679165931\n",
      "\tabs(de)/e = 0.0\n",
      "\tDX = -6.5\n",
      "\tDY = -4.4\n",
      "\tAGREE\n",
      "Event 531 ; Shown 143 / 150\n",
      "\tKDST vs JSON E = 2562.79052734375 , 8243.535283216888\n",
      "\tabs(de)/e = 2.22\n",
      "\tDX = 27.5\n",
      "\tDY = -3.5\n",
      "\t!!!!! DISAGREE !!!!!\n",
      "Event 531 ; Shown 144 / 150\n",
      "\tKDST vs JSON E = 8166.1025390625 , 8243.535283216888\n",
      "\tabs(de)/e = 0.01\n",
      "\tDX = -2.0\n",
      "\tDY = -3.1\n",
      "\tAGREE\n",
      "Event 532 ; Shown 145 / 150\n",
      "\tKDST vs JSON E = 115609.9609375 , 115671.94254315236\n",
      "\tabs(de)/e = 0.0\n",
      "\tDX = -0.2\n",
      "\tDY = 5.6\n",
      "\tAGREE\n",
      "Event 534 ; Shown 146 / 150\n",
      "\tKDST vs JSON E = 10915.7373046875 , 10985.977317519786\n",
      "\tabs(de)/e = 0.01\n",
      "\tDX = 3.5\n",
      "\tDY = -0.9\n",
      "\tAGREE\n",
      "Event 536 ; Shown 147 / 150\n",
      "\tKDST vs JSON E = 11710.953125 , 11736.065399792524\n",
      "\tabs(de)/e = 0.0\n",
      "\tDX = -2.0\n",
      "\tDY = -1.8\n",
      "\tAGREE\n",
      "Event 537 ; Shown 148 / 150\n",
      "\tKDST vs JSON E = 7655.08447265625 , 7740.405932707232\n",
      "\tabs(de)/e = 0.01\n",
      "\tDX = 1.3\n",
      "\tDY = 6.0\n",
      "\tAGREE\n",
      "Event 544 ; Shown 149 / 150\n",
      "\tKDST vs JSON E = 11329.806640625 , 11439.665042800874\n",
      "\tabs(de)/e = 0.01\n",
      "\tDX = 0.1\n",
      "\tDY = 0.6\n",
      "\tAGREE\n"
     ]
    }
   ],
   "source": [
    "agree = 0\n",
    "disagree = 0\n",
    "dxs, dys = [], []\n",
    "disagree_evts = {}\n",
    "disagree_kdst_Es = []\n",
    "shown = 0\n",
    "showmax = 150\n",
    "for kdst, json, evts, offset in zip(all_kdsts, all_jsons, file_evts, offsets):\n",
    "    for event, x, y, e in zip(kdst['DST/Events'].event, kdst['DST/Events'].X, kdst['DST/Events'].Y, kdst['DST/Events'].S2e):\n",
    "\n",
    "        if (event-1-offset) in json['event_numbers']:\n",
    "\n",
    "            dx = x - evts[event-1-offset]['X']\n",
    "            dy = y - evts[event-1-offset]['Y']\n",
    "            de = e - evts[event-1-offset]['E']\n",
    "\n",
    "            if shown < showmax:\n",
    "                print('Event', event, '; Shown', shown, '/', showmax)\n",
    "                print('\\tKDST vs JSON E =', e, ',', evts[event-1-offset]['E'])\n",
    "                print('\\tabs(de)/e =', round(abs(de)/e,2))\n",
    "                print('\\tDX =', round(dx,1))\n",
    "                print('\\tDY =', round(dy,1))\n",
    "            if abs(dx) < 20 and abs(dy) < 20 and abs(de) / e < 0.15:\n",
    "                if shown < showmax:\n",
    "                    print('\\tAGREE')\n",
    "                agree += 1\n",
    "                dxs.append(dx)\n",
    "                dys.append(dy)\n",
    "            else:\n",
    "                if shown < showmax:\n",
    "                    print('\\t!!!!! DISAGREE !!!!!')\n",
    "                disagree += 1\n",
    "                disagree_evts[event] = evts[event-1-offset]\n",
    "                disagree_kdst_Es.append(e)\n",
    "            shown += 1"
   ]
  },
  {
   "cell_type": "code",
   "execution_count": 11,
   "metadata": {},
   "outputs": [
    {
     "name": "stdout",
     "output_type": "stream",
     "text": [
      "Agree = 8229 ; Disagree = 2182\n"
     ]
    }
   ],
   "source": [
    "print('Agree =', agree, '; Disagree =', disagree)"
   ]
  },
  {
   "cell_type": "code",
   "execution_count": 12,
   "metadata": {},
   "outputs": [],
   "source": [
    "all_kdst_S2e = np.array([])\n",
    "all_json_S2e = np.array([])\n",
    "for kdst, json in zip(all_kdsts, all_jsons):\n",
    "    all_kdst_S2e = np.append(all_kdst_S2e, kdst['DST/Events'].S2e)\n",
    "    json_energy = np.array([ evt[-1] for evt in json['events_window_energy'] ])\n",
    "    all_json_S2e = np.append(all_json_S2e, json_energy)"
   ]
  },
  {
   "cell_type": "code",
   "execution_count": 13,
   "metadata": {},
   "outputs": [
    {
     "data": {
      "image/png": "[encoded data removed]",
      "text/plain": [
       "<Figure size 432x288 with 1 Axes>"
      ]
     },
     "metadata": {
      "needs_background": "light"
     },
     "output_type": "display_data"
    }
   ],
   "source": [
    "plt.hist(all_kdst_S2e, range = (500, 12500), bins = 20)\n",
    "plt.xlabel('Event energy (kdst)')\n",
    "plt.show()"
   ]
  },
  {
   "cell_type": "code",
   "execution_count": 14,
   "metadata": {},
   "outputs": [
    {
     "data": {
      "image/png": "[encoded data removed]",
      "text/plain": [
       "<Figure size 432x288 with 1 Axes>"
      ]
     },
     "metadata": {
      "needs_background": "light"
     },
     "output_type": "display_data"
    }
   ],
   "source": [
    "plt.hist(all_json_S2e, range = (500, 12500), bins = 20)\n",
    "plt.xlabel('Event energy (json)')\n",
    "plt.show()"
   ]
  },
  {
   "cell_type": "code",
   "execution_count": 15,
   "metadata": {},
   "outputs": [
    {
     "data": {
      "image/png": "[encoded data removed]",
      "text/plain": [
       "<Figure size 432x288 with 1 Axes>"
      ]
     },
     "metadata": {
      "needs_background": "light"
     },
     "output_type": "display_data"
    },
    {
     "data": {
      "image/png": "[encoded data removed]",
      "text/plain": [
       "<Figure size 432x288 with 1 Axes>"
      ]
     },
     "metadata": {
      "needs_background": "light"
     },
     "output_type": "display_data"
    },
    {
     "data": {
      "image/png": "[encoded data removed]",
      "text/plain": [
       "<Figure size 432x288 with 1 Axes>"
      ]
     },
     "metadata": {
      "needs_background": "light"
     },
     "output_type": "display_data"
    }
   ],
   "source": [
    "plt.hist(dxs, bins = 40)\n",
    "plt.xlabel('Change in x (mm) for events which agree')\n",
    "plt.show()\n",
    "\n",
    "plt.hist(dys, bins = 40)\n",
    "plt.xlabel('Change in y (mm) for events which agree')\n",
    "plt.show()\n",
    "\n",
    "drs = (np.array(dxs)**2 + np.array(dys)**2)**0.5\n",
    "plt.hist(drs, bins = 40)\n",
    "plt.xlabel('Total positional change (mm) for events which agree')\n",
    "plt.show()"
   ]
  },
  {
   "cell_type": "code",
   "execution_count": 16,
   "metadata": {},
   "outputs": [
    {
     "name": "stdout",
     "output_type": "stream",
     "text": [
      " Current time = 352.6\n"
     ]
    }
   ],
   "source": [
    "printtime()"
   ]
  },
  {
   "cell_type": "markdown",
   "metadata": {},
   "source": [
    "## Look at events selected out of kdst"
   ]
  },
  {
   "cell_type": "code",
   "execution_count": 17,
   "metadata": {},
   "outputs": [],
   "source": [
    "# Just uses single file info for now\n",
    "kdst = all_kdsts[0]\n",
    "json = all_jsons[0]\n",
    "evts = file_evts[0]"
   ]
  },
  {
   "cell_type": "code",
   "execution_count": 18,
   "metadata": {},
   "outputs": [],
   "source": [
    "kdst_sel_nums = np.array(kdst['DST/Events'].event)\n",
    "# kdst_missing = np.zeros(len(evts), dtype='bool') # these are indexed to match evts\n",
    "missing_evts = {}\n",
    "for i in range(len(evts)):\n",
    "    if i+1 not in kdst_sel_nums and i in evts.keys():\n",
    "        missing_evts[i] = evts[i]\n",
    "        # kdst_missing[i] = True"
   ]
  },
  {
   "cell_type": "code",
   "execution_count": 19,
   "metadata": {},
   "outputs": [
    {
     "data": {
      "text/plain": [
       "{1: {'X': 95.0, 'Y': -45.0, 'E': 72.75869348407505},\n",
       " 2: {'X': -65.0, 'Y': -205.0, 'E': 99.41556463108478},\n",
       " 3: {'X': -235.0, 'Y': 45.0, 'E': 96.30852683823178},\n",
       " 5: {'X': 215.0, 'Y': -115.0, 'E': 93.76776254162165},\n",
       " 6: {'X': -235.0, 'Y': 45.0, 'E': 77.51025356349471},\n",
       " 8: {'X': -235.0, 'Y': 45.0, 'E': 31.13005681803999},\n",
       " 9: {'X': 85.0, 'Y': 65.0, 'E': 90.62840125309528},\n",
       " 10: {'X': -15.0, 'Y': 235.0, 'E': 281.4791583157921},\n",
       " 11: {'X': 85.0, 'Y': 195.0, 'E': 45.85289334621182},\n",
       " 12: {'X': -235.0, 'Y': 45.0, 'E': 99.82771159050975},\n",
       " 13: {'X': -235.0, 'Y': 45.0, 'E': 82.25117011458293},\n",
       " 14: {'X': 65.0, 'Y': 35.0, 'E': 86.54373285292364},\n",
       " 15: {'X': 85.0, 'Y': 65.0, 'E': 77.36995850902473},\n",
       " 17: {'X': -65.0, 'Y': -205.0, 'E': 15.512291150885515},\n",
       " 18: {'X': -235.0, 'Y': 45.0, 'E': 70.4418000191474},\n",
       " 19: {'X': 55.0, 'Y': -15.0, 'E': 50.145403396920635},\n",
       " 20: {'X': -235.0, 'Y': 45.0, 'E': 72.89686328332084},\n",
       " 21: {'X': -65.0, 'Y': -205.0, 'E': 92.7222610766369},\n",
       " 25: {'X': 85.0, 'Y': 65.0, 'E': 113.79076427260678},\n",
       " 26: {'X': -235.0, 'Y': 45.0, 'E': 97.2478858715504},\n",
       " 30: {'X': 85.0, 'Y': 65.0, 'E': 88.89407934548449},\n",
       " 31: {'X': 85.0, 'Y': 65.0, 'E': 70.22223970810771},\n",
       " 33: {'X': -235.0, 'Y': 45.0, 'E': 33.66100875370655},\n",
       " 34: {'X': -235.0, 'Y': 45.0, 'E': 70.56874184430295},\n",
       " 35: {'X': -235.0, 'Y': 45.0, 'E': 74.40766120890521},\n",
       " 36: {'X': -65.0, 'Y': -135.0, 'E': 117.7704543603906},\n",
       " 37: {'X': -5.0, 'Y': -65.0, 'E': 99.68543723014042},\n",
       " 38: {'X': -235.0, 'Y': 45.0, 'E': 104.28697489212162},\n",
       " 39: {'X': -235.0, 'Y': 45.0, 'E': 20.125083127583288},\n",
       " 40: {'X': -235.0, 'Y': 45.0, 'E': 82.4553483109943},\n",
       " 41: {'X': 135.0, 'Y': -165.0, 'E': 80.32286725441897},\n",
       " 42: {'X': 135.0, 'Y': -165.0, 'E': 88.36181490281314},\n",
       " 44: {'X': -235.0, 'Y': 45.0, 'E': 94.8885092277795},\n",
       " 45: {'X': -45.0, 'Y': -205.0, 'E': 74.3068620632234},\n",
       " 48: {'X': 165.0, 'Y': 65.0, 'E': 52.23817454984163},\n",
       " 49: {'X': -235.0, 'Y': 45.0, 'E': 79.44103170689554},\n",
       " 50: {'X': -65.0, 'Y': -135.0, 'E': 88.17942741906839},\n",
       " 52: {'X': -235.0, 'Y': 45.0, 'E': 89.45688331937617},\n",
       " 53: {'X': -235.0, 'Y': 45.0, 'E': 94.65915248768755},\n",
       " 55: {'X': -195.0, 'Y': -75.0, 'E': 58.041187589386304},\n",
       " 56: {'X': 25.0, 'Y': -215.0, 'E': 82.1018933849761},\n",
       " 57: {'X': -235.0, 'Y': 45.0, 'E': 66.50852229924372},\n",
       " 59: {'X': -235.0, 'Y': 45.0, 'E': 71.33060093369801},\n",
       " 60: {'X': -235.0, 'Y': 45.0, 'E': 85.14829993163276},\n",
       " 61: {'X': -155.0, 'Y': -55.0, 'E': 65.55421254351847},\n",
       " 62: {'X': 85.0, 'Y': 65.0, 'E': 104.91818954937999},\n",
       " 63: {'X': 85.0, 'Y': 65.0, 'E': 106.66471660367121},\n",
       " 64: {'X': 135.0, 'Y': -165.0, 'E': 71.02945945220871},\n",
       " 65: {'X': -235.0, 'Y': 45.0, 'E': 96.86496280134897},\n",
       " 66: {'X': -235.0, 'Y': 45.0, 'E': 151.10082823761732},\n",
       " 67: {'X': -235.0, 'Y': 45.0, 'E': 85.48410892329602},\n",
       " 68: {'X': -235.0, 'Y': 45.0, 'E': 100.38772966759988},\n",
       " 69: {'X': -235.0, 'Y': 45.0, 'E': 78.56010222135383},\n",
       " 70: {'X': -235.0, 'Y': 45.0, 'E': 94.97895521107316},\n",
       " 71: {'X': 225.0, 'Y': -25.0, 'E': 99.32731698079266},\n",
       " 72: {'X': -235.0, 'Y': 45.0, 'E': 83.84364385486533},\n",
       " 74: {'X': -195.0, 'Y': 45.0, 'E': 76.76406801926477},\n",
       " 76: {'X': -65.0, 'Y': -205.0, 'E': 111.93047574606102},\n",
       " 77: {'X': -235.0, 'Y': 45.0, 'E': 59.72202256043423},\n",
       " 81: {'X': -235.0, 'Y': 45.0, 'E': 107.50673280359524},\n",
       " 82: {'X': -155.0, 'Y': 75.0, 'E': 43.401491499856654},\n",
       " 83: {'X': -145.0, 'Y': 185.0, 'E': 93.66483727198664},\n",
       " 84: {'X': -235.0, 'Y': 45.0, 'E': 29.792604504737163},\n",
       " 85: {'X': 85.0, 'Y': 65.0, 'E': 78.67046057642999},\n",
       " 86: {'X': -65.0, 'Y': -135.0, 'E': 76.75405960306006},\n",
       " 87: {'X': -235.0, 'Y': 45.0, 'E': 33.541767220372414},\n",
       " 88: {'X': -235.0, 'Y': 45.0, 'E': 67.81442998510018},\n",
       " 89: {'X': -235.0, 'Y': 45.0, 'E': 53.902132747413035},\n",
       " 91: {'X': -95.0, 'Y': -145.0, 'E': 64.51546738943672},\n",
       " 92: {'X': -235.0, 'Y': 45.0, 'E': 95.55542119034747},\n",
       " 93: {'X': -235.0, 'Y': 45.0, 'E': 86.12385646049573},\n",
       " 94: {'X': -235.0, 'Y': 45.0, 'E': 83.79365298784678},\n",
       " 95: {'X': 85.0, 'Y': 5.0, 'E': 74.42086014592878},\n",
       " 97: {'X': -235.0, 'Y': 45.0, 'E': 49.73412984799268},\n",
       " 99: {'X': -235.0, 'Y': 45.0, 'E': 87.60377665434433},\n",
       " 101: {'X': 135.0, 'Y': -165.0, 'E': 100.78972590033364},\n",
       " 103: {'X': -235.0, 'Y': 45.0, 'E': 42.94635042222873},\n",
       " 104: {'X': 85.0, 'Y': 65.0, 'E': 63.94542327198776},\n",
       " 105: {'X': 125.0, 'Y': 135.0, 'E': 108.10720066000312},\n",
       " 106: {'X': 75.0, 'Y': -65.0, 'E': 83.71731019171172},\n",
       " 107: {'X': -235.0, 'Y': 45.0, 'E': 56.10170856830915},\n",
       " 108: {'X': 135.0, 'Y': -165.0, 'E': 20.584278655930632},\n",
       " 109: {'X': -235.0, 'Y': 45.0, 'E': 70.50394183915286},\n",
       " 110: {'X': -235.0, 'Y': 45.0, 'E': 77.68842547387541},\n",
       " 111: {'X': -235.0, 'Y': 45.0, 'E': 79.55766649376982},\n",
       " 112: {'X': -235.0, 'Y': 45.0, 'E': 91.27208455864796},\n",
       " 113: {'X': -235.0, 'Y': 45.0, 'E': 77.96070099645675},\n",
       " 115: {'X': 85.0, 'Y': 65.0, 'E': 85.35392457831843},\n",
       " 116: {'X': -5.0, 'Y': 185.0, 'E': 91.02166118775085},\n",
       " 117: {'X': -65.0, 'Y': 135.0, 'E': 71.76299952075401},\n",
       " 118: {'X': 135.0, 'Y': 135.0, 'E': 44.32751526948267},\n",
       " 119: {'X': -235.0, 'Y': 45.0, 'E': 46.48337846632576},\n",
       " 121: {'X': -235.0, 'Y': 45.0, 'E': 74.36806199310017},\n",
       " 124: {'X': -235.0, 'Y': 45.0, 'E': 63.54192982371598},\n",
       " 125: {'X': 85.0, 'Y': 65.0, 'E': 69.64464257361281},\n",
       " 126: {'X': -235.0, 'Y': 45.0, 'E': 71.57436799729788},\n",
       " 127: {'X': -235.0, 'Y': 45.0, 'E': 96.74171677755281},\n",
       " 129: {'X': 45.0, 'Y': -35.0, 'E': 92.91685318838915},\n",
       " 131: {'X': -65.0, 'Y': -205.0, 'E': 88.08980069471505},\n",
       " 132: {'X': -235.0, 'Y': 45.0, 'E': 48.48480711598456},\n",
       " 133: {'X': -235.0, 'Y': 45.0, 'E': 75.86516410164812},\n",
       " 134: {'X': 85.0, 'Y': 65.0, 'E': 102.00628341337466},\n",
       " 135: {'X': 135.0, 'Y': -165.0, 'E': 101.45983565813789},\n",
       " 136: {'X': -235.0, 'Y': 45.0, 'E': 96.00552583126448},\n",
       " 137: {'X': 35.0, 'Y': -165.0, 'E': 89.23363256287436},\n",
       " 141: {'X': -235.0, 'Y': 45.0, 'E': 92.89325909379997},\n",
       " 142: {'X': -25.0, 'Y': -45.0, 'E': 88.95450051091427},\n",
       " 143: {'X': 215.0, 'Y': -115.0, 'E': 93.03775746339804},\n",
       " 144: {'X': -235.0, 'Y': 45.0, 'E': 67.65402197790227},\n",
       " 145: {'X': 85.0, 'Y': 55.0, 'E': 84.22002129005445},\n",
       " 146: {'X': 135.0, 'Y': -165.0, 'E': 73.55577865256376},\n",
       " 147: {'X': 105.0, 'Y': -15.0, 'E': 92.83587798225153},\n",
       " 149: {'X': 85.0, 'Y': 65.0, 'E': 63.88998869201225},\n",
       " 150: {'X': 85.0, 'Y': -95.0, 'E': 103.40110569370592},\n",
       " 151: {'X': -235.0, 'Y': 45.0, 'E': 64.75779294975457},\n",
       " 153: {'X': 135.0, 'Y': -165.0, 'E': 59.82601364970837},\n",
       " 154: {'X': 135.0, 'Y': -165.0, 'E': 78.35665956965578},\n",
       " 155: {'X': 85.0, 'Y': 65.0, 'E': 59.030522183603914},\n",
       " 156: {'X': 85.0, 'Y': 65.0, 'E': 109.17675433047499},\n",
       " 158: {'X': -75.0, 'Y': 85.0, 'E': 47.9373704512046},\n",
       " 159: {'X': -115.0, 'Y': -165.0, 'E': 245.91647500924037},\n",
       " 160: {'X': -35.0, 'Y': 165.0, 'E': 45.7928381311019},\n",
       " 162: {'X': -235.0, 'Y': 45.0, 'E': 77.17124098181088},\n",
       " 163: {'X': -235.0, 'Y': 45.0, 'E': 77.5322434084283},\n",
       " 164: {'X': -235.0, 'Y': 45.0, 'E': 65.89425491447035},\n",
       " 165: {'X': 85.0, 'Y': 65.0, 'E': 73.01228040490619},\n",
       " 171: {'X': 85.0, 'Y': 65.0, 'E': 207.39807139754393},\n",
       " 172: {'X': -235.0, 'Y': 45.0, 'E': 69.16049118360242},\n",
       " 173: {'X': -235.0, 'Y': 45.0, 'E': 29.164881488126063},\n",
       " 174: {'X': -235.0, 'Y': 45.0, 'E': 74.82660592220788},\n",
       " 175: {'X': -125.0, 'Y': 145.0, 'E': 108.78456249355189},\n",
       " 176: {'X': -235.0, 'Y': 45.0, 'E': 87.9320829004093},\n",
       " 177: {'X': -235.0, 'Y': 45.0, 'E': 97.13304849226994},\n",
       " 178: {'X': -235.0, 'Y': 45.0, 'E': 130.28891573124233},\n",
       " 179: {'X': 135.0, 'Y': 15.0, 'E': 85.56661547591213},\n",
       " 180: {'X': 135.0, 'Y': -165.0, 'E': 81.93325104005878},\n",
       " 182: {'X': -235.0, 'Y': 45.0, 'E': 81.2689570532024},\n",
       " 184: {'X': 65.0, 'Y': 15.0, 'E': 82.11474954595262},\n",
       " 185: {'X': 35.0, 'Y': 25.0, 'E': 81.67760807077207},\n",
       " 186: {'X': 85.0, 'Y': 65.0, 'E': 53.424425024987464},\n",
       " 187: {'X': -235.0, 'Y': 45.0, 'E': 83.99209730637249},\n",
       " 188: {'X': 105.0, 'Y': 195.0, 'E': 79.46075950043415},\n",
       " 189: {'X': -235.0, 'Y': 45.0, 'E': 79.619884517875},\n",
       " 190: {'X': 75.0, 'Y': 35.0, 'E': 57.154497189138844},\n",
       " 191: {'X': -235.0, 'Y': 45.0, 'E': 102.1658010170796},\n",
       " 194: {'X': 135.0, 'Y': -165.0, 'E': 94.76354541692778},\n",
       " 195: {'X': -235.0, 'Y': 45.0, 'E': 64.44419482093912},\n",
       " 196: {'X': -235.0, 'Y': 45.0, 'E': 70.83018124123502},\n",
       " 198: {'X': -235.0, 'Y': 45.0, 'E': 85.48379358860981},\n",
       " 200: {'X': -235.0, 'Y': 45.0, 'E': 69.79670410671002},\n",
       " 201: {'X': -235.0, 'Y': 45.0, 'E': 81.81737431949715},\n",
       " 202: {'X': -235.0, 'Y': 45.0, 'E': 96.08591481116278},\n",
       " 203: {'X': -235.0, 'Y': 45.0, 'E': 85.69327424777364},\n",
       " 204: {'X': -95.0, 'Y': 55.0, 'E': 44.55214434930333},\n",
       " 205: {'X': 85.0, 'Y': 55.0, 'E': 66.13619088245254},\n",
       " 207: {'X': -235.0, 'Y': 45.0, 'E': 66.60070720176026},\n",
       " 208: {'X': -235.0, 'Y': 45.0, 'E': 21.69216164624129},\n",
       " 209: {'X': -65.0, 'Y': -115.0, 'E': 83.8914842442465},\n",
       " 210: {'X': 65.0, 'Y': -145.0, 'E': 87.2689003326448},\n",
       " 213: {'X': -235.0, 'Y': 45.0, 'E': 110.19348591602792},\n",
       " 216: {'X': -235.0, 'Y': 45.0, 'E': 67.0065986607434},\n",
       " 217: {'X': -235.0, 'Y': 45.0, 'E': 84.41971116153347},\n",
       " 218: {'X': -235.0, 'Y': 45.0, 'E': 115.22123321238242},\n",
       " 219: {'X': -235.0, 'Y': 45.0, 'E': 89.73711692782683},\n",
       " 220: {'X': 135.0, 'Y': -165.0, 'E': 97.45583786476914},\n",
       " 222: {'X': 85.0, 'Y': 65.0, 'E': 60.70529882595013},\n",
       " 223: {'X': -235.0, 'Y': 45.0, 'E': 75.79965000028959},\n",
       " 224: {'X': -65.0, 'Y': -135.0, 'E': 100.7726035653429},\n",
       " 225: {'X': 75.0, 'Y': 65.0, 'E': 60.777629608399124},\n",
       " 226: {'X': -235.0, 'Y': 45.0, 'E': 94.26630366733971},\n",
       " 228: {'X': -65.0, 'Y': -205.0, 'E': 83.17026393025156},\n",
       " 229: {'X': -165.0, 'Y': -75.0, 'E': 51.994198841001555},\n",
       " 231: {'X': 75.0, 'Y': 65.0, 'E': 23.59493982401001},\n",
       " 232: {'X': -105.0, 'Y': -45.0, 'E': 60.13129455873888},\n",
       " 235: {'X': 135.0, 'Y': -165.0, 'E': 66.73733373525066},\n",
       " 237: {'X': -65.0, 'Y': -205.0, 'E': 75.32208743366799},\n",
       " 238: {'X': 85.0, 'Y': 65.0, 'E': 80.58456075913325},\n",
       " 240: {'X': -235.0, 'Y': 45.0, 'E': 83.80804722614548},\n",
       " 241: {'X': -235.0, 'Y': 45.0, 'E': 55.38601687263262},\n",
       " 242: {'X': -235.0, 'Y': 95.0, 'E': 37.7012224648977},\n",
       " 244: {'X': -235.0, 'Y': 45.0, 'E': 82.0940430808023},\n",
       " 245: {'X': -235.0, 'Y': 45.0, 'E': 60.63911504426534},\n",
       " 246: {'X': 85.0, 'Y': 65.0, 'E': 84.06013898043105},\n",
       " 247: {'X': 145.0, 'Y': -195.0, 'E': 58.131709725385235},\n",
       " 248: {'X': -235.0, 'Y': 45.0, 'E': 67.33790855725137},\n",
       " 249: {'X': -235.0, 'Y': 45.0, 'E': 76.4854599733331},\n",
       " 250: {'X': -235.0, 'Y': 45.0, 'E': 94.982057742828},\n",
       " 252: {'X': -65.0, 'Y': -135.0, 'E': 67.37393875395284},\n",
       " 253: {'X': -235.0, 'Y': 45.0, 'E': 72.84155281726659},\n",
       " 254: {'X': -235.0, 'Y': 45.0, 'E': 22.1861503768924},\n",
       " 255: {'X': -205.0, 'Y': -105.0, 'E': 49.77672622582039},\n",
       " 257: {'X': 15.0, 'Y': 25.0, 'E': 79.11304935551469},\n",
       " 258: {'X': -235.0, 'Y': 45.0, 'E': 99.80853912017761},\n",
       " 259: {'X': -105.0, 'Y': 35.0, 'E': 73.27770886798662},\n",
       " 260: {'X': -55.0, 'Y': -15.0, 'E': 55.3630354449405},\n",
       " 261: {'X': -155.0, 'Y': 95.0, 'E': 74.00144841617042},\n",
       " 263: {'X': 65.0, 'Y': 15.0, 'E': 73.6461728070402},\n",
       " 264: {'X': -235.0, 'Y': 45.0, 'E': 79.82991532032447},\n",
       " 265: {'X': -235.0, 'Y': 45.0, 'E': 62.93903220880742},\n",
       " 266: {'X': -235.0, 'Y': 45.0, 'E': 128.3422977505968},\n",
       " 267: {'X': -235.0, 'Y': 45.0, 'E': 37.13418154186671},\n",
       " 269: {'X': -85.0, 'Y': -185.0, 'E': 73.12804773233512},\n",
       " 270: {'X': -65.0, 'Y': -135.0, 'E': 89.17209083623058},\n",
       " 271: {'X': 85.0, 'Y': 65.0, 'E': 82.82826718874941},\n",
       " 272: {'X': -235.0, 'Y': 45.0, 'E': 67.64373146445719},\n",
       " 274: {'X': -235.0, 'Y': 45.0, 'E': 40.44003663129665},\n",
       " 275: {'X': -235.0, 'Y': 45.0, 'E': 84.29470466243315},\n",
       " 277: {'X': -235.0, 'Y': 45.0, 'E': 43.80312282287992},\n",
       " 278: {'X': 95.0, 'Y': 45.0, 'E': 103.08493578488506},\n",
       " 280: {'X': 135.0, 'Y': -165.0, 'E': 66.55212975479768},\n",
       " 281: {'X': -235.0, 'Y': 45.0, 'E': 17.76389064922114},\n",
       " 284: {'X': 85.0, 'Y': -195.0, 'E': 144.78168415001355},\n",
       " 285: {'X': -65.0, 'Y': -205.0, 'E': 67.67470296201655},\n",
       " 287: {'X': -25.0, 'Y': -55.0, 'E': 86.57511428991127},\n",
       " 288: {'X': -235.0, 'Y': 45.0, 'E': 98.49628300291849},\n",
       " 289: {'X': -65.0, 'Y': -135.0, 'E': 86.61687124338702},\n",
       " 290: {'X': -235.0, 'Y': 45.0, 'E': 349.3152366365852},\n",
       " 292: {'X': -195.0, 'Y': 15.0, 'E': 81.85856673765683},\n",
       " 293: {'X': -235.0, 'Y': 45.0, 'E': 36.683038542818174},\n",
       " 294: {'X': -235.0, 'Y': 45.0, 'E': 78.77035960020716},\n",
       " 295: {'X': -235.0, 'Y': 45.0, 'E': 85.31368435446237},\n",
       " 296: {'X': -235.0, 'Y': 45.0, 'E': 81.04558802074696},\n",
       " 297: {'X': 125.0, 'Y': 145.0, 'E': 38.20740455831807},\n",
       " 298: {'X': -235.0, 'Y': 45.0, 'E': 1034.4745188758166},\n",
       " 300: {'X': -235.0, 'Y': 45.0, 'E': 81.62679939250985},\n",
       " 301: {'X': 185.0, 'Y': -25.0, 'E': 81.52323825000573},\n",
       " 302: {'X': -235.0, 'Y': 45.0, 'E': 59.699112297154336},\n",
       " 303: {'X': 75.0, 'Y': 115.0, 'E': 195.59798860915953},\n",
       " 304: {'X': 85.0, 'Y': -95.0, 'E': 100.64711155419315},\n",
       " 306: {'X': -235.0, 'Y': 45.0, 'E': 98.95930353667595},\n",
       " 307: {'X': -235.0, 'Y': 45.0, 'E': 117.07426070188272},\n",
       " 310: {'X': 85.0, 'Y': 65.0, 'E': 74.648290307418},\n",
       " 311: {'X': -235.0, 'Y': 45.0, 'E': 48.70469407885104},\n",
       " 312: {'X': 155.0, 'Y': 15.0, 'E': 65.16146346352653},\n",
       " 314: {'X': -85.0, 'Y': 5.0, 'E': 74.52801917270635},\n",
       " 315: {'X': -235.0, 'Y': -115.0, 'E': 99.84216809184359},\n",
       " 316: {'X': 85.0, 'Y': 65.0, 'E': 74.3957459722711},\n",
       " 317: {'X': -235.0, 'Y': 45.0, 'E': 73.81547719103176},\n",
       " 318: {'X': -235.0, 'Y': 45.0, 'E': 113.92449999464894},\n",
       " 321: {'X': -185.0, 'Y': 15.0, 'E': 32.16062743398872},\n",
       " 324: {'X': -235.0, 'Y': 45.0, 'E': 81.5693008060629},\n",
       " 325: {'X': -235.0, 'Y': 85.0, 'E': 98.32921188242914},\n",
       " 326: {'X': 85.0, 'Y': 65.0, 'E': 115.76858813227247},\n",
       " 327: {'X': -65.0, 'Y': -205.0, 'E': 77.4231290569259},\n",
       " 328: {'X': -235.0, 'Y': 45.0, 'E': 97.9499353542976},\n",
       " 329: {'X': 45.0, 'Y': -25.0, 'E': 123.98468136426825},\n",
       " 330: {'X': 5.0, 'Y': -215.0, 'E': 105.80738692889646},\n",
       " 333: {'X': -235.0, 'Y': 45.0, 'E': 98.35918654959896},\n",
       " 334: {'X': -235.0, 'Y': 45.0, 'E': 89.73739648386474},\n",
       " 335: {'X': 135.0, 'Y': 115.0, 'E': 65.9005387067765},\n",
       " 337: {'X': -235.0, 'Y': 45.0, 'E': 80.57912059557384},\n",
       " 338: {'X': -235.0, 'Y': 45.0, 'E': 68.85730260224105},\n",
       " 339: {'X': -235.0, 'Y': 45.0, 'E': 98.64547210736555}}"
      ]
     },
     "execution_count": 19,
     "metadata": {},
     "output_type": "execute_result"
    }
   ],
   "source": [
    "missing_evts"
   ]
  },
  {
   "cell_type": "code",
   "execution_count": 20,
   "metadata": {},
   "outputs": [
    {
     "data": {
      "image/png": "[encoded data removed]",
      "text/plain": [
       "<Figure size 432x288 with 1 Axes>"
      ]
     },
     "metadata": {
      "needs_background": "light"
     },
     "output_type": "display_data"
    },
    {
     "data": {
      "image/png": "[encoded data removed]",
      "text/plain": [
       "<Figure size 432x288 with 1 Axes>"
      ]
     },
     "metadata": {
      "needs_background": "light"
     },
     "output_type": "display_data"
    },
    {
     "data": {
      "image/png": "[encoded data removed]",
      "text/plain": [
       "<Figure size 432x288 with 1 Axes>"
      ]
     },
     "metadata": {
      "needs_background": "light"
     },
     "output_type": "display_data"
    }
   ],
   "source": [
    "missingEs = [ missing_evts[i]['E'] for i in missing_evts.keys() ]\n",
    "plt.hist(missingEs)\n",
    "plt.xlabel('Energy (pes)')\n",
    "plt.title('Events present in json, but not kdst')\n",
    "plt.show()\n",
    "\n",
    "disagreeEs = [ disagree_evts[i]['E'] for i in disagree_evts.keys() ]\n",
    "plt.hist(disagreeEs)\n",
    "plt.xlabel('Energy (pes)')\n",
    "plt.title('JSON events present in json and kdst, but with disagreement (all)')\n",
    "plt.show()\n",
    "\n",
    "plt.hist(disagreeEs, range = (0, 16000))\n",
    "plt.xlabel('Energy (pes)')\n",
    "plt.title('JSON events present in json and kdst, but with disagreement (Kr range only)')\n",
    "plt.show()"
   ]
  },
  {
   "cell_type": "code",
   "execution_count": 21,
   "metadata": {},
   "outputs": [
    {
     "data": {
      "image/png": "[encoded data removed]",
      "text/plain": [
       "<Figure size 432x288 with 1 Axes>"
      ]
     },
     "metadata": {
      "needs_background": "light"
     },
     "output_type": "display_data"
    },
    {
     "data": {
      "image/png": "[encoded data removed]",
      "text/plain": [
       "<Figure size 432x288 with 1 Axes>"
      ]
     },
     "metadata": {
      "needs_background": "light"
     },
     "output_type": "display_data"
    }
   ],
   "source": [
    "plt.hist(disagree_kdst_Es)\n",
    "plt.xlabel('Energy (pes)')\n",
    "plt.title('KDST events present in json and kdst, but with disagreement (all)')\n",
    "plt.show()\n",
    "\n",
    "plt.hist(disagree_kdst_Es, range = (0, 16000), bins = 20)\n",
    "plt.xlabel('Energy (pes)')\n",
    "plt.title('KDST events present in json and kdst, but with disagreement (Kr range only)')\n",
    "plt.show()"
   ]
  },
  {
   "cell_type": "markdown",
   "metadata": {},
   "source": [
    "## Load in several kdsts to get corrected spectrum"
   ]
  },
  {
   "cell_type": "code",
   "execution_count": 22,
   "metadata": {},
   "outputs": [],
   "source": [
    "nkdst = 2000\n",
    "kdst_filenames = [ '/Volumes/NEXT_data/IC_Data/kdst/7479/kdst_'+ndigit(i, 4)+'_7479_trigger1_v1.1.0_20190801_autotrigger.h5' for i in range(nkdst) ]"
   ]
  },
  {
   "cell_type": "code",
   "execution_count": 23,
   "metadata": {},
   "outputs": [
    {
     "name": "stdout",
     "output_type": "stream",
     "text": [
      " Current time = 353.7\n",
      "Time for 2000 = 243.1\n"
     ]
    }
   ],
   "source": [
    "all_kdsts = None\n",
    "\n",
    "printtime()\n",
    "tstart = time()\n",
    "for kfile in kdst_filenames:\n",
    "    xkdst = pd.HDFStore(kfile, 'r')['DST/Events']\n",
    "    if all_kdsts is None:\n",
    "        all_kdsts = xkdst\n",
    "    else:\n",
    "        #print(all_kdsts)\n",
    "        all_kdsts = all_kdsts.append(xkdst)\n",
    "    #print(kdst.keys())\n",
    "print('Time for', nkdst, '=', round(time() - tstart, 1))"
   ]
  },
  {
   "cell_type": "code",
   "execution_count": 24,
   "metadata": {},
   "outputs": [
    {
     "data": {
      "image/png": "[encoded data removed]",
      "text/plain": [
       "<Figure size 432x288 with 1 Axes>"
      ]
     },
     "metadata": {
      "needs_background": "light"
     },
     "output_type": "display_data"
    }
   ],
   "source": [
    "kdstE = np.array(all_kdsts.S2e)\n",
    "\n",
    "plt.hist(kdstE, range = (6000, 12500), bins = 30)\n",
    "plt.xlabel('Event energy (kdst)')\n",
    "plt.show()"
   ]
  },
  {
   "cell_type": "code",
   "execution_count": 25,
   "metadata": {},
   "outputs": [
    {
     "name": "stdout",
     "output_type": "stream",
     "text": [
      " Current time = 597.1\n"
     ]
    }
   ],
   "source": [
    "printtime()"
   ]
  },
  {
   "cell_type": "code",
   "execution_count": 26,
   "metadata": {},
   "outputs": [
    {
     "data": {
      "image/png": "[encoded data removed]",
      "text/plain": [
       "<Figure size 432x288 with 1 Axes>"
      ]
     },
     "metadata": {
      "needs_background": "light"
     },
     "output_type": "display_data"
    }
   ],
   "source": [
    "plt.hist(all_kdsts.Zrms, range=(0, 3))\n",
    "plt.xlabel('rms')\n",
    "plt.show()"
   ]
  },
  {
   "cell_type": "code",
   "execution_count": 27,
   "metadata": {},
   "outputs": [],
   "source": [
    "def exp_dt(sig):\n",
    "    \"\"\"\n",
    "    expected drift distance  as a function of sigma of the S2 signal (Zrms from kdst 2018 version)\n",
    "    parameters from the ad-hoc fit\n",
    "    \"\"\"\n",
    "    p = [-10.00667732,  52.1855012,   12.68195726,  58.66322846, -20.11819297]\n",
    "    dt = p[0] * sig**4 + p[1] * sig**3 + p[2]*sig**2 + p[3]*sig + p[4]\n",
    "    return dt"
   ]
  },
  {
   "cell_type": "code",
   "execution_count": 28,
   "metadata": {},
   "outputs": [
    {
     "data": {
      "image/png": "[encoded data removed]",
      "text/plain": [
       "<Figure size 432x288 with 1 Axes>"
      ]
     },
     "metadata": {
      "needs_background": "light"
     },
     "output_type": "display_data"
    },
    {
     "data": {
      "image/png": "[encoded data removed]",
      "text/plain": [
       "<Figure size 432x288 with 1 Axes>"
      ]
     },
     "metadata": {
      "needs_background": "light"
     },
     "output_type": "display_data"
    }
   ],
   "source": [
    "kdstX = np.array(all_kdsts.X)\n",
    "kdstY = np.array(all_kdsts.Y)\n",
    "kdstR = (kdstX**2 + kdstY**2)**0.5\n",
    "Zrms = exp_dt(np.array(all_kdsts.Zrms))\n",
    "\n",
    "plt.hist(Zrms, range=(0, 500))\n",
    "plt.xlabel('Zrms')\n",
    "plt.show()\n",
    "\n",
    "plt.hist(kdstR**2, range=(0, 200))\n",
    "plt.xlabel('R2')\n",
    "plt.show()"
   ]
  },
  {
   "cell_type": "code",
   "execution_count": 29,
   "metadata": {},
   "outputs": [
    {
     "data": {
      "image/png": "[encoded data removed]",
      "text/plain": [
       "<Figure size 432x288 with 1 Axes>"
      ]
     },
     "metadata": {
      "needs_background": "light"
     },
     "output_type": "display_data"
    }
   ],
   "source": [
    "plt.hist(kdstE, range = (6000, 12500), bins = 30)\n",
    "plt.xlabel('Event energy, center, kdst (pes)')\n",
    "plt.yscale('log')\n",
    "plt.show()"
   ]
  },
  {
   "cell_type": "markdown",
   "metadata": {},
   "source": [
    "## Add corrections to kdsts to look for x-ray peaks"
   ]
  },
  {
   "cell_type": "code",
   "execution_count": 30,
   "metadata": {},
   "outputs": [],
   "source": [
    "import h5py\n",
    "import itertools as it\n",
    "from scipy.optimize import curve_fit\n",
    "\n",
    "zlims = [100, 200, 300, 400, 510]\n",
    "rlims = [50, 100, 150, 180]\n",
    "\n",
    "def gauss(x, A, m, s):\n",
    "    if s < 0:\n",
    "        return 10000000000000000\n",
    "    return A*np.exp(-(x-m)**2 / (2*s**2))\n",
    "\n",
    "def load_maps_from_file(filename, show = True):\n",
    "    f = h5py.File(filename, 'r')\n",
    "    e0map = np.array(f['e0']['block0_values'])\n",
    "    ltmap = np.array(f['lt']['block0_values'])\n",
    "    # f['mapinfo']['index'][i] tells you what is stored is stored in f['mapinfo']['values'][i]\n",
    "    bounds = ((f['mapinfo']['values'][0], f['mapinfo']['values'][1]), (f['mapinfo']['values'][2], f['mapinfo']['values'][3]))\n",
    "    f.close()\n",
    "\n",
    "    if show:\n",
    "        plt.imshow(e0map, extent=[bounds[0][0], bounds[0][1], bounds[1][0], bounds[1][1]], origin = 'lower')\n",
    "        plt.colorbar()\n",
    "        plt.title('E0')\n",
    "        plt.show()\n",
    "\n",
    "        plt.imshow(ltmap, extent=[bounds[0][0], bounds[0][1], bounds[1][0], bounds[1][1]], origin = 'lower')\n",
    "        plt.colorbar()\n",
    "        plt.title('LT')\n",
    "        plt.clim(5000, 10000)\n",
    "        plt.show()\n",
    "    \n",
    "    return e0map, ltmap, bounds\n",
    "\n",
    "def get_bin_from_xy(x, y, emap, bounds):\n",
    "    lowerx, lowery = bounds[0][0], bounds[1][0]\n",
    "    upperx, uppery = bounds[0][1], bounds[1][1]\n",
    "    nbinsx = len(emap)\n",
    "    nbinsy = len(emap[0])\n",
    "    dbinx = (bounds[0][1] - bounds[0][0]) / nbinsx\n",
    "    dbiny = (bounds[1][1] - bounds[1][0]) / nbinsy\n",
    "    ix = min(floor((x - lowerx) / dbinx), nbinsx-1)\n",
    "    iy = min(floor((y - lowery) / dbiny), nbinsy-1)\n",
    "    return ix, iy\n",
    "\n",
    "def correct_energies(emap, bounds, umask, xvals, yvals, zvals, energies, ltmap = None, show = True, vocal = False):\n",
    "    if vocal:\n",
    "        print('Correcting energies...')\n",
    "    ecorrs = []\n",
    "    xymask = (xvals > bounds[0][0]) & (xvals < bounds[0][1]) & (yvals > bounds[1][0]) & (yvals < bounds[1][1])\n",
    "    tcorstart = time()\n",
    "    masked_xvals, masked_yvals = xvals[umask & xymask], yvals[umask & xymask]\n",
    "    masked_energies = energies[umask & xymask]\n",
    "    ncorevents = len(masked_xvals)\n",
    "    factor_default = emap[int(len(emap)/2)][int(len(emap)/2)]\n",
    "    for e in range(ncorevents):\n",
    "        if vocal and e % 10000 == 0:\n",
    "            print(e, '/', len(xvals[umask & xymask]))\n",
    "            if e > 0:\n",
    "                print('Est remaining =', round((ncorevents - e)*(time() - tcorstart) / e, 1))\n",
    "        x, y = masked_xvals[e], masked_yvals[e]\n",
    "        ix, iy = get_bin_from_xy(x, y, emap, bounds)\n",
    "        factor = emap[ix][iy]\n",
    "        if factor == 0 or np.isnan(factor):\n",
    "            factor = factor_default\n",
    "        if ltmap is not None:\n",
    "            ixlt, iylt = get_bin_from_xy(x, y, ltmap, bounds)\n",
    "            lt = ltmap[ixlt][iylt]\n",
    "            z = zvals[umask & xymask][e]\n",
    "            ltcorr = np.exp(z / lt)\n",
    "            factor /= ltcorr\n",
    "        ecorr = masked_energies[e] / factor\n",
    "        ecorrs.append(ecorr)\n",
    "    if show:\n",
    "        plt.hist(ecorrs)\n",
    "        plt.show()\n",
    "    return np.array(ecorrs)\n",
    "\n",
    "def plot_res_vs_zr(res_vs_zr):\n",
    "    for rlim in rlims:\n",
    "        res_vs_z = [ res_vs_zr[1000*zlim + rlim] for zlim in zlims ]\n",
    "        plt.plot(zlims, res_vs_z, 'o', label = 'rlim = '+str(rlim)+' mm')\n",
    "    plt.legend()\n",
    "    plt.xlabel('Z upper limit (mm)')\n",
    "    plt.ylabel('Resolution (%)')\n",
    "    plt.show()\n",
    "    print('Innermost resolution = ', round(res_vs_zr[1000*zlims[0] + rlims[0]], 2), '%')\n",
    "    print('Outermost resolution = ', round(res_vs_zr[1000*zlims[-1] + rlims[-1]], 2), '%')\n",
    "\n",
    "def fit_res_vs_zr(energies, emap, bounds, umask, xvals, yvals, zvals, show = True):\n",
    "    res_vs_zr = {}\n",
    "    xymask = (xvals > bounds[0][0]) & (xvals < bounds[0][1]) & (yvals > bounds[1][0]) & (yvals < bounds[1][1])\n",
    "    masked_xvals, masked_yvals, masked_zvals = xvals[umask & xymask], yvals[umask & xymask], zvals[umask & xymask]\n",
    "\n",
    "    for zlim, rlim in it.product(zlims, rlims):\n",
    "    \n",
    "        fidmask = ((masked_xvals**2 + masked_yvals**2) < rlim**2) & (masked_zvals < zlim)\n",
    "        h = plt.hist(energies[fidmask], range=(0.85, 1.15), bins = 30)\n",
    "\n",
    "        xdata = (h[1][:-1] + h[1][1:]) / 2\n",
    "        ydata = h[0]\n",
    "\n",
    "        (A0, m0, s0) = (np.max(ydata), 1, np.std(energies[fidmask]))\n",
    "        \n",
    "        popt, pcov = curve_fit(gauss, xdata, ydata, p0 = (A0, m0, s0))\n",
    "        fitgauss = gauss(xdata, *popt)\n",
    "\n",
    "        FWHM = 2.355 * popt[2]\n",
    "        mean = popt[1]\n",
    "        resolution = 100 * FWHM / mean\n",
    "\n",
    "        res_vs_zr[zlim*1000+rlim] = resolution\n",
    "\n",
    "        if zlim == zlims[0] and rlim == rlims[0] and show:\n",
    "            print('Fit a Gaussian with guess (A0, m0, s0) =', (A0, m0, s0))\n",
    "            plt.plot(xdata, fitgauss)\n",
    "            plt.title('Z < '+str(zlim)+'; R < '+str(rlim)+'. Resolution = '+str(round(resolution, 1))+'%')\n",
    "            plt.show()\n",
    "        else:\n",
    "            plt.close()\n",
    "    \n",
    "    return res_vs_zr"
   ]
  },
  {
   "cell_type": "code",
   "execution_count": 31,
   "metadata": {},
   "outputs": [
    {
     "data": {
      "image/png": "[encoded data removed]",
      "text/plain": [
       "<Figure size 432x288 with 2 Axes>"
      ]
     },
     "metadata": {
      "needs_background": "light"
     },
     "output_type": "display_data"
    },
    {
     "data": {
      "image/png": "[encoded data removed]",
      "text/plain": [
       "<Figure size 432x288 with 2 Axes>"
      ]
     },
     "metadata": {
      "needs_background": "light"
     },
     "output_type": "display_data"
    },
    {
     "name": "stdout",
     "output_type": "stream",
     "text": [
      "Correcting energies...\n",
      "0 / 207579\n"
     ]
    },
    {
     "name": "stderr",
     "output_type": "stream",
     "text": [
      "/Library/Frameworks/Python.framework/Versions/3.7/lib/python3.7/site-packages/ipykernel/__main__.py:71: RuntimeWarning: divide by zero encountered in double_scalars\n"
     ]
    },
    {
     "name": "stdout",
     "output_type": "stream",
     "text": [
      "10000 / 207579\n",
      "Est remaining = 82.7\n"
     ]
    },
    {
     "name": "stderr",
     "output_type": "stream",
     "text": [
      "/Library/Frameworks/Python.framework/Versions/3.7/lib/python3.7/site-packages/ipykernel/__main__.py:71: RuntimeWarning: overflow encountered in double_scalars\n"
     ]
    },
    {
     "name": "stdout",
     "output_type": "stream",
     "text": [
      "20000 / 207579\n",
      "Est remaining = 78.8\n",
      "30000 / 207579\n",
      "Est remaining = 73.4\n",
      "40000 / 207579\n",
      "Est remaining = 68.7\n",
      "50000 / 207579\n",
      "Est remaining = 64.1\n",
      "60000 / 207579\n",
      "Est remaining = 59.8\n",
      "70000 / 207579\n",
      "Est remaining = 55.7\n",
      "80000 / 207579\n",
      "Est remaining = 51.5\n",
      "90000 / 207579\n",
      "Est remaining = 47.7\n",
      "100000 / 207579\n",
      "Est remaining = 43.6\n",
      "110000 / 207579\n",
      "Est remaining = 39.6\n",
      "120000 / 207579\n",
      "Est remaining = 35.7\n",
      "130000 / 207579\n",
      "Est remaining = 31.7\n",
      "140000 / 207579\n",
      "Est remaining = 27.7\n",
      "150000 / 207579\n",
      "Est remaining = 23.6\n",
      "160000 / 207579\n",
      "Est remaining = 19.6\n",
      "170000 / 207579\n",
      "Est remaining = 15.5\n",
      "180000 / 207579\n",
      "Est remaining = 11.4\n",
      "190000 / 207579\n",
      "Est remaining = 7.3\n",
      "200000 / 207579\n",
      "Est remaining = 3.1\n"
     ]
    },
    {
     "data": {
      "image/png": "[encoded data removed]",
      "text/plain": [
       "<Figure size 432x288 with 1 Axes>"
      ]
     },
     "metadata": {
      "needs_background": "light"
     },
     "output_type": "display_data"
    },
    {
     "name": "stdout",
     "output_type": "stream",
     "text": [
      "Fit a Gaussian with guess (A0, m0, s0) = (285.0, 1, 2.410864425439408)\n"
     ]
    },
    {
     "data": {
      "image/png": "[encoded data removed]",
      "text/plain": [
       "<Figure size 432x288 with 1 Axes>"
      ]
     },
     "metadata": {
      "needs_background": "light"
     },
     "output_type": "display_data"
    },
    {
     "data": {
      "image/png": "[encoded data removed]",
      "text/plain": [
       "<Figure size 432x288 with 1 Axes>"
      ]
     },
     "metadata": {
      "needs_background": "light"
     },
     "output_type": "display_data"
    },
    {
     "name": "stdout",
     "output_type": "stream",
     "text": [
      "Innermost resolution =  4.61 %\n",
      "Outermost resolution =  6.84 %\n"
     ]
    }
   ],
   "source": [
    "file_7472   = '/Volumes/NEXT_Data/IC_Data/st190819/maps/kr_emap_xy_50_50_r_7472_st190819.h5'\n",
    "\n",
    "zlimtest = 100\n",
    "rlimtest = 50\n",
    "zrmask = (Zrms < zlimtest) & (kdstR < rlimtest)\n",
    "nomask = np.ones(len(kdstE), dtype='bool')\n",
    "\n",
    "e0_7472, lt_7472, bounds_7472 = load_maps_from_file(file_7472)\n",
    "r7472_scaled_energy = correct_energies(e0_7472, bounds_7472, nomask, kdstX, kdstY, Zrms, kdstE, ltmap = lt_7472, vocal = True)\n",
    "r7472_res_vs_zr = fit_res_vs_zr(r7472_scaled_energy, e0_7472, bounds_7472, nomask, kdstX, kdstY, Zrms, show = True)\n",
    "plot_res_vs_zr(r7472_res_vs_zr)"
   ]
  },
  {
   "cell_type": "code",
   "execution_count": 32,
   "metadata": {},
   "outputs": [
    {
     "name": "stdout",
     "output_type": "stream",
     "text": [
      "0 / 210221\n",
      "10000 / 210221\n",
      "20000 / 210221\n",
      "30000 / 210221\n",
      "40000 / 210221\n",
      "50000 / 210221\n",
      "60000 / 210221\n",
      "70000 / 210221\n",
      "80000 / 210221\n",
      "90000 / 210221\n",
      "100000 / 210221\n",
      "110000 / 210221\n",
      "120000 / 210221\n",
      "130000 / 210221\n",
      "140000 / 210221\n",
      "150000 / 210221\n",
      "160000 / 210221\n",
      "170000 / 210221\n",
      "180000 / 210221\n",
      "190000 / 210221\n",
      "200000 / 210221\n",
      "210000 / 210221\n"
     ]
    }
   ],
   "source": [
    "kdstN = np.array(all_kdsts.event)\n",
    "doubles = []\n",
    "for n, i in zip(kdstN[:-2], range(len(kdstN)-1)):\n",
    "    if i % 10000 == 0:\n",
    "        print(i, '/', len(kdstN))\n",
    "    if kdstN[i+1] == kdstN[i]:\n",
    "        doubles.append(n)\n",
    "doubles = np.unique(np.array(doubles))"
   ]
  },
  {
   "cell_type": "code",
   "execution_count": 33,
   "metadata": {},
   "outputs": [
    {
     "data": {
      "text/plain": [
       "array([     8,     28,     91, ..., 691929, 691984, 691994], dtype=int32)"
      ]
     },
     "execution_count": 33,
     "metadata": {},
     "output_type": "execute_result"
    }
   ],
   "source": [
    "doubles"
   ]
  },
  {
   "cell_type": "code",
   "execution_count": 34,
   "metadata": {},
   "outputs": [],
   "source": [
    "is_double = np.array([ n in doubles for n in kdstN ])"
   ]
  },
  {
   "cell_type": "code",
   "execution_count": 35,
   "metadata": {},
   "outputs": [],
   "source": [
    "kdst_bootcor_energies = r7472_scaled_energy * 41.5"
   ]
  },
  {
   "cell_type": "code",
   "execution_count": 36,
   "metadata": {},
   "outputs": [],
   "source": [
    "xymask = (abs(kdstY) < 200) & (abs(kdstX) < 200)\n",
    "zr_cor_mask = (Zrms[xymask] < zlimtest) & (kdstR[xymask] < rlimtest)"
   ]
  },
  {
   "cell_type": "code",
   "execution_count": 37,
   "metadata": {},
   "outputs": [
    {
     "data": {
      "image/png": "[encoded data removed]",
      "text/plain": [
       "<Figure size 432x288 with 1 Axes>"
      ]
     },
     "metadata": {
      "needs_background": "light"
     },
     "output_type": "display_data"
    },
    {
     "data": {
      "image/png": "[encoded data removed]",
      "text/plain": [
       "<Figure size 432x288 with 1 Axes>"
      ]
     },
     "metadata": {
      "needs_background": "light"
     },
     "output_type": "display_data"
    },
    {
     "data": {
      "image/png": "[encoded data removed]",
      "text/plain": [
       "<Figure size 432x288 with 1 Axes>"
      ]
     },
     "metadata": {
      "needs_background": "light"
     },
     "output_type": "display_data"
    }
   ],
   "source": [
    "plt.hist(kdst_bootcor_energies, range = (27, 45), bins = 90)\n",
    "plt.yscale('log')\n",
    "plt.xlabel('Event energy, Kr + xrays')\n",
    "plt.show()\n",
    "\n",
    "plt.hist(kdst_bootcor_energies[is_double[xymask]], range = (27, 45), bins = 90)\n",
    "plt.yscale('log')\n",
    "plt.xlabel('Event energy, Kr + xrays, DOUBLES ONLY')\n",
    "plt.show()\n",
    "\n",
    "plt.hist(kdst_bootcor_energies[~is_double[xymask]], range = (27, 45), bins = 90)\n",
    "plt.yscale('log')\n",
    "plt.xlabel('Event energy, Kr + xrays, SINGLES ONLY')\n",
    "plt.show()"
   ]
  },
  {
   "cell_type": "markdown",
   "metadata": {},
   "source": [
    "## Add corrections to jsons to look for x-ray peaks"
   ]
  },
  {
   "cell_type": "code",
   "execution_count": 38,
   "metadata": {},
   "outputs": [],
   "source": [
    "f = open('/Volumes/NEXT_data/IC_Data/krThesis/sliding_window_events/meshed_outputs_20201222/meshed_output_allfiles_'+runno+'.json')\n",
    "histat_json = js.load(f)\n",
    "f.close()"
   ]
  },
  {
   "cell_type": "code",
   "execution_count": 39,
   "metadata": {},
   "outputs": [
    {
     "data": {
      "text/plain": [
       "dict_keys(['events_energy', 'events_prewindow_sums', 'all_Zgauss', 'all_Wgauss', 'all_Zrms', 'all_Wrms', 'events_X_sipm_subtracted', 'events_Y_sipm_subtracted', 'all_R2', 'events_postwindow_sums', 'all_sres', 'all_ssres'])"
      ]
     },
     "execution_count": 39,
     "metadata": {},
     "output_type": "execute_result"
    }
   ],
   "source": [
    "histat_json.keys()"
   ]
  },
  {
   "cell_type": "code",
   "execution_count": 40,
   "metadata": {},
   "outputs": [],
   "source": [
    "hiX, hiY, hiZ, hiE = np.array(histat_json['events_X_sipm_subtracted']), np.array(histat_json['events_Y_sipm_subtracted']), np.array(histat_json['all_Zrms']), np.array(histat_json['events_energy'])"
   ]
  },
  {
   "cell_type": "code",
   "execution_count": 41,
   "metadata": {},
   "outputs": [
    {
     "data": {
      "image/png": "[encoded data removed]",
      "text/plain": [
       "<Figure size 432x288 with 2 Axes>"
      ]
     },
     "metadata": {
      "needs_background": "light"
     },
     "output_type": "display_data"
    },
    {
     "data": {
      "image/png": "[encoded data removed]",
      "text/plain": [
       "<Figure size 432x288 with 2 Axes>"
      ]
     },
     "metadata": {
      "needs_background": "light"
     },
     "output_type": "display_data"
    },
    {
     "name": "stdout",
     "output_type": "stream",
     "text": [
      "Correcting energies...\n",
      "0 / 121327\n",
      "10000 / 121327\n",
      "Est remaining = 380.2\n",
      "20000 / 121327\n",
      "Est remaining = 342.8\n",
      "30000 / 121327\n",
      "Est remaining = 306.5\n",
      "40000 / 121327\n",
      "Est remaining = 271.6\n",
      "50000 / 121327\n",
      "Est remaining = 237.5\n",
      "60000 / 121327\n",
      "Est remaining = 204.4\n",
      "70000 / 121327\n",
      "Est remaining = 171.0\n",
      "80000 / 121327\n",
      "Est remaining = 137.6\n",
      "90000 / 121327\n",
      "Est remaining = 104.2\n",
      "100000 / 121327\n",
      "Est remaining = 71.0\n",
      "110000 / 121327\n",
      "Est remaining = 37.7\n",
      "120000 / 121327\n",
      "Est remaining = 4.4\n"
     ]
    },
    {
     "data": {
      "image/png": "[encoded data removed]",
      "text/plain": [
       "<Figure size 432x288 with 1 Axes>"
      ]
     },
     "metadata": {
      "needs_background": "light"
     },
     "output_type": "display_data"
    },
    {
     "name": "stdout",
     "output_type": "stream",
     "text": [
      "Fit a Gaussian with guess (A0, m0, s0) = (221.0, 1, 0.06871790675599647)\n"
     ]
    },
    {
     "data": {
      "image/png": "[encoded data removed]",
      "text/plain": [
       "<Figure size 432x288 with 1 Axes>"
      ]
     },
     "metadata": {
      "needs_background": "light"
     },
     "output_type": "display_data"
    },
    {
     "data": {
      "image/png": "[encoded data removed]",
      "text/plain": [
       "<Figure size 432x288 with 1 Axes>"
      ]
     },
     "metadata": {
      "needs_background": "light"
     },
     "output_type": "display_data"
    },
    {
     "name": "stdout",
     "output_type": "stream",
     "text": [
      "Innermost resolution =  4.76 %\n",
      "Outermost resolution =  6.83 %\n"
     ]
    }
   ],
   "source": [
    "file_7472   = '/Volumes/NEXT_Data/IC_Data/st190819/maps/kr_emap_xy_50_50_r_7472_st190819.h5'\n",
    "\n",
    "emask = (hiE < 16000) & (hiE > 6000)\n",
    "nomask = np.ones(len(hiE), dtype='bool')\n",
    "\n",
    "# def correct_energies(emap, bounds, umask, xvals, yvals, zvals, energies, ltmap = None, show = True, vocal = False):\n",
    "\n",
    "e0_7472, lt_7472, bounds_7472 = load_maps_from_file(file_7472)\n",
    "r7472_scaled_energy_json = correct_energies(e0_7472, bounds_7472, emask, hiX, hiY, hiZ, hiE, ltmap = lt_7472, vocal = True)\n",
    "r7472_res_vs_zr_json = fit_res_vs_zr(r7472_scaled_energy_json, e0_7472, bounds_7472, emask, hiX, hiY, hiZ, show = True)\n",
    "plot_res_vs_zr(r7472_res_vs_zr_json)"
   ]
  },
  {
   "cell_type": "code",
   "execution_count": 42,
   "metadata": {},
   "outputs": [
    {
     "data": {
      "image/png": "[encoded data removed]",
      "text/plain": [
       "<Figure size 432x288 with 1 Axes>"
      ]
     },
     "metadata": {
      "needs_background": "light"
     },
     "output_type": "display_data"
    }
   ],
   "source": [
    "json_bootcor_energies = r7472_scaled_energy_json * 41.5\n",
    "\n",
    "plt.hist(json_bootcor_energies, range = (27, 45), bins = 90)\n",
    "plt.yscale('log')\n",
    "plt.xlabel('Event energy')\n",
    "plt.show()"
   ]
  },
  {
   "cell_type": "markdown",
   "metadata": {},
   "source": [
    "## Examine new json, with gravity position methods"
   ]
  },
  {
   "cell_type": "code",
   "execution_count": 43,
   "metadata": {},
   "outputs": [],
   "source": [
    "f = open('/Volumes/NEXT_data/IC_Data/krThesis/sliding_window_events/meshed_outputs_20210113/meshed_output_allfiles_'+runno+'_20210112.json')\n",
    "histat_json_cgrav = js.load(f)\n",
    "f.close()"
   ]
  },
  {
   "cell_type": "code",
   "execution_count": 44,
   "metadata": {},
   "outputs": [
    {
     "data": {
      "text/plain": [
       "dict_keys(['events_energy', 'events_prewindow_sums', 'all_Zgauss', 'all_Wgauss', 'all_Zrms', 'all_Wrms', 'events_X_sipm_subtracted', 'events_Y_sipm_subtracted', 'events_localit_X', 'events_localit_Y', 'events_local_X', 'events_local_Y', 'events_global_X', 'events_global_Y', 'ring_events_sipm_aroundevt', 'ring_events_sipm_aroundevt_noctr', 'all_R2', 'events_postwindow_sums', 'all_sres', 'all_ssres', 'all_cutoff'])"
      ]
     },
     "execution_count": 44,
     "metadata": {},
     "output_type": "execute_result"
    }
   ],
   "source": [
    "histat_json_cgrav.keys()"
   ]
  },
  {
   "cell_type": "code",
   "execution_count": 45,
   "metadata": {},
   "outputs": [],
   "source": [
    "hiGZ, hiGE = np.array(histat_json_cgrav['all_Zrms']), np.array(histat_json_cgrav['events_energy'])"
   ]
  },
  {
   "cell_type": "code",
   "execution_count": 46,
   "metadata": {},
   "outputs": [],
   "source": [
    "hiX_glob, hiY_glob   = np.array(histat_json_cgrav['events_global_X']), np.array(histat_json_cgrav['events_global_Y'])\n",
    "hiX_loc, hiY_loc     = np.array(histat_json_cgrav['events_local_X']), np.array(histat_json_cgrav['events_local_Y'])\n",
    "hiX_locit, hiY_locit = np.array(histat_json_cgrav['events_localit_X']), np.array(histat_json_cgrav['events_localit_Y'])"
   ]
  },
  {
   "cell_type": "code",
   "execution_count": 47,
   "metadata": {},
   "outputs": [],
   "source": [
    "file_7472   = '/Volumes/NEXT_Data/IC_Data/st190819/maps/kr_emap_xy_50_50_r_7472_st190819.h5'\n",
    "\n",
    "emask = (hiGE < 16000) & (hiGE > 6000)\n",
    "nomask = np.ones(len(hiGE), dtype='bool')"
   ]
  },
  {
   "cell_type": "code",
   "execution_count": 48,
   "metadata": {},
   "outputs": [
    {
     "name": "stdout",
     "output_type": "stream",
     "text": [
      "Correcting energies...\n",
      "0 / 122758\n",
      "10000 / 122758\n",
      "Est remaining = 373.2\n",
      "20000 / 122758\n",
      "Est remaining = 339.6\n",
      "30000 / 122758\n",
      "Est remaining = 306.2\n",
      "40000 / 122758\n",
      "Est remaining = 273.8\n",
      "50000 / 122758\n",
      "Est remaining = 240.7\n",
      "60000 / 122758\n",
      "Est remaining = 207.7\n",
      "70000 / 122758\n",
      "Est remaining = 174.4\n",
      "80000 / 122758\n",
      "Est remaining = 141.4\n",
      "90000 / 122758\n",
      "Est remaining = 108.4\n",
      "100000 / 122758\n",
      "Est remaining = 75.3\n",
      "110000 / 122758\n",
      "Est remaining = 42.8\n",
      "120000 / 122758\n",
      "Est remaining = 9.3\n"
     ]
    },
    {
     "data": {
      "image/png": "[encoded data removed]",
      "text/plain": [
       "<Figure size 432x288 with 1 Axes>"
      ]
     },
     "metadata": {
      "needs_background": "light"
     },
     "output_type": "display_data"
    },
    {
     "name": "stdout",
     "output_type": "stream",
     "text": [
      "Fit a Gaussian with guess (A0, m0, s0) = (310.0, 1, 0.0726387848294298)\n"
     ]
    },
    {
     "data": {
      "image/png": "[encoded data removed]",
      "text/plain": [
       "<Figure size 432x288 with 1 Axes>"
      ]
     },
     "metadata": {
      "needs_background": "light"
     },
     "output_type": "display_data"
    },
    {
     "data": {
      "image/png": "[encoded data removed]",
      "text/plain": [
       "<Figure size 432x288 with 1 Axes>"
      ]
     },
     "metadata": {
      "needs_background": "light"
     },
     "output_type": "display_data"
    },
    {
     "name": "stdout",
     "output_type": "stream",
     "text": [
      "Innermost resolution =  4.96 %\n",
      "Outermost resolution =  10.99 %\n"
     ]
    }
   ],
   "source": [
    "r7472_scaled_energy_json_glob = correct_energies(e0_7472, bounds_7472, emask, hiX_glob, hiY_glob, hiGZ, hiGE, ltmap = lt_7472, vocal = True)\n",
    "r7472_res_vs_zr_json_glob = fit_res_vs_zr(r7472_scaled_energy_json_glob, e0_7472, bounds_7472, emask, hiX_glob, hiY_glob, hiGZ, show = True)\n",
    "plot_res_vs_zr(r7472_res_vs_zr_json_glob)"
   ]
  },
  {
   "cell_type": "code",
   "execution_count": 49,
   "metadata": {},
   "outputs": [
    {
     "data": {
      "image/png": "[encoded data removed]",
      "text/plain": [
       "<Figure size 432x288 with 1 Axes>"
      ]
     },
     "metadata": {
      "needs_background": "light"
     },
     "output_type": "display_data"
    }
   ],
   "source": [
    "json_bootcor_energies_glob = r7472_scaled_energy_json_glob * 41.5\n",
    "\n",
    "plt.hist(json_bootcor_energies_glob, range = (27, 45), bins = 90)\n",
    "plt.yscale('log')\n",
    "plt.xlabel('Event energy')\n",
    "plt.show()"
   ]
  },
  {
   "cell_type": "code",
   "execution_count": 50,
   "metadata": {},
   "outputs": [
    {
     "name": "stdout",
     "output_type": "stream",
     "text": [
      "Correcting energies...\n",
      "0 / 122275\n",
      "10000 / 122275\n",
      "Est remaining = 390.4\n",
      "20000 / 122275\n",
      "Est remaining = 355.7\n",
      "30000 / 122275\n",
      "Est remaining = 318.9\n",
      "40000 / 122275\n",
      "Est remaining = 282.5\n",
      "50000 / 122275\n",
      "Est remaining = 247.1\n",
      "60000 / 122275\n",
      "Est remaining = 212.4\n",
      "70000 / 122275\n",
      "Est remaining = 178.4\n",
      "80000 / 122275\n",
      "Est remaining = 144.2\n",
      "90000 / 122275\n",
      "Est remaining = 109.6\n",
      "100000 / 122275\n",
      "Est remaining = 75.4\n",
      "110000 / 122275\n",
      "Est remaining = 41.5\n",
      "120000 / 122275\n",
      "Est remaining = 7.7\n"
     ]
    },
    {
     "data": {
      "image/png": "[encoded data removed]",
      "text/plain": [
       "<Figure size 432x288 with 1 Axes>"
      ]
     },
     "metadata": {
      "needs_background": "light"
     },
     "output_type": "display_data"
    },
    {
     "name": "stdout",
     "output_type": "stream",
     "text": [
      "Fit a Gaussian with guess (A0, m0, s0) = (226.0, 1, 0.06962707039022481)\n"
     ]
    },
    {
     "data": {
      "image/png": "[encoded data removed]",
      "text/plain": [
       "<Figure size 432x288 with 1 Axes>"
      ]
     },
     "metadata": {
      "needs_background": "light"
     },
     "output_type": "display_data"
    },
    {
     "data": {
      "image/png": "[encoded data removed]",
      "text/plain": [
       "<Figure size 432x288 with 1 Axes>"
      ]
     },
     "metadata": {
      "needs_background": "light"
     },
     "output_type": "display_data"
    },
    {
     "name": "stdout",
     "output_type": "stream",
     "text": [
      "Innermost resolution =  4.53 %\n",
      "Outermost resolution =  6.73 %\n"
     ]
    }
   ],
   "source": [
    "r7472_scaled_energy_json_loc = correct_energies(e0_7472, bounds_7472, emask, hiX_loc, hiY_loc, hiGZ, hiGE, ltmap = lt_7472, vocal = True)\n",
    "r7472_res_vs_zr_json_loc = fit_res_vs_zr(r7472_scaled_energy_json_loc, e0_7472, bounds_7472, emask, hiX_loc, hiY_loc, hiGZ, show = True)\n",
    "plot_res_vs_zr(r7472_res_vs_zr_json_loc)"
   ]
  },
  {
   "cell_type": "code",
   "execution_count": 51,
   "metadata": {},
   "outputs": [
    {
     "data": {
      "image/png": "[encoded data removed]",
      "text/plain": [
       "<Figure size 432x288 with 1 Axes>"
      ]
     },
     "metadata": {
      "needs_background": "light"
     },
     "output_type": "display_data"
    }
   ],
   "source": [
    "json_bootcor_energies_loc = r7472_scaled_energy_json_loc * 41.5\n",
    "\n",
    "plt.hist(json_bootcor_energies_loc, range = (27, 45), bins = 90)\n",
    "plt.yscale('log')\n",
    "plt.xlabel('Event energy')\n",
    "plt.show()"
   ]
  },
  {
   "cell_type": "code",
   "execution_count": 52,
   "metadata": {},
   "outputs": [
    {
     "name": "stdout",
     "output_type": "stream",
     "text": [
      "Correcting energies...\n",
      "0 / 122254\n",
      "10000 / 122254\n",
      "Est remaining = 370.1\n",
      "20000 / 122254\n",
      "Est remaining = 337.4\n",
      "30000 / 122254\n",
      "Est remaining = 304.2\n",
      "40000 / 122254\n",
      "Est remaining = 271.5\n",
      "50000 / 122254\n",
      "Est remaining = 238.8\n",
      "60000 / 122254\n",
      "Est remaining = 205.9\n",
      "70000 / 122254\n",
      "Est remaining = 172.8\n",
      "80000 / 122254\n",
      "Est remaining = 139.7\n",
      "90000 / 122254\n",
      "Est remaining = 106.6\n",
      "100000 / 122254\n",
      "Est remaining = 73.5\n",
      "110000 / 122254\n",
      "Est remaining = 40.5\n",
      "120000 / 122254\n",
      "Est remaining = 7.4\n"
     ]
    },
    {
     "data": {
      "image/png": "[encoded data removed]",
      "text/plain": [
       "<Figure size 432x288 with 1 Axes>"
      ]
     },
     "metadata": {
      "needs_background": "light"
     },
     "output_type": "display_data"
    },
    {
     "name": "stdout",
     "output_type": "stream",
     "text": [
      "Fit a Gaussian with guess (A0, m0, s0) = (224.0, 1, 0.06955909741725942)\n"
     ]
    },
    {
     "data": {
      "image/png": "[encoded data removed]",
      "text/plain": [
       "<Figure size 432x288 with 1 Axes>"
      ]
     },
     "metadata": {
      "needs_background": "light"
     },
     "output_type": "display_data"
    },
    {
     "data": {
      "image/png": "[encoded data removed]",
      "text/plain": [
       "<Figure size 432x288 with 1 Axes>"
      ]
     },
     "metadata": {
      "needs_background": "light"
     },
     "output_type": "display_data"
    },
    {
     "name": "stdout",
     "output_type": "stream",
     "text": [
      "Innermost resolution =  4.54 %\n",
      "Outermost resolution =  6.72 %\n"
     ]
    }
   ],
   "source": [
    "r7472_scaled_energy_json_locit = correct_energies(e0_7472, bounds_7472, emask, hiX_locit, hiY_locit, hiGZ, hiGE, ltmap = lt_7472, vocal = True)\n",
    "r7472_res_vs_zr_json_locit = fit_res_vs_zr(r7472_scaled_energy_json_locit, e0_7472, bounds_7472, emask, hiX_locit, hiY_locit, hiGZ, show = True)\n",
    "plot_res_vs_zr(r7472_res_vs_zr_json_locit)"
   ]
  },
  {
   "cell_type": "code",
   "execution_count": 53,
   "metadata": {},
   "outputs": [
    {
     "data": {
      "image/png": "[encoded data removed]",
      "text/plain": [
       "<Figure size 432x288 with 1 Axes>"
      ]
     },
     "metadata": {
      "needs_background": "light"
     },
     "output_type": "display_data"
    }
   ],
   "source": [
    "json_bootcor_energies_locit = r7472_scaled_energy_json_locit * 41.5\n",
    "\n",
    "plt.hist(json_bootcor_energies_locit, range = (27, 45), bins = 90)\n",
    "plt.yscale('log')\n",
    "plt.xlabel('Event energy')\n",
    "plt.show()"
   ]
  },
  {
   "cell_type": "code",
   "execution_count": 54,
   "metadata": {},
   "outputs": [
    {
     "name": "stdout",
     "output_type": "stream",
     "text": [
      "Finished. Current time = 2446.1\n"
     ]
    }
   ],
   "source": [
    "printtime('Finished.')"
   ]
  },
  {
   "cell_type": "code",
   "execution_count": null,
   "metadata": {},
   "outputs": [],
   "source": []
  },
  {
   "cell_type": "code",
   "execution_count": null,
   "metadata": {},
   "outputs": [],
   "source": []
  },
  {
   "cell_type": "code",
   "execution_count": null,
   "metadata": {},
   "outputs": [],
   "source": []
  },
  {
   "cell_type": "code",
   "execution_count": null,
   "metadata": {},
   "outputs": [],
   "source": []
  },
  {
   "cell_type": "code",
   "execution_count": null,
   "metadata": {},
   "outputs": [],
   "source": []
  },
  {
   "cell_type": "code",
   "execution_count": null,
   "metadata": {},
   "outputs": [],
   "source": []
  },
  {
   "cell_type": "code",
   "execution_count": null,
   "metadata": {},
   "outputs": [],
   "source": []
  }
 ],
 "metadata": {
  "kernelspec": {
   "display_name": "VPython",
   "language": "python",
   "name": "vpython"
  },
  "language_info": {
   "codemirror_mode": {
    "name": "ipython",
    "version": 3
   },
   "file_extension": ".py",
   "mimetype": "text/x-python",
   "name": "python",
   "nbconvert_exporter": "python",
   "pygments_lexer": "ipython3",
   "version": "3.7.0"
  }
 },
 "nbformat": 4,
 "nbformat_minor": 4
}
