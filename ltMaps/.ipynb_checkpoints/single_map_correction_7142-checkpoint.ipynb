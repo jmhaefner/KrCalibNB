{
 "cells": [
  {
   "cell_type": "markdown",
   "metadata": {},
   "source": [
    "# Krypton Lifetime maps"
   ]
  },
  {
   "cell_type": "markdown",
   "metadata": {},
   "source": [
    "### Author:  JMH, JJGC"
   ]
  },
  {
   "cell_type": "markdown",
   "metadata": {},
   "source": [
    "### Software: KrCalib : https://github.com/nextic/KrCalib/"
   ]
  },
  {
   "cell_type": "code",
   "execution_count": 1,
   "metadata": {},
   "outputs": [
    {
     "name": "stdout",
     "output_type": "stream",
     "text": [
      "Last updated on  Sun Jul 21 23:29:04 2019\n"
     ]
    }
   ],
   "source": [
    "%load_ext autoreload\n",
    "%autoreload 2\n",
    "import os\n",
    "import sys\n",
    "import time\n",
    "import warnings\n",
    "import datetime \n",
    "print(\"Last updated on \", time.asctime())"
   ]
  },
  {
   "cell_type": "markdown",
   "metadata": {},
   "source": [
    "### Logger"
   ]
  },
  {
   "cell_type": "code",
   "execution_count": 2,
   "metadata": {},
   "outputs": [
    {
     "name": "stdout",
     "output_type": "stream",
     "text": [
      "2019-07-21 23:29:04,481 | INFO : Hello world!\n"
     ]
    }
   ],
   "source": [
    "import logging\n",
    "\n",
    "\n",
    "logging.basicConfig(format='%(asctime)s | %(levelname)s : %(message)s',\n",
    "                     level=logging.INFO, stream=sys.stdout)\n",
    "\n",
    "logging.info('Hello world!')\n"
   ]
  },
  {
   "cell_type": "markdown",
   "metadata": {},
   "source": [
    "### Input files"
   ]
  },
  {
   "cell_type": "code",
   "execution_count": 3,
   "metadata": {},
   "outputs": [
    {
     "name": "stdout",
     "output_type": "stream",
     "text": [
      "Found the dst: dst_7142_trigger1_0000_8221.h5\n"
     ]
    }
   ],
   "source": [
    "from krcal.core.kr_types import KrFileName\n",
    "\n",
    "run_number = 7142\n",
    "num_files = 8221\n",
    "\n",
    "# run_number = 7023 # for testing\n",
    "# num_files = 2057 # for testing\n",
    "\n",
    "num_xy_bins = 50\n",
    "regularize = False\n",
    "\n",
    "# Can conditionally allow 100 x 100, if you like\n",
    "# if num_files > 7729:\n",
    "#     num_xy_bins = 100\n",
    "\n",
    "t_start = time.time()\n",
    "\n",
    "lifetime_limits = (3000, 12000)\n",
    "e0_limits = (7000, 14000)\n",
    "e0_limits_rphi = (12000, 14000)\n",
    "\n",
    "input_path  = f\"$IC_DATA/dst\"\n",
    "output_path = f\"$IC_DATA/ldst\"\n",
    "output_plots = f\"$IC_DATA/plots\"\n",
    "output_plots = os.path.expandvars(f\"{output_plots}/\")\n",
    "summary_outputs = \"/Users/jmhaefner/Development/KryptonCalibration/KrCalibNB_JMH/KrCalibNB/doc/img/r\"+str(run_number)+\"/\"\n",
    "map_path    = f\"$IC_DATA/maps\"\n",
    "\n",
    "# Find the name of the correct input dst\n",
    "\n",
    "dst_directory = os.path.expandvars(f\"{input_path}/\")\n",
    "dirlist = os.listdir(dst_directory)\n",
    "dst_file = \"\"\n",
    "for file_name in dirlist:\n",
    "    try:\n",
    "        check_number = file_name\n",
    "        check_number = check_number[check_number.find('_')+1:]\n",
    "        check_number = check_number[:check_number.find('_')]\n",
    "        if check_number == str(run_number):\n",
    "            print('Found the dst:',file_name)\n",
    "            dst_file = file_name\n",
    "    except:\n",
    "        pass\n",
    "\n",
    "if dst_file == \"\":\n",
    "    raise ValueError(\"Unable to find appropriate dst for run \"+str(run_number))\n",
    "\n",
    "input_file_names  = [ dst_file ]\n",
    "\n",
    "    \n",
    "time_bins = 25\n",
    "output_file_name  = ' '\n",
    "map_file_name     = 'kr_maps_xy_'+str(run_number)+'.h5'\n",
    "map_file_name_ts  = f'kr_maps_rphi_5_8_ts_{time_bins}_'+str(run_number)+'.h5'\n",
    "emap_file_name    = 'kr_emap_xy_'+str(num_xy_bins)+'_'+str(num_xy_bins)+'_r_'+str(run_number)+'.h5'\n",
    "\n",
    "krfn = KrFileName(input_file_names,\n",
    "                  output_file_name,\n",
    "                  map_file_name,\n",
    "                  map_file_name_ts,\n",
    "                  emap_file_name)"
   ]
  },
  {
   "cell_type": "markdown",
   "metadata": {},
   "source": [
    "### Notebook configuration"
   ]
  },
  {
   "cell_type": "code",
   "execution_count": 4,
   "metadata": {},
   "outputs": [],
   "source": [
    "%matplotlib inline\n",
    "import matplotlib.pyplot as plt\n",
    "\n",
    "from matplotlib.patches import Circle, Wedge, Polygon\n",
    "from matplotlib.collections import PatchCollection\n",
    "\n",
    "plt.rcParams[\"figure.figsize\"] = 10, 8\n",
    "plt.rcParams[\"font.size\"     ] = 14"
   ]
  },
  {
   "cell_type": "code",
   "execution_count": 5,
   "metadata": {},
   "outputs": [],
   "source": [
    "import seaborn as sns\n",
    "import numpy as np\n",
    "import pandas as pd\n",
    "import matplotlib\n",
    "import tables            as tb\n",
    "import random\n",
    "import glob\n",
    "import warnings\n",
    "sns.set()"
   ]
  },
  {
   "cell_type": "code",
   "execution_count": 6,
   "metadata": {},
   "outputs": [],
   "source": [
    "from  invisible_cities.io.dst_io              import load_dsts\n",
    "from  invisible_cities.core .core_functions   import in_range\n",
    "import invisible_cities.reco.corrections      as corrf"
   ]
  },
  {
   "cell_type": "code",
   "execution_count": 7,
   "metadata": {},
   "outputs": [],
   "source": [
    "from krcal.core.io_functions       import kdst_write\n",
    "from krcal.core.io_functions       import filenames_from_list\n",
    "from krcal.core.io_functions       import write_maps\n",
    "from krcal.core.io_functions       import read_maps\n",
    "from krcal.core.io_functions       import write_maps_ts\n",
    "from krcal.core.io_functions       import read_maps_ts"
   ]
  },
  {
   "cell_type": "code",
   "execution_count": 8,
   "metadata": {},
   "outputs": [],
   "source": [
    "from krcal.core.histo_functions    import h1, h1d, h2, h2d, plot_histo"
   ]
  },
  {
   "cell_type": "code",
   "execution_count": 9,
   "metadata": {},
   "outputs": [],
   "source": [
    "from krcal.core.core_functions      import time_delta_from_time\n",
    "from krcal.core.core_functions      import phirad_to_deg\n",
    "from krcal.core.core_functions      import timeit\n",
    "from krcal.core.core_functions      import NN\n",
    "from krcal.core                     import fit_functions_ic as fitf"
   ]
  },
  {
   "cell_type": "code",
   "execution_count": 10,
   "metadata": {},
   "outputs": [],
   "source": [
    "from krcal.core.plt_functions  import plot_sector\n",
    "from krcal.core.plt_functions  import plot_sectors"
   ]
  },
  {
   "cell_type": "code",
   "execution_count": 11,
   "metadata": {},
   "outputs": [],
   "source": [
    "from krcal.core.stat_functions      import mean_and_std"
   ]
  },
  {
   "cell_type": "code",
   "execution_count": 12,
   "metadata": {},
   "outputs": [],
   "source": [
    "from krcal.core.ranges_and_bins_functions      import kr_ranges_and_bins"
   ]
  },
  {
   "cell_type": "code",
   "execution_count": 13,
   "metadata": {},
   "outputs": [],
   "source": [
    "from krcal.core.analysis_functions  import fiducial_volumes\n",
    "from krcal.core.analysis_functions  import fid_eff\n",
    "from krcal.core.analysis_functions  import select_rphi_sectors\n",
    "from krcal.core.analysis_functions  import select_xy_sectors\n",
    "from krcal.core.analysis_functions  import event_map\n",
    "\n",
    "from krcal.core.analysis_functions  import kr_event_selection\n",
    "from krcal.core.analysis_functions  import kr_event"
   ]
  },
  {
   "cell_type": "code",
   "execution_count": 14,
   "metadata": {},
   "outputs": [],
   "source": [
    "from krcal.core.fit_lt_functions    import fit_lifetime\n",
    "from krcal.core.fit_lt_functions    import time_fcs\n",
    "from krcal.core.fit_lt_functions    import fit_fcs_in_rphi_sectors\n",
    "from krcal.core.fit_lt_functions    import fit_fcs_in_xy_bin\n",
    "from krcal.core.fit_lt_functions    import fit_map_rphi\n",
    "from krcal.core.fit_lt_functions    import fit_map_xy\n",
    "from krcal.core.fit_lt_functions    import get_time_series"
   ]
  },
  {
   "cell_type": "code",
   "execution_count": 15,
   "metadata": {},
   "outputs": [],
   "source": [
    "from krcal.core.fit_lt_histograms   import histo_fit_sectors\n",
    "from krcal.core.fit_lt_histograms   import print_fit_sectors_pars\n",
    "from krcal.core.fit_lt_histograms   import plot_fit_sectors\n",
    "from krcal.core.fit_lt_histograms   import plot_fit_xy\n",
    "from krcal.core.fit_lt_histograms   import plot_time_fcs\n",
    "from krcal.core.fit_lt_histograms   import plot_fit_lifetime_and_chi2\n",
    "from krcal.core.fit_lt_histograms   import print_fit_lifetime"
   ]
  },
  {
   "cell_type": "code",
   "execution_count": 16,
   "metadata": {},
   "outputs": [],
   "source": [
    "from krcal.core.fit_energy_functions    import fit_energy\n",
    "from krcal.core.fit_energy_functions    import plot_fit_energy\n",
    "from krcal.core.fit_energy_functions    import print_fit_energy\n",
    "from krcal.core.fit_energy_functions    import resolution_r_z\n",
    "from krcal.core.fit_energy_functions    import plot_resolution_r_z"
   ]
  },
  {
   "cell_type": "code",
   "execution_count": 17,
   "metadata": {},
   "outputs": [],
   "source": [
    "from krcal.core.kr_types import PlotLabels, KrEvent, ASectorMap\n",
    "from krcal.core.kr_types import FitType, KrSector, MapType\n",
    "from krcal.core.kr_types import KrFileName"
   ]
  },
  {
   "cell_type": "code",
   "execution_count": 18,
   "metadata": {},
   "outputs": [],
   "source": [
    "from krcal.core.rphi_maps_functions   import draw_rphi_maps\n",
    "from krcal.core.rphi_maps_functions   import draw_rphi_map\n",
    "from krcal.core.rphi_maps_functions   import draw_rphi_maps_ts\n",
    "from krcal.core.rphi_maps_functions   import draw_wedges\n",
    "from krcal.core.rphi_maps_functions   import define_rphi_sectors\n",
    "from krcal.core.rphi_maps_functions   import rphi_sector_map_def"
   ]
  },
  {
   "cell_type": "code",
   "execution_count": null,
   "metadata": {},
   "outputs": [],
   "source": [
    "from krcal.core.map_functions   import tsmap_from_fmap\n",
    "from krcal.core.map_functions   import amap_from_tsmap\n",
    "from krcal.core.map_functions   import relative_errors\n",
    "from krcal.core.map_functions   import amap_valid_mask\n",
    "from krcal.core.map_functions   import amap_valid_fraction\n",
    "from krcal.core.map_functions   import amap_average\n",
    "from krcal.core.map_functions   import amap_max\n",
    "from krcal.core.map_functions   import amap_min\n",
    "from krcal.core.map_functions   import amap_replace_nan_by_mean\n",
    "from krcal.core.map_functions   import amap_replace_nan_by_zero\n",
    "from krcal.core.map_functions   import regularize_maps\n",
    "from krcal.core.map_functions   import get_maps_from_tsmap\n",
    "from krcal.core.map_functions   import map_average\n",
    "from krcal.core.map_functions   import add_mapinfo"
   ]
  },
  {
   "cell_type": "code",
   "execution_count": null,
   "metadata": {},
   "outputs": [],
   "source": [
    "from krcal.core.xy_maps_functions   import draw_xy_maps\n",
    "from krcal.core.xy_maps_functions   import draw_xy_map\n",
    "from krcal.core.xy_maps_functions   import draw_xy_maps_ts"
   ]
  },
  {
   "cell_type": "code",
   "execution_count": null,
   "metadata": {},
   "outputs": [],
   "source": [
    "from krcal.core.s1s2_functions  import energy_time_profile\n",
    "from krcal.core.s1s2_functions  import energy_X_profile"
   ]
  },
  {
   "cell_type": "code",
   "execution_count": null,
   "metadata": {},
   "outputs": [],
   "source": [
    "from krcal.core.correction_functions import e0_rphi_correction\n",
    "from krcal.core.correction_functions import e0_xy_correction\n",
    "from krcal.core.correction_functions import lt_xy_correction\n",
    "from krcal.core.correction_functions import e0_xy_correction_ts\n",
    "from krcal.core.correction_functions import lt_xy_correction_ts\n",
    "from krcal.core.correction_functions import lt_rphi_correction\n",
    "from krcal.core.correction_functions import lt_rphi_correction_ts\n",
    "from krcal.core.correction_functions import e0_rphi_correction_ts"
   ]
  },
  {
   "cell_type": "code",
   "execution_count": null,
   "metadata": {},
   "outputs": [],
   "source": [
    "from krcal.core.selection_functions  import event_map_df\n",
    "from krcal.core.selection_functions  import select_rphi_sectors_df\n",
    "from krcal.core.selection_functions  import select_xy_sectors_df\n",
    "from krcal.core.selection_functions  import get_time_series_df\n",
    "from krcal.core.fitmap_functions     import time_fcs_df\n",
    "from krcal.core.fitmap_functions     import fit_fcs_in_rphi_sectors_df\n",
    "from krcal.core.fitmap_functions     import fit_map_xy_df"
   ]
  },
  {
   "cell_type": "code",
   "execution_count": null,
   "metadata": {},
   "outputs": [],
   "source": [
    "from numpy import pi, sqrt"
   ]
  },
  {
   "cell_type": "code",
   "execution_count": null,
   "metadata": {},
   "outputs": [],
   "source": [
    "from typing      import List, Tuple, Dict, Sequence, Iterable"
   ]
  },
  {
   "cell_type": "code",
   "execution_count": null,
   "metadata": {},
   "outputs": [],
   "source": [
    "from ipywidgets import interact, interactive, fixed\n",
    "from IPython.display import display"
   ]
  },
  {
   "cell_type": "markdown",
   "metadata": {},
   "source": [
    "### Logger\n",
    "\n",
    "\n",
    "- CRITICAL\n",
    "- ERROR\n",
    "- WARNING\n",
    "- INFO\n",
    "- DEBUG\n",
    "\n"
   ]
  },
  {
   "cell_type": "code",
   "execution_count": null,
   "metadata": {},
   "outputs": [],
   "source": [
    "log = logging.getLogger()"
   ]
  },
  {
   "cell_type": "markdown",
   "metadata": {},
   "source": [
    "### Input/output "
   ]
  },
  {
   "cell_type": "code",
   "execution_count": null,
   "metadata": {},
   "outputs": [],
   "source": [
    "fn =filenames_from_list(krfn, input_path, output_path, map_path)"
   ]
  },
  {
   "cell_type": "code",
   "execution_count": null,
   "metadata": {},
   "outputs": [
    {
     "name": "stdout",
     "output_type": "stream",
     "text": [
      "Read in file time: t = 12.788831949234009\n"
     ]
    }
   ],
   "source": [
    "t0 = time.time()\n",
    "dst           = load_dsts(fn.input_file_names, \"DST\", \"Events\")\n",
    "t1 = time.time()\n",
    "print(f'Read in file time: t = {t1 -t0}')"
   ]
  },
  {
   "cell_type": "code",
   "execution_count": null,
   "metadata": {},
   "outputs": [
    {
     "name": "stdout",
     "output_type": "stream",
     "text": [
      "Total number of events: 1638462\n"
     ]
    }
   ],
   "source": [
    "unique_events = ~dst.event.duplicated()\n",
    "number_of_evts_full = np.count_nonzero(unique_events)\n",
    "\n",
    "print(f\"Total number of events: {len(dst)}\")"
   ]
  },
  {
   "cell_type": "code",
   "execution_count": null,
   "metadata": {},
   "outputs": [
    {
     "data": {
      "text/plain": [
       "Index(['index', 'event', 'time', 's1_peak', 's2_peak', 'nS1', 'nS2', 'S1w',\n",
       "       'S1h', 'S1e', 'S1t', 'S2w', 'S2h', 'S2e', 'S2q', 'S2t', 'Nsipm', 'DT',\n",
       "       'Z', 'Zrms', 'X', 'Y', 'R', 'Phi', 'Xrms', 'Yrms'],\n",
       "      dtype='object')"
      ]
     },
     "execution_count": 31,
     "metadata": {},
     "output_type": "execute_result"
    }
   ],
   "source": [
    "dst.columns"
   ]
  },
  {
   "cell_type": "markdown",
   "metadata": {},
   "source": [
    "### Time differences in seconds"
   ]
  },
  {
   "cell_type": "code",
   "execution_count": null,
   "metadata": {},
   "outputs": [],
   "source": [
    "dst_time = dst.sort_values('time')\n",
    "T       = dst_time.time.values\n",
    "DT      = time_delta_from_time(T)"
   ]
  },
  {
   "cell_type": "markdown",
   "metadata": {},
   "source": [
    "### Ranges and binning"
   ]
  },
  {
   "cell_type": "code",
   "execution_count": null,
   "metadata": {},
   "outputs": [],
   "source": [
    "RMAX      = 200\n",
    "RCORE     = 100\n",
    "s1e_range = (3, 25)\n",
    "s2e_range = (2000, 14000)\n",
    "s2q_range = (200, 800)\n",
    "\n",
    "xy_range  = (-RMAX,  RMAX)\n",
    "z_range   = (10,  550)\n",
    "e_range = (5000, 14000)\n",
    "lt_range = (1000, 7000)\n",
    "c2_range = (0,5)\n",
    "\n",
    "krTimes, krRanges, krNbins, krBins = kr_ranges_and_bins(dst,\n",
    "                                                        xxrange   = xy_range,\n",
    "                                                        yrange    = xy_range,\n",
    "                                                        zrange    = z_range,\n",
    "                                                        s2erange  = s2e_range,\n",
    "                                                        s1erange  = s1e_range,\n",
    "                                                        s2qrange  = s2q_range,\n",
    "                                                        xnbins    = num_xy_bins,\n",
    "                                                        ynbins    = num_xy_bins,\n",
    "                                                        znbins    = 15,\n",
    "                                                        s2enbins  = 25,\n",
    "                                                        s1enbins  = 10,\n",
    "                                                        s2qnbins  = 25,\n",
    "                                                        tpsamples = 3600) # tsamples in seconds"
   ]
  },
  {
   "cell_type": "code",
   "execution_count": null,
   "metadata": {},
   "outputs": [],
   "source": [
    "dstFid = dst[in_range(dst.R, 0, RMAX)]"
   ]
  },
  {
   "cell_type": "code",
   "execution_count": null,
   "metadata": {},
   "outputs": [
    {
     "data": {
      "image/png": "[encoded data removed]",
      "text/plain": [
       "<Figure size 432x288 with 1 Axes>"
      ]
     },
     "metadata": {},
     "output_type": "display_data"
    },
    {
     "data": {
      "image/png": "[encoded data removed]",
      "text/plain": [
       "<Figure size 432x288 with 1 Axes>"
      ]
     },
     "metadata": {},
     "output_type": "display_data"
    }
   ],
   "source": [
    "dst_time = dstFid.sort_values('time')\n",
    "T       = dst_time.time.values\n",
    "DT      = time_delta_from_time(T)\n",
    "dst = dst_time.assign(DT=DT)\n",
    "plt.plot(DT)\n",
    "plt.show()\n",
    "plt.plot(T)\n",
    "plt.show()"
   ]
  },
  {
   "cell_type": "code",
   "execution_count": null,
   "metadata": {},
   "outputs": [],
   "source": [
    "kge = kr_event(dst, DT, dst.S2e, dst.S2q)"
   ]
  },
  {
   "cell_type": "code",
   "execution_count": null,
   "metadata": {},
   "outputs": [
    {
     "data": {
      "image/png": "[encoded data removed]",
      "text/plain": [
       "<Figure size 720x432 with 1 Axes>"
      ]
     },
     "metadata": {},
     "output_type": "display_data"
    }
   ],
   "source": [
    "fig = plt.figure(figsize=(10,6))\n",
    "ax      = fig.add_subplot(1, 1, 1)\n",
    "(_)    = h1(kge.DT, bins=500, range = (kge.DT[0], kge.DT[-1]), color='red', stats=False, lbl='pre-sel')"
   ]
  },
  {
   "cell_type": "markdown",
   "metadata": {},
   "source": [
    "### Time "
   ]
  },
  {
   "cell_type": "code",
   "execution_count": null,
   "metadata": {},
   "outputs": [
    {
     "data": {
      "text/plain": [
       "[<matplotlib.lines.Line2D at 0x1106e7080>]"
      ]
     },
     "execution_count": 38,
     "metadata": {},
     "output_type": "execute_result"
    },
    {
     "data": {
      "image/png": "[encoded data removed]",
      "text/plain": [
       "<Figure size 432x288 with 1 Axes>"
      ]
     },
     "metadata": {},
     "output_type": "display_data"
    }
   ],
   "source": [
    "plt.plot(krTimes.timeStamps)"
   ]
  },
  {
   "cell_type": "markdown",
   "metadata": {},
   "source": [
    "### Event distribution"
   ]
  },
  {
   "cell_type": "code",
   "execution_count": null,
   "metadata": {},
   "outputs": [
    {
     "data": {
      "image/png": "[encoded data removed]",
      "text/plain": [
       "<Figure size 720x576 with 2 Axes>"
      ]
     },
     "metadata": {},
     "output_type": "display_data"
    }
   ],
   "source": [
    "nevt = h2d(dst.X, dst.Y, krNbins.X, krNbins.Y, krRanges.X, krRanges.Y, \n",
    "           pltLabels=PlotLabels(x='X (mm)', y='Y (mm)', title='X vs Y '+str(run_number)),\n",
    "           profile=False,\n",
    "           figsize=(10,8))\n",
    "plt.savefig(output_plots+'/EventDists/EventDist_'+str(run_number)+'.png')"
   ]
  },
  {
   "cell_type": "markdown",
   "metadata": {},
   "source": [
    "## Time series"
   ]
  },
  {
   "cell_type": "code",
   "execution_count": null,
   "metadata": {},
   "outputs": [],
   "source": [
    "log.setLevel(logging.INFO)"
   ]
  },
  {
   "cell_type": "markdown",
   "metadata": {},
   "source": [
    "### Divide dst in 100 time series"
   ]
  },
  {
   "cell_type": "code",
   "execution_count": null,
   "metadata": {},
   "outputs": [
    {
     "name": "stdout",
     "output_type": "stream",
     "text": [
      " get_time_series: t = 6.028305292129517\n"
     ]
    }
   ],
   "source": [
    "time_bins = 25\n",
    "t0 = time.time()\n",
    "\n",
    "RFID = 180\n",
    "dstfid = dst[in_range(dst.R, 0, RFID)]\n",
    "ts, masks = get_time_series_df(time_bins, (DT[0],DT[-1]), dstfid) # [edit]\n",
    "t1 = time.time()\n",
    "print(f' get_time_series: t = {t1 -t0}')"
   ]
  },
  {
   "cell_type": "markdown",
   "metadata": {},
   "source": [
    "### Fit lifetime full detector"
   ]
  },
  {
   "cell_type": "code",
   "execution_count": null,
   "metadata": {},
   "outputs": [],
   "source": [
    "t0 = time.time()\n",
    "fps = time_fcs_df(ts, masks, dstfid, \n",
    "                 nbins_z = 15,\n",
    "                 nbins_e = 25,\n",
    "                 range_z = (10, 550),\n",
    "                 range_e = (7000, 14000),\n",
    "                 energy  = 'S2e',\n",
    "                 fit     = FitType.profile)  # fps: fit-profile series (implicit is a time series, using profile)\n",
    "t1 = time.time()\n",
    "print(f' time_fcs: t = {t1 -t0}')"
   ]
  },
  {
   "cell_type": "code",
   "execution_count": null,
   "metadata": {},
   "outputs": [],
   "source": [
    "plot_time_fcs(fps,\n",
    "              range_chi2  = (0,10),\n",
    "              range_e0    = (6500, 14500),\n",
    "              range_lt    = lt_range,\n",
    "              figsize     = (12,6))\n",
    "plt.savefig(summary_outputs+'AverageLT.png')"
   ]
  },
  {
   "cell_type": "markdown",
   "metadata": {},
   "source": [
    "### Fit lifetime best region"
   ]
  },
  {
   "cell_type": "code",
   "execution_count": null,
   "metadata": {},
   "outputs": [],
   "source": [
    "RINNER = 50\n",
    "dst_inner = dst[in_range(dst.R, 0, RINNER)]\n",
    "ts_inner, masks_inner = get_time_series_df(time_bins, (DT[0],DT[-1]), dst_inner) # [edit]\n",
    "\n",
    "fps_inner = time_fcs_df(ts_inner, masks_inner, dst_inner, \n",
    "                 nbins_z = 15,\n",
    "                 nbins_e = 25,\n",
    "                 range_z = (10, 550),\n",
    "                 range_e = (7000, 14000),\n",
    "                 energy  = 'S2e',\n",
    "                 fit     = FitType.profile)  # fps: fit-profile series (implicit is a time series, using profile)"
   ]
  },
  {
   "cell_type": "code",
   "execution_count": null,
   "metadata": {},
   "outputs": [],
   "source": [
    "plot_time_fcs(fps_inner,\n",
    "              range_chi2  = (0,10),\n",
    "              range_e0    = (6500, 14500),\n",
    "              range_lt    = lt_range,\n",
    "              figsize     = (12,6))\n",
    "plt.savefig(summary_outputs+'AverageLT_fid.png')"
   ]
  },
  {
   "cell_type": "code",
   "execution_count": null,
   "metadata": {},
   "outputs": [],
   "source": []
  },
  {
   "cell_type": "markdown",
   "metadata": {},
   "source": [
    "## Lifetime in RPhi"
   ]
  },
  {
   "cell_type": "code",
   "execution_count": null,
   "metadata": {},
   "outputs": [],
   "source": [
    "NSECTORS =5  # number of sectors in R. Each sector then is 200 / 5 = 40 cm.\n",
    "SPHI     =45 # size of the phi pie-slice in degrees, thus 10 slices in phi.\n",
    "#NSECTORS =4  # number of sectors in R. Each sector then is 200 / 5 = 40 cm.\n",
    "#SPHI     =45 # size of the phi pie-slice in degrees, thus 10 slices in phi."
   ]
  },
  {
   "cell_type": "code",
   "execution_count": null,
   "metadata": {},
   "outputs": [],
   "source": [
    "rpsmd = rphi_sector_map_def(nSectors=NSECTORS, rmax=RMAX, sphi=SPHI)"
   ]
  },
  {
   "cell_type": "code",
   "execution_count": null,
   "metadata": {},
   "outputs": [],
   "source": [
    "W = define_rphi_sectors(rpsmd)"
   ]
  },
  {
   "cell_type": "code",
   "execution_count": null,
   "metadata": {},
   "outputs": [],
   "source": [
    "draw_wedges(W,  rmax = RMAX, \n",
    "            scale= 0.49, figsize=(10,8), alpha=1.0,\n",
    "            cr =range(NSECTORS))"
   ]
  },
  {
   "cell_type": "code",
   "execution_count": null,
   "metadata": {},
   "outputs": [],
   "source": [
    "t0 = time.time()\n",
    "#KSRP = select_rphi_sectors(dst, DT, dst.S2e, dst.S2q, W)\n",
    "KSRP = select_rphi_sectors_df(dst, W) # [edit]\n",
    "t1 = time.time()\n",
    "print(f' KRES: t = {t1 -t0}')"
   ]
  },
  {
   "cell_type": "code",
   "execution_count": null,
   "metadata": {},
   "outputs": [],
   "source": [
    "neM = event_map_df(KSRP)"
   ]
  },
  {
   "cell_type": "code",
   "execution_count": null,
   "metadata": {},
   "outputs": [],
   "source": [
    "neM"
   ]
  },
  {
   "cell_type": "code",
   "execution_count": null,
   "metadata": {},
   "outputs": [],
   "source": [
    "ax = sns.heatmap(neM, square=True)"
   ]
  },
  {
   "cell_type": "markdown",
   "metadata": {},
   "source": [
    "### four phi sectors: upper half (left-right), lower half (left-right) of chamber"
   ]
  },
  {
   "cell_type": "markdown",
   "metadata": {},
   "source": [
    "### R < 40 mm"
   ]
  },
  {
   "cell_type": "code",
   "execution_count": null,
   "metadata": {},
   "outputs": [],
   "source": [
    "erange = (0,14500)\n",
    "ltrange = (0, 7000)"
   ]
  },
  {
   "cell_type": "code",
   "execution_count": null,
   "metadata": {},
   "outputs": [],
   "source": [
    "for sector in range(NSECTORS):\n",
    "    fps_rp = fit_fcs_in_rphi_sectors_df(sector = sector,\n",
    "                              selection_map = KSRP,\n",
    "                              event_map     = neM,\n",
    "                              n_time_bins   = time_bins,\n",
    "                              time_diffs    = DT,\n",
    "                              nbins_z       = 25,\n",
    "                              nbins_e       = 50,\n",
    "                              range_z       =(50, 550),\n",
    "                              range_e       = (5000, 14500),\n",
    "                              energy        = 'S2e',\n",
    "                              fit           = FitType.unbined,\n",
    "                              n_min         = 100)\n",
    "    plot_fit_sectors(fps_rp,  range_e0 =erange, range_lt=ltrange)\n",
    "    plt.savefig(summary_outputs+'R_phi_lt'+str(sector+1)+'.png')"
   ]
  },
  {
   "cell_type": "markdown",
   "metadata": {},
   "source": [
    "### Lifetime patterns:\n",
    "\n",
    "- Oscillatory pattern in time with a swing of 1 ms!\n",
    "- Lifetime changes also as a function of Phi, with differences that increase as R increases.\n",
    "- R > 160 cm data shows very high and very variable lifetime, with a spread of several ms."
   ]
  },
  {
   "cell_type": "markdown",
   "metadata": {},
   "source": [
    "### Strategy\n",
    "\n",
    "- Try to correct geometrical effects first. Fine grained geometrical map with a single time bin.\n",
    "- Study time dependence later"
   ]
  },
  {
   "cell_type": "markdown",
   "metadata": {},
   "source": [
    "## Divide chamber in sectors of XY"
   ]
  },
  {
   "cell_type": "code",
   "execution_count": null,
   "metadata": {},
   "outputs": [],
   "source": [
    "log.setLevel(logging.DEBUG)"
   ]
  },
  {
   "cell_type": "code",
   "execution_count": null,
   "metadata": {},
   "outputs": [],
   "source": [
    "t0 = time.time()\n",
    "print(len(dst))\n",
    "print(len(DT))\n",
    "# KRES = select_xy_sectors(dst, DT, dst.S2e.values, dst.S2q.values, krBins.X, krBins.Y)\n",
    "KRES = select_xy_sectors_df(dst, krBins.X, krBins.Y) # [edit]\n",
    "t1 = time.time()\n",
    "print(f' KRES: t = {t1 -t0}')"
   ]
  },
  {
   "cell_type": "code",
   "execution_count": null,
   "metadata": {},
   "outputs": [],
   "source": [
    "log.setLevel(logging.INFO)"
   ]
  },
  {
   "cell_type": "code",
   "execution_count": null,
   "metadata": {},
   "outputs": [],
   "source": [
    "neM = event_map_df(KRES)"
   ]
  },
  {
   "cell_type": "code",
   "execution_count": null,
   "metadata": {},
   "outputs": [],
   "source": [
    "ax = sns.heatmap(neM, square=True)"
   ]
  },
  {
   "cell_type": "markdown",
   "metadata": {},
   "source": [
    "## Fits in XY sectors"
   ]
  },
  {
   "cell_type": "markdown",
   "metadata": {},
   "source": [
    "## Maps"
   ]
  },
  {
   "cell_type": "markdown",
   "metadata": {},
   "source": [
    "#### fit maps. The object returned is a Dict[int, List[FitParTS]] where\n",
    "\n",
    "```\n",
    "@dataclass\n",
    "class FitParTS:             # Fit parameters Time Series\n",
    "    ts   : np.array          # contains the time series (integers expressing time differences)\n",
    "    e0   : np.array          # e0 fitted in time series\n",
    "    lt   : np.array\n",
    "    c2   : np.array\n",
    "    e0u  : np.array          # e0 error fitted in time series\n",
    "    ltu  : np.arra`\n",
    "```\n"
   ]
  },
  {
   "cell_type": "markdown",
   "metadata": {},
   "source": [
    "### Single time bin"
   ]
  },
  {
   "cell_type": "code",
   "execution_count": null,
   "metadata": {},
   "outputs": [],
   "source": [
    "t0 = time.time()\n",
    "with warnings.catch_warnings():\n",
    "    warnings.simplefilter(\"ignore\")\n",
    "    fpmxy = fit_map_xy_df(selection_map = KRES,\n",
    "                       event_map     = neM,\n",
    "                       n_time_bins   = 1,\n",
    "                       time_diffs    = DT,\n",
    "                       nbins_z        = krNbins.Z, \n",
    "                       nbins_e        = krNbins.S2e, \n",
    "                       range_z        = z_range, \n",
    "                       range_e        = e_range,\n",
    "                       energy        = 'S2e',\n",
    "                       fit           = FitType.unbined,\n",
    "                       n_min         = 100)\n",
    "\n",
    "t1 = time.time()\n",
    "print(f' fpmxy: t = {t1 -t0}')"
   ]
  },
  {
   "cell_type": "code",
   "execution_count": null,
   "metadata": {},
   "outputs": [],
   "source": [
    "times = fpmxy[0][0].ts"
   ]
  },
  {
   "cell_type": "code",
   "execution_count": null,
   "metadata": {},
   "outputs": [],
   "source": [
    "times"
   ]
  },
  {
   "cell_type": "markdown",
   "metadata": {},
   "source": [
    "#### Obtain time maps from fmap: The object returned is a SectorMapTS\n",
    "```\n",
    "@dataclass\n",
    "class SectorMapTS:  # Map in chamber sector containing time series of pars\n",
    "    chi2  : Dict[int, List[np.array]]\n",
    "    e0    : Dict[int, List[np.array]]\n",
    "    lt    : Dict[int, List[np.array]]\n",
    "    e0u   : Dict[int, List[np.array]]\n",
    "    ltu   : Dict[int, List[np.array]]\n",
    "```\n",
    "Here the dictionary is arranged for each of the relevant variables."
   ]
  },
  {
   "cell_type": "code",
   "execution_count": null,
   "metadata": {},
   "outputs": [],
   "source": [
    "tsm = tsmap_from_fmap(fpmxy)"
   ]
  },
  {
   "cell_type": "code",
   "execution_count": null,
   "metadata": {},
   "outputs": [],
   "source": [
    "plt.errorbar(times, tsm.lt[25][25], np.sqrt(tsm.lt[25][25]), fmt=\"p\")\n",
    "plt.errorbar(times, tsm.lt[25][21], np.sqrt(tsm.lt[25][21]), fmt=\"p\")\n",
    "plt.errorbar(times, tsm.lt[25][22], np.sqrt(tsm.lt[25][22]), fmt=\"p\")"
   ]
  },
  {
   "cell_type": "code",
   "execution_count": null,
   "metadata": {},
   "outputs": [],
   "source": [
    "plt.errorbar(times, tsm.lt[30][10], np.sqrt(tsm.lt[6][10]), fmt=\"p\")\n",
    "plt.errorbar(times, tsm.lt[30][11], np.sqrt(tsm.lt[6][11]), fmt=\"p\")\n",
    "plt.errorbar(times, tsm.lt[30][12], np.sqrt(tsm.lt[6][12]), fmt=\"p\")"
   ]
  },
  {
   "cell_type": "markdown",
   "metadata": {},
   "source": [
    "### Obtain amap from tsm: The object returned is ASectorMap\n",
    "```\n",
    "@dataclass\n",
    "class ASectorMap:  # Map in chamber sector containing average of pars\n",
    "    chi2  : DataFrame\n",
    "    e0    : DataFrame\n",
    "    lt    : DataFrame\n",
    "    e0u   : DataFrame\n",
    "    ltu   : DataFrame\n",
    "```\n",
    " "
   ]
  },
  {
   "cell_type": "markdown",
   "metadata": {},
   "source": [
    "#### There is a single time series (ts = 0)"
   ]
  },
  {
   "cell_type": "code",
   "execution_count": null,
   "metadata": {},
   "outputs": [],
   "source": [
    "am = amap_from_tsmap(tsm, \n",
    "                     ts = 0, \n",
    "                     range_e     = e_range,\n",
    "                     range_chi2  = c2_range,\n",
    "                     range_lt    = lt_range)"
   ]
  },
  {
   "cell_type": "code",
   "execution_count": null,
   "metadata": {},
   "outputs": [],
   "source": [
    "amap_average(am) "
   ]
  },
  {
   "cell_type": "markdown",
   "metadata": {},
   "source": [
    "#### Get rid of outlayers that distort mean and error"
   ]
  },
  {
   "cell_type": "code",
   "execution_count": null,
   "metadata": {},
   "outputs": [],
   "source": [
    "if regularize:\n",
    "    rmap = regularize_maps(am, erange=e_range, ltrange=lt_range)\n",
    "    amap_average(rmap)\n",
    "    asm = relative_errors(rmap)\n",
    "else:\n",
    "    asm = relative_errors(am)"
   ]
  },
  {
   "cell_type": "code",
   "execution_count": null,
   "metadata": {},
   "outputs": [],
   "source": [
    "amv = amap_average(asm)"
   ]
  },
  {
   "cell_type": "markdown",
   "metadata": {},
   "source": [
    "#### Draw the maps using default colormap"
   ]
  },
  {
   "cell_type": "code",
   "execution_count": null,
   "metadata": {},
   "outputs": [],
   "source": [
    "draw_xy_maps(asm,\n",
    "            e0lims  = e0_limits,\n",
    "            ltlims  = lifetime_limits,\n",
    "            eulims  = (0.0,  1),\n",
    "            lulims  = (0, 5),\n",
    "            showPlots = False,\n",
    "            figsize=(14,10))\n",
    "plt.savefig(output_plots+'/lt_e0_xy_maps/lt_e0_xy_'+str(run_number)+'.png')\n",
    "plt.savefig(summary_outputs+'maps.png')"
   ]
  },
  {
   "cell_type": "code",
   "execution_count": null,
   "metadata": {},
   "outputs": [],
   "source": [
    "asmAv = amap_replace_nan_by_mean(asm, amMean=amv)"
   ]
  },
  {
   "cell_type": "code",
   "execution_count": null,
   "metadata": {},
   "outputs": [],
   "source": [
    "amap_avg_list=amap_average(asmAv)\n",
    "\n",
    "text_output = open(output_plots+'/text_outputs/outputs_'+str(run_number)+'.txt','w')\n",
    "\n",
    "text_output.write('chi2='+str(amap_avg_list.chi2)+'\\n')\n",
    "text_output.write('e0='+str(amap_avg_list.e0)+'\\n')\n",
    "text_output.write('lt='+str(amap_avg_list.lt)+'\\n')\n",
    "text_output.write('e0u='+str(amap_avg_list.e0u)+'\\n')\n",
    "text_output.write('ltu='+str(amap_avg_list.ltu)+'\\n')\n",
    "\n",
    "mean = 0\n",
    "num = 0\n",
    "\n",
    "mean_low = 0\n",
    "mean_high = 0\n",
    "\n",
    "num_low = 0\n",
    "num_high = 0\n",
    "\n",
    "variance = 0\n",
    "var_low = 0\n",
    "var_high = 0\n",
    "\n",
    "stdev = 0\n",
    "stdev_low = 0\n",
    "stdev_high = 0\n",
    "\n",
    "zero_filled = asm.lt.fillna(0)\n",
    "print(len(zero_filled))\n",
    "for x in range(len(zero_filled)):\n",
    "    ymax = len(zero_filled[x])\n",
    "    for y in range(ymax):\n",
    "        if (zero_filled[x][y] != 0):\n",
    "            # get the mean\n",
    "            mean += zero_filled[x][y]\n",
    "            num += 1\n",
    "            # get the means for low and high\n",
    "            if y < ymax / 2:\n",
    "                num_high += 1\n",
    "                mean_high += zero_filled[x][y]\n",
    "            else:\n",
    "                num_low += 1\n",
    "                mean_low += zero_filled[x][y]\n",
    "\n",
    "mean /= num\n",
    "mean_low /= num_low\n",
    "mean_high /= num_high\n",
    "\n",
    "for x in range(len(zero_filled)):\n",
    "    ymax = len(zero_filled[x])\n",
    "    for y in range(ymax):\n",
    "        if (zero_filled[x][y] != 0):\n",
    "            variance += (zero_filled[x][y] - mean)**2 / num\n",
    "            if y < ymax / 2:\n",
    "                var_high += (zero_filled[x][y] - mean_high)**2 / num_high\n",
    "            else:\n",
    "                var_low += (zero_filled[x][y] - mean_low)**2 / num_low\n",
    "            \n",
    "stdev = variance**0.5\n",
    "stdev_low = var_low**0.5\n",
    "stdev_high = var_high**0.5\n",
    "\n",
    "mean_diff = (mean_high - mean_low) / mean\n",
    "\n",
    "\n",
    "text_output.write('lt_mean_diff='+str(mean_diff)+'\\n')\n",
    "text_output.write('lt_mean_low='+str(mean_low)+'\\n')\n",
    "text_output.write('lt_mean_high='+str(mean_high)+'\\n')\n",
    "text_output.write('lt_stdev='+str(stdev)+'\\n')\n",
    "text_output.write('lt_stdev_low='+str(stdev_low)+'\\n')\n",
    "text_output.write('lt_stdev_high='+str(stdev_high)+'\\n')\n",
    "\n",
    "text_output.close()\n",
    "\n",
    "amap_avg_list"
   ]
  },
  {
   "cell_type": "code",
   "execution_count": null,
   "metadata": {},
   "outputs": [],
   "source": [
    "draw_xy_maps(asmAv,\n",
    "            e0lims  = e0_limits,\n",
    "            ltlims  = lifetime_limits,\n",
    "            eulims  = (0.0,  1),\n",
    "            lulims  = (0, 5),\n",
    "            figsize=(14,10))"
   ]
  },
  {
   "cell_type": "code",
   "execution_count": null,
   "metadata": {},
   "outputs": [],
   "source": [
    "asm = add_mapinfo(asmAv, krRanges.X, krRanges.Y, krNbins.X, krNbins.Y, run_number)"
   ]
  },
  {
   "cell_type": "code",
   "execution_count": null,
   "metadata": {},
   "outputs": [],
   "source": [
    "print('The map info is:')\n",
    "print(asm.mapinfo)\n",
    "write_maps(asm, filename=fn.emap_file_name)"
   ]
  },
  {
   "cell_type": "markdown",
   "metadata": {},
   "source": [
    "### Add temporal corrections"
   ]
  },
  {
   "cell_type": "code",
   "execution_count": null,
   "metadata": {},
   "outputs": [],
   "source": [
    "from krcal.core.kr_parevol_functions import kr_time_evolution\n",
    "\n",
    "tmin = dst.time.min()\n",
    "pars = kr_time_evolution(ts+tmin, masks, dstfid, asm, xr_map=krRanges.X, yr_map=krRanges.Y, nx_map=krNbins.X, ny_map=krNbins.Y)\n",
    "\n",
    "pars.to_hdf(fn.emap_file_name, key='time_evolution', mode='a')"
   ]
  },
  {
   "cell_type": "markdown",
   "metadata": {},
   "source": [
    "### Read back"
   ]
  },
  {
   "cell_type": "code",
   "execution_count": null,
   "metadata": {},
   "outputs": [],
   "source": [
    "emaps = read_maps(filename=fn.emap_file_name)"
   ]
  },
  {
   "cell_type": "code",
   "execution_count": null,
   "metadata": {},
   "outputs": [],
   "source": [
    "test_pars = pd.read_hdf(fn.emap_file_name, key='time_evolution')"
   ]
  },
  {
   "cell_type": "code",
   "execution_count": null,
   "metadata": {},
   "outputs": [],
   "source": [
    "test_pars"
   ]
  },
  {
   "cell_type": "code",
   "execution_count": null,
   "metadata": {},
   "outputs": [],
   "source": [
    "draw_xy_maps(emaps,\n",
    "            e0lims  = e0_limits,\n",
    "            ltlims  = lifetime_limits,\n",
    "            eulims  = (0.0,  1),\n",
    "            lulims  = (0, 5),\n",
    "            figsize=(14,10))"
   ]
  },
  {
   "cell_type": "code",
   "execution_count": null,
   "metadata": {},
   "outputs": [],
   "source": [
    "amap_average(emaps)"
   ]
  },
  {
   "cell_type": "code",
   "execution_count": null,
   "metadata": {},
   "outputs": [],
   "source": [
    "norm = amap_max(emaps)"
   ]
  },
  {
   "cell_type": "code",
   "execution_count": null,
   "metadata": {},
   "outputs": [],
   "source": [
    "norm"
   ]
  },
  {
   "cell_type": "code",
   "execution_count": null,
   "metadata": {},
   "outputs": [],
   "source": [
    "t0 = time.time()\n",
    "E0 = e0_xy_correction(dst.S2e.values,\n",
    "                      dst.X.values,\n",
    "                      dst.Y.values,\n",
    "                      E0M = emaps.e0 / norm.e0, \n",
    "                      xr  = krRanges.X,\n",
    "                      yr  = krRanges.Y,\n",
    "                      nx  = krNbins.X, \n",
    "                      ny  = krNbins.Y)\n",
    "\n",
    "\n",
    "t1 = time.time()\n",
    "print(f' e0 correction: t = {t1 -t0}')"
   ]
  },
  {
   "cell_type": "code",
   "execution_count": null,
   "metadata": {},
   "outputs": [],
   "source": [
    "t0 = time.time()\n",
    "# KRP = select_rphi_sectors(dst, DT, E0, dst.S2q, W)\n",
    "KRP = select_rphi_sectors_df(dst, W) # [edit]\n",
    "t1 = time.time()\n",
    "print(f' KRP: t = {t1 -t0}')"
   ]
  },
  {
   "cell_type": "code",
   "execution_count": null,
   "metadata": {},
   "outputs": [],
   "source": [
    "neM = event_map_df(KRP)"
   ]
  },
  {
   "cell_type": "code",
   "execution_count": null,
   "metadata": {},
   "outputs": [],
   "source": [
    "neM"
   ]
  },
  {
   "cell_type": "code",
   "execution_count": null,
   "metadata": {},
   "outputs": [],
   "source": [
    "neM[0]"
   ]
  },
  {
   "cell_type": "code",
   "execution_count": null,
   "metadata": {},
   "outputs": [],
   "source": []
  },
  {
   "cell_type": "code",
   "execution_count": null,
   "metadata": {},
   "outputs": [],
   "source": [
    "time_write = time.time()"
   ]
  },
  {
   "cell_type": "markdown",
   "metadata": {},
   "source": [
    "## Select events in region\n",
    "- r < 180\n",
    "- 10 < z < 550\n",
    "- 5000 < E < 14500"
   ]
  },
  {
   "cell_type": "code",
   "execution_count": null,
   "metadata": {},
   "outputs": [],
   "source": [
    "rrange = (0, 180)\n",
    "\n",
    "ti = timeit(lt_xy_correction)\n",
    "E = ti(E0, \n",
    "       dst.X.values, \n",
    "       dst.Y.values,\n",
    "       dst.Z.values, \n",
    "       LTM = emaps.lt,\n",
    "       xr  = krRanges.X,\n",
    "       yr  = krRanges.Y,\n",
    "       nx  = krNbins.X, \n",
    "       ny  = krNbins.Y)\n",
    "\n",
    "sel = in_range(dst.R, *rrange) & in_range(dst.Z, *z_range) &  in_range(E, *e_range)\n",
    "kse = kr_event(dst, DT, E, dst.S2q, sel)  # kse = krypton selected event"
   ]
  },
  {
   "cell_type": "code",
   "execution_count": null,
   "metadata": {},
   "outputs": [],
   "source": [
    "fig = plt.figure(figsize=(14,8))\n",
    "\n",
    "ax      = fig.add_subplot(3, 1, 1)\n",
    "nevt = h2(dst.Z, dst.S2e, 50, 50, krRanges.Z, krRanges.S2e, \n",
    "           profile=True)\n",
    "\n",
    "ax      = fig.add_subplot(3, 1, 2)\n",
    "nevt = h2(dst.Z, E0, 50, 50, krRanges.Z, krRanges.S2e, \n",
    "           profile=True)\n",
    "\n",
    "ax      = fig.add_subplot(3, 1, 3)\n",
    "nevt = h2(dst.Z, E, 50, 50, krRanges.Z, krRanges.S2e, \n",
    "           profile=True)\n",
    "\n",
    "plt.savefig(summary_outputs+'CorrectionLT.png')"
   ]
  },
  {
   "cell_type": "code",
   "execution_count": null,
   "metadata": {},
   "outputs": [],
   "source": [
    "energy_X_profile(dst.R, E, xnbins = num_xy_bins, xrange=(0,200), xlabel = 'R',\n",
    "                 erange=(6500, 14500),  \n",
    "                 figsize=(12,6))\n",
    "plt.savefig(summary_outputs+'RProfile.png')"
   ]
  },
  {
   "cell_type": "code",
   "execution_count": null,
   "metadata": {},
   "outputs": [],
   "source": [
    "energy_X_profile(kse.R, kse.E, xnbins = num_xy_bins, xrange=(0,200), xlabel = 'R',\n",
    "                 erange=e_range,  \n",
    "                 figsize=(12,6))\n",
    "plt.savefig(summary_outputs+'RProfileC.png')"
   ]
  },
  {
   "cell_type": "code",
   "execution_count": null,
   "metadata": {},
   "outputs": [],
   "source": [
    "energy_X_profile(phirad_to_deg(kse.Phi), kse.E, xnbins = num_xy_bins, xrange=(0,360), \n",
    "                 xlabel = 'Phi',\n",
    "                 erange=e_range,  \n",
    "                 figsize=(12,6))\n",
    "plt.savefig(summary_outputs+'PhiProfile.png')"
   ]
  },
  {
   "cell_type": "code",
   "execution_count": null,
   "metadata": {},
   "outputs": [],
   "source": [
    "energy_X_profile(kse.Z, kse.E, xnbins = num_xy_bins, xrange=z_range, xlabel = 'Z',\n",
    "                 erange=e_range,   \n",
    "                 figsize=(12,6))\n",
    "plt.savefig(summary_outputs+'ZProfile.png')"
   ]
  },
  {
   "cell_type": "code",
   "execution_count": null,
   "metadata": {},
   "outputs": [],
   "source": [
    "energy_X_profile(kse.DT, kse.E, xnbins = num_xy_bins, xrange=(kse.DT[0], kse.DT[-1]), xlabel = 'DT',\n",
    "                 erange=e_range,   \n",
    "                 figsize=(12,6))\n",
    "plt.savefig(summary_outputs+'TProfile.png')"
   ]
  },
  {
   "cell_type": "code",
   "execution_count": null,
   "metadata": {},
   "outputs": [],
   "source": [
    "fig = plt.figure(figsize=(14,8))\n",
    "ax      = fig.add_subplot(1, 1, 1)\n",
    "\n",
    "(_)     = h1(kse.E,  bins = 100, range =(11000,14500), stats=True, lbl = 'E')\n",
    "plot_histo(PlotLabels('E (pes)','Entries','E'), ax, legendloc='upper left')\n",
    "ax      = fig.add_subplot(1, 1, 1)"
   ]
  },
  {
   "cell_type": "code",
   "execution_count": null,
   "metadata": {},
   "outputs": [],
   "source": [
    "Ri = (50, 100,150,160)\n",
    "Zi = (50, 100,200,300,500)\n",
    "\n",
    "FC, FCE = resolution_r_z(Ri, Zi, kse.R, kse.Z, kse.E,\n",
    "                    enbins = 53,\n",
    "                    erange = (11e+3, 14500),\n",
    "                    ixy = (5,4),\n",
    "                    fdraw  = True,\n",
    "                    fprint = False,\n",
    "                    figsize = (18,10))"
   ]
  },
  {
   "cell_type": "code",
   "execution_count": null,
   "metadata": {},
   "outputs": [],
   "source": [
    "plot_resolution_r_z(Ri, Zi, FC, FCE)"
   ]
  },
  {
   "cell_type": "code",
   "execution_count": null,
   "metadata": {},
   "outputs": [],
   "source": [
    "Ri = (100,130,160)\n",
    "Zi = (50, 100,200,300,400,500)\n",
    "\n",
    "FC, FCE = resolution_r_z(Ri, Zi, kse.R, kse.Z, kse.E,\n",
    "                    enbins = 53,\n",
    "                    erange = (11e+3, 14500),\n",
    "                    ixy = (3,6),\n",
    "                    fdraw  = True,\n",
    "                    fprint = False,\n",
    "                    figsize = (18,10))\n",
    "plt.savefig(summary_outputs+'ResoFit.png')"
   ]
  },
  {
   "cell_type": "code",
   "execution_count": null,
   "metadata": {},
   "outputs": [],
   "source": [
    "plot_resolution_r_z(Ri, Zi, FC, FCE, showPlots = False)\n",
    "plt.savefig(output_plots+'/res_vs_rz/res_vs_rz_'+str(run_number)+'.png')\n",
    "plt.savefig(summary_outputs+'ResoVsZR.png')"
   ]
  },
  {
   "cell_type": "code",
   "execution_count": null,
   "metadata": {},
   "outputs": [],
   "source": [
    "plot_output_dir = '/Users/jmhaefner/Development/KryptonCalibration/KrCalibNB_JMH/KrCalibNB/ltMaps/plot_parameters/'\n",
    "plot_outputs = open(plot_output_dir+'plot_outputs_'+str(run_number)+'.txt','w+')"
   ]
  },
  {
   "cell_type": "code",
   "execution_count": null,
   "metadata": {},
   "outputs": [],
   "source": [
    "def to_output(mylist, name):\n",
    "    return name+':'+str(list(mylist))+'\\n'"
   ]
  },
  {
   "cell_type": "code",
   "execution_count": null,
   "metadata": {},
   "outputs": [],
   "source": [
    "plot_outputs.write(to_output(Ri, 'Ri'))\n",
    "plot_outputs.write(to_output(Zi, 'Zi'))\n",
    "plot_outputs.write(to_output(fps.ts, 'fps.ts'))\n",
    "plot_outputs.write(to_output(fps.e0, 'fps.e0'))\n",
    "plot_outputs.write(to_output(fps.e0u, 'fps.e0u'))\n",
    "plot_outputs.write(to_output(fps.lt, 'fps.lt'))\n",
    "plot_outputs.write(to_output(fps.ltu, 'fps.ltu'))\n",
    "plot_outputs.write(to_output(fps.c2, 'fps.c2'))\n",
    "plot_outputs.write(to_output(FC.values.T.tolist(), 'FC'))\n",
    "plot_outputs.write(to_output(FCE.values.T.tolist(), 'FCE'))\n",
    "#plot_outputs.write(to_output(kse.R, 'kse.R'))\n",
    "#plot_outputs.write(to_output(kse.E, 'kse.E'))\n",
    "#plot_outputs.write(to_output(kse.E, 'kse.Z'))\n",
    "#plot_outputs.write(to_output(kse.DT, 'kse.DT'))\n",
    "#plot_outputs.write(to_output(E, 'E'))\n",
    "#plot_outputs.write(to_output(dst.Z, 'dst.Z'))\n",
    "#plot_outputs.write(to_output(dst.S2e, 'dst.S2e'))\n",
    "#plot_outputs.write(to_output(E0, 'E0'))\n",
    "plot_outputs.close()"
   ]
  },
  {
   "cell_type": "code",
   "execution_count": null,
   "metadata": {},
   "outputs": [],
   "source": [
    "param_file = plot_output_dir+'plot_outputs_'+str(run_number)+'.txt'"
   ]
  },
  {
   "cell_type": "code",
   "execution_count": null,
   "metadata": {},
   "outputs": [],
   "source": [
    "def list_params(param_file):\n",
    "    params = []\n",
    "    plot_params = open(param_file, 'r')\n",
    "    for line in plot_params.readlines():\n",
    "        params.append(line[0:line.find(':')])\n",
    "    plot_params.close()\n",
    "    return params"
   ]
  },
  {
   "cell_type": "code",
   "execution_count": null,
   "metadata": {},
   "outputs": [],
   "source": [
    "print(list_params(param_file))"
   ]
  },
  {
   "cell_type": "code",
   "execution_count": null,
   "metadata": {},
   "outputs": [],
   "source": [
    "def get_param(param, param_file):\n",
    "    plot_params = open(param_file, 'r')\n",
    "    for line in plot_params.readlines():\n",
    "        if param == line[0:line.find(':')]:\n",
    "            plot_params.close()\n",
    "            return(line[line.find(':')+1:len(line)-1])"
   ]
  },
  {
   "cell_type": "code",
   "execution_count": null,
   "metadata": {},
   "outputs": [],
   "source": [
    "print(get_param('Ri', param_file))"
   ]
  },
  {
   "cell_type": "markdown",
   "metadata": {},
   "source": [
    "### Time variation monitoring plots"
   ]
  },
  {
   "cell_type": "code",
   "execution_count": null,
   "metadata": {},
   "outputs": [],
   "source": [
    "all_runs = []\n",
    "all_fracs = []\n",
    "\n",
    "run_min = run_number - 200\n",
    "run_max = run_number + 1\n",
    "\n",
    "for run in range(run_min, run_max):\n",
    "\n",
    "    outer_path = '/Users/jmhaefner/Development/KryptonCalibration/KrCalibNB_JMH/KrCalibNB/doc/'\n",
    "    full_path = outer_path + 'data_' + str(run) + '/vals_' + str(run) + '.txt'\n",
    "\n",
    "    try:\n",
    "\n",
    "        test_file = open(full_path, \"r\")\n",
    "        # print(full_path)\n",
    "        for line in test_file:\n",
    "            if not line.find('fracS1S2') == -1:\n",
    "                fracS1S2 = 100 * float(line[9:])\n",
    "                # print('Frac S1 + S2 = ' + str(fracS1S2))\n",
    "                all_runs.append(run)\n",
    "                all_fracs.append(fracS1S2)\n",
    "\n",
    "    except:\n",
    "        pass\n",
    "\n",
    "plt.rc('axes', titlesize = 10)\n",
    "plt.rc('axes', labelsize = 10)\n",
    "plt.rc('font', size=10)          # controls default text sizes\n",
    "plt.rc('xtick', labelsize=10)    # fontsize of the tick labels\n",
    "plt.rc('ytick', labelsize=10)    # fontsize of the tick labels\n",
    "plt.rc('legend', fontsize=8)    # legend fontsize\n",
    "plt.rc('figure', titlesize=8)  # fontsize of the figure title\n",
    "\n",
    "plt.grid(True)\n",
    "plt.grid(linestyle='--')\n",
    "plt.plot(all_runs, all_fracs, 'o')\n",
    "plt.ylabel('1S1 + 1S2 efficiency % (inclusive)')\n",
    "plt.xlabel('Run number')\n",
    "\n",
    "plt.savefig(summary_outputs+'EffVsTime.png')\n",
    "print('Plot saved to '+summary_outputs+'EffVsTime.png')"
   ]
  },
  {
   "cell_type": "code",
   "execution_count": null,
   "metadata": {},
   "outputs": [],
   "source": [
    "def itemize(line):\n",
    "    items = []\n",
    "    while len(line) > 0:\n",
    "        if not line.find('\\t') == -1:\n",
    "            potential_item = line[:line.find('\\t')]\n",
    "            potential_item = potential_item.strip()\n",
    "            if not potential_item == \"\":\n",
    "                items.append(potential_item)\n",
    "            line = line[line.find('\\t')+1:]\n",
    "        elif line.find('\\n') == -1:\n",
    "            items.append(line)\n",
    "            line = \"\"\n",
    "        else:\n",
    "            line = \"\"\n",
    "    return items\n",
    "\n",
    "def time_from_datetime(myDatetime):\n",
    "    return myDatetime[myDatetime.find('2019')+11:myDatetime.find(':')+6]\n",
    "\n",
    "def time_to_seconds(myTime):\n",
    "    hours = int(myTime[:myTime.find(':')])\n",
    "    minutes = myTime[myTime.find(':')+1:]\n",
    "    seconds = int(minutes[minutes.find(':')+1:])\n",
    "    minutes = int(minutes[:minutes.find(':')])\n",
    "    return hours * 3600 + minutes * 60 + seconds\n",
    "\n",
    "full_initial_datetime = str(krTimes.timeStamps[0])\n",
    "initial_date = full_initial_datetime[:full_initial_datetime.find(' ')]\n",
    "\n",
    "full_final_datetime = str(krTimes.timeStamps[-1])\n",
    "final_date = full_final_datetime[:full_final_datetime.find(' ')]\n",
    "\n",
    "# Once you have the date, find the temperature on that date.\n",
    "import codecs\n",
    "\n",
    "ctrl = 'SNS'\n",
    "param_of_interest = \"NEW\"\n",
    "timeIndex = 1\n",
    "\n",
    "text_path = \"/Users/jmhaefner/Dropbox/Data/\" + ctrl + \"_Data_Report_\" + initial_date + \".txt\"\n",
    "text_path_2 = \"/Users/jmhaefner/Dropbox/Data/\" + ctrl + \"_Data_Report_\" + final_date + \".txt\"\n",
    "\n",
    "vessel_temps = []\n",
    "day_all_times = []\n",
    "\n",
    "if os.path.isfile(text_path):\n",
    "    data_file = codecs.open(text_path, 'r', encoding='ISO-8859-1')\n",
    "    data_lines = data_file.readlines()\n",
    "\n",
    "    parameters = itemize(data_lines[2])\n",
    "    first_data = itemize(data_lines[3])\n",
    "\n",
    "    for i in range(len(parameters)):\n",
    "        try:\n",
    "            print_params = parameters[i]+'='+first_data[i]\n",
    "            #print(print_params)\n",
    "        except:\n",
    "            # print('Failed to find a value for param', [parameters[i]])\n",
    "            parameters.pop(i)\n",
    "            i -= 1\n",
    "\n",
    "    for i in range(len(parameters)):\n",
    "        for j in range(3,len(data_lines)):\n",
    "            if parameters[i] == param_of_interest:\n",
    "                itemized = itemize(data_lines[j])\n",
    "                value = float(itemized[i].replace(',', '.'))\n",
    "                vessel_temps.append(value)\n",
    "                day_all_times.append(time_to_seconds(itemized[timeIndex]))\n",
    "\n",
    "    day_temp = sum(vessel_temps)/(1.0 * len(vessel_temps))\n",
    "    print('The day temp on '+initial_date+' was '+str(round(day_temp,1)))\n",
    "else:\n",
    "    day_temp = 'nan'\n",
    "    print('UNABLE TO FIND TEMPERATURE FILE '+text_path)\n",
    "    \n",
    "if initial_date != final_date:\n",
    "\n",
    "    if os.path.isfile(text_path_2):\n",
    "        data_file = codecs.open(text_path_2, 'r', encoding='ISO-8859-1')\n",
    "        data_lines = data_file.readlines()\n",
    "\n",
    "        parameters = itemize(data_lines[2])\n",
    "        first_data = itemize(data_lines[3])\n",
    "\n",
    "        for i in range(len(parameters)):\n",
    "            try:\n",
    "                print_params = parameters[i]+'='+first_data[i]\n",
    "                #print(print_params)\n",
    "            except:\n",
    "                # print('Failed to find a value for param', [parameters[i]])\n",
    "                parameters.pop(i)\n",
    "                i -= 1\n",
    "\n",
    "        for i in range(len(parameters)):\n",
    "            for j in range(3,len(data_lines)):\n",
    "                if parameters[i] == param_of_interest:\n",
    "                    itemized = itemize(data_lines[j])\n",
    "                    value = float(itemized[i].replace(',', '.'))\n",
    "                    vessel_temps.append(value)\n",
    "                    day_all_times.append(time_to_seconds(itemized[timeIndex])+86400)\n",
    "                    \n",
    "plt.plot(day_all_times, vessel_temps, 'o')\n",
    "plt.show()\n",
    "\n",
    "initial_time = time_to_seconds(time_from_datetime(full_initial_datetime))\n",
    "real_times = [t + initial_time for t in fps.ts]\n",
    "\n",
    "def time_to_temp(t, times, temps):\n",
    "    final_temp = -1\n",
    "    dt = -1\n",
    "    for time, temp in zip(times, temps):\n",
    "        test_dt = abs(time-t)\n",
    "        if dt == -1:\n",
    "            final_temp = temp\n",
    "            dt = abs(time-t)\n",
    "        elif test_dt < dt:\n",
    "            final_temp = temp\n",
    "            dt = test_dt\n",
    "    return final_temp\n",
    "\n",
    "temp_vs_time = [time_to_temp(time, day_all_times, vessel_temps) for time in real_times]\n",
    "\n",
    "plt.plot(temp_vs_time, fps.lt, 'o')\n",
    "plt.ylabel('Lifetime (us)')\n",
    "plt.xlabel('Vessel temperature (C)')\n",
    "plt.show()\n",
    "\n",
    "plt.plot(temp_vs_time, fps.e0, 'o')\n",
    "plt.ylabel('Response (pes)')\n",
    "plt.xlabel('Vessel temperature (C)')\n",
    "plt.show()\n",
    "\n",
    "plt.plot(real_times, temp_vs_time, 'o')\n",
    "plt.ylabel('Vessel temperature (C)')\n",
    "plt.xlabel('Time (s)')\n",
    "plt.show()"
   ]
  },
  {
   "cell_type": "code",
   "execution_count": null,
   "metadata": {},
   "outputs": [],
   "source": [
    "dt_write = time_write - t_start\n",
    "dt_plots = time.time() - time_write\n",
    "print('Time to write =', round(dt_write/60.0,1), 'm')\n",
    "print('Time to show plots =', round(dt_plots/60.0,1), 'm')"
   ]
  }
 ],
 "metadata": {
  "kernelspec": {
   "display_name": "Python 3",
   "language": "python",
   "name": "python3"
  },
  "language_info": {
   "codemirror_mode": {
    "name": "ipython",
    "version": 3
   },
   "file_extension": ".py",
   "mimetype": "text/x-python",
   "name": "python",
   "nbconvert_exporter": "python",
   "pygments_lexer": "ipython3",
   "version": "3.7.2"
  }
 },
 "nbformat": 4,
 "nbformat_minor": 2
}
