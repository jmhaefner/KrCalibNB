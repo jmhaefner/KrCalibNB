{
 "cells": [
  {
   "cell_type": "markdown",
   "metadata": {},
   "source": [
    "# Krypton Lifetime maps"
   ]
  },
  {
   "cell_type": "markdown",
   "metadata": {},
   "source": [
    "### Author:  JJGC"
   ]
  },
  {
   "cell_type": "markdown",
   "metadata": {},
   "source": [
    "### Software: KrCalib : https://github.com/nextic/KrCalib/"
   ]
  },
  {
   "cell_type": "code",
   "execution_count": 1,
   "metadata": {},
   "outputs": [
    {
     "name": "stdout",
     "output_type": "stream",
     "text": [
      "Last updated on  Mon Mar 18 17:26:09 2019\n"
     ]
    }
   ],
   "source": [
    "%load_ext autoreload\n",
    "%autoreload 2\n",
    "import os\n",
    "import sys\n",
    "import time\n",
    "import warnings\n",
    "import datetime \n",
    "print(\"Last updated on \", time.asctime())"
   ]
  },
  {
   "cell_type": "markdown",
   "metadata": {},
   "source": [
    "### Logger"
   ]
  },
  {
   "cell_type": "code",
   "execution_count": 2,
   "metadata": {},
   "outputs": [
    {
     "name": "stdout",
     "output_type": "stream",
     "text": [
      "2019-03-18 17:26:09,113 | INFO : Hello world!\n"
     ]
    }
   ],
   "source": [
    "import logging\n",
    "\n",
    "\n",
    "logging.basicConfig(format='%(asctime)s | %(levelname)s : %(message)s',\n",
    "                     level=logging.INFO, stream=sys.stdout)\n",
    "\n",
    "logging.info('Hello world!')\n"
   ]
  },
  {
   "cell_type": "markdown",
   "metadata": {},
   "source": [
    "### Input files"
   ]
  },
  {
   "cell_type": "code",
   "execution_count": 3,
   "metadata": {},
   "outputs": [
    {
     "name": "stdout",
     "output_type": "stream",
     "text": [
      "Found the dst: dst_7006_trigger1_0000_2836.h5\n"
     ]
    }
   ],
   "source": [
    "from krcal.core.kr_types import KrFileName\n",
    "\n",
    "run_number = 7006\n",
    "num_files = 2291\n",
    "\n",
    "if num_files > 7729:\n",
    "    num_xy_bins = 100\n",
    "else:\n",
    "    num_xy_bins = 50\n",
    "\n",
    "t_start = time.time()\n",
    "\n",
    "lifetime_limits = (2350, 5150)\n",
    "e0_limits = (7000, 14000)\n",
    "e0_limits_rphi = (12000, 14000)\n",
    "\n",
    "input_path  = f\"$IC_DATA/dst\"\n",
    "output_path = f\"$IC_DATA/ldst\"\n",
    "output_plots = f\"$IC_DATA/plots\"\n",
    "output_plots = os.path.expandvars(f\"{output_plots}/\")\n",
    "summary_outputs = \"/Users/jmhaefner/Development/KryptonCalibration/KrCalibNB_JMH/KrCalibNB/doc/img/r\"+str(run_number)+\"/\"\n",
    "map_path    = f\"$IC_DATA/maps\"\n",
    "\n",
    "# Find the name of the correct input dst\n",
    "\n",
    "dst_directory = os.path.expandvars(f\"{input_path}/\")\n",
    "dirlist = os.listdir(dst_directory)\n",
    "dst_file = \"\"\n",
    "for file_name in dirlist:\n",
    "    try:\n",
    "        check_number = file_name\n",
    "        check_number = check_number[check_number.find('_')+1:]\n",
    "        check_number = check_number[:check_number.find('_')]\n",
    "        if check_number == str(run_number):\n",
    "            print('Found the dst:',file_name)\n",
    "            dst_file = file_name\n",
    "    except:\n",
    "        pass\n",
    "\n",
    "if dst_file == \"\":\n",
    "    raise ValueError(\"Unable to find appropriate dst for run \"+str(run_number))\n",
    "\n",
    "input_file_names  = [ dst_file ]\n",
    "\n",
    "    \n",
    "time_bins = 25\n",
    "output_file_name  = ' '\n",
    "map_file_name     = 'kr_maps_xy_'+str(run_number)+'.h5'\n",
    "map_file_name_ts  = f'kr_maps_rphi_5_8_ts_{time_bins}_'+str(run_number)+'.h5'\n",
    "emap_file_name    = 'kr_emap_xy_'+str(num_xy_bins)+'_'+str(num_xy_bins)+'_r_'+str(run_number)+'.h5'\n",
    "\n",
    "krfn = KrFileName(input_file_names,\n",
    "                  output_file_name,\n",
    "                  map_file_name,\n",
    "                  map_file_name_ts,\n",
    "                  emap_file_name)"
   ]
  },
  {
   "cell_type": "markdown",
   "metadata": {},
   "source": [
    "### Notebook configuration"
   ]
  },
  {
   "cell_type": "code",
   "execution_count": 4,
   "metadata": {},
   "outputs": [],
   "source": [
    "%matplotlib inline\n",
    "import matplotlib.pyplot as plt\n",
    "\n",
    "from matplotlib.patches import Circle, Wedge, Polygon\n",
    "from matplotlib.collections import PatchCollection\n",
    "\n",
    "plt.rcParams[\"figure.figsize\"] = 10, 8\n",
    "plt.rcParams[\"font.size\"     ] = 14"
   ]
  },
  {
   "cell_type": "code",
   "execution_count": 5,
   "metadata": {},
   "outputs": [],
   "source": [
    "import seaborn as sns\n",
    "import numpy as np\n",
    "import pandas as pd\n",
    "import matplotlib\n",
    "import tables            as tb\n",
    "import random\n",
    "import glob\n",
    "import warnings\n",
    "sns.set()"
   ]
  },
  {
   "cell_type": "code",
   "execution_count": 6,
   "metadata": {},
   "outputs": [],
   "source": [
    "from  invisible_cities.io.dst_io              import load_dsts\n",
    "from  invisible_cities.core .core_functions   import in_range\n",
    "import invisible_cities.reco.corrections      as corrf"
   ]
  },
  {
   "cell_type": "code",
   "execution_count": 7,
   "metadata": {},
   "outputs": [],
   "source": [
    "from krcal.core.io_functions       import kdst_write\n",
    "from krcal.core.io_functions       import filenames_from_list\n",
    "from krcal.core.io_functions       import write_maps\n",
    "from krcal.core.io_functions       import read_maps\n",
    "from krcal.core.io_functions       import write_maps_ts\n",
    "from krcal.core.io_functions       import read_maps_ts"
   ]
  },
  {
   "cell_type": "code",
   "execution_count": 8,
   "metadata": {},
   "outputs": [],
   "source": [
    "from krcal.core.histo_functions    import h1, h1d, h2, h2d, plot_histo"
   ]
  },
  {
   "cell_type": "code",
   "execution_count": 9,
   "metadata": {},
   "outputs": [],
   "source": [
    "from krcal.core.core_functions      import time_delta_from_time\n",
    "from krcal.core.core_functions      import phirad_to_deg\n",
    "from krcal.core.core_functions      import timeit\n",
    "from krcal.core.core_functions      import NN\n",
    "from krcal.core                     import fit_functions_ic as fitf"
   ]
  },
  {
   "cell_type": "code",
   "execution_count": 10,
   "metadata": {},
   "outputs": [],
   "source": [
    "from krcal.core.plt_functions  import plot_sector\n",
    "from krcal.core.plt_functions  import plot_sectors"
   ]
  },
  {
   "cell_type": "code",
   "execution_count": 11,
   "metadata": {},
   "outputs": [],
   "source": [
    "from krcal.core.stat_functions      import mean_and_std"
   ]
  },
  {
   "cell_type": "code",
   "execution_count": 12,
   "metadata": {},
   "outputs": [],
   "source": [
    "from krcal.core.ranges_and_bins_functions      import kr_ranges_and_bins"
   ]
  },
  {
   "cell_type": "code",
   "execution_count": 13,
   "metadata": {},
   "outputs": [],
   "source": [
    "from krcal.core.analysis_functions  import fiducial_volumes\n",
    "from krcal.core.analysis_functions  import fid_eff\n",
    "from krcal.core.analysis_functions  import select_rphi_sectors\n",
    "from krcal.core.analysis_functions  import select_xy_sectors\n",
    "from krcal.core.analysis_functions  import event_map\n",
    "\n",
    "from krcal.core.analysis_functions  import kr_event_selection\n",
    "from krcal.core.analysis_functions  import kr_event"
   ]
  },
  {
   "cell_type": "code",
   "execution_count": 14,
   "metadata": {},
   "outputs": [],
   "source": [
    "from krcal.core.fit_lt_functions    import fit_lifetime\n",
    "from krcal.core.fit_lt_functions    import time_fcs\n",
    "from krcal.core.fit_lt_functions    import fit_fcs_in_rphi_sectors\n",
    "from krcal.core.fit_lt_functions    import fit_fcs_in_xy_bin\n",
    "from krcal.core.fit_lt_functions    import fit_map_rphi\n",
    "from krcal.core.fit_lt_functions    import fit_map_xy\n",
    "from krcal.core.fit_lt_functions    import get_time_series"
   ]
  },
  {
   "cell_type": "code",
   "execution_count": 15,
   "metadata": {},
   "outputs": [],
   "source": [
    "from krcal.core.fit_lt_histograms   import histo_fit_sectors\n",
    "from krcal.core.fit_lt_histograms   import print_fit_sectors_pars\n",
    "from krcal.core.fit_lt_histograms   import plot_fit_sectors\n",
    "from krcal.core.fit_lt_histograms   import plot_fit_xy\n",
    "from krcal.core.fit_lt_histograms   import plot_time_fcs\n",
    "from krcal.core.fit_lt_histograms   import plot_fit_lifetime_and_chi2\n",
    "from krcal.core.fit_lt_histograms   import print_fit_lifetime"
   ]
  },
  {
   "cell_type": "code",
   "execution_count": 16,
   "metadata": {},
   "outputs": [],
   "source": [
    "from krcal.core.fit_energy_functions    import fit_energy\n",
    "from krcal.core.fit_energy_functions    import plot_fit_energy\n",
    "from krcal.core.fit_energy_functions    import print_fit_energy\n",
    "from krcal.core.fit_energy_functions    import resolution_r_z\n",
    "from krcal.core.fit_energy_functions    import plot_resolution_r_z"
   ]
  },
  {
   "cell_type": "code",
   "execution_count": 17,
   "metadata": {},
   "outputs": [],
   "source": [
    "from krcal.core.kr_types import PlotLabels, KrEvent, ASectorMap\n",
    "from krcal.core.kr_types import FitType, KrSector, MapType\n",
    "from krcal.core.kr_types import KrFileName"
   ]
  },
  {
   "cell_type": "code",
   "execution_count": 18,
   "metadata": {},
   "outputs": [],
   "source": [
    "from krcal.core.rphi_maps_functions   import draw_rphi_maps\n",
    "from krcal.core.rphi_maps_functions   import draw_rphi_map\n",
    "from krcal.core.rphi_maps_functions   import draw_rphi_maps_ts\n",
    "from krcal.core.rphi_maps_functions   import draw_wedges\n",
    "from krcal.core.rphi_maps_functions   import define_rphi_sectors\n",
    "from krcal.core.rphi_maps_functions   import rphi_sector_map_def"
   ]
  },
  {
   "cell_type": "code",
   "execution_count": 19,
   "metadata": {},
   "outputs": [],
   "source": [
    "from krcal.core.map_functions   import tsmap_from_fmap\n",
    "from krcal.core.map_functions   import amap_from_tsmap\n",
    "from krcal.core.map_functions   import relative_errors\n",
    "from krcal.core.map_functions   import amap_valid_mask\n",
    "from krcal.core.map_functions   import amap_valid_fraction\n",
    "from krcal.core.map_functions   import amap_average\n",
    "from krcal.core.map_functions   import amap_max\n",
    "from krcal.core.map_functions   import amap_min\n",
    "from krcal.core.map_functions   import amap_replace_nan_by_mean\n",
    "from krcal.core.map_functions   import amap_replace_nan_by_zero\n",
    "from krcal.core.map_functions   import regularize_maps\n",
    "from krcal.core.map_functions   import get_maps_from_tsmap\n",
    "from krcal.core.map_functions   import map_average\n",
    "from krcal.core.map_functions   import add_mapinfo"
   ]
  },
  {
   "cell_type": "code",
   "execution_count": 20,
   "metadata": {},
   "outputs": [],
   "source": [
    "from krcal.core.xy_maps_functions   import draw_xy_maps\n",
    "from krcal.core.xy_maps_functions   import draw_xy_map\n",
    "from krcal.core.xy_maps_functions   import draw_xy_maps_ts"
   ]
  },
  {
   "cell_type": "code",
   "execution_count": 21,
   "metadata": {},
   "outputs": [],
   "source": [
    "from krcal.core.s1s2_functions  import energy_time_profile\n",
    "from krcal.core.s1s2_functions  import energy_X_profile"
   ]
  },
  {
   "cell_type": "code",
   "execution_count": 22,
   "metadata": {},
   "outputs": [],
   "source": [
    "from krcal.core.correction_functions import e0_rphi_correction\n",
    "from krcal.core.correction_functions import e0_xy_correction\n",
    "from krcal.core.correction_functions import lt_xy_correction\n",
    "from krcal.core.correction_functions import e0_xy_correction_ts\n",
    "from krcal.core.correction_functions import lt_xy_correction_ts\n",
    "from krcal.core.correction_functions import lt_rphi_correction\n",
    "from krcal.core.correction_functions import lt_rphi_correction_ts\n",
    "from krcal.core.correction_functions import e0_rphi_correction_ts"
   ]
  },
  {
   "cell_type": "code",
   "execution_count": 23,
   "metadata": {},
   "outputs": [],
   "source": [
    "from krcal.core.selection_functions  import event_map_df\n",
    "from krcal.core.selection_functions  import select_rphi_sectors_df\n",
    "from krcal.core.selection_functions  import select_xy_sectors_df\n",
    "from krcal.core.selection_functions  import get_time_series_df\n",
    "from krcal.core.fitmap_functions     import time_fcs_df\n",
    "from krcal.core.fitmap_functions     import fit_fcs_in_rphi_sectors_df\n",
    "from krcal.core.fitmap_functions     import fit_map_xy_df"
   ]
  },
  {
   "cell_type": "code",
   "execution_count": 24,
   "metadata": {},
   "outputs": [],
   "source": [
    "from numpy import pi, sqrt"
   ]
  },
  {
   "cell_type": "code",
   "execution_count": 25,
   "metadata": {},
   "outputs": [],
   "source": [
    "from typing      import List, Tuple, Dict, Sequence, Iterable"
   ]
  },
  {
   "cell_type": "code",
   "execution_count": 26,
   "metadata": {},
   "outputs": [],
   "source": [
    "from ipywidgets import interact, interactive, fixed\n",
    "from IPython.display import display"
   ]
  },
  {
   "cell_type": "markdown",
   "metadata": {},
   "source": [
    "### Logger\n",
    "\n",
    "\n",
    "- CRITICAL\n",
    "- ERROR\n",
    "- WARNING\n",
    "- INFO\n",
    "- DEBUG\n",
    "\n"
   ]
  },
  {
   "cell_type": "code",
   "execution_count": 27,
   "metadata": {},
   "outputs": [],
   "source": [
    "log = logging.getLogger()"
   ]
  },
  {
   "cell_type": "markdown",
   "metadata": {},
   "source": [
    "### Input/output "
   ]
  },
  {
   "cell_type": "code",
   "execution_count": 28,
   "metadata": {},
   "outputs": [],
   "source": [
    "fn =filenames_from_list(krfn, input_path, output_path, map_path)"
   ]
  },
  {
   "cell_type": "code",
   "execution_count": 29,
   "metadata": {},
   "outputs": [
    {
     "name": "stdout",
     "output_type": "stream",
     "text": [
      "Read in file time: t = 2.425826072692871\n"
     ]
    }
   ],
   "source": [
    "t0 = time.time()\n",
    "dst           = load_dsts(fn.input_file_names, \"DST\", \"Events\")\n",
    "t1 = time.time()\n",
    "print(f'Read in file time: t = {t1 -t0}')"
   ]
  },
  {
   "cell_type": "code",
   "execution_count": 30,
   "metadata": {},
   "outputs": [
    {
     "name": "stdout",
     "output_type": "stream",
     "text": [
      "Total number of events: 469268\n"
     ]
    }
   ],
   "source": [
    "unique_events = ~dst.event.duplicated()\n",
    "number_of_evts_full = np.count_nonzero(unique_events)\n",
    "\n",
    "print(f\"Total number of events: {len(dst)}\")"
   ]
  },
  {
   "cell_type": "code",
   "execution_count": 31,
   "metadata": {},
   "outputs": [
    {
     "data": {
      "text/plain": [
       "Index(['index', 'event', 'time', 's1_peak', 's2_peak', 'nS1', 'nS2', 'S1w',\n",
       "       'S1h', 'S1e', 'S1t', 'S2w', 'S2h', 'S2e', 'S2q', 'S2t', 'Nsipm', 'DT',\n",
       "       'Z', 'Zrms', 'X', 'Y', 'R', 'Phi', 'Xrms', 'Yrms'],\n",
       "      dtype='object')"
      ]
     },
     "execution_count": 31,
     "metadata": {},
     "output_type": "execute_result"
    }
   ],
   "source": [
    "dst.columns"
   ]
  },
  {
   "cell_type": "markdown",
   "metadata": {},
   "source": [
    "### Time differences in seconds"
   ]
  },
  {
   "cell_type": "code",
   "execution_count": 32,
   "metadata": {},
   "outputs": [],
   "source": [
    "dst_time = dst.sort_values('time')\n",
    "T       = dst_time.time.values\n",
    "DT      = time_delta_from_time(T)"
   ]
  },
  {
   "cell_type": "markdown",
   "metadata": {},
   "source": [
    "### Ranges and binning"
   ]
  },
  {
   "cell_type": "code",
   "execution_count": 33,
   "metadata": {},
   "outputs": [],
   "source": [
    "RMAX      = 200\n",
    "RCORE     = 100\n",
    "s1e_range = (3, 25)\n",
    "s2e_range = (2000, 14000)\n",
    "s2q_range = (200, 800)\n",
    "\n",
    "xy_range  = (-RMAX,  RMAX)\n",
    "z_range   = (10,  550)\n",
    "e_range = (5000, 14000)\n",
    "lt_range = (1000, 7000)\n",
    "c2_range = (0,5)\n",
    "\n",
    "krTimes, krRanges, krNbins, krBins = kr_ranges_and_bins(dst,\n",
    "                                                        xxrange   = xy_range,\n",
    "                                                        yrange    = xy_range,\n",
    "                                                        zrange    = z_range,\n",
    "                                                        s2erange  = s2e_range,\n",
    "                                                        s1erange  = s1e_range,\n",
    "                                                        s2qrange  = s2q_range,\n",
    "                                                        xnbins    = num_xy_bins,\n",
    "                                                        ynbins    = num_xy_bins,\n",
    "                                                        znbins    = 15,\n",
    "                                                        s2enbins  = 25,\n",
    "                                                        s1enbins  = 10,\n",
    "                                                        s2qnbins  = 25,\n",
    "                                                        tpsamples = 3600) # tsamples in seconds"
   ]
  },
  {
   "cell_type": "code",
   "execution_count": 34,
   "metadata": {},
   "outputs": [],
   "source": [
    "dstFid = dst[in_range(dst.R, 0, RMAX)]"
   ]
  },
  {
   "cell_type": "code",
   "execution_count": 35,
   "metadata": {},
   "outputs": [
    {
     "data": {
      "image/png": "[encoded data removed]",
      "text/plain": [
       "<Figure size 432x288 with 1 Axes>"
      ]
     },
     "metadata": {},
     "output_type": "display_data"
    },
    {
     "data": {
      "image/png": "[encoded data removed]",
      "text/plain": [
       "<Figure size 432x288 with 1 Axes>"
      ]
     },
     "metadata": {},
     "output_type": "display_data"
    }
   ],
   "source": [
    "dst_time = dstFid.sort_values('time')\n",
    "T       = dst_time.time.values\n",
    "DT      = time_delta_from_time(T)\n",
    "dst = dst_time.assign(DT=DT)\n",
    "plt.plot(DT)\n",
    "plt.show()\n",
    "plt.plot(T)\n",
    "plt.show()"
   ]
  },
  {
   "cell_type": "code",
   "execution_count": 36,
   "metadata": {},
   "outputs": [],
   "source": [
    "kge = kr_event(dst, DT, dst.S2e, dst.S2q)"
   ]
  },
  {
   "cell_type": "code",
   "execution_count": 37,
   "metadata": {},
   "outputs": [
    {
     "data": {
      "image/png": "[encoded data removed]",
      "text/plain": [
       "<Figure size 720x432 with 1 Axes>"
      ]
     },
     "metadata": {},
     "output_type": "display_data"
    }
   ],
   "source": [
    "fig = plt.figure(figsize=(10,6))\n",
    "ax      = fig.add_subplot(1, 1, 1)\n",
    "(_)    = h1(kge.DT, bins=500, range = (kge.DT[0], kge.DT[-1]), color='red', stats=False, lbl='pre-sel')"
   ]
  },
  {
   "cell_type": "code",
   "execution_count": 50,
   "metadata": {},
   "outputs": [
    {
     "data": {
      "text/plain": [
       "13983.764999866486"
      ]
     },
     "execution_count": 50,
     "metadata": {},
     "output_type": "execute_result"
    }
   ],
   "source": [
    "kge.DT[100000]"
   ]
  },
  {
   "cell_type": "markdown",
   "metadata": {},
   "source": [
    "### Time "
   ]
  },
  {
   "cell_type": "code",
   "execution_count": 38,
   "metadata": {},
   "outputs": [
    {
     "data": {
      "text/plain": [
       "[<matplotlib.lines.Line2D at 0x1a22a6d898>]"
      ]
     },
     "execution_count": 38,
     "metadata": {},
     "output_type": "execute_result"
    },
    {
     "data": {
      "image/png": "[encoded data removed]",
      "text/plain": [
       "<Figure size 432x288 with 1 Axes>"
      ]
     },
     "metadata": {},
     "output_type": "display_data"
    }
   ],
   "source": [
    "plt.plot(krTimes.timeStamps)"
   ]
  },
  {
   "cell_type": "markdown",
   "metadata": {},
   "source": [
    "### Event distribution"
   ]
  },
  {
   "cell_type": "code",
   "execution_count": 39,
   "metadata": {},
   "outputs": [
    {
     "data": {
      "image/png": "[encoded data removed]",
      "text/plain": [
       "<Figure size 720x576 with 2 Axes>"
      ]
     },
     "metadata": {},
     "output_type": "display_data"
    }
   ],
   "source": [
    "nevt = h2d(dst.X, dst.Y, krNbins.X, krNbins.Y, krRanges.X, krRanges.Y, \n",
    "           pltLabels=PlotLabels(x='X (mm)', y='Y (mm)', title='X vs Y '+str(run_number)),\n",
    "           profile=False,\n",
    "           figsize=(10,8))\n",
    "plt.savefig(output_plots+'/EventDists/EventDist_'+str(run_number)+'.png')"
   ]
  },
  {
   "cell_type": "markdown",
   "metadata": {},
   "source": [
    "## Time series"
   ]
  },
  {
   "cell_type": "code",
   "execution_count": 40,
   "metadata": {},
   "outputs": [],
   "source": [
    "log.setLevel(logging.INFO)"
   ]
  },
  {
   "cell_type": "markdown",
   "metadata": {},
   "source": [
    "### Divide dst in 100 time series"
   ]
  },
  {
   "cell_type": "code",
   "execution_count": 41,
   "metadata": {},
   "outputs": [
    {
     "name": "stdout",
     "output_type": "stream",
     "text": [
      " get_time_series: t = 0.1459500789642334\n"
     ]
    }
   ],
   "source": [
    "time_bins = 25\n",
    "t0 = time.time()\n",
    "\n",
    "RFID = 180\n",
    "dstfid = dst[in_range(dst.R, 0, RFID)]\n",
    "ts, masks = get_time_series_df(time_bins, (DT[0],DT[-1]), dstfid) # [edit]\n",
    "t1 = time.time()\n",
    "print(f' get_time_series: t = {t1 -t0}')"
   ]
  },
  {
   "cell_type": "markdown",
   "metadata": {},
   "source": [
    "### Fit lifetime full detector"
   ]
  },
  {
   "cell_type": "code",
   "execution_count": 42,
   "metadata": {},
   "outputs": [
    {
     "ename": "ValueError",
     "evalue": "not enough values to unpack (expected 2, got 0)",
     "output_type": "error",
     "traceback": [
      "\u001b[0;31m---------------------------------------------------------------------------\u001b[0m",
      "\u001b[0;31mValueError\u001b[0m                                Traceback (most recent call last)",
      "\u001b[0;32m<ipython-input-42-f7c6d2a0b366>\u001b[0m in \u001b[0;36m<module>\u001b[0;34m\u001b[0m\n\u001b[1;32m      6\u001b[0m                  \u001b[0mrange_e\u001b[0m \u001b[0;34m=\u001b[0m \u001b[0;34m(\u001b[0m\u001b[0;36m7000\u001b[0m\u001b[0;34m,\u001b[0m \u001b[0;36m14000\u001b[0m\u001b[0;34m)\u001b[0m\u001b[0;34m,\u001b[0m\u001b[0;34m\u001b[0m\u001b[0;34m\u001b[0m\u001b[0m\n\u001b[1;32m      7\u001b[0m                  \u001b[0menergy\u001b[0m  \u001b[0;34m=\u001b[0m \u001b[0;34m'S2e'\u001b[0m\u001b[0;34m,\u001b[0m\u001b[0;34m\u001b[0m\u001b[0;34m\u001b[0m\u001b[0m\n\u001b[0;32m----> 8\u001b[0;31m                  fit     = FitType.profile)  # fps: fit-profile series (implicit is a time series, using profile)\n\u001b[0m\u001b[1;32m      9\u001b[0m \u001b[0mt1\u001b[0m \u001b[0;34m=\u001b[0m \u001b[0mtime\u001b[0m\u001b[0;34m.\u001b[0m\u001b[0mtime\u001b[0m\u001b[0;34m(\u001b[0m\u001b[0;34m)\u001b[0m\u001b[0;34m\u001b[0m\u001b[0;34m\u001b[0m\u001b[0m\n\u001b[1;32m     10\u001b[0m \u001b[0mprint\u001b[0m\u001b[0;34m(\u001b[0m\u001b[0;34mf' time_fcs: t = {t1 -t0}'\u001b[0m\u001b[0;34m)\u001b[0m\u001b[0;34m\u001b[0m\u001b[0;34m\u001b[0m\u001b[0m\n",
      "\u001b[0;32m~/Development/KryptonCalibration/KrCalibTEMP/ICAROS/krcal/core/fitmap_functions.py\u001b[0m in \u001b[0;36mtime_fcs_df\u001b[0;34m(ts, masks, dst, nbins_z, nbins_e, range_z, range_e, energy, z, fit)\u001b[0m\n\u001b[1;32m    102\u001b[0m     \u001b[0mlogging\u001b[0m\u001b[0;34m.\u001b[0m\u001b[0mdebug\u001b[0m\u001b[0;34m(\u001b[0m\u001b[0;34mf' time_fcs_df: len(dsts) = {len(dsts)}'\u001b[0m\u001b[0;34m)\u001b[0m\u001b[0;34m\u001b[0m\u001b[0;34m\u001b[0m\u001b[0m\n\u001b[1;32m    103\u001b[0m     fcs =[fit_lifetime(dst[z].values, dst[energy].values,\n\u001b[0;32m--> 104\u001b[0;31m                        nbins_z, nbins_e, range_z, range_e, fit) for dst in dsts]\n\u001b[0m\u001b[1;32m    105\u001b[0m \u001b[0;34m\u001b[0m\u001b[0m\n\u001b[1;32m    106\u001b[0m     \u001b[0me0s\u001b[0m\u001b[0;34m,\u001b[0m \u001b[0mlts\u001b[0m\u001b[0;34m,\u001b[0m \u001b[0mc2s\u001b[0m \u001b[0;34m=\u001b[0m \u001b[0mpars_from_fcs\u001b[0m\u001b[0;34m(\u001b[0m\u001b[0mfcs\u001b[0m\u001b[0;34m)\u001b[0m\u001b[0;34m\u001b[0m\u001b[0;34m\u001b[0m\u001b[0m\n",
      "\u001b[0;32m~/Development/KryptonCalibration/KrCalibTEMP/ICAROS/krcal/core/fitmap_functions.py\u001b[0m in \u001b[0;36m<listcomp>\u001b[0;34m(.0)\u001b[0m\n\u001b[1;32m    102\u001b[0m     \u001b[0mlogging\u001b[0m\u001b[0;34m.\u001b[0m\u001b[0mdebug\u001b[0m\u001b[0;34m(\u001b[0m\u001b[0;34mf' time_fcs_df: len(dsts) = {len(dsts)}'\u001b[0m\u001b[0;34m)\u001b[0m\u001b[0;34m\u001b[0m\u001b[0;34m\u001b[0m\u001b[0m\n\u001b[1;32m    103\u001b[0m     fcs =[fit_lifetime(dst[z].values, dst[energy].values,\n\u001b[0;32m--> 104\u001b[0;31m                        nbins_z, nbins_e, range_z, range_e, fit) for dst in dsts]\n\u001b[0m\u001b[1;32m    105\u001b[0m \u001b[0;34m\u001b[0m\u001b[0m\n\u001b[1;32m    106\u001b[0m     \u001b[0me0s\u001b[0m\u001b[0;34m,\u001b[0m \u001b[0mlts\u001b[0m\u001b[0;34m,\u001b[0m \u001b[0mc2s\u001b[0m \u001b[0;34m=\u001b[0m \u001b[0mpars_from_fcs\u001b[0m\u001b[0;34m(\u001b[0m\u001b[0mfcs\u001b[0m\u001b[0;34m)\u001b[0m\u001b[0;34m\u001b[0m\u001b[0;34m\u001b[0m\u001b[0m\n",
      "\u001b[0;32m~/Development/KryptonCalibration/KrCalibTEMP/ICAROS/krcal/core/fit_lt_functions.py\u001b[0m in \u001b[0;36mfit_lifetime\u001b[0;34m(z, e, nbins_z, nbins_e, range_z, range_e, fit)\u001b[0m\n\u001b[1;32m    112\u001b[0m \u001b[0;34m\u001b[0m\u001b[0m\n\u001b[1;32m    113\u001b[0m     \u001b[0;32mif\u001b[0m \u001b[0mfit\u001b[0m \u001b[0;34m==\u001b[0m \u001b[0mFitType\u001b[0m\u001b[0;34m.\u001b[0m\u001b[0mprofile\u001b[0m\u001b[0;34m:\u001b[0m\u001b[0;34m\u001b[0m\u001b[0;34m\u001b[0m\u001b[0m\n\u001b[0;32m--> 114\u001b[0;31m         \u001b[0mfp\u001b[0m\u001b[0;34m,\u001b[0m \u001b[0mfp2\u001b[0m\u001b[0;34m,\u001b[0m \u001b[0mfr\u001b[0m \u001b[0;34m=\u001b[0m \u001b[0mfit_lifetime_profile\u001b[0m\u001b[0;34m(\u001b[0m\u001b[0mz\u001b[0m\u001b[0;34m,\u001b[0m \u001b[0me\u001b[0m\u001b[0;34m,\u001b[0m \u001b[0mnbins_z\u001b[0m\u001b[0;34m,\u001b[0m \u001b[0mrange_z\u001b[0m\u001b[0;34m)\u001b[0m\u001b[0;34m\u001b[0m\u001b[0;34m\u001b[0m\u001b[0m\n\u001b[0m\u001b[1;32m    115\u001b[0m     \u001b[0;32melse\u001b[0m\u001b[0;34m:\u001b[0m\u001b[0;34m\u001b[0m\u001b[0;34m\u001b[0m\u001b[0m\n\u001b[1;32m    116\u001b[0m         \u001b[0mfp\u001b[0m\u001b[0;34m,\u001b[0m \u001b[0mfp2\u001b[0m\u001b[0;34m,\u001b[0m \u001b[0mfr\u001b[0m \u001b[0;34m=\u001b[0m \u001b[0mfit_lifetime_unbined\u001b[0m\u001b[0;34m(\u001b[0m\u001b[0mz\u001b[0m\u001b[0;34m,\u001b[0m \u001b[0me\u001b[0m\u001b[0;34m,\u001b[0m \u001b[0mnbins_z\u001b[0m\u001b[0;34m,\u001b[0m \u001b[0mrange_z\u001b[0m\u001b[0;34m)\u001b[0m\u001b[0;34m\u001b[0m\u001b[0;34m\u001b[0m\u001b[0m\n",
      "\u001b[0;32m~/Development/KryptonCalibration/KrCalibTEMP/ICAROS/krcal/core/fit_lt_functions.py\u001b[0m in \u001b[0;36mfit_lifetime_profile\u001b[0;34m(z, e, nbins_z, range_z)\u001b[0m\n\u001b[1;32m    176\u001b[0m     \u001b[0mx\u001b[0m\u001b[0;34m,\u001b[0m \u001b[0my\u001b[0m\u001b[0;34m,\u001b[0m \u001b[0myu\u001b[0m  \u001b[0;34m=\u001b[0m \u001b[0mprofile1d\u001b[0m\u001b[0;34m(\u001b[0m\u001b[0mz\u001b[0m\u001b[0;34m,\u001b[0m \u001b[0me\u001b[0m\u001b[0;34m,\u001b[0m \u001b[0mnbins_z\u001b[0m\u001b[0;34m,\u001b[0m \u001b[0mrange_z\u001b[0m\u001b[0;34m)\u001b[0m\u001b[0;34m\u001b[0m\u001b[0;34m\u001b[0m\u001b[0m\n\u001b[1;32m    177\u001b[0m     \u001b[0mxu\u001b[0m        \u001b[0;34m=\u001b[0m \u001b[0mnp\u001b[0m\u001b[0;34m.\u001b[0m\u001b[0mdiff\u001b[0m\u001b[0;34m(\u001b[0m\u001b[0mx\u001b[0m\u001b[0;34m)\u001b[0m \u001b[0;34m*\u001b[0m \u001b[0;36m0.5\u001b[0m\u001b[0;34m\u001b[0m\u001b[0;34m\u001b[0m\u001b[0m\n\u001b[0;32m--> 178\u001b[0;31m     \u001b[0mseed\u001b[0m      \u001b[0;34m=\u001b[0m \u001b[0mexpo_seed\u001b[0m\u001b[0;34m(\u001b[0m\u001b[0mx\u001b[0m\u001b[0;34m,\u001b[0m \u001b[0my\u001b[0m\u001b[0;34m)\u001b[0m\u001b[0;34m\u001b[0m\u001b[0;34m\u001b[0m\u001b[0m\n\u001b[0m\u001b[1;32m    179\u001b[0m \u001b[0;34m\u001b[0m\u001b[0m\n\u001b[1;32m    180\u001b[0m     \u001b[0mlogging\u001b[0m\u001b[0;34m.\u001b[0m\u001b[0mdebug\u001b[0m\u001b[0;34m(\u001b[0m\u001b[0;34mf' after profile: len (x) ={len(x)}, len (y) ={len(y)} '\u001b[0m\u001b[0;34m)\u001b[0m\u001b[0;34m\u001b[0m\u001b[0;34m\u001b[0m\u001b[0m\n",
      "\u001b[0;32m~/Development/KryptonCalibration/KrCalibTEMP/ICAROS/krcal/core/fit_functions.py\u001b[0m in \u001b[0;36mexpo_seed\u001b[0;34m(x, y, eps)\u001b[0m\n\u001b[1;32m     76\u001b[0m     \u001b[0mEstimate\u001b[0m \u001b[0mthe\u001b[0m \u001b[0mseed\u001b[0m \u001b[0;32mfor\u001b[0m \u001b[0ma\u001b[0m \u001b[0mexponential\u001b[0m \u001b[0mfit\u001b[0m \u001b[0mto\u001b[0m \u001b[0mthe\u001b[0m \u001b[0minput\u001b[0m \u001b[0mdata\u001b[0m\u001b[0;34m.\u001b[0m\u001b[0;34m\u001b[0m\u001b[0;34m\u001b[0m\u001b[0m\n\u001b[1;32m     77\u001b[0m     \"\"\"\n\u001b[0;32m---> 78\u001b[0;31m     \u001b[0mx\u001b[0m\u001b[0;34m,\u001b[0m \u001b[0my\u001b[0m  \u001b[0;34m=\u001b[0m \u001b[0mzip\u001b[0m\u001b[0;34m(\u001b[0m\u001b[0;34m*\u001b[0m\u001b[0msorted\u001b[0m\u001b[0;34m(\u001b[0m\u001b[0mzip\u001b[0m\u001b[0;34m(\u001b[0m\u001b[0mx\u001b[0m\u001b[0;34m,\u001b[0m \u001b[0my\u001b[0m\u001b[0;34m)\u001b[0m\u001b[0;34m)\u001b[0m\u001b[0;34m)\u001b[0m\u001b[0;34m\u001b[0m\u001b[0;34m\u001b[0m\u001b[0m\n\u001b[0m\u001b[1;32m     79\u001b[0m     \u001b[0mconst\u001b[0m \u001b[0;34m=\u001b[0m \u001b[0my\u001b[0m\u001b[0;34m[\u001b[0m\u001b[0;36m0\u001b[0m\u001b[0;34m]\u001b[0m\u001b[0;34m\u001b[0m\u001b[0;34m\u001b[0m\u001b[0m\n\u001b[1;32m     80\u001b[0m     \u001b[0mslope\u001b[0m \u001b[0;34m=\u001b[0m \u001b[0;34m(\u001b[0m\u001b[0mx\u001b[0m\u001b[0;34m[\u001b[0m\u001b[0;34m-\u001b[0m\u001b[0;36m1\u001b[0m\u001b[0;34m]\u001b[0m \u001b[0;34m-\u001b[0m \u001b[0mx\u001b[0m\u001b[0;34m[\u001b[0m\u001b[0;36m0\u001b[0m\u001b[0;34m]\u001b[0m\u001b[0;34m)\u001b[0m \u001b[0;34m/\u001b[0m \u001b[0mnp\u001b[0m\u001b[0;34m.\u001b[0m\u001b[0mlog\u001b[0m\u001b[0;34m(\u001b[0m\u001b[0my\u001b[0m\u001b[0;34m[\u001b[0m\u001b[0;34m-\u001b[0m\u001b[0;36m1\u001b[0m\u001b[0;34m]\u001b[0m \u001b[0;34m/\u001b[0m \u001b[0;34m(\u001b[0m\u001b[0my\u001b[0m\u001b[0;34m[\u001b[0m\u001b[0;36m0\u001b[0m\u001b[0;34m]\u001b[0m \u001b[0;34m+\u001b[0m \u001b[0meps\u001b[0m\u001b[0;34m)\u001b[0m\u001b[0;34m)\u001b[0m\u001b[0;34m\u001b[0m\u001b[0;34m\u001b[0m\u001b[0m\n",
      "\u001b[0;31mValueError\u001b[0m: not enough values to unpack (expected 2, got 0)"
     ]
    }
   ],
   "source": [
    "t0 = time.time()\n",
    "fps = time_fcs_df(ts, masks, dstfid, \n",
    "                 nbins_z = 15,\n",
    "                 nbins_e = 25,\n",
    "                 range_z = (10, 550),\n",
    "                 range_e = (7000, 14000),\n",
    "                 energy  = 'S2e',\n",
    "                 fit     = FitType.profile)  # fps: fit-profile series (implicit is a time series, using profile)\n",
    "t1 = time.time()\n",
    "print(f' time_fcs: t = {t1 -t0}')"
   ]
  },
  {
   "cell_type": "code",
   "execution_count": null,
   "metadata": {},
   "outputs": [],
   "source": [
    "plot_time_fcs(fps,\n",
    "              range_chi2  = (0,10),\n",
    "              range_e0    = (6500, 14500),\n",
    "              range_lt    = lt_range,\n",
    "              figsize     = (12,6))\n",
    "plt.savefig(summary_outputs+'AverageLT.png')"
   ]
  },
  {
   "cell_type": "markdown",
   "metadata": {},
   "source": [
    "## Lifetime in RPhi"
   ]
  },
  {
   "cell_type": "code",
   "execution_count": null,
   "metadata": {},
   "outputs": [],
   "source": [
    "NSECTORS =5  # number of sectors in R. Each sector then is 200 / 5 = 40 cm.\n",
    "SPHI     =45 # size of the phi pie-slice in degrees, thus 10 slices in phi.\n",
    "#NSECTORS =4  # number of sectors in R. Each sector then is 200 / 5 = 40 cm.\n",
    "#SPHI     =45 # size of the phi pie-slice in degrees, thus 10 slices in phi."
   ]
  },
  {
   "cell_type": "code",
   "execution_count": null,
   "metadata": {},
   "outputs": [],
   "source": [
    "rpsmd = rphi_sector_map_def(nSectors=NSECTORS, rmax=RMAX, sphi=SPHI)"
   ]
  },
  {
   "cell_type": "code",
   "execution_count": null,
   "metadata": {},
   "outputs": [],
   "source": [
    "W = define_rphi_sectors(rpsmd)"
   ]
  },
  {
   "cell_type": "code",
   "execution_count": null,
   "metadata": {},
   "outputs": [],
   "source": [
    "draw_wedges(W,  rmax = RMAX, \n",
    "            scale= 0.49, figsize=(10,8), alpha=1.0,\n",
    "            cr =range(NSECTORS))"
   ]
  },
  {
   "cell_type": "code",
   "execution_count": null,
   "metadata": {},
   "outputs": [],
   "source": [
    "t0 = time.time()\n",
    "#KSRP = select_rphi_sectors(dst, DT, dst.S2e, dst.S2q, W)\n",
    "KSRP = select_rphi_sectors_df(dst, W) # [edit]\n",
    "t1 = time.time()\n",
    "print(f' KRES: t = {t1 -t0}')"
   ]
  },
  {
   "cell_type": "code",
   "execution_count": null,
   "metadata": {},
   "outputs": [],
   "source": [
    "neM = event_map_df(KSRP)"
   ]
  },
  {
   "cell_type": "code",
   "execution_count": null,
   "metadata": {},
   "outputs": [],
   "source": [
    "neM"
   ]
  },
  {
   "cell_type": "code",
   "execution_count": null,
   "metadata": {},
   "outputs": [],
   "source": [
    "ax = sns.heatmap(neM, square=True)"
   ]
  },
  {
   "cell_type": "markdown",
   "metadata": {},
   "source": [
    "### four phi sectors: upper half (left-right), lower half (left-right) of chamber"
   ]
  },
  {
   "cell_type": "markdown",
   "metadata": {},
   "source": [
    "### R < 40 mm"
   ]
  },
  {
   "cell_type": "code",
   "execution_count": null,
   "metadata": {},
   "outputs": [],
   "source": [
    "erange = (0,14500)\n",
    "ltrange = (0, 7000)"
   ]
  },
  {
   "cell_type": "code",
   "execution_count": null,
   "metadata": {},
   "outputs": [],
   "source": [
    "for sector in range(NSECTORS):\n",
    "    fps = fit_fcs_in_rphi_sectors_df(sector = sector,\n",
    "                              selection_map = KSRP,\n",
    "                              event_map     = neM,\n",
    "                              n_time_bins   = time_bins,\n",
    "                              time_diffs    = DT,\n",
    "                              nbins_z       = 25,\n",
    "                              nbins_e       = 50,\n",
    "                              range_z       =(50, 550),\n",
    "                              range_e       = (5000, 14500),\n",
    "                              energy        = 'S2e',\n",
    "                              fit           = FitType.unbined,\n",
    "                              n_min         = 100)\n",
    "    plot_fit_sectors(fps,  range_e0 =erange, range_lt=ltrange)\n",
    "    plt.savefig(summary_outputs+'R_phi_lt'+str(sector+1)+'.png')"
   ]
  },
  {
   "cell_type": "markdown",
   "metadata": {},
   "source": [
    "### Lifetime patterns:\n",
    "\n",
    "- Oscillatory pattern in time with a swing of 1 ms!\n",
    "- Lifetime changes also as a function of Phi, with differences that increase as R increases.\n",
    "- R > 160 cm data shows very high and very variable lifetime, with a spread of several ms."
   ]
  },
  {
   "cell_type": "markdown",
   "metadata": {},
   "source": [
    "### Strategy\n",
    "\n",
    "- Try to correct geometrical effects first. Fine grained geometrical map with a single time bin.\n",
    "- Study time dependence later"
   ]
  },
  {
   "cell_type": "markdown",
   "metadata": {},
   "source": [
    "## Divide chamber in sectors of XY"
   ]
  },
  {
   "cell_type": "code",
   "execution_count": null,
   "metadata": {},
   "outputs": [],
   "source": [
    "log.setLevel(logging.DEBUG)"
   ]
  },
  {
   "cell_type": "code",
   "execution_count": null,
   "metadata": {},
   "outputs": [],
   "source": [
    "t0 = time.time()\n",
    "print(len(dst))\n",
    "print(len(DT))\n",
    "# KRES = select_xy_sectors(dst, DT, dst.S2e.values, dst.S2q.values, krBins.X, krBins.Y)\n",
    "KRES = select_xy_sectors_df(dst, krBins.X, krBins.Y) # [edit]\n",
    "t1 = time.time()\n",
    "print(f' KRES: t = {t1 -t0}')"
   ]
  },
  {
   "cell_type": "code",
   "execution_count": null,
   "metadata": {},
   "outputs": [],
   "source": [
    "log.setLevel(logging.INFO)"
   ]
  },
  {
   "cell_type": "code",
   "execution_count": null,
   "metadata": {},
   "outputs": [],
   "source": [
    "neM = event_map_df(KRES)"
   ]
  },
  {
   "cell_type": "code",
   "execution_count": null,
   "metadata": {},
   "outputs": [],
   "source": [
    "ax = sns.heatmap(neM, square=True)"
   ]
  },
  {
   "cell_type": "markdown",
   "metadata": {},
   "source": [
    "## Fits in XY sectors"
   ]
  },
  {
   "cell_type": "markdown",
   "metadata": {},
   "source": [
    "## Maps"
   ]
  },
  {
   "cell_type": "markdown",
   "metadata": {},
   "source": [
    "#### fit maps. The object returned is a Dict[int, List[FitParTS]] where\n",
    "\n",
    "```\n",
    "@dataclass\n",
    "class FitParTS:             # Fit parameters Time Series\n",
    "    ts   : np.array          # contains the time series (integers expressing time differences)\n",
    "    e0   : np.array          # e0 fitted in time series\n",
    "    lt   : np.array\n",
    "    c2   : np.array\n",
    "    e0u  : np.array          # e0 error fitted in time series\n",
    "    ltu  : np.arra`\n",
    "```\n"
   ]
  },
  {
   "cell_type": "markdown",
   "metadata": {},
   "source": [
    "### Single time bin"
   ]
  },
  {
   "cell_type": "code",
   "execution_count": null,
   "metadata": {},
   "outputs": [],
   "source": [
    "t0 = time.time()\n",
    "with warnings.catch_warnings():\n",
    "    warnings.simplefilter(\"ignore\")\n",
    "    fpmxy = fit_map_xy_df(selection_map = KRES,\n",
    "                       event_map     = neM,\n",
    "                       n_time_bins   = 1,\n",
    "                       time_diffs    = DT,\n",
    "                       nbins_z        = krNbins.Z, \n",
    "                       nbins_e        = krNbins.S2e, \n",
    "                       range_z        = z_range, \n",
    "                       range_e        = e_range,\n",
    "                       energy        = 'S2e',\n",
    "                       fit           = FitType.unbined,\n",
    "                       n_min         = 100)\n",
    "\n",
    "t1 = time.time()\n",
    "print(f' fpmxy: t = {t1 -t0}')"
   ]
  },
  {
   "cell_type": "code",
   "execution_count": null,
   "metadata": {},
   "outputs": [],
   "source": [
    "times = fpmxy[0][0].ts"
   ]
  },
  {
   "cell_type": "code",
   "execution_count": null,
   "metadata": {},
   "outputs": [],
   "source": [
    "times"
   ]
  },
  {
   "cell_type": "markdown",
   "metadata": {},
   "source": [
    "#### Obtain time maps from fmap: The object returned is a SectorMapTS\n",
    "```\n",
    "@dataclass\n",
    "class SectorMapTS:  # Map in chamber sector containing time series of pars\n",
    "    chi2  : Dict[int, List[np.array]]\n",
    "    e0    : Dict[int, List[np.array]]\n",
    "    lt    : Dict[int, List[np.array]]\n",
    "    e0u   : Dict[int, List[np.array]]\n",
    "    ltu   : Dict[int, List[np.array]]\n",
    "```\n",
    "Here the dictionary is arranged for each of the relevant variables."
   ]
  },
  {
   "cell_type": "code",
   "execution_count": null,
   "metadata": {},
   "outputs": [],
   "source": [
    "tsm = tsmap_from_fmap(fpmxy)"
   ]
  },
  {
   "cell_type": "code",
   "execution_count": null,
   "metadata": {},
   "outputs": [],
   "source": [
    "plt.errorbar(times, tsm.lt[25][25], np.sqrt(tsm.lt[25][25]), fmt=\"p\")\n",
    "plt.errorbar(times, tsm.lt[25][21], np.sqrt(tsm.lt[25][21]), fmt=\"p\")\n",
    "plt.errorbar(times, tsm.lt[25][22], np.sqrt(tsm.lt[25][22]), fmt=\"p\")"
   ]
  },
  {
   "cell_type": "code",
   "execution_count": null,
   "metadata": {},
   "outputs": [],
   "source": [
    "plt.errorbar(times, tsm.lt[30][10], np.sqrt(tsm.lt[6][10]), fmt=\"p\")\n",
    "plt.errorbar(times, tsm.lt[30][11], np.sqrt(tsm.lt[6][11]), fmt=\"p\")\n",
    "plt.errorbar(times, tsm.lt[30][12], np.sqrt(tsm.lt[6][12]), fmt=\"p\")"
   ]
  },
  {
   "cell_type": "markdown",
   "metadata": {},
   "source": [
    "### Obtain amap from tsm: The object returned is ASectorMap\n",
    "```\n",
    "@dataclass\n",
    "class ASectorMap:  # Map in chamber sector containing average of pars\n",
    "    chi2  : DataFrame\n",
    "    e0    : DataFrame\n",
    "    lt    : DataFrame\n",
    "    e0u   : DataFrame\n",
    "    ltu   : DataFrame\n",
    "```\n",
    " "
   ]
  },
  {
   "cell_type": "markdown",
   "metadata": {},
   "source": [
    "#### There is a single time series (ts = 0)"
   ]
  },
  {
   "cell_type": "code",
   "execution_count": null,
   "metadata": {},
   "outputs": [],
   "source": [
    "am = amap_from_tsmap(tsm, \n",
    "                     ts = 0, \n",
    "                     range_e     = e_range,\n",
    "                     range_chi2  = c2_range,\n",
    "                     range_lt    = lt_range)"
   ]
  },
  {
   "cell_type": "code",
   "execution_count": null,
   "metadata": {},
   "outputs": [],
   "source": [
    "amap_average(am) "
   ]
  },
  {
   "cell_type": "markdown",
   "metadata": {},
   "source": [
    "#### Get rid of outlayers that distort mean and error"
   ]
  },
  {
   "cell_type": "code",
   "execution_count": null,
   "metadata": {},
   "outputs": [],
   "source": [
    "rmap = regularize_maps(am, erange=e_range, ltrange=lt_range)"
   ]
  },
  {
   "cell_type": "code",
   "execution_count": null,
   "metadata": {},
   "outputs": [],
   "source": [
    "amap_average(rmap)"
   ]
  },
  {
   "cell_type": "code",
   "execution_count": null,
   "metadata": {},
   "outputs": [],
   "source": [
    "asm = relative_errors(rmap)"
   ]
  },
  {
   "cell_type": "code",
   "execution_count": null,
   "metadata": {},
   "outputs": [],
   "source": [
    "amv = amap_average(asm)"
   ]
  },
  {
   "cell_type": "markdown",
   "metadata": {},
   "source": [
    "#### Draw the maps using default colormap"
   ]
  },
  {
   "cell_type": "code",
   "execution_count": null,
   "metadata": {},
   "outputs": [],
   "source": [
    "draw_xy_maps(asm,\n",
    "            e0lims  = e0_limits,\n",
    "            ltlims  = lifetime_limits,\n",
    "            eulims  = (0.0,  1),\n",
    "            lulims  = (0, 5),\n",
    "            showPlots = False,\n",
    "            figsize=(14,10))\n",
    "plt.savefig(output_plots+'/lt_e0_xy_maps/lt_e0_xy_'+str(run_number)+'.png')\n",
    "plt.savefig(summary_outputs+'maps.png')"
   ]
  },
  {
   "cell_type": "code",
   "execution_count": null,
   "metadata": {},
   "outputs": [],
   "source": [
    "asmAv = amap_replace_nan_by_mean(asm, amMean=amv)"
   ]
  },
  {
   "cell_type": "code",
   "execution_count": null,
   "metadata": {},
   "outputs": [],
   "source": [
    "amap_avg_list=amap_average(asmAv)\n",
    "\n",
    "text_output = open(output_plots+'/text_outputs/outputs_'+str(run_number)+'.txt','w')\n",
    "\n",
    "text_output.write('chi2='+str(amap_avg_list.chi2)+'\\n')\n",
    "text_output.write('e0='+str(amap_avg_list.e0)+'\\n')\n",
    "text_output.write('lt='+str(amap_avg_list.lt)+'\\n')\n",
    "text_output.write('e0u='+str(amap_avg_list.e0u)+'\\n')\n",
    "text_output.write('ltu='+str(amap_avg_list.ltu)+'\\n')\n",
    "\n",
    "mean = 0\n",
    "num = 0\n",
    "\n",
    "mean_low = 0\n",
    "mean_high = 0\n",
    "\n",
    "num_low = 0\n",
    "num_high = 0\n",
    "\n",
    "variance = 0\n",
    "var_low = 0\n",
    "var_high = 0\n",
    "\n",
    "stdev = 0\n",
    "stdev_low = 0\n",
    "stdev_high = 0\n",
    "\n",
    "zero_filled = asm.lt.fillna(0)\n",
    "print(len(zero_filled))\n",
    "for x in range(len(zero_filled)):\n",
    "    ymax = len(zero_filled[x])\n",
    "    for y in range(ymax):\n",
    "        if (zero_filled[x][y] != 0):\n",
    "            # get the mean\n",
    "            mean += zero_filled[x][y]\n",
    "            num += 1\n",
    "            # get the means for low and high\n",
    "            if y < ymax / 2:\n",
    "                num_high += 1\n",
    "                mean_high += zero_filled[x][y]\n",
    "            else:\n",
    "                num_low += 1\n",
    "                mean_low += zero_filled[x][y]\n",
    "\n",
    "mean /= num\n",
    "mean_low /= num_low\n",
    "mean_high /= num_high\n",
    "\n",
    "for x in range(len(zero_filled)):\n",
    "    ymax = len(zero_filled[x])\n",
    "    for y in range(ymax):\n",
    "        if (zero_filled[x][y] != 0):\n",
    "            variance += (zero_filled[x][y] - mean)**2 / num\n",
    "            if y < ymax / 2:\n",
    "                var_high += (zero_filled[x][y] - mean_high)**2 / num_high\n",
    "            else:\n",
    "                var_low += (zero_filled[x][y] - mean_low)**2 / num_low\n",
    "            \n",
    "stdev = variance**0.5\n",
    "stdev_low = var_low**0.5\n",
    "stdev_high = var_high**0.5\n",
    "\n",
    "mean_diff = (mean_high - mean_low) / mean\n",
    "\n",
    "\n",
    "text_output.write('lt_mean_diff='+str(mean_diff)+'\\n')\n",
    "text_output.write('lt_mean_low='+str(mean_low)+'\\n')\n",
    "text_output.write('lt_mean_high='+str(mean_high)+'\\n')\n",
    "text_output.write('lt_stdev='+str(stdev)+'\\n')\n",
    "text_output.write('lt_stdev_low='+str(stdev_low)+'\\n')\n",
    "text_output.write('lt_stdev_high='+str(stdev_high)+'\\n')\n",
    "\n",
    "text_output.close()\n",
    "\n",
    "amap_avg_list"
   ]
  },
  {
   "cell_type": "code",
   "execution_count": null,
   "metadata": {},
   "outputs": [],
   "source": [
    "draw_xy_maps(asmAv,\n",
    "            e0lims  = e0_limits,\n",
    "            ltlims  = lifetime_limits,\n",
    "            eulims  = (0.0,  1),\n",
    "            lulims  = (0, 5),\n",
    "            figsize=(14,10))"
   ]
  },
  {
   "cell_type": "code",
   "execution_count": null,
   "metadata": {},
   "outputs": [],
   "source": [
    "asm = add_mapinfo(asmAv, krRanges.X, krRanges.Y, krNbins.X, krNbins.Y, run_number)"
   ]
  },
  {
   "cell_type": "code",
   "execution_count": null,
   "metadata": {},
   "outputs": [],
   "source": [
    "print('The map info is:')\n",
    "print(asm.mapinfo)\n",
    "write_maps(asm, filename=fn.emap_file_name)"
   ]
  },
  {
   "cell_type": "markdown",
   "metadata": {},
   "source": [
    "### Read back"
   ]
  },
  {
   "cell_type": "code",
   "execution_count": null,
   "metadata": {},
   "outputs": [],
   "source": [
    "emaps = read_maps(filename=fn.emap_file_name)"
   ]
  },
  {
   "cell_type": "code",
   "execution_count": null,
   "metadata": {},
   "outputs": [],
   "source": [
    "draw_xy_maps(emaps,\n",
    "            e0lims  = e0_limits,\n",
    "            ltlims  = lifetime_limits,\n",
    "            eulims  = (0.0,  1),\n",
    "            lulims  = (0, 5),\n",
    "            figsize=(14,10))"
   ]
  },
  {
   "cell_type": "code",
   "execution_count": null,
   "metadata": {},
   "outputs": [],
   "source": [
    "amap_average(emaps)"
   ]
  },
  {
   "cell_type": "code",
   "execution_count": null,
   "metadata": {},
   "outputs": [],
   "source": [
    "norm = amap_max(emaps)"
   ]
  },
  {
   "cell_type": "code",
   "execution_count": null,
   "metadata": {},
   "outputs": [],
   "source": [
    "norm"
   ]
  },
  {
   "cell_type": "code",
   "execution_count": null,
   "metadata": {},
   "outputs": [],
   "source": [
    "t0 = time.time()\n",
    "E0 = e0_xy_correction(dst.S2e.values,\n",
    "                      dst.X.values,\n",
    "                      dst.Y.values,\n",
    "                      E0M = emaps.e0 / norm.e0, \n",
    "                      xr  = krRanges.X,\n",
    "                      yr  = krRanges.Y,\n",
    "                      nx  = krNbins.X, \n",
    "                      ny  = krNbins.Y)\n",
    "\n",
    "\n",
    "t1 = time.time()\n",
    "print(f' e0 correction: t = {t1 -t0}')"
   ]
  },
  {
   "cell_type": "code",
   "execution_count": null,
   "metadata": {},
   "outputs": [],
   "source": [
    "t0 = time.time()\n",
    "# KRP = select_rphi_sectors(dst, DT, E0, dst.S2q, W)\n",
    "KRP = select_rphi_sectors_df(dst, W) # [edit]\n",
    "t1 = time.time()\n",
    "print(f' KRP: t = {t1 -t0}')"
   ]
  },
  {
   "cell_type": "code",
   "execution_count": null,
   "metadata": {},
   "outputs": [],
   "source": [
    "neM = event_map_df(KRP)"
   ]
  },
  {
   "cell_type": "code",
   "execution_count": null,
   "metadata": {},
   "outputs": [],
   "source": [
    "neM"
   ]
  },
  {
   "cell_type": "code",
   "execution_count": null,
   "metadata": {},
   "outputs": [],
   "source": [
    "neM[0]"
   ]
  },
  {
   "cell_type": "code",
   "execution_count": null,
   "metadata": {},
   "outputs": [],
   "source": []
  },
  {
   "cell_type": "code",
   "execution_count": null,
   "metadata": {},
   "outputs": [],
   "source": [
    "time_write = time.time()"
   ]
  },
  {
   "cell_type": "markdown",
   "metadata": {},
   "source": [
    "## Select events in region\n",
    "- r < 180\n",
    "- 10 < z < 550\n",
    "- 5000 < E < 14500"
   ]
  },
  {
   "cell_type": "code",
   "execution_count": null,
   "metadata": {},
   "outputs": [],
   "source": [
    "rrange = (0, 180)\n",
    "\n",
    "ti = timeit(lt_xy_correction)\n",
    "E = ti(E0, \n",
    "       dst.X.values, \n",
    "       dst.Y.values,\n",
    "       dst.Z.values, \n",
    "       LTM = emaps.lt,\n",
    "       xr  = krRanges.X,\n",
    "       yr  = krRanges.Y,\n",
    "       nx  = krNbins.X, \n",
    "       ny  = krNbins.Y)\n",
    "\n",
    "sel = in_range(dst.R, *rrange) & in_range(dst.Z, *z_range) &  in_range(E, *e_range)\n",
    "kse = kr_event(dst, DT, E, dst.S2q, sel)  # kse = krypton selected event"
   ]
  },
  {
   "cell_type": "code",
   "execution_count": null,
   "metadata": {},
   "outputs": [],
   "source": [
    "fig = plt.figure(figsize=(14,8))\n",
    "\n",
    "ax      = fig.add_subplot(3, 1, 1)\n",
    "nevt = h2(dst.Z, dst.S2e, 50, 50, krRanges.Z, krRanges.S2e, \n",
    "           profile=True)\n",
    "\n",
    "ax      = fig.add_subplot(3, 1, 2)\n",
    "nevt = h2(dst.Z, E0, 50, 50, krRanges.Z, krRanges.S2e, \n",
    "           profile=True)\n",
    "\n",
    "ax      = fig.add_subplot(3, 1, 3)\n",
    "nevt = h2(dst.Z, E, 50, 50, krRanges.Z, krRanges.S2e, \n",
    "           profile=True)\n",
    "\n",
    "plt.savefig(summary_outputs+'CorrectionLT.png')"
   ]
  },
  {
   "cell_type": "code",
   "execution_count": null,
   "metadata": {},
   "outputs": [],
   "source": [
    "energy_X_profile(dst.R, E, xnbins = num_xy_bins, xrange=(0,200), xlabel = 'R',\n",
    "                 erange=(6500, 14500),  \n",
    "                 figsize=(12,6))\n",
    "plt.savefig(summary_outputs+'RProfile.png')"
   ]
  },
  {
   "cell_type": "code",
   "execution_count": null,
   "metadata": {},
   "outputs": [],
   "source": [
    "energy_X_profile(kse.R, kse.E, xnbins = num_xy_bins, xrange=(0,200), xlabel = 'R',\n",
    "                 erange=e_range,  \n",
    "                 figsize=(12,6))\n",
    "plt.savefig(summary_outputs+'RProfileC.png')"
   ]
  },
  {
   "cell_type": "code",
   "execution_count": null,
   "metadata": {},
   "outputs": [],
   "source": [
    "energy_X_profile(phirad_to_deg(kse.Phi), kse.E, xnbins = num_xy_bins, xrange=(0,360), \n",
    "                 xlabel = 'Phi',\n",
    "                 erange=e_range,  \n",
    "                 figsize=(12,6))\n",
    "plt.savefig(summary_outputs+'PhiProfile.png')"
   ]
  },
  {
   "cell_type": "code",
   "execution_count": null,
   "metadata": {},
   "outputs": [],
   "source": [
    "energy_X_profile(kse.Z, kse.E, xnbins = num_xy_bins, xrange=z_range, xlabel = 'Z',\n",
    "                 erange=e_range,   \n",
    "                 figsize=(12,6))\n",
    "plt.savefig(summary_outputs+'ZProfile.png')"
   ]
  },
  {
   "cell_type": "code",
   "execution_count": null,
   "metadata": {},
   "outputs": [],
   "source": [
    "energy_X_profile(kse.DT, kse.E, xnbins = num_xy_bins, xrange=(kse.DT[0], kse.DT[-1]), xlabel = 'DT',\n",
    "                 erange=e_range,   \n",
    "                 figsize=(12,6))\n",
    "plt.savefig(summary_outputs+'TProfile.png')"
   ]
  },
  {
   "cell_type": "code",
   "execution_count": null,
   "metadata": {},
   "outputs": [],
   "source": [
    "fig = plt.figure(figsize=(14,8))\n",
    "ax      = fig.add_subplot(1, 1, 1)\n",
    "\n",
    "(_)     = h1(kse.E,  bins = 100, range =(11000,14500), stats=True, lbl = 'E')\n",
    "plot_histo(PlotLabels('E (pes)','Entries','E'), ax, legendloc='upper left')\n",
    "ax      = fig.add_subplot(1, 1, 1)"
   ]
  },
  {
   "cell_type": "code",
   "execution_count": null,
   "metadata": {},
   "outputs": [],
   "source": [
    "Ri = (50, 100,150,160)\n",
    "Zi = (50, 100,200,300,500)\n",
    "\n",
    "FC, FCE = resolution_r_z(Ri, Zi, kse.R, kse.Z, kse.E,\n",
    "                    enbins = 50,\n",
    "                    erange = (11e+3, 14500),\n",
    "                    ixy = (5,4),\n",
    "                    fdraw  = True,\n",
    "                    fprint = False,\n",
    "                    figsize = (18,10))\n",
    "plt.savefig(summary_outputs+'ResoFit.png')"
   ]
  },
  {
   "cell_type": "code",
   "execution_count": null,
   "metadata": {},
   "outputs": [],
   "source": [
    "plot_resolution_r_z(Ri, Zi, FC, FCE)"
   ]
  },
  {
   "cell_type": "code",
   "execution_count": null,
   "metadata": {},
   "outputs": [],
   "source": [
    "Ri = (100,130,160)\n",
    "Zi = (50, 100,200,300,400,500)\n",
    "\n",
    "FC, FCE = resolution_r_z(Ri, Zi, kse.R, kse.Z, kse.E,\n",
    "                    enbins = 50,\n",
    "                    erange = (11e+3, 14500),\n",
    "                    ixy = (5,4),\n",
    "                    fdraw  = True,\n",
    "                    fprint = False,\n",
    "                    figsize = (18,10)) "
   ]
  },
  {
   "cell_type": "code",
   "execution_count": null,
   "metadata": {},
   "outputs": [],
   "source": [
    "plot_resolution_r_z(Ri, Zi, FC, FCE, showPlots = False)\n",
    "plt.savefig(output_plots+'/res_vs_rz/res_vs_rz_'+str(run_number)+'.png')\n",
    "plt.savefig(summary_outputs+'ResoVsZR.png')"
   ]
  },
  {
   "cell_type": "code",
   "execution_count": null,
   "metadata": {},
   "outputs": [],
   "source": [
    "dt_write = time_write - t_start\n",
    "dt_plots = time.time() - time_write\n",
    "print('Time to write =', round(dt_write/60.0,1), 'm')\n",
    "print('Time to show plots =', round(dt_plots/60.0,1), 'm')"
   ]
  }
 ],
 "metadata": {
  "kernelspec": {
   "display_name": "Python 3",
   "language": "python",
   "name": "python3"
  },
  "language_info": {
   "codemirror_mode": {
    "name": "ipython",
    "version": 3
   },
   "file_extension": ".py",
   "mimetype": "text/x-python",
   "name": "python",
   "nbconvert_exporter": "python",
   "pygments_lexer": "ipython3",
   "version": "3.7.2"
  }
 },
 "nbformat": 4,
 "nbformat_minor": 2
}
