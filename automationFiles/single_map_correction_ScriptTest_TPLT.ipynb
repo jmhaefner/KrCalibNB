{
 "cells": [
  {
   "cell_type": "markdown",
   "metadata": {},
   "source": [
    "# Krypton Lifetime maps"
   ]
  },
  {
   "cell_type": "markdown",
   "metadata": {},
   "source": [
    "### Author:  JMH, JJGC"
   ]
  },
  {
   "cell_type": "markdown",
   "metadata": {},
   "source": [
    "### Software: KrCalib : https://github.com/nextic/KrCalib/"
   ]
  },
  {
   "cell_type": "code",
   "execution_count": 1,
   "metadata": {},
   "outputs": [
    {
     "name": "stdout",
     "output_type": "stream",
     "text": [
      "Last updated on  Wed Oct 16 13:41:41 2019\n"
     ]
    }
   ],
   "source": [
    "%load_ext autoreload\n",
    "%autoreload 2\n",
    "import os\n",
    "import sys\n",
    "import time\n",
    "import warnings\n",
    "import datetime \n",
    "print(\"Last updated on \", time.asctime())"
   ]
  },
  {
   "cell_type": "markdown",
   "metadata": {},
   "source": [
    "### Logger"
   ]
  },
  {
   "cell_type": "code",
   "execution_count": 2,
   "metadata": {},
   "outputs": [
    {
     "name": "stdout",
     "output_type": "stream",
     "text": [
      "2019-10-16 13:41:41,717 | INFO : Hello world!\n"
     ]
    }
   ],
   "source": [
    "import logging\n",
    "\n",
    "\n",
    "logging.basicConfig(format='%(asctime)s | %(levelname)s : %(message)s',\n",
    "                     level=logging.INFO, stream=sys.stdout)\n",
    "\n",
    "logging.info('Hello world!')\n"
   ]
  },
  {
   "cell_type": "markdown",
   "metadata": {},
   "source": [
    "### Input files"
   ]
  },
  {
   "cell_type": "code",
   "execution_count": null,
   "metadata": {},
   "outputs": [],
   "source": []
  },
  {
   "cell_type": "code",
   "execution_count": 3,
   "metadata": {},
   "outputs": [],
   "source": [
    "from krcal.core.kr_types import KrFileName\n",
    "import subprocess\n",
    "\n",
    "# run_number = <RUN_NUMBER>\n",
    "# num_files = <NUM_FILES>\n",
    "# analysis_tag = '<ANALYSIS_TAG>'\n",
    "# input_tag = '<INPUT_TAG>'\n",
    "\n",
    "# For testing\n",
    "run_number  = 7517\n",
    "file_range  = 0, 1 \n",
    "num_files = 1\n",
    "analysis_tag = 'ScriptTest'\n",
    "input_tag = 'ScriptTest'\n",
    "\n",
    "num_xy_bins = 10\n",
    "regularize = False\n",
    "\n",
    "t_start = time.time()\n",
    "\n",
    "lifetime_limits = (1000, 15000)\n",
    "e0_limits = (7000, 14000)\n",
    "e0_limits_rphi = (12000, 14000)\n",
    "\n",
    "input_path  = f\"$IC_DATA/\"+input_tag+\"/dst\"\n",
    "map_path    = f\"$IC_DATA/\"+analysis_tag+\"/maps\"\n",
    "\n",
    "input_file_name = 'dst_test.h5'\n",
    "input_file_names  = [ input_file_name ]\n",
    "    \n",
    "time_bins = 10\n",
    "output_file_name  = ' '\n",
    "map_file_name     = 'kr_maps_xy_'+str(run_number)+'.h5'\n",
    "map_file_name_ts  = f'kr_maps_rphi_5_8_ts_{time_bins}_'+str(run_number)+'.h5'\n",
    "emap_file_name    = 'kr_emap_xy_'+str(num_xy_bins)+'_'+str(num_xy_bins)+'_r_'+str(run_number)+'_'+analysis_tag+'.h5'"
   ]
  },
  {
   "cell_type": "markdown",
   "metadata": {},
   "source": [
    "### Notebook configuration"
   ]
  },
  {
   "cell_type": "code",
   "execution_count": 4,
   "metadata": {},
   "outputs": [],
   "source": [
    "%matplotlib inline\n",
    "import matplotlib.pyplot as plt\n",
    "\n",
    "from matplotlib.patches import Circle, Wedge, Polygon\n",
    "from matplotlib.collections import PatchCollection\n",
    "\n",
    "plt.rcParams[\"figure.figsize\"] = 10, 8\n",
    "plt.rcParams[\"font.size\"     ] = 14"
   ]
  },
  {
   "cell_type": "code",
   "execution_count": 5,
   "metadata": {},
   "outputs": [],
   "source": [
    "import seaborn as sns\n",
    "import numpy as np\n",
    "import pandas as pd\n",
    "import matplotlib\n",
    "import tables            as tb\n",
    "import random\n",
    "import glob\n",
    "import warnings\n",
    "sns.set()"
   ]
  },
  {
   "cell_type": "code",
   "execution_count": 6,
   "metadata": {},
   "outputs": [],
   "source": [
    "from  invisible_cities.io.dst_io              import load_dsts\n",
    "from  invisible_cities.core .core_functions   import in_range\n",
    "import invisible_cities.reco.corrections      as corrf"
   ]
  },
  {
   "cell_type": "code",
   "execution_count": 7,
   "metadata": {},
   "outputs": [],
   "source": [
    "from krcal.core.io_functions       import kdst_write\n",
    "from krcal.core.io_functions       import filenames_from_list\n",
    "from krcal.core.io_functions       import write_maps\n",
    "from krcal.core.io_functions       import read_maps\n",
    "from krcal.core.io_functions       import write_maps_ts\n",
    "from krcal.core.io_functions       import read_maps_ts"
   ]
  },
  {
   "cell_type": "code",
   "execution_count": 8,
   "metadata": {},
   "outputs": [],
   "source": [
    "from krcal.core.histo_functions    import h1, h1d, h2, h2d, plot_histo"
   ]
  },
  {
   "cell_type": "code",
   "execution_count": 9,
   "metadata": {},
   "outputs": [],
   "source": [
    "from krcal.core.core_functions      import time_delta_from_time\n",
    "from krcal.core.core_functions      import phirad_to_deg\n",
    "from krcal.core.core_functions      import timeit\n",
    "from krcal.core.core_functions      import NN\n",
    "from krcal.core                     import fit_functions_ic as fitf"
   ]
  },
  {
   "cell_type": "code",
   "execution_count": 10,
   "metadata": {},
   "outputs": [],
   "source": [
    "from krcal.core.plt_functions  import plot_sector\n",
    "from krcal.core.plt_functions  import plot_sectors"
   ]
  },
  {
   "cell_type": "code",
   "execution_count": 11,
   "metadata": {},
   "outputs": [],
   "source": [
    "from krcal.core.stat_functions      import mean_and_std"
   ]
  },
  {
   "cell_type": "code",
   "execution_count": 12,
   "metadata": {},
   "outputs": [],
   "source": [
    "from krcal.core.ranges_and_bins_functions      import kr_ranges_and_bins"
   ]
  },
  {
   "cell_type": "code",
   "execution_count": 13,
   "metadata": {},
   "outputs": [],
   "source": [
    "from krcal.core.analysis_functions  import fiducial_volumes\n",
    "from krcal.core.analysis_functions  import fid_eff\n",
    "from krcal.core.analysis_functions  import select_rphi_sectors\n",
    "from krcal.core.analysis_functions  import select_xy_sectors\n",
    "from krcal.core.analysis_functions  import event_map\n",
    "\n",
    "from krcal.core.analysis_functions  import kr_event_selection\n",
    "from krcal.core.analysis_functions  import kr_event"
   ]
  },
  {
   "cell_type": "code",
   "execution_count": 14,
   "metadata": {},
   "outputs": [],
   "source": [
    "from krcal.core.fit_lt_functions    import fit_lifetime\n",
    "from krcal.core.fit_lt_functions    import time_fcs\n",
    "from krcal.core.fit_lt_functions    import fit_fcs_in_rphi_sectors\n",
    "from krcal.core.fit_lt_functions    import fit_fcs_in_xy_bin\n",
    "from krcal.core.fit_lt_functions    import fit_map_rphi\n",
    "from krcal.core.fit_lt_functions    import fit_map_xy\n",
    "from krcal.core.fit_lt_functions    import get_time_series"
   ]
  },
  {
   "cell_type": "code",
   "execution_count": 15,
   "metadata": {},
   "outputs": [],
   "source": [
    "from krcal.core.fit_lt_histograms   import histo_fit_sectors\n",
    "from krcal.core.fit_lt_histograms   import print_fit_sectors_pars\n",
    "from krcal.core.fit_lt_histograms   import plot_fit_sectors\n",
    "from krcal.core.fit_lt_histograms   import plot_fit_xy\n",
    "from krcal.core.fit_lt_histograms   import plot_time_fcs\n",
    "from krcal.core.fit_lt_histograms   import plot_fit_lifetime_and_chi2\n",
    "from krcal.core.fit_lt_histograms   import print_fit_lifetime"
   ]
  },
  {
   "cell_type": "code",
   "execution_count": 16,
   "metadata": {},
   "outputs": [],
   "source": [
    "from krcal.core.fit_energy_functions    import fit_energy\n",
    "from krcal.core.fit_energy_functions    import plot_fit_energy\n",
    "from krcal.core.fit_energy_functions    import print_fit_energy\n",
    "from krcal.core.fit_energy_functions    import resolution_r_z\n",
    "from krcal.core.fit_energy_functions    import plot_resolution_r_z"
   ]
  },
  {
   "cell_type": "code",
   "execution_count": 17,
   "metadata": {},
   "outputs": [],
   "source": [
    "from krcal.core.kr_types import PlotLabels, KrEvent, ASectorMap\n",
    "from krcal.core.kr_types import FitType, KrSector, MapType\n",
    "from krcal.core.kr_types import KrFileName"
   ]
  },
  {
   "cell_type": "code",
   "execution_count": 18,
   "metadata": {},
   "outputs": [],
   "source": [
    "from krcal.core.rphi_maps_functions   import draw_rphi_maps\n",
    "from krcal.core.rphi_maps_functions   import draw_rphi_map\n",
    "from krcal.core.rphi_maps_functions   import draw_rphi_maps_ts\n",
    "from krcal.core.rphi_maps_functions   import draw_wedges\n",
    "from krcal.core.rphi_maps_functions   import define_rphi_sectors\n",
    "from krcal.core.rphi_maps_functions   import rphi_sector_map_def"
   ]
  },
  {
   "cell_type": "code",
   "execution_count": 19,
   "metadata": {},
   "outputs": [],
   "source": [
    "from krcal.core.map_functions   import tsmap_from_fmap\n",
    "from krcal.core.map_functions   import amap_from_tsmap\n",
    "from krcal.core.map_functions   import relative_errors\n",
    "from krcal.core.map_functions   import amap_valid_mask\n",
    "from krcal.core.map_functions   import amap_valid_fraction\n",
    "from krcal.core.map_functions   import amap_average\n",
    "from krcal.core.map_functions   import amap_max\n",
    "from krcal.core.map_functions   import amap_min\n",
    "from krcal.core.map_functions   import amap_replace_nan_by_mean\n",
    "from krcal.core.map_functions   import amap_replace_nan_by_zero\n",
    "from krcal.core.map_functions   import regularize_maps\n",
    "from krcal.core.map_functions   import get_maps_from_tsmap\n",
    "from krcal.core.map_functions   import map_average\n",
    "from krcal.core.map_functions   import add_mapinfo"
   ]
  },
  {
   "cell_type": "code",
   "execution_count": 20,
   "metadata": {},
   "outputs": [],
   "source": [
    "from krcal.core.xy_maps_functions   import draw_xy_maps\n",
    "from krcal.core.xy_maps_functions   import draw_xy_map\n",
    "from krcal.core.xy_maps_functions   import draw_xy_maps_ts"
   ]
  },
  {
   "cell_type": "code",
   "execution_count": 21,
   "metadata": {},
   "outputs": [],
   "source": [
    "from krcal.core.s1s2_functions  import energy_time_profile\n",
    "from krcal.core.s1s2_functions  import energy_X_profile"
   ]
  },
  {
   "cell_type": "code",
   "execution_count": 22,
   "metadata": {},
   "outputs": [],
   "source": [
    "from krcal.core.correction_functions import e0_rphi_correction\n",
    "from krcal.core.correction_functions import e0_xy_correction\n",
    "from krcal.core.correction_functions import lt_xy_correction\n",
    "from krcal.core.correction_functions import e0_xy_correction_ts\n",
    "from krcal.core.correction_functions import lt_xy_correction_ts\n",
    "from krcal.core.correction_functions import lt_rphi_correction\n",
    "from krcal.core.correction_functions import lt_rphi_correction_ts\n",
    "from krcal.core.correction_functions import e0_rphi_correction_ts"
   ]
  },
  {
   "cell_type": "code",
   "execution_count": 23,
   "metadata": {},
   "outputs": [],
   "source": [
    "from krcal.core.selection_functions  import event_map_df\n",
    "from krcal.core.selection_functions  import select_rphi_sectors_df\n",
    "from krcal.core.selection_functions  import select_xy_sectors_df\n",
    "from krcal.core.selection_functions  import get_time_series_df\n",
    "from krcal.core.fitmap_functions     import time_fcs_df\n",
    "from krcal.core.fitmap_functions     import fit_fcs_in_rphi_sectors_df\n",
    "from krcal.core.fitmap_functions     import fit_map_xy_df"
   ]
  },
  {
   "cell_type": "code",
   "execution_count": 24,
   "metadata": {},
   "outputs": [],
   "source": [
    "from numpy import pi, sqrt"
   ]
  },
  {
   "cell_type": "code",
   "execution_count": 25,
   "metadata": {},
   "outputs": [],
   "source": [
    "from typing      import List, Tuple, Dict, Sequence, Iterable"
   ]
  },
  {
   "cell_type": "code",
   "execution_count": 26,
   "metadata": {},
   "outputs": [],
   "source": [
    "from ipywidgets import interact, interactive, fixed\n",
    "from IPython.display import display"
   ]
  },
  {
   "cell_type": "markdown",
   "metadata": {},
   "source": [
    "### Logger\n",
    "\n",
    "\n",
    "- CRITICAL\n",
    "- ERROR\n",
    "- WARNING\n",
    "- INFO\n",
    "- DEBUG\n",
    "\n"
   ]
  },
  {
   "cell_type": "code",
   "execution_count": 27,
   "metadata": {},
   "outputs": [],
   "source": [
    "log = logging.getLogger()"
   ]
  },
  {
   "cell_type": "markdown",
   "metadata": {},
   "source": [
    "### Input/output "
   ]
  },
  {
   "cell_type": "code",
   "execution_count": null,
   "metadata": {},
   "outputs": [],
   "source": []
  },
  {
   "cell_type": "code",
   "execution_count": 28,
   "metadata": {},
   "outputs": [
    {
     "name": "stdout",
     "output_type": "stream",
     "text": [
      "Read in file time: t = 0.13864707946777344\n"
     ]
    }
   ],
   "source": [
    "t0 = time.time()\n",
    "dst           = load_dsts([input_file_name], \"DST\", \"Events\")\n",
    "t1 = time.time()\n",
    "print(f'Read in file time: t = {t1 -t0}')"
   ]
  },
  {
   "cell_type": "code",
   "execution_count": 29,
   "metadata": {},
   "outputs": [
    {
     "name": "stdout",
     "output_type": "stream",
     "text": [
      "Total number of events: 40551\n"
     ]
    }
   ],
   "source": [
    "unique_events = ~dst.event.duplicated()\n",
    "number_of_evts_full = np.count_nonzero(unique_events)\n",
    "\n",
    "print(f\"Total number of events: {len(dst)}\")"
   ]
  },
  {
   "cell_type": "code",
   "execution_count": 30,
   "metadata": {},
   "outputs": [
    {
     "data": {
      "text/plain": [
       "Index(['index', 'event', 'time', 's1_peak', 's2_peak', 'nS1', 'nS2', 'S1w',\n",
       "       'S1h', 'S1e', 'S1t', 'S2w', 'S2h', 'S2e', 'S2q', 'S2t', 'Nsipm', 'DT',\n",
       "       'Z', 'Zrms', 'X', 'Y', 'R', 'Phi', 'Xrms', 'Yrms'],\n",
       "      dtype='object')"
      ]
     },
     "execution_count": 30,
     "metadata": {},
     "output_type": "execute_result"
    }
   ],
   "source": [
    "dst.columns"
   ]
  },
  {
   "cell_type": "markdown",
   "metadata": {},
   "source": [
    "### Time differences in seconds"
   ]
  },
  {
   "cell_type": "code",
   "execution_count": 31,
   "metadata": {},
   "outputs": [],
   "source": [
    "dst_time = dst.sort_values('time')\n",
    "T       = dst_time.time.values\n",
    "DT      = time_delta_from_time(T)"
   ]
  },
  {
   "cell_type": "markdown",
   "metadata": {},
   "source": [
    "### Ranges and binning"
   ]
  },
  {
   "cell_type": "code",
   "execution_count": 32,
   "metadata": {},
   "outputs": [],
   "source": [
    "RMAX      = 200\n",
    "RCORE     = 100\n",
    "s1e_range = (3, 25)\n",
    "s2e_range = (10000, 14000)\n",
    "s2q_range = (200, 800)\n",
    "\n",
    "xy_range  = (-RMAX,  RMAX)\n",
    "z_range   = (10,  550)\n",
    "e_range = (5000, 18000)\n",
    "lt_range = (1000, 9000)\n",
    "c2_range = (0,5)\n",
    "\n",
    "krTimes, krRanges, krNbins, krBins = kr_ranges_and_bins(dst,\n",
    "                                                        xxrange   = xy_range,\n",
    "                                                        yrange    = xy_range,\n",
    "                                                        zrange    = z_range,\n",
    "                                                        s2erange  = s2e_range,\n",
    "                                                        s1erange  = s1e_range,\n",
    "                                                        s2qrange  = s2q_range,\n",
    "                                                        xnbins    = num_xy_bins,\n",
    "                                                        ynbins    = num_xy_bins,\n",
    "                                                        znbins    = 15,\n",
    "                                                        s2enbins  = 25,\n",
    "                                                        s1enbins  = 25,\n",
    "                                                        s2qnbins  = 25,\n",
    "                                                        tpsamples = 1) # tsamples in seconds"
   ]
  },
  {
   "cell_type": "code",
   "execution_count": 33,
   "metadata": {},
   "outputs": [],
   "source": [
    "dstFid = dst[in_range(dst.R, 0, RMAX)]"
   ]
  },
  {
   "cell_type": "code",
   "execution_count": 34,
   "metadata": {},
   "outputs": [
    {
     "data": {
      "image/png": "[encoded data removed]",
      "text/plain": [
       "<Figure size 432x288 with 1 Axes>"
      ]
     },
     "metadata": {},
     "output_type": "display_data"
    },
    {
     "data": {
      "image/png": "[encoded data removed]",
      "text/plain": [
       "<Figure size 432x288 with 1 Axes>"
      ]
     },
     "metadata": {},
     "output_type": "display_data"
    }
   ],
   "source": [
    "dst_time = dstFid.sort_values('time')\n",
    "T       = dst_time.time.values\n",
    "DT      = time_delta_from_time(T)\n",
    "dst = dst_time.assign(DT=DT)\n",
    "plt.plot(DT)\n",
    "plt.show()\n",
    "plt.plot(T)\n",
    "plt.show()"
   ]
  },
  {
   "cell_type": "code",
   "execution_count": 35,
   "metadata": {},
   "outputs": [],
   "source": [
    "kge = kr_event(dst, DT, dst.S2e, dst.S2q)"
   ]
  },
  {
   "cell_type": "code",
   "execution_count": 36,
   "metadata": {},
   "outputs": [
    {
     "data": {
      "image/png": "[encoded data removed]",
      "text/plain": [
       "<Figure size 720x432 with 1 Axes>"
      ]
     },
     "metadata": {},
     "output_type": "display_data"
    }
   ],
   "source": [
    "fig = plt.figure(figsize=(10,6))\n",
    "ax      = fig.add_subplot(1, 1, 1)\n",
    "(_)    = h1(kge.DT, bins=500, range = (kge.DT[0], kge.DT[-1]), color='red', stats=False, lbl='pre-sel')"
   ]
  },
  {
   "cell_type": "markdown",
   "metadata": {},
   "source": [
    "### Time "
   ]
  },
  {
   "cell_type": "code",
   "execution_count": 37,
   "metadata": {},
   "outputs": [
    {
     "data": {
      "text/plain": [
       "[<matplotlib.lines.Line2D at 0x1a24926d68>]"
      ]
     },
     "execution_count": 37,
     "metadata": {},
     "output_type": "execute_result"
    },
    {
     "data": {
      "image/png": "[encoded data removed]",
      "text/plain": [
       "<Figure size 432x288 with 1 Axes>"
      ]
     },
     "metadata": {},
     "output_type": "display_data"
    }
   ],
   "source": [
    "plt.plot(krTimes.timeStamps)"
   ]
  },
  {
   "cell_type": "markdown",
   "metadata": {},
   "source": [
    "### Event distribution"
   ]
  },
  {
   "cell_type": "code",
   "execution_count": 38,
   "metadata": {},
   "outputs": [
    {
     "data": {
      "image/png": "[encoded data removed]",
      "text/plain": [
       "<Figure size 720x576 with 2 Axes>"
      ]
     },
     "metadata": {},
     "output_type": "display_data"
    }
   ],
   "source": [
    "nevt = h2d(dst.X, dst.Y, krNbins.X, krNbins.Y, krRanges.X, krRanges.Y, \n",
    "           pltLabels=PlotLabels(x='X (mm)', y='Y (mm)', title='X vs Y '+str(run_number)),\n",
    "           profile=False,\n",
    "           figsize=(10,8))"
   ]
  },
  {
   "cell_type": "code",
   "execution_count": 39,
   "metadata": {},
   "outputs": [
    {
     "data": {
      "text/plain": [
       "40551.0"
      ]
     },
     "execution_count": 39,
     "metadata": {},
     "output_type": "execute_result"
    }
   ],
   "source": [
    "np.sum(nevt)"
   ]
  },
  {
   "cell_type": "markdown",
   "metadata": {},
   "source": [
    "## Time series"
   ]
  },
  {
   "cell_type": "code",
   "execution_count": 40,
   "metadata": {},
   "outputs": [],
   "source": [
    "log.setLevel(logging.INFO)"
   ]
  },
  {
   "cell_type": "markdown",
   "metadata": {},
   "source": [
    "## Divide chamber in sectors of XY"
   ]
  },
  {
   "cell_type": "code",
   "execution_count": 41,
   "metadata": {},
   "outputs": [
    {
     "name": "stdout",
     "output_type": "stream",
     "text": [
      "40551\n",
      "40551\n",
      " KRES: t = 0.19853901863098145\n"
     ]
    }
   ],
   "source": [
    "t0 = time.time()\n",
    "print(len(dst))\n",
    "print(len(DT))\n",
    "# KRES = select_xy_sectors(dst, DT, dst.S2e.values, dst.S2q.values, krBins.X, krBins.Y)\n",
    "KRES = select_xy_sectors_df(dst, krBins.X, krBins.Y) # [edit]\n",
    "t1 = time.time()\n",
    "print(f' KRES: t = {t1 -t0}')"
   ]
  },
  {
   "cell_type": "code",
   "execution_count": 42,
   "metadata": {},
   "outputs": [],
   "source": [
    "log.setLevel(logging.INFO)"
   ]
  },
  {
   "cell_type": "code",
   "execution_count": 43,
   "metadata": {},
   "outputs": [],
   "source": [
    "neM = event_map_df(KRES)"
   ]
  },
  {
   "cell_type": "code",
   "execution_count": 44,
   "metadata": {},
   "outputs": [
    {
     "data": {
      "image/png": "[encoded data removed]",
      "text/plain": [
       "<Figure size 432x288 with 2 Axes>"
      ]
     },
     "metadata": {},
     "output_type": "display_data"
    }
   ],
   "source": [
    "ax = sns.heatmap(neM, square=True)"
   ]
  },
  {
   "cell_type": "code",
   "execution_count": 45,
   "metadata": {},
   "outputs": [
    {
     "data": {
      "text/plain": [
       "40551"
      ]
     },
     "execution_count": 45,
     "metadata": {},
     "output_type": "execute_result"
    }
   ],
   "source": [
    "np.sum(np.sum(neM))"
   ]
  },
  {
   "cell_type": "code",
   "execution_count": 46,
   "metadata": {},
   "outputs": [
    {
     "name": "stdout",
     "output_type": "stream",
     "text": [
      "     0    1    2    3    4    5    6    7    8    9\n",
      "0    0    0  116  325  496  466  320   80    0    0\n",
      "1    0  226  598  658  586  623  582  580  163    0\n",
      "2  124  593  620  574  588  630  601  597  573   49\n",
      "3  373  536  557  506  559  553  560  603  608  293\n",
      "4  468  540  578  587  566  574  594  569  582  450\n",
      "5  426  563  597  509  584  632  560  505  572  396\n",
      "6  282  579  591  595  550  523  579  614  586  247\n",
      "7   41  509  593  630  579  609  627  569  495   36\n",
      "8    0   61  419  580  604  598  580  375   34    0\n",
      "9    0    0   10  160  223  208   96    1    0    0\n"
     ]
    }
   ],
   "source": [
    "print(neM)"
   ]
  },
  {
   "cell_type": "markdown",
   "metadata": {},
   "source": [
    "## Fits in XY sectors"
   ]
  },
  {
   "cell_type": "markdown",
   "metadata": {},
   "source": [
    "## Maps"
   ]
  },
  {
   "cell_type": "markdown",
   "metadata": {},
   "source": [
    "#### fit maps. The object returned is a Dict[int, List[FitParTS]] where\n",
    "\n",
    "```\n",
    "@dataclass\n",
    "class FitParTS:             # Fit parameters Time Series\n",
    "    ts   : np.array          # contains the time series (integers expressing time differences)\n",
    "    e0   : np.array          # e0 fitted in time series\n",
    "    lt   : np.array\n",
    "    c2   : np.array\n",
    "    e0u  : np.array          # e0 error fitted in time series\n",
    "    ltu  : np.arra`\n",
    "```\n"
   ]
  },
  {
   "cell_type": "markdown",
   "metadata": {},
   "source": [
    "### Single time bin"
   ]
  },
  {
   "cell_type": "code",
   "execution_count": 47,
   "metadata": {},
   "outputs": [
    {
     "data": {
      "text/plain": [
       "25"
      ]
     },
     "execution_count": 47,
     "metadata": {},
     "output_type": "execute_result"
    }
   ],
   "source": [
    "krNbins.S2e"
   ]
  },
  {
   "cell_type": "code",
   "execution_count": 48,
   "metadata": {},
   "outputs": [
    {
     "name": "stdout",
     "output_type": "stream",
     "text": [
      " fpmxy: t = 0.5215270519256592\n"
     ]
    }
   ],
   "source": [
    "t0 = time.time()\n",
    "with warnings.catch_warnings():\n",
    "    warnings.simplefilter(\"ignore\")\n",
    "    fpmxy = fit_map_xy_df(selection_map = KRES,\n",
    "                       event_map     = neM,\n",
    "                       n_time_bins   = 1,\n",
    "                       time_diffs    = DT,\n",
    "                       nbins_z        = krNbins.Z, \n",
    "                       nbins_e        = krNbins.S2e, \n",
    "                       range_z        = z_range, \n",
    "                       range_e        = e_range,\n",
    "                       energy        = 'S2e',\n",
    "                       fit           = FitType.unbined,\n",
    "                       n_min         = 2)\n",
    "\n",
    "t1 = time.time()\n",
    "print(f' fpmxy: t = {t1 -t0}')"
   ]
  },
  {
   "cell_type": "code",
   "execution_count": 49,
   "metadata": {},
   "outputs": [],
   "source": [
    "times = fpmxy[0][0].ts"
   ]
  },
  {
   "cell_type": "code",
   "execution_count": 50,
   "metadata": {},
   "outputs": [
    {
     "data": {
      "text/plain": [
       "array([1476.75450003])"
      ]
     },
     "execution_count": 50,
     "metadata": {},
     "output_type": "execute_result"
    }
   ],
   "source": [
    "times"
   ]
  },
  {
   "cell_type": "markdown",
   "metadata": {},
   "source": [
    "#### Obtain time maps from fmap: The object returned is a SectorMapTS\n",
    "```\n",
    "@dataclass\n",
    "class SectorMapTS:  # Map in chamber sector containing time series of pars\n",
    "    chi2  : Dict[int, List[np.array]]\n",
    "    e0    : Dict[int, List[np.array]]\n",
    "    lt    : Dict[int, List[np.array]]\n",
    "    e0u   : Dict[int, List[np.array]]\n",
    "    ltu   : Dict[int, List[np.array]]\n",
    "```\n",
    "Here the dictionary is arranged for each of the relevant variables."
   ]
  },
  {
   "cell_type": "code",
   "execution_count": 51,
   "metadata": {},
   "outputs": [],
   "source": [
    "tsm = tsmap_from_fmap(fpmxy)"
   ]
  },
  {
   "cell_type": "markdown",
   "metadata": {},
   "source": [
    "### Obtain amap from tsm: The object returned is ASectorMap\n",
    "```\n",
    "@dataclass\n",
    "class ASectorMap:  # Map in chamber sector containing average of pars\n",
    "    chi2  : DataFrame\n",
    "    e0    : DataFrame\n",
    "    lt    : DataFrame\n",
    "    e0u   : DataFrame\n",
    "    ltu   : DataFrame\n",
    "```\n",
    " "
   ]
  },
  {
   "cell_type": "markdown",
   "metadata": {},
   "source": [
    "#### There is a single time series (ts = 0)"
   ]
  },
  {
   "cell_type": "code",
   "execution_count": 52,
   "metadata": {},
   "outputs": [],
   "source": [
    "am = amap_from_tsmap(tsm, \n",
    "                     ts = 0, \n",
    "                     range_e     = e_range,\n",
    "                     range_chi2  = c2_range,\n",
    "                     range_lt    = lt_range)"
   ]
  },
  {
   "cell_type": "code",
   "execution_count": 53,
   "metadata": {},
   "outputs": [
    {
     "data": {
      "text/html": [
       "<div>\n",
       "<style scoped>\n",
       "    .dataframe tbody tr th:only-of-type {\n",
       "        vertical-align: middle;\n",
       "    }\n",
       "\n",
       "    .dataframe tbody tr th {\n",
       "        vertical-align: top;\n",
       "    }\n",
       "\n",
       "    .dataframe thead th {\n",
       "        text-align: right;\n",
       "    }\n",
       "</style>\n",
       "<table border=\"1\" class=\"dataframe\">\n",
       "  <thead>\n",
       "    <tr style=\"text-align: right;\">\n",
       "      <th></th>\n",
       "      <th>0</th>\n",
       "      <th>1</th>\n",
       "      <th>2</th>\n",
       "      <th>3</th>\n",
       "      <th>4</th>\n",
       "      <th>5</th>\n",
       "      <th>6</th>\n",
       "      <th>7</th>\n",
       "      <th>8</th>\n",
       "      <th>9</th>\n",
       "    </tr>\n",
       "  </thead>\n",
       "  <tbody>\n",
       "    <tr>\n",
       "      <th>0</th>\n",
       "      <td>NaN</td>\n",
       "      <td>NaN</td>\n",
       "      <td>35598.484225</td>\n",
       "      <td>9221.567980</td>\n",
       "      <td>12032.316188</td>\n",
       "      <td>10653.922041</td>\n",
       "      <td>13206.554517</td>\n",
       "      <td>9906.883282</td>\n",
       "      <td>NaN</td>\n",
       "      <td>NaN</td>\n",
       "    </tr>\n",
       "    <tr>\n",
       "      <th>1</th>\n",
       "      <td>NaN</td>\n",
       "      <td>13327.070996</td>\n",
       "      <td>7688.671925</td>\n",
       "      <td>7846.390070</td>\n",
       "      <td>7746.926519</td>\n",
       "      <td>8599.464980</td>\n",
       "      <td>7796.673215</td>\n",
       "      <td>7847.742978</td>\n",
       "      <td>16828.238296</td>\n",
       "      <td>NaN</td>\n",
       "    </tr>\n",
       "    <tr>\n",
       "      <th>2</th>\n",
       "      <td>8402.687294</td>\n",
       "      <td>10142.669670</td>\n",
       "      <td>8379.600371</td>\n",
       "      <td>8400.224062</td>\n",
       "      <td>7787.698028</td>\n",
       "      <td>9315.008191</td>\n",
       "      <td>7365.836060</td>\n",
       "      <td>8014.404883</td>\n",
       "      <td>9498.137163</td>\n",
       "      <td>10046.772550</td>\n",
       "    </tr>\n",
       "    <tr>\n",
       "      <th>3</th>\n",
       "      <td>10387.801575</td>\n",
       "      <td>9134.260966</td>\n",
       "      <td>9103.073539</td>\n",
       "      <td>10180.170391</td>\n",
       "      <td>7990.638086</td>\n",
       "      <td>8733.377090</td>\n",
       "      <td>8548.254434</td>\n",
       "      <td>10346.604870</td>\n",
       "      <td>9437.074274</td>\n",
       "      <td>13436.791321</td>\n",
       "    </tr>\n",
       "    <tr>\n",
       "      <th>4</th>\n",
       "      <td>13339.519497</td>\n",
       "      <td>7967.161837</td>\n",
       "      <td>7318.045122</td>\n",
       "      <td>7412.559238</td>\n",
       "      <td>8381.132997</td>\n",
       "      <td>8777.570950</td>\n",
       "      <td>7957.132514</td>\n",
       "      <td>7875.839004</td>\n",
       "      <td>7753.532598</td>\n",
       "      <td>13050.667542</td>\n",
       "    </tr>\n",
       "    <tr>\n",
       "      <th>5</th>\n",
       "      <td>9274.607266</td>\n",
       "      <td>7539.668804</td>\n",
       "      <td>7859.257271</td>\n",
       "      <td>7896.067767</td>\n",
       "      <td>8098.823876</td>\n",
       "      <td>7401.771083</td>\n",
       "      <td>7586.027442</td>\n",
       "      <td>7561.861199</td>\n",
       "      <td>6999.281733</td>\n",
       "      <td>9035.174215</td>\n",
       "    </tr>\n",
       "    <tr>\n",
       "      <th>6</th>\n",
       "      <td>11926.820538</td>\n",
       "      <td>9047.884595</td>\n",
       "      <td>7815.554793</td>\n",
       "      <td>7075.186060</td>\n",
       "      <td>7118.962098</td>\n",
       "      <td>7798.057329</td>\n",
       "      <td>7742.986666</td>\n",
       "      <td>8015.445255</td>\n",
       "      <td>6754.099074</td>\n",
       "      <td>18893.850243</td>\n",
       "    </tr>\n",
       "    <tr>\n",
       "      <th>7</th>\n",
       "      <td>18396.518913</td>\n",
       "      <td>9964.772508</td>\n",
       "      <td>7314.344078</td>\n",
       "      <td>6769.673774</td>\n",
       "      <td>7772.113350</td>\n",
       "      <td>7792.137238</td>\n",
       "      <td>7856.373257</td>\n",
       "      <td>7773.411212</td>\n",
       "      <td>13340.959412</td>\n",
       "      <td>25217.699859</td>\n",
       "    </tr>\n",
       "    <tr>\n",
       "      <th>8</th>\n",
       "      <td>NaN</td>\n",
       "      <td>-415910.681438</td>\n",
       "      <td>10888.208675</td>\n",
       "      <td>6163.830400</td>\n",
       "      <td>7380.227536</td>\n",
       "      <td>7870.675796</td>\n",
       "      <td>7412.219015</td>\n",
       "      <td>11702.940140</td>\n",
       "      <td>12335.096885</td>\n",
       "      <td>NaN</td>\n",
       "    </tr>\n",
       "    <tr>\n",
       "      <th>9</th>\n",
       "      <td>NaN</td>\n",
       "      <td>NaN</td>\n",
       "      <td>-22668.775883</td>\n",
       "      <td>15527.743570</td>\n",
       "      <td>12837.191318</td>\n",
       "      <td>11364.971113</td>\n",
       "      <td>12742.536024</td>\n",
       "      <td>NaN</td>\n",
       "      <td>NaN</td>\n",
       "      <td>NaN</td>\n",
       "    </tr>\n",
       "  </tbody>\n",
       "</table>\n",
       "</div>"
      ],
      "text/plain": [
       "              0              1             2             3             4  \\\n",
       "0           NaN            NaN  35598.484225   9221.567980  12032.316188   \n",
       "1           NaN   13327.070996   7688.671925   7846.390070   7746.926519   \n",
       "2   8402.687294   10142.669670   8379.600371   8400.224062   7787.698028   \n",
       "3  10387.801575    9134.260966   9103.073539  10180.170391   7990.638086   \n",
       "4  13339.519497    7967.161837   7318.045122   7412.559238   8381.132997   \n",
       "5   9274.607266    7539.668804   7859.257271   7896.067767   8098.823876   \n",
       "6  11926.820538    9047.884595   7815.554793   7075.186060   7118.962098   \n",
       "7  18396.518913    9964.772508   7314.344078   6769.673774   7772.113350   \n",
       "8           NaN -415910.681438  10888.208675   6163.830400   7380.227536   \n",
       "9           NaN            NaN -22668.775883  15527.743570  12837.191318   \n",
       "\n",
       "              5             6             7             8             9  \n",
       "0  10653.922041  13206.554517   9906.883282           NaN           NaN  \n",
       "1   8599.464980   7796.673215   7847.742978  16828.238296           NaN  \n",
       "2   9315.008191   7365.836060   8014.404883   9498.137163  10046.772550  \n",
       "3   8733.377090   8548.254434  10346.604870   9437.074274  13436.791321  \n",
       "4   8777.570950   7957.132514   7875.839004   7753.532598  13050.667542  \n",
       "5   7401.771083   7586.027442   7561.861199   6999.281733   9035.174215  \n",
       "6   7798.057329   7742.986666   8015.445255   6754.099074  18893.850243  \n",
       "7   7792.137238   7856.373257   7773.411212  13340.959412  25217.699859  \n",
       "8   7870.675796   7412.219015  11702.940140  12335.096885           NaN  \n",
       "9  11364.971113  12742.536024           NaN           NaN           NaN  "
      ]
     },
     "execution_count": 53,
     "metadata": {},
     "output_type": "execute_result"
    }
   ],
   "source": [
    "am.lt"
   ]
  },
  {
   "cell_type": "code",
   "execution_count": 54,
   "metadata": {},
   "outputs": [
    {
     "data": {
      "text/plain": [
       "ASectorMap(chi2=1.1289577106869628, e0=10143.286281357558, lt=4539.992673090643, e0u=41.840487557925414, ltu=74514.5853032504, mapinfo=None)"
      ]
     },
     "execution_count": 54,
     "metadata": {},
     "output_type": "execute_result"
    }
   ],
   "source": [
    "amap_average(am) "
   ]
  },
  {
   "cell_type": "markdown",
   "metadata": {},
   "source": [
    "#### Get rid of outlayers that distort mean and error"
   ]
  },
  {
   "cell_type": "code",
   "execution_count": 55,
   "metadata": {},
   "outputs": [],
   "source": [
    "def asm_copy(amap):\n",
    "    return ASectorMap(chi2  = amap.chi2.copy(),\n",
    "                      e0    = amap.e0.copy(),\n",
    "                      lt    = amap.lt.copy(),\n",
    "                      e0u   = amap.e0u.copy(),\n",
    "                      ltu   = amap.ltu.copy(),\n",
    "                      mapinfo   = None)\n",
    "\n",
    "def regularize_maps_chi2(amap_old, x2range):\n",
    "\n",
    "    amap = asm_copy(amap_old)\n",
    "    \n",
    "    for i in range(len(amap.lt)):\n",
    "        for j in range(len(amap.lt[i])):\n",
    "            if amap.chi2[i][j] > x2range[1] or amap.chi2[i][j] < x2range[0]:\n",
    "                amap.lt[i][j] = np.nan\n",
    "                amap.ltu[i][j] = np.nan\n",
    "                amap.e0[i][j] = np.nan\n",
    "                amap.e0u[i][j] = np.nan\n",
    "\n",
    "    return amap"
   ]
  },
  {
   "cell_type": "code",
   "execution_count": 56,
   "metadata": {},
   "outputs": [],
   "source": [
    "if regularize:\n",
    "    rmap = regularize_maps_chi2(am, x2range = (0, 2))\n",
    "    amap_average(rmap)\n",
    "    asm = relative_errors(rmap)\n",
    "else:\n",
    "    asm = relative_errors(am)"
   ]
  },
  {
   "cell_type": "code",
   "execution_count": 57,
   "metadata": {},
   "outputs": [],
   "source": [
    "amv = amap_average(asm)"
   ]
  },
  {
   "cell_type": "markdown",
   "metadata": {},
   "source": [
    "#### Draw the maps using default colormap"
   ]
  },
  {
   "cell_type": "code",
   "execution_count": 58,
   "metadata": {},
   "outputs": [
    {
     "data": {
      "image/png": "[encoded data removed]",
      "text/plain": [
       "<Figure size 1008x720 with 8 Axes>"
      ]
     },
     "metadata": {},
     "output_type": "display_data"
    }
   ],
   "source": [
    "draw_xy_maps(asm,\n",
    "            e0lims  = e0_limits,\n",
    "            ltlims  = lifetime_limits,\n",
    "            eulims  = (0.0,  1),\n",
    "            lulims  = (0, 20),\n",
    "            figsize=(14,10))"
   ]
  },
  {
   "cell_type": "code",
   "execution_count": 59,
   "metadata": {},
   "outputs": [],
   "source": [
    "asmAv = amap_replace_nan_by_mean(asm, amMean=amv)"
   ]
  },
  {
   "cell_type": "code",
   "execution_count": 60,
   "metadata": {},
   "outputs": [
    {
     "data": {
      "image/png": "[encoded data removed]",
      "text/plain": [
       "<Figure size 1008x720 with 8 Axes>"
      ]
     },
     "metadata": {},
     "output_type": "display_data"
    }
   ],
   "source": [
    "draw_xy_maps(asmAv,\n",
    "            e0lims  = e0_limits,\n",
    "            ltlims  = lifetime_limits,\n",
    "            eulims  = (0.0,  1),\n",
    "            lulims  = (0, 5),\n",
    "            figsize=(14,10))"
   ]
  },
  {
   "cell_type": "code",
   "execution_count": 61,
   "metadata": {},
   "outputs": [],
   "source": [
    "asm = add_mapinfo(asmAv, krRanges.X, krRanges.Y, krNbins.X, krNbins.Y, run_number)"
   ]
  },
  {
   "cell_type": "code",
   "execution_count": 62,
   "metadata": {},
   "outputs": [
    {
     "data": {
      "text/plain": [
       "'kr_emap_xy_10_10_r_7517_ScriptTest.h5'"
      ]
     },
     "execution_count": 62,
     "metadata": {},
     "output_type": "execute_result"
    }
   ],
   "source": [
    "emap_file_name"
   ]
  },
  {
   "cell_type": "code",
   "execution_count": 63,
   "metadata": {},
   "outputs": [
    {
     "name": "stdout",
     "output_type": "stream",
     "text": [
      "The map info is:\n",
      "xmin          -200\n",
      "xmax           200\n",
      "ymin          -200\n",
      "ymax           200\n",
      "nx              10\n",
      "ny              10\n",
      "run_number    7517\n",
      "dtype: int64\n"
     ]
    }
   ],
   "source": [
    "print('The map info is:')\n",
    "print(asm.mapinfo)\n",
    "write_maps(asm, filename=emap_file_name)"
   ]
  }
 ],
 "metadata": {
  "kernelspec": {
   "display_name": "Python 3",
   "language": "python",
   "name": "python3"
  },
  "language_info": {
   "codemirror_mode": {
    "name": "ipython",
    "version": 3
   },
   "file_extension": ".py",
   "mimetype": "text/x-python",
   "name": "python",
   "nbconvert_exporter": "python",
   "pygments_lexer": "ipython3",
   "version": "3.7.2"
  }
 },
 "nbformat": 4,
 "nbformat_minor": 2
}
