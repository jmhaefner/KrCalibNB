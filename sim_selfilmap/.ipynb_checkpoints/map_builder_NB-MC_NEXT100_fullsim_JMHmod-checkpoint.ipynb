{
 "cells": [
  {
   "cell_type": "markdown",
   "metadata": {},
   "source": [
    "# Demostration of ICAROS"
   ]
  },
  {
   "cell_type": "markdown",
   "metadata": {},
   "source": [
    "## The purpose of this NB is: \n",
    "\n",
    "- Selecting events.\n",
    "\n",
    "- Checking run conditions are normal.\n",
    "\n",
    "- Computing XY correction maps.\n"
   ]
  },
  {
   "cell_type": "markdown",
   "metadata": {},
   "source": [
    "## It is divided into three main sections:\n",
    "\n",
    "1. __Section A:__ Map building with the automatic script that will be run by the shifter in Canfranc.\n",
    "\n",
    "2. __Section B:__ Dissection of the script, function by function, to show the performance of each one.\n",
    "\n",
    "2. __Section C:__ In case the map is produced, map checking."
   ]
  },
  {
   "cell_type": "code",
   "execution_count": 1,
   "metadata": {},
   "outputs": [],
   "source": [
    "import os\n",
    "import logging\n",
    "import warnings\n",
    "warnings.filterwarnings(\"ignore\")\n",
    "logging.disable(logging.DEBUG)\n",
    "this_script_logger = logging.getLogger(__name__)\n",
    "this_script_logger.setLevel(logging.INFO)"
   ]
  },
  {
   "cell_type": "code",
   "execution_count": 2,
   "metadata": {},
   "outputs": [],
   "source": [
    "run_number = 0"
   ]
  },
  {
   "cell_type": "code",
   "execution_count": 3,
   "metadata": {},
   "outputs": [],
   "source": [
    "folder_dst       = '/Volumes/NEXT_data/IC_Data/simulation/20200715/'\n",
    "dst_file       = 'flex.kr83m.*.kdst.h5'\n",
    "config_file    = '/Users/jmhaefner/Documents/NEXT_code/ICAROS_current/ICAROS//krcal/map_builder/config_NoChecks.conf'\n",
    "ref_histo_file = '/Users/jmhaefner/Documents/NEXT_code/ICAROS_current/ICAROS//krcal/map_builder/reference_files/z_dst_LB_mean_ref.h5'"
   ]
  },
  {
   "cell_type": "markdown",
   "metadata": {},
   "source": [
    "*Set input/output variables and configuration file*"
   ]
  },
  {
   "cell_type": "code",
   "execution_count": 4,
   "metadata": {},
   "outputs": [
    {
     "name": "stdout",
     "output_type": "stream",
     "text": [
      "Input dst:  /Volumes/NEXT_data/IC_Data/simulation/20200715/flex.kr83m.*.kdst.h5\n",
      "Output map file:  /Users/jmhaefner/Development/KryptonCalibration/KrCalibNB_JMH/KrCalibNB/sim_selfilmap/map_NEXT100_fullsim_20200715.h5\n",
      "Output histograms file:  /Users/jmhaefner/Development/KryptonCalibration/KrCalibNB_JMH/KrCalibNB/sim_selfilmap/histos_NEXT100_fullsim_20200715.h5\n"
     ]
    },
    {
     "ename": "FileNotFoundError",
     "evalue": "[Errno 2] No such file or directory: '$ICARO/krcal/map_builder/config_NoChecks.conf'",
     "output_type": "error",
     "traceback": [
      "\u001b[0;31m---------------------------------------------------------------------------\u001b[0m",
      "\u001b[0;31mFileNotFoundError\u001b[0m                         Traceback (most recent call last)",
      "\u001b[0;32m<ipython-input-4-ca236297f932>\u001b[0m in \u001b[0;36m<module>\u001b[0;34m\u001b[0m\n\u001b[1;32m     16\u001b[0m                     key_Z_histo    = 'histo_Z_dst') \n\u001b[1;32m     17\u001b[0m \u001b[0;34m\u001b[0m\u001b[0m\n\u001b[0;32m---> 18\u001b[0;31m \u001b[0mconfig\u001b[0m \u001b[0;34m=\u001b[0m \u001b[0mconfigure\u001b[0m\u001b[0;34m(\u001b[0m\u001b[0;34mf'maps {config_file}'\u001b[0m\u001b[0;34m.\u001b[0m\u001b[0msplit\u001b[0m\u001b[0;34m(\u001b[0m\u001b[0;34m)\u001b[0m\u001b[0;34m)\u001b[0m\u001b[0;34m\u001b[0m\u001b[0;34m\u001b[0m\u001b[0m\n\u001b[0m\u001b[1;32m     19\u001b[0m \u001b[0;34m\u001b[0m\u001b[0m\n\u001b[1;32m     20\u001b[0m config.update(dict(folder             = folder_dst     ,\n",
      "\u001b[0;32m~/Documents/NEXT_code/IC_current/IC/invisible_cities/core/configure.py\u001b[0m in \u001b[0;36mconfigure\u001b[0;34m(input_options)\u001b[0m\n\u001b[1;32m     62\u001b[0m \u001b[0;34m\u001b[0m\u001b[0m\n\u001b[1;32m     63\u001b[0m     \u001b[0mCLI\u001b[0m \u001b[0;34m=\u001b[0m \u001b[0mparser\u001b[0m\u001b[0;34m.\u001b[0m\u001b[0mparse_args\u001b[0m\u001b[0;34m(\u001b[0m\u001b[0margs\u001b[0m\u001b[0;34m)\u001b[0m\u001b[0;34m\u001b[0m\u001b[0;34m\u001b[0m\u001b[0m\n\u001b[0;32m---> 64\u001b[0;31m     \u001b[0moptions\u001b[0m \u001b[0;34m=\u001b[0m \u001b[0mread_config_file\u001b[0m\u001b[0;34m(\u001b[0m\u001b[0mCLI\u001b[0m\u001b[0;34m.\u001b[0m\u001b[0mconfig_file\u001b[0m\u001b[0;34m)\u001b[0m\u001b[0;34m\u001b[0m\u001b[0;34m\u001b[0m\u001b[0m\n\u001b[0m\u001b[1;32m     65\u001b[0m \u001b[0;34m\u001b[0m\u001b[0m\n\u001b[1;32m     66\u001b[0m     \u001b[0moptions\u001b[0m\u001b[0;34m.\u001b[0m\u001b[0madd_cli\u001b[0m\u001b[0;34m(\u001b[0m\u001b[0;34m(\u001b[0m\u001b[0mopt\u001b[0m\u001b[0;34m,\u001b[0m \u001b[0mval\u001b[0m\u001b[0;34m)\u001b[0m \u001b[0;32mfor\u001b[0m \u001b[0mopt\u001b[0m\u001b[0;34m,\u001b[0m \u001b[0mval\u001b[0m \u001b[0;32min\u001b[0m \u001b[0mvars\u001b[0m\u001b[0;34m(\u001b[0m\u001b[0mCLI\u001b[0m\u001b[0;34m)\u001b[0m\u001b[0;34m.\u001b[0m\u001b[0mitems\u001b[0m\u001b[0;34m(\u001b[0m\u001b[0;34m)\u001b[0m \u001b[0;32mif\u001b[0m \u001b[0mval\u001b[0m \u001b[0;32mis\u001b[0m \u001b[0;32mnot\u001b[0m \u001b[0;32mNone\u001b[0m\u001b[0;34m)\u001b[0m\u001b[0;34m\u001b[0m\u001b[0;34m\u001b[0m\u001b[0m\n",
      "\u001b[0;32m~/Documents/NEXT_code/IC_current/IC/invisible_cities/core/configure.py\u001b[0m in \u001b[0;36mread_config_file\u001b[0;34m(file_name)\u001b[0m\n\u001b[1;32m     73\u001b[0m     \u001b[0mfull_file_name\u001b[0m             \u001b[0;34m=\u001b[0m \u001b[0mos\u001b[0m\u001b[0;34m.\u001b[0m\u001b[0mpath\u001b[0m\u001b[0;34m.\u001b[0m\u001b[0mexpandvars\u001b[0m\u001b[0;34m(\u001b[0m\u001b[0mfile_name\u001b[0m\u001b[0;34m)\u001b[0m\u001b[0;34m\u001b[0m\u001b[0;34m\u001b[0m\u001b[0m\n\u001b[1;32m     74\u001b[0m     \u001b[0mread_top_level_config_file\u001b[0m \u001b[0;34m=\u001b[0m \u001b[0mmake_config_file_reader\u001b[0m\u001b[0;34m(\u001b[0m\u001b[0;34m)\u001b[0m\u001b[0;34m\u001b[0m\u001b[0;34m\u001b[0m\u001b[0m\n\u001b[0;32m---> 75\u001b[0;31m     \u001b[0mwhole_config\u001b[0m               \u001b[0;34m=\u001b[0m \u001b[0mread_top_level_config_file\u001b[0m\u001b[0;34m(\u001b[0m\u001b[0mfull_file_name\u001b[0m\u001b[0;34m)\u001b[0m\u001b[0;34m\u001b[0m\u001b[0;34m\u001b[0m\u001b[0m\n\u001b[0m\u001b[1;32m     76\u001b[0m     \u001b[0;32mreturn\u001b[0m \u001b[0mwhole_config\u001b[0m\u001b[0;34m\u001b[0m\u001b[0;34m\u001b[0m\u001b[0m\n\u001b[1;32m     77\u001b[0m \u001b[0;34m\u001b[0m\u001b[0m\n",
      "\u001b[0;32m~/Documents/NEXT_code/IC_current/IC/invisible_cities/core/configure.py\u001b[0m in \u001b[0;36mread_included_file\u001b[0;34m(file_name)\u001b[0m\n\u001b[1;32m     98\u001b[0m         \u001b[0mfull_file_name\u001b[0m \u001b[0;34m=\u001b[0m \u001b[0mos\u001b[0m\u001b[0;34m.\u001b[0m\u001b[0mpath\u001b[0m\u001b[0;34m.\u001b[0m\u001b[0mexpandvars\u001b[0m\u001b[0;34m(\u001b[0m\u001b[0mfile_name\u001b[0m\u001b[0;34m)\u001b[0m\u001b[0;34m\u001b[0m\u001b[0;34m\u001b[0m\u001b[0m\n\u001b[1;32m     99\u001b[0m         \u001b[0mconfig\u001b[0m\u001b[0;34m.\u001b[0m\u001b[0mpush_file\u001b[0m\u001b[0;34m(\u001b[0m\u001b[0mfull_file_name\u001b[0m\u001b[0;34m)\u001b[0m\u001b[0;34m\u001b[0m\u001b[0;34m\u001b[0m\u001b[0m\n\u001b[0;32m--> 100\u001b[0;31m         \u001b[0;32mwith\u001b[0m \u001b[0mopen\u001b[0m\u001b[0;34m(\u001b[0m\u001b[0mfull_file_name\u001b[0m\u001b[0;34m,\u001b[0m \u001b[0;34m'r'\u001b[0m\u001b[0;34m)\u001b[0m \u001b[0;32mas\u001b[0m \u001b[0mconfig_file\u001b[0m\u001b[0;34m:\u001b[0m\u001b[0;34m\u001b[0m\u001b[0;34m\u001b[0m\u001b[0m\n\u001b[0m\u001b[1;32m    101\u001b[0m             \u001b[0mexec\u001b[0m\u001b[0;34m(\u001b[0m\u001b[0mconfig_file\u001b[0m\u001b[0;34m.\u001b[0m\u001b[0mread\u001b[0m\u001b[0;34m(\u001b[0m\u001b[0;34m)\u001b[0m\u001b[0;34m,\u001b[0m \u001b[0mglobals_\u001b[0m\u001b[0;34m,\u001b[0m \u001b[0mconfig\u001b[0m\u001b[0;34m)\u001b[0m\u001b[0;34m\u001b[0m\u001b[0;34m\u001b[0m\u001b[0m\n\u001b[1;32m    102\u001b[0m         \u001b[0mconfig\u001b[0m\u001b[0;34m.\u001b[0m\u001b[0mpop_file\u001b[0m\u001b[0;34m(\u001b[0m\u001b[0;34m)\u001b[0m\u001b[0;34m\u001b[0m\u001b[0;34m\u001b[0m\u001b[0m\n",
      "\u001b[0;31mFileNotFoundError\u001b[0m: [Errno 2] No such file or directory: '$ICARO/krcal/map_builder/config_NoChecks.conf'"
     ]
    }
   ],
   "source": [
    "from invisible_cities.core.configure         import configure\n",
    "\n",
    "output_maps_file = '/Users/jmhaefner/Development/KryptonCalibration/KrCalibNB_JMH/KrCalibNB/sim_selfilmap'\n",
    "\n",
    "date = '20200715'\n",
    "file_bootstrap   = '/Users/jmhaefner/Development/KryptonCalibration/KrCalibNB_JMH/KrCalibNB/sim_selfilmap/map_NEXT100_bootstrap_492.h5'\n",
    "map_file_out     = os.path.join(output_maps_file, 'map_NEXT100_fullsim_'+date+'.h5')\n",
    "histo_file_out   = os.path.join(output_maps_file, 'histos_NEXT100_fullsim_'+date+'.h5')\n",
    "\n",
    "print('Input dst: ', folder_dst + dst_file)\n",
    "print('Output map file: ', map_file_out)\n",
    "print('Output histograms file: ', histo_file_out)\n",
    "\n",
    "ref_Z_histogram = dict(\n",
    "                    ref_histo_file = ref_histo_file,\n",
    "                    key_Z_histo    = 'histo_Z_dst') \n",
    "\n",
    "config = configure(f'maps {config_file}'.split())\n",
    "\n",
    "config.update(dict(folder             = folder_dst     ,\n",
    "                   file_in            = dst_file       ,\n",
    "                   file_out_map       = map_file_out   ,\n",
    "                   file_out_hists     = histo_file_out ,\n",
    "                   ref_Z_histogram    = ref_Z_histogram,\n",
    "                   run_number         = run_number     ,\n",
    "                   file_bootstrap_map = file_bootstrap))"
   ]
  },
  {
   "cell_type": "markdown",
   "metadata": {},
   "source": [
    "***"
   ]
  },
  {
   "cell_type": "markdown",
   "metadata": {},
   "source": [
    "#### Imports"
   ]
  },
  {
   "cell_type": "code",
   "execution_count": null,
   "metadata": {},
   "outputs": [],
   "source": [
    "import pandas as pd\n",
    "import numpy  as np\n",
    "import matplotlib.pyplot as plt\n",
    "\n",
    "from krcal.map_builder.map_builder_functions  import load_data\n",
    "from krcal.map_builder.map_builder_functions  import check_rate_and_hist\n",
    "from krcal.map_builder.map_builder_functions  import selection_nS_mask_and_checking\n",
    "from krcal.core.kr_types                      import type_of_signal\n",
    "from krcal.map_builder.map_builder_functions  import check_Z_dst\n",
    "from krcal.map_builder.map_builder_functions  import band_selector_and_check\n",
    "from krcal.map_builder.map_builder_functions  import get_binning_auto\n",
    "from krcal.map_builder.map_builder_functions  import calculate_map\n",
    "from krcal.core.kr_types                      import FitType\n",
    "from krcal.core.selection_functions           import selection_in_band\n",
    "\n",
    "from krcal.map_builder.map_builder_functions  import check_failed_fits\n",
    "from krcal.map_builder.map_builder_functions  import regularize_map\n",
    "from krcal.map_builder.map_builder_functions  import remove_peripheral\n",
    "from krcal.map_builder.map_builder_functions  import add_krevol\n",
    "from invisible_cities.reco.corrections        import read_maps\n",
    "from krcal.map_builder.map_builder_functions  import e0_xy_correction\n",
    "\n",
    "from krcal.core.io_functions                  import write_complete_maps\n",
    "from krcal.core.selection_functions           import get_time_series_df\n",
    "\n",
    "from krcal.NB_utils   .xy_maps_functions     import draw_xy_maps\n",
    "from krcal.core       .map_functions         import relative_errors\n",
    "from krcal.core       .map_functions         import add_mapinfo\n",
    "\n",
    "from invisible_cities.reco.corrections       import apply_all_correction\n",
    "\n",
    "from krcal.NB_utils.plt_functions                import plot_s1histos\n",
    "from krcal.NB_utils.plt_functions                import s1d_from_dst\n",
    "from krcal.NB_utils.plt_functions                import plot_s2histos\n",
    "from krcal.NB_utils.plt_functions                import s2d_from_dst\n",
    "from krcal.NB_utils.plt_functions                import plot_selection_in_band\n",
    "\n",
    "from krcal.core.core_functions                import time_delta_from_time\n",
    "from krcal.core.fitmap_functions              import time_fcs_df\n",
    "from krcal.NB_utils.plt_functions             import plot_time_fcs\n",
    "\n",
    "from invisible_cities.core.configure          import configure"
   ]
  },
  {
   "cell_type": "code",
   "execution_count": null,
   "metadata": {},
   "outputs": [],
   "source": []
  },
  {
   "cell_type": "markdown",
   "metadata": {},
   "source": [
    "#### Loading data (only events inside detector chamber; i.e. R<=492)"
   ]
  },
  {
   "cell_type": "code",
   "execution_count": null,
   "metadata": {},
   "outputs": [],
   "source": [
    "config_values  = config.as_namespace\n",
    "quality_ranges = config_values.quality_ranges\n",
    "quality_ranges['r_max'] = 492\n",
    "print(' Only events with R smaller than {}'.format(quality_ranges['r_max']))\n",
    "inputs = load_data(input_path         = folder_dst                       ,\n",
    "                   input_dsts         = dst_file                         ,\n",
    "                   file_bootstrap_map = file_bootstrap                   ,\n",
    "                   ref_histo_file     = ref_Z_histogram['ref_histo_file'],\n",
    "                   key_Z_histo        = ref_Z_histogram['key_Z_histo']   ,\n",
    "                   quality_ranges     = quality_ranges                   )\n",
    "\n",
    "dst, bootstrapmap, ref_histos = inputs[0], inputs[1], inputs[2]"
   ]
  },
  {
   "cell_type": "code",
   "execution_count": null,
   "metadata": {},
   "outputs": [],
   "source": [
    "plt.figure(figsize=(8, 7))\n",
    "plt.hist2d(dst.X, dst.Y, 100);\n",
    "plt.colorbar();"
   ]
  },
  {
   "cell_type": "markdown",
   "metadata": {},
   "source": [
    "### 1st check: rate before selection"
   ]
  },
  {
   "cell_type": "markdown",
   "metadata": {},
   "source": [
    "## Event selection"
   ]
  },
  {
   "cell_type": "markdown",
   "metadata": {},
   "source": [
    "### nS1 selection (2nd check)"
   ]
  },
  {
   "cell_type": "code",
   "execution_count": null,
   "metadata": {},
   "outputs": [],
   "source": [
    "#nS1_eff_interval = (config_values.nS1_eff_min, config_values.nS1_eff_max)\n",
    "#with pd.HDFStore(histo_file_out, \"w\", complib=str(\"zlib\"), complevel=4) as store_hist:\n",
    "#    mask_s1 = selection_nS_mask_and_checking(dst        = dst               ,\n",
    "#                                             column     = type_of_signal.nS1,\n",
    "#                                             interval   = nS1_eff_interval  ,\n",
    "#                                             output_f   = store_hist        ,\n",
    "#                                             input_mask = None              ,\n",
    "#                                             nbins_hist = 10                ,\n",
    "#                                             range_hist = (0,10)            ,\n",
    "#                                             norm       = True              )"
   ]
  },
  {
   "cell_type": "code",
   "execution_count": null,
   "metadata": {},
   "outputs": [],
   "source": [
    "plt.figure(figsize=(7,5));\n",
    "plt.hist(dst.drop_duplicates(subset='event').nS1, 10, (0, 10))\n",
    "plt.yscale('log');\n",
    "plt.xlabel('nS1');\n",
    "plt.ylabel('Entries');\n",
    "plt.title('Number of S1 signals');"
   ]
  },
  {
   "cell_type": "code",
   "execution_count": null,
   "metadata": {},
   "outputs": [],
   "source": [
    "mask_s1 = dst.nS1==1"
   ]
  },
  {
   "cell_type": "code",
   "execution_count": null,
   "metadata": {},
   "outputs": [],
   "source": [
    "eff = dst[mask_s1].event.nunique()/dst.event.nunique()\n",
    "print('S1 selection efficiency: ', eff*100, '%')"
   ]
  },
  {
   "cell_type": "markdown",
   "metadata": {},
   "source": [
    "*Some other S1 plots:*"
   ]
  },
  {
   "cell_type": "code",
   "execution_count": null,
   "metadata": {},
   "outputs": [],
   "source": [
    "s1d = s1d_from_dst(dst)\n",
    "plot_s1histos(dst,  s1d, bins=20, figsize=(10,10))"
   ]
  },
  {
   "cell_type": "markdown",
   "metadata": {},
   "source": [
    "### nS2 selection (3rd chech)"
   ]
  },
  {
   "cell_type": "code",
   "execution_count": null,
   "metadata": {},
   "outputs": [],
   "source": [
    "nS2_eff_interval = (config_values.nS2_eff_min, config_values.nS2_eff_max+0.01)\n",
    "with pd.HDFStore(histo_file_out, \"w\", complib=str(\"zlib\"), complevel=4) as store_hist:\n",
    "    mask_s2 = selection_nS_mask_and_checking(dst        = dst               ,\n",
    "                                             column     = type_of_signal.nS2,\n",
    "                                             interval   = nS2_eff_interval  ,\n",
    "                                             output_f   = store_hist        ,\n",
    "                                             input_mask = mask_s1           ,\n",
    "                                             nbins_hist = 10                ,\n",
    "                                             range_hist = (0,10)            ,\n",
    "                                             norm       = True              )"
   ]
  },
  {
   "cell_type": "code",
   "execution_count": null,
   "metadata": {},
   "outputs": [],
   "source": [
    "s2_hist = pd.read_hdf(histo_file_out, key='nS2')\n",
    "plt.figure(figsize=(7,5));\n",
    "plt.step(s2_hist.magnitude, s2_hist.entries, where='pre');\n",
    "plt.xlabel('nS2');\n",
    "plt.ylabel('Entries');\n",
    "plt.title('Number of S2 signals');"
   ]
  },
  {
   "cell_type": "code",
   "execution_count": null,
   "metadata": {},
   "outputs": [],
   "source": [
    "eff = dst[mask_s2].event.nunique()/dst[mask_s1].event.nunique()\n",
    "print('S2 selection efficiency: ', eff*100, '%')"
   ]
  },
  {
   "cell_type": "markdown",
   "metadata": {},
   "source": [
    "*Some other S2 plots:*"
   ]
  },
  {
   "cell_type": "code",
   "execution_count": null,
   "metadata": {},
   "outputs": [],
   "source": [
    "s2d = s2d_from_dst(dst)\n",
    "plot_s2histos(dst, s2d, bins=20, emin=1000, emax=15000, figsize=(10,10))"
   ]
  },
  {
   "cell_type": "markdown",
   "metadata": {},
   "source": [
    "### 4th check: Z distribution of events is correct"
   ]
  },
  {
   "cell_type": "code",
   "execution_count": null,
   "metadata": {},
   "outputs": [],
   "source": [
    "check_Z_dst(Z_vect   = dst[mask_s2].Z            ,\n",
    "            ref_hist = ref_histos.Z_dist_hist    ,\n",
    "            n_sigmas = config_values.nsigmas_Zdst)"
   ]
  },
  {
   "cell_type": "code",
   "execution_count": null,
   "metadata": {},
   "outputs": [],
   "source": [
    "plt.figure(figsize=(8,7));\n",
    "plt.title('Z distribution');\n",
    "plt.hist(dst[mask_s2].Z, 10, (0, 550), density=1, histtype='step', alpha=0.7, linewidth=2, label=[run_number]);\n",
    "plt.errorbar(ref_histos.Z_dist_hist.bin_centres, ref_histos.Z_dist_hist.bin_entries, yerr=ref_histos.Z_dist_hist.err_bin_entries, fmt='.k', label='reference');\n",
    "plt.legend();\n",
    "plt.ylabel('Entries');\n",
    "plt.xlabel('Z (mm)');"
   ]
  },
  {
   "cell_type": "markdown",
   "metadata": {},
   "source": [
    "*And XY distribution:*"
   ]
  },
  {
   "cell_type": "code",
   "execution_count": null,
   "metadata": {},
   "outputs": [],
   "source": [
    "plt.figure(figsize=(10,8))\n",
    "plt.hist2d(dst[mask_s2].X, dst[mask_s2].Y, 100, [(-500,500),(-500,500)])\n",
    "plt.xlabel('X (mm)');\n",
    "plt.xlabel('X (mm)');\n",
    "plt.title('X vs Y');\n",
    "plt.colorbar();"
   ]
  },
  {
   "cell_type": "markdown",
   "metadata": {},
   "source": [
    "### Time stamps"
   ]
  },
  {
   "cell_type": "markdown",
   "metadata": {},
   "source": [
    "### Band selection (5th check)"
   ]
  },
  {
   "cell_type": "markdown",
   "metadata": {},
   "source": [
    "*Geom. correction with bootstrap map is applied before*:"
   ]
  },
  {
   "cell_type": "code",
   "execution_count": null,
   "metadata": {},
   "outputs": [],
   "source": [
    "draw_xy_maps(bootstrapmap)"
   ]
  },
  {
   "cell_type": "markdown",
   "metadata": {},
   "source": [
    "*Applying geometrical correction:*"
   ]
  },
  {
   "cell_type": "code",
   "execution_count": null,
   "metadata": {},
   "outputs": [],
   "source": [
    "geom_corr = e0_xy_correction(bootstrapmap)\n",
    "corr = geom_corr(dst[mask_s2].X, dst[mask_s2].Y)"
   ]
  },
  {
   "cell_type": "code",
   "execution_count": null,
   "metadata": {},
   "outputs": [],
   "source": [
    "fig = plt.figure(figsize=(14,8))\n",
    "plt.subplot(3, 1, 1)\n",
    "plt.hist2d(dst[mask_s2].Z, dst[mask_s2].S2e, 50, range=[[0,1200],[5000, 10000]]);\n",
    "\n",
    "plt.title('S2e uncorrected')\n",
    "plt.subplot(3, 1, 2)\n",
    "plt.hist2d(dst[mask_s2].Z, dst[mask_s2].S2e*corr, 50, range=[[0,1200],[5000, 10000]])\n",
    "plt.title('S2e corrected boot map')\n",
    "\n",
    "plt.subplot(3, 1, 3)\n",
    "plt.hist2d(dst[mask_s2].Z, dst[mask_s2].S2e*corr, 50, range=[[0,1200],[7000, 9000]])\n",
    "plt.title('S2e corrected boot map zoom')\n",
    "plt.tight_layout()"
   ]
  },
  {
   "cell_type": "markdown",
   "metadata": {},
   "source": [
    "*Selection:*"
   ]
  },
  {
   "cell_type": "code",
   "execution_count": null,
   "metadata": {},
   "outputs": [],
   "source": [
    "config['band_sel_params']"
   ]
  },
  {
   "cell_type": "code",
   "execution_count": null,
   "metadata": {},
   "outputs": [],
   "source": [
    "band_sel_params_new = config['band_sel_params']\n",
    "band_sel_params_new['range_Z'] = (50, 1150)\n",
    "band_sel_params_new['range_E'] = (7000, 9000)\n",
    "#band_sel_params_new['range_Z'] = (10, 510)\n",
    "band_sel_params_new['nsigma_sel'] = 3.5\n",
    "#config.update(dict(map_params = map_params_new))"
   ]
  },
  {
   "cell_type": "code",
   "execution_count": null,
   "metadata": {},
   "outputs": [],
   "source": [
    "band_sel_params_new"
   ]
  },
  {
   "cell_type": "code",
   "execution_count": null,
   "metadata": {},
   "outputs": [],
   "source": [
    "band_sel_params = config_values.band_sel_params\n",
    "mask_band = band_selector_and_check(dst        = dst         ,\n",
    "                                    boot_map   = bootstrapmap,\n",
    "                                    input_mask = mask_s2     ,\n",
    "                                    **band_sel_params_new    )"
   ]
  },
  {
   "cell_type": "code",
   "execution_count": null,
   "metadata": {},
   "outputs": [],
   "source": [
    "eff = dst[mask_band].event.nunique()/dst[mask_s2].event.nunique()\n",
    "print('Band selection efficiency: ', eff*100, '%')"
   ]
  },
  {
   "cell_type": "code",
   "execution_count": null,
   "metadata": {},
   "outputs": [],
   "source": [
    "emaps = e0_xy_correction(bootstrapmap)\n",
    "E0 = dst[mask_s2].S2e.values * emaps(dst[mask_s2].X.values, dst[mask_s2].Y.values)\n",
    "\n",
    "sel_krband = np.zeros_like(mask_s2)\n",
    "sel_krband[mask_s2], fpl, fph, hp, pp = selection_in_band(dst[mask_s2].Z,\n",
    "                                                          E0,\n",
    "                                                          range_z = band_sel_params_new['range_Z'],\n",
    "                                                          range_e = band_sel_params_new['range_E'],\n",
    "                                                          nbins_z = band_sel_params_new['nbins_z'],\n",
    "                                                          nbins_e = band_sel_params_new['nbins_e'],\n",
    "                                                          nsigma  = band_sel_params_new['nsigma_sel'])"
   ]
  },
  {
   "cell_type": "code",
   "execution_count": null,
   "metadata": {},
   "outputs": [],
   "source": [
    "plot_selection_in_band(fpl, fph, hp, pp, nsigma = band_sel_params_new['nsigma_sel'])"
   ]
  },
  {
   "cell_type": "markdown",
   "metadata": {},
   "source": [
    "*Krypton peak after geometrical correction:*"
   ]
  },
  {
   "cell_type": "code",
   "execution_count": null,
   "metadata": {},
   "outputs": [],
   "source": [
    "corr_band = geom_corr(dst[mask_band].X, dst[mask_band].Y)\n",
    "fig = plt.figure(figsize=(13,6))\n",
    "plt.subplot(1, 2, 1)\n",
    "plt.hist(dst[mask_s2].S2e*corr,  bins = 50, range =(7000, 9000))\n",
    "plt.title('Pre-filter');\n",
    "plt.xlabel('E (pes)');\n",
    "plt.ylabel('Entries');\n",
    "plt.subplot(1, 2, 2)\n",
    "plt.hist(dst[mask_band].S2e*corr_band,  bins = 50, range =(7000, 9000))\n",
    "plt.title('Post-filter');\n",
    "plt.xlabel('E (pes)');\n",
    "plt.ylabel('Entries');"
   ]
  },
  {
   "cell_type": "code",
   "execution_count": null,
   "metadata": {},
   "outputs": [],
   "source": [
    "sel_dst = dst[mask_band]"
   ]
  },
  {
   "cell_type": "code",
   "execution_count": null,
   "metadata": {},
   "outputs": [],
   "source": [
    "plt.figure(figsize=(16,6));\n",
    "plt.subplot(1,2,1);\n",
    "plt.hist(sel_dst.Z, bins = 50, range =(0,1200))\n",
    "plt.title('Z')\n",
    "plt.xlabel('Z (mm)');\n",
    "plt.subplot(1,2,2);\n",
    "plt.hist2d(sel_dst.X, sel_dst.Y, 100, [(-500,500),(-500,500)])\n",
    "plt.xlabel('X (mm)');\n",
    "plt.xlabel('X (mm)');\n",
    "plt.title('X vs Y');\n",
    "plt.colorbar();"
   ]
  },
  {
   "cell_type": "markdown",
   "metadata": {},
   "source": [
    "If all selection cuts and checks are passed successfully, it is time to create the correction map."
   ]
  },
  {
   "cell_type": "markdown",
   "metadata": {},
   "source": [
    "## Map production"
   ]
  },
  {
   "cell_type": "markdown",
   "metadata": {},
   "source": [
    "#### Selection of number of XY bins"
   ]
  },
  {
   "cell_type": "code",
   "execution_count": null,
   "metadata": {},
   "outputs": [],
   "source": [
    "thr_evts_for_sel_map_bins = config_values.thr_evts_for_sel_map_bins\n",
    "default_n_bins            = config_values.default_n_bins"
   ]
  },
  {
   "cell_type": "markdown",
   "metadata": {},
   "source": [
    "- If the number of evts is greater than 1e6 -> 100x100 map\n",
    "- If the number of evts is lower than 1e6 -> 50x50 map"
   ]
  },
  {
   "cell_type": "code",
   "execution_count": null,
   "metadata": {},
   "outputs": [],
   "source": [
    "number_of_bins = get_binning_auto(nevt_sel                = sel_dst.event.nunique()  ,\n",
    "                                  thr_events_for_map_bins = thr_evts_for_sel_map_bins,\n",
    "                                  n_bins                  = default_n_bins           )\n",
    "print('Number of XY bins: ', number_of_bins, '(', sel_dst.event.nunique(), 'events)')"
   ]
  },
  {
   "cell_type": "markdown",
   "metadata": {},
   "source": [
    "### Map computation"
   ]
  },
  {
   "cell_type": "code",
   "execution_count": null,
   "metadata": {},
   "outputs": [],
   "source": [
    "map_params = config_values.map_params"
   ]
  },
  {
   "cell_type": "code",
   "execution_count": null,
   "metadata": {},
   "outputs": [],
   "source": [
    "map_params"
   ]
  },
  {
   "cell_type": "code",
   "execution_count": null,
   "metadata": {},
   "outputs": [],
   "source": [
    "map_params_new = config['map_params']\n",
    "map_params_new['nbins_z']   = (30)\n",
    "map_params_new['z_range']   = (20, 1150)\n",
    "map_params_new['e_range']    = (6000, 9000)\n",
    "map_params_new['lt_range']   = (5000, 20000)\n",
    "map_params_new['chi2_range'] = (0, 5)\n",
    "map_params_new['r_max'] = 492\n",
    "map_params_new['x_range'] = (-492, 492)\n",
    "map_params_new['y_range'] = (-492, 492)\n",
    "map_params_new['maxFailed'] = 2500"
   ]
  },
  {
   "cell_type": "code",
   "execution_count": null,
   "metadata": {},
   "outputs": [],
   "source": [
    "warnings.filterwarnings(\"ignore\")\n",
    "logging.disable(logging.DEBUG)\n",
    "this_script_logger = logging.getLogger(__name__)\n",
    "this_script_logger.setLevel(logging.INFO)"
   ]
  },
  {
   "cell_type": "code",
   "execution_count": null,
   "metadata": {},
   "outputs": [],
   "source": [
    "maps = calculate_map(dst        = sel_dst                 ,\n",
    "                     XYbins     = (number_of_bins         ,\n",
    "                                   number_of_bins)        ,\n",
    "                     nbins_z    = map_params_new['nbins_z']   ,\n",
    "                     nbins_e    = map_params_new['nbins_e']   ,\n",
    "                     z_range    = map_params_new['z_range']   ,\n",
    "                     e_range    = map_params_new['e_range']   ,\n",
    "                     chi2_range = map_params_new['chi2_range'],\n",
    "                     lt_range   = map_params_new['lt_range']  ,\n",
    "                     fit_type   = FitType.unbined         ,\n",
    "                     nmin       = map_params_new['nmin']      ,\n",
    "                     x_range    = map_params_new['x_range']   ,\n",
    "                     y_range    = map_params_new['y_range']   )"
   ]
  },
  {
   "cell_type": "markdown",
   "metadata": {},
   "source": [
    "### Last check: number of failed fits"
   ]
  },
  {
   "cell_type": "code",
   "execution_count": null,
   "metadata": {},
   "outputs": [],
   "source": [
    "maxFailed = map_params['maxFailed']\n",
    "r_max     = map_params['r_max']\n",
    "\n",
    "check_failed_fits(maps      = maps          ,\n",
    "                  maxFailed = maxFailed     ,\n",
    "                  nbins     = number_of_bins,\n",
    "                  rmax      = r_max         ,\n",
    "                  rfid      = r_max         )"
   ]
  },
  {
   "cell_type": "markdown",
   "metadata": {},
   "source": [
    "#### chi2 regularization and compute relative error maps, instead of absolute error."
   ]
  },
  {
   "cell_type": "code",
   "execution_count": null,
   "metadata": {},
   "outputs": [],
   "source": [
    "regularized_maps = regularize_map(maps    = maps                    ,\n",
    "                                  x2range = map_params['chi2_range'])\n",
    "\n",
    "regularized_maps = relative_errors(am = regularized_maps)"
   ]
  },
  {
   "cell_type": "markdown",
   "metadata": {},
   "source": [
    "Now, the outer bins are replaced by nans:"
   ]
  },
  {
   "cell_type": "code",
   "execution_count": null,
   "metadata": {},
   "outputs": [],
   "source": [
    "regularized_maps = remove_peripheral(map   = regularized_maps,\n",
    "                                     nbins = number_of_bins  ,\n",
    "                                     rmax  = r_max           ,\n",
    "                                     rfid  = r_max           )"
   ]
  },
  {
   "cell_type": "code",
   "execution_count": null,
   "metadata": {},
   "outputs": [],
   "source": [
    "draw_xy_maps(regularized_maps,\n",
    "             figsize=(14,10))"
   ]
  },
  {
   "cell_type": "code",
   "execution_count": null,
   "metadata": {},
   "outputs": [],
   "source": [
    "plt.figure(figsize=(15, 5))\n",
    "plt.subplot(121)\n",
    "plt.hist(regularized_maps.lt.values.flatten(), 100, (7000, 15000));\n",
    "plt.title('lt')\n",
    "plt.xlabel('lt (mus)');\n",
    "plt.subplot(122)\n",
    "plt.hist(regularized_maps.e0.values.flatten(), 100, (5000, 9000));\n",
    "plt.title('e0')\n",
    "plt.xlabel('e0 (pes)');"
   ]
  },
  {
   "cell_type": "markdown",
   "metadata": {},
   "source": [
    "#### Mapinfo table is added"
   ]
  },
  {
   "cell_type": "code",
   "execution_count": null,
   "metadata": {},
   "outputs": [],
   "source": [
    "maps = add_mapinfo(asm        = regularized_maps     ,\n",
    "                   xr         = map_params['x_range'],\n",
    "                   yr         = map_params['y_range'],\n",
    "                   nx         = number_of_bins       ,\n",
    "                   ny         = number_of_bins       ,\n",
    "                   run_number = run_number           )\n",
    "print(maps.mapinfo)"
   ]
  },
  {
   "cell_type": "markdown",
   "metadata": {},
   "source": [
    "#### Temporal evolution table is added"
   ]
  },
  {
   "cell_type": "code",
   "execution_count": null,
   "metadata": {
    "scrolled": false
   },
   "outputs": [],
   "source": [
    "#r_fid         = map_params['r_fid']\n",
    "#nStimeprofile = map_params['nStimeprofile']\n",
    "#add_krevol(maps          = maps                 ,\n",
    "#           dst           = sel_dst              ,\n",
    "#           r_fid         = r_fid                ,\n",
    "#           nStimeprofile = nStimeprofile        ,\n",
    "#           x_range       = map_params['x_range'],\n",
    "#           y_range       = map_params['y_range'],\n",
    "#           XYbins        = (number_of_bins      ,\n",
    "#                            number_of_bins     ))\n",
    "#temp = maps.t_evol"
   ]
  },
  {
   "cell_type": "code",
   "execution_count": null,
   "metadata": {},
   "outputs": [],
   "source": [
    "#plt.figure(figsize=(16, 20));\n",
    "#plt.subplot(3,2,1);\n",
    "#plt.title('e0');\n",
    "#plt.errorbar(temp.ts, temp.e0, temp.e0u, fmt='.', linestyle='-');\n",
    "#plt.subplot(3,2,2);\n",
    "#plt.title('lt');\n",
    "#plt.errorbar(temp.ts, temp['lt'], temp['ltu'], fmt='.', linestyle='-');\n",
    "#plt.subplot(3,2,3);\n",
    "#plt.title('dv');\n",
    "#plt.ylim(0.907, 0.920);\n",
    "#plt.errorbar(temp.ts, temp.dv, temp.dvu, fmt='.', linestyle='-');\n",
    "#plt.subplot(3,2,4);\n",
    "#plt.title('s1e');\n",
    "#plt.errorbar(temp.ts, temp.s1e, temp.s1eu, fmt='.', linestyle='-');\n",
    "#plt.subplot(3,2,5);\n",
    "#plt.title('s2e');\n",
    "#plt.errorbar(temp.ts, temp.s2e, temp.s2eu, fmt='.', linestyle='-');\n",
    "#plt.subplot(3,2,6);\n",
    "#plt.title('Nsipm');\n",
    "#plt.errorbar(temp.ts, temp.Nsipm, temp.Nsipmu, fmt='.', linestyle='-');"
   ]
  },
  {
   "cell_type": "markdown",
   "metadata": {},
   "source": [
    "### Writing final map"
   ]
  },
  {
   "cell_type": "code",
   "execution_count": null,
   "metadata": {},
   "outputs": [],
   "source": [
    "write_complete_maps(asm      = maps        ,\n",
    "                    filename = map_file_out)"
   ]
  },
  {
   "cell_type": "markdown",
   "metadata": {},
   "source": [
    "*****"
   ]
  },
  {
   "cell_type": "markdown",
   "metadata": {},
   "source": [
    "# Section C: Checking map <a id='SectionC'></a>\n"
   ]
  },
  {
   "cell_type": "code",
   "execution_count": null,
   "metadata": {},
   "outputs": [],
   "source": [
    "import matplotlib.pyplot as plt\n",
    "import pandas as pd\n",
    "from invisible_cities.reco.corrections       import read_maps\n",
    "from invisible_cities.reco.corrections       import apply_all_correction\n",
    "from krcal.NB_utils  .xy_maps_functions      import draw_xy_maps\n",
    "\n",
    "from krcal.NB_utils.plt_functions             import h1, h2\n",
    "from krcal.NB_utils.fit_energy_functions      import fit_energy\n",
    "from krcal.NB_utils.plt_energy_functions      import plot_fit_energy, print_fit_energy\n",
    "from krcal.NB_utils.plt_energy_functions      import resolution_r_z, plot_resolution_r_z\n",
    "\n",
    "from krcal.map_builder.map_builder_functions  import e0_xy_correction\n",
    "from krcal.map_builder.map_builder_functions  import load_data\n",
    "from krcal.map_builder.map_builder_functions  import apply_cuts\n",
    "from krcal.map_builder.map_builder_functions  import type_of_signal"
   ]
  },
  {
   "cell_type": "markdown",
   "metadata": {},
   "source": [
    "### Opening map"
   ]
  },
  {
   "cell_type": "code",
   "execution_count": null,
   "metadata": {},
   "outputs": [],
   "source": [
    "try:\n",
    "    final_map = read_maps(map_file_out)\n",
    "except FileNotFoundError:\n",
    "    print('Please run Section A or B. If you have already done it, the dst is not good enough to produce a map :(')"
   ]
  },
  {
   "cell_type": "code",
   "execution_count": null,
   "metadata": {},
   "outputs": [],
   "source": [
    "draw_xy_maps(final_map,\n",
    "             figsize=(14,10))"
   ]
  },
  {
   "cell_type": "code",
   "execution_count": null,
   "metadata": {},
   "outputs": [],
   "source": [
    "final_map.mapinfo"
   ]
  },
  {
   "cell_type": "markdown",
   "metadata": {},
   "source": [
    "### Opening and selecting dst (only if section B is not run)"
   ]
  },
  {
   "cell_type": "code",
   "execution_count": null,
   "metadata": {},
   "outputs": [],
   "source": [
    "try :\n",
    "    sel_dst;\n",
    "except NameError:\n",
    "    config_values = config.as_namespace\n",
    "    \n",
    "    inputs = load_data(input_path         = folder_dst                  ,\n",
    "                       input_dsts         = dst_file                    ,\n",
    "                       file_bootstrap_map = file_bootstrap              ,\n",
    "                       quality_ranges     = config_values.quality_ranges,\n",
    "                       **config_values.ref_Z_histogram                  )\n",
    "\n",
    "    dst, bootstrapmap, ref_histos = inputs[0], inputs[1], inputs[2]\n",
    "    \n",
    "    with pd.HDFStore(histo_file_out, \"r+\", complib=str(\"zlib\"), complevel=4) as store_hist:\n",
    "        sel_dst = apply_cuts(dst              = dst                           ,\n",
    "                             S1_signal        = type_of_signal.nS1            ,\n",
    "                             nS1_eff_interval = (config_values.nS1_eff_min    ,\n",
    "                                                 config_values.nS1_eff_max)   ,\n",
    "                             store_hist_s1    = store_hist                    ,\n",
    "                             ns1_histo_params = config_values.ns1_histo_params,\n",
    "                             S2_signal        = type_of_signal.nS2            ,\n",
    "                             nS2_eff_interval = (config_values.nS2_eff_min    ,\n",
    "                                                 config_values.nS2_eff_max)   ,\n",
    "                             store_hist_s2    = store_hist                    ,\n",
    "                             ns2_histo_params = config_values.ns2_histo_params,\n",
    "                             nsigmas_Zdst     = config_values.nsigmas_Zdst    ,\n",
    "                             ref_Z_histo      = ref_histos.\n",
    "                                                    Z_dist_hist               ,\n",
    "                             bootstrapmap     = bootstrapmap                  ,\n",
    "                             band_sel_params  = config_values.band_sel_params )"
   ]
  },
  {
   "cell_type": "markdown",
   "metadata": {},
   "source": [
    "### Applying corrections to the selected dst"
   ]
  },
  {
   "cell_type": "code",
   "execution_count": null,
   "metadata": {},
   "outputs": [],
   "source": [
    "sel_dst = sel_dst[sel_dst.R<450]"
   ]
  },
  {
   "cell_type": "code",
   "execution_count": null,
   "metadata": {},
   "outputs": [],
   "source": [
    "geom_corr = e0_xy_correction(final_map)\n",
    "total_correction = apply_all_correction(final_map, apply_temp=False)\n",
    "\n",
    "corr_geo = geom_corr(sel_dst.X, sel_dst.Y)\n",
    "corr_tot = total_correction(sel_dst.X, sel_dst.Y, sel_dst.Z, sel_dst.time)"
   ]
  },
  {
   "cell_type": "code",
   "execution_count": null,
   "metadata": {},
   "outputs": [],
   "source": [
    "fig = plt.figure(figsize=(10,10))\n",
    "plt.subplot(3, 1, 1)\n",
    "plt.hist2d(sel_dst.Z, sel_dst.S2e, 50, [(0,1200),(6000,10000)])\n",
    "plt.title('Raw energy');\n",
    "plt.subplot(3, 1, 2)\n",
    "plt.hist2d(sel_dst.Z, sel_dst.S2e*corr_geo, 50, [(0,1200),(6000,10000)])\n",
    "plt.title('Geom. corrected energy');\n",
    "plt.subplot(3, 1, 3)\n",
    "plt.hist2d(sel_dst.Z, sel_dst.S2e*corr_tot, 50, [(0,1200),(6000,10000)])\n",
    "plt.title('Total corrected energy');"
   ]
  },
  {
   "cell_type": "code",
   "execution_count": null,
   "metadata": {},
   "outputs": [],
   "source": [
    "e_range = (6000,10000)\n",
    "zrange = (0,1200)\n",
    "fig = plt.figure(figsize=(14,8))\n",
    "plt.subplot(1, 2, 1)\n",
    "\n",
    "nevt = h2(sel_dst.Z, sel_dst.S2e*corr_tot, 30, 30, zrange, e_range, profile=True)\n",
    "plt.xlabel('Z (mm)');\n",
    "plt.ylabel('E (pes)');\n",
    "plt.title('E vs Z');\n",
    "\n",
    "ax      = fig.add_subplot(1, 2, 2)\n",
    "(_)     = h1(sel_dst.S2e*corr_tot,  bins = 100, range =e_range, stats=True, lbl = 'E')\n",
    "plt.xlabel('E (pes)');\n",
    "plt.ylabel('Entries');\n",
    "plt.title('E corr');"
   ]
  },
  {
   "cell_type": "code",
   "execution_count": null,
   "metadata": {},
   "outputs": [],
   "source": [
    "fc = fit_energy(sel_dst.S2e*corr_tot, nbins=100, range=(7500, 9500))\n",
    "plot_fit_energy(fc)\n",
    "print_fit_energy(fc)"
   ]
  },
  {
   "cell_type": "code",
   "execution_count": null,
   "metadata": {},
   "outputs": [],
   "source": [
    "Ri = (50,150,250, 350, 450)\n",
    "Zi = (100, 250, 500, 1000, 1150)\n",
    "\n",
    "FC, FCE = resolution_r_z(Ri, Zi, sel_dst.R, sel_dst.Z, sel_dst.S2e*corr_tot,\n",
    "                    enbins = 50,\n",
    "                    erange = (7500,9500),\n",
    "                    ixy = (5,5),\n",
    "                    fdraw  = True,\n",
    "                    fprint = False,\n",
    "                    figsize = (18,10)) "
   ]
  },
  {
   "cell_type": "code",
   "execution_count": null,
   "metadata": {},
   "outputs": [],
   "source": [
    "plot_resolution_r_z(Ri, Zi, FC, FCE, r_range=(2,6))"
   ]
  },
  {
   "cell_type": "code",
   "execution_count": null,
   "metadata": {},
   "outputs": [],
   "source": []
  },
  {
   "cell_type": "code",
   "execution_count": null,
   "metadata": {},
   "outputs": [],
   "source": []
  },
  {
   "cell_type": "code",
   "execution_count": null,
   "metadata": {},
   "outputs": [],
   "source": []
  },
  {
   "cell_type": "code",
   "execution_count": null,
   "metadata": {},
   "outputs": [],
   "source": []
  }
 ],
 "metadata": {
  "kernelspec": {
   "display_name": "Python 3",
   "language": "python",
   "name": "python3"
  },
  "language_info": {
   "codemirror_mode": {
    "name": "ipython",
    "version": 3
   },
   "file_extension": ".py",
   "mimetype": "text/x-python",
   "name": "python",
   "nbconvert_exporter": "python",
   "pygments_lexer": "ipython3",
   "version": "3.7.7"
  }
 },
 "nbformat": 4,
 "nbformat_minor": 2
}
